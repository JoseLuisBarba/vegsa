{
 "cells": [
  {
   "cell_type": "code",
   "execution_count": 1,
   "metadata": {},
   "outputs": [],
   "source": [
    "from models.model3 import linear_multiplicative_cooling, linear_additive_cooling, logarithmic_multiplicative_cooling\n",
    "from models.model3 import BaseModel\n",
    "from src.variables import sector, K, demands, coords, T, EM,a , b, service_time, N, Q_MAX\n",
    "from src.graph import draw_graph\n",
    "import time\n",
    "import numpy as np"
   ]
  },
  {
   "cell_type": "code",
   "execution_count": 2,
   "metadata": {},
   "outputs": [
    {
     "data": {
      "text/html": [
       "<div>\n",
       "<style scoped>\n",
       "    .dataframe tbody tr th:only-of-type {\n",
       "        vertical-align: middle;\n",
       "    }\n",
       "\n",
       "    .dataframe tbody tr th {\n",
       "        vertical-align: top;\n",
       "    }\n",
       "\n",
       "    .dataframe thead th {\n",
       "        text-align: right;\n",
       "    }\n",
       "</style>\n",
       "<table border=\"1\" class=\"dataframe\">\n",
       "  <thead>\n",
       "    <tr style=\"text-align: right;\">\n",
       "      <th></th>\n",
       "      <th>Punto de colecta</th>\n",
       "      <th>Latitud</th>\n",
       "      <th>Longitud</th>\n",
       "      <th>X_Longitude</th>\n",
       "      <th>Y_Latitude</th>\n",
       "      <th>UTM_X</th>\n",
       "      <th>UTM_Y</th>\n",
       "      <th>X</th>\n",
       "      <th>Y</th>\n",
       "      <th>demanda</th>\n",
       "      <th>service_time</th>\n",
       "      <th>a</th>\n",
       "      <th>b</th>\n",
       "    </tr>\n",
       "  </thead>\n",
       "  <tbody>\n",
       "    <tr>\n",
       "      <th>0</th>\n",
       "      <td>d1</td>\n",
       "      <td>8°07'34\"S</td>\n",
       "      <td>79°01'47\"W</td>\n",
       "      <td>8.126111</td>\n",
       "      <td>79.029722</td>\n",
       "      <td>717097.121783</td>\n",
       "      <td>9.101233e+06</td>\n",
       "      <td>717.097122</td>\n",
       "      <td>9101.232538</td>\n",
       "      <td>0</td>\n",
       "      <td>0.5</td>\n",
       "      <td>4</td>\n",
       "      <td>20</td>\n",
       "    </tr>\n",
       "    <tr>\n",
       "      <th>1</th>\n",
       "      <td>pc1</td>\n",
       "      <td>8°07'52\"S</td>\n",
       "      <td>79°02'00\"W</td>\n",
       "      <td>8.131111</td>\n",
       "      <td>79.033333</td>\n",
       "      <td>716696.391133</td>\n",
       "      <td>9.100681e+06</td>\n",
       "      <td>716.696391</td>\n",
       "      <td>9100.681396</td>\n",
       "      <td>1</td>\n",
       "      <td>0.5</td>\n",
       "      <td>7</td>\n",
       "      <td>12</td>\n",
       "    </tr>\n",
       "    <tr>\n",
       "      <th>2</th>\n",
       "      <td>pc2</td>\n",
       "      <td>8°07'48\"S</td>\n",
       "      <td>79°01'59\"W</td>\n",
       "      <td>8.130000</td>\n",
       "      <td>79.033056</td>\n",
       "      <td>716727.606565</td>\n",
       "      <td>9.100804e+06</td>\n",
       "      <td>716.727607</td>\n",
       "      <td>9100.804153</td>\n",
       "      <td>2</td>\n",
       "      <td>0.5</td>\n",
       "      <td>8</td>\n",
       "      <td>12</td>\n",
       "    </tr>\n",
       "    <tr>\n",
       "      <th>3</th>\n",
       "      <td>pc3</td>\n",
       "      <td>8°07'45\"S</td>\n",
       "      <td>79°01'58\"W</td>\n",
       "      <td>8.129167</td>\n",
       "      <td>79.032778</td>\n",
       "      <td>716758.672853</td>\n",
       "      <td>9.100896e+06</td>\n",
       "      <td>716.758673</td>\n",
       "      <td>9100.896184</td>\n",
       "      <td>1</td>\n",
       "      <td>0.5</td>\n",
       "      <td>10</td>\n",
       "      <td>12</td>\n",
       "    </tr>\n",
       "    <tr>\n",
       "      <th>4</th>\n",
       "      <td>pc4</td>\n",
       "      <td>8°07'42\"S</td>\n",
       "      <td>79°02'04\"W</td>\n",
       "      <td>8.128333</td>\n",
       "      <td>79.034444</td>\n",
       "      <td>716575.408573</td>\n",
       "      <td>9.100989e+06</td>\n",
       "      <td>716.575409</td>\n",
       "      <td>9100.989255</td>\n",
       "      <td>2</td>\n",
       "      <td>0.5</td>\n",
       "      <td>12</td>\n",
       "      <td>14</td>\n",
       "    </tr>\n",
       "    <tr>\n",
       "      <th>5</th>\n",
       "      <td>pc5</td>\n",
       "      <td>8°07'47\"S</td>\n",
       "      <td>79°02'06\"W</td>\n",
       "      <td>8.129722</td>\n",
       "      <td>79.035000</td>\n",
       "      <td>716513.425949</td>\n",
       "      <td>9.100836e+06</td>\n",
       "      <td>716.513426</td>\n",
       "      <td>9100.835920</td>\n",
       "      <td>1</td>\n",
       "      <td>0.5</td>\n",
       "      <td>15</td>\n",
       "      <td>24</td>\n",
       "    </tr>\n",
       "    <tr>\n",
       "      <th>6</th>\n",
       "      <td>pc6</td>\n",
       "      <td>8°07'51\"S</td>\n",
       "      <td>79°01'53\"W</td>\n",
       "      <td>8.130833</td>\n",
       "      <td>79.031389</td>\n",
       "      <td>716910.869825</td>\n",
       "      <td>9.100711e+06</td>\n",
       "      <td>716.910870</td>\n",
       "      <td>9100.711081</td>\n",
       "      <td>1</td>\n",
       "      <td>0.5</td>\n",
       "      <td>6</td>\n",
       "      <td>12</td>\n",
       "    </tr>\n",
       "    <tr>\n",
       "      <th>7</th>\n",
       "      <td>pc7</td>\n",
       "      <td>8°07'50\"S</td>\n",
       "      <td>79°01'47\"W</td>\n",
       "      <td>8.130556</td>\n",
       "      <td>79.029722</td>\n",
       "      <td>717094.730484</td>\n",
       "      <td>9.100741e+06</td>\n",
       "      <td>717.094730</td>\n",
       "      <td>9100.740914</td>\n",
       "      <td>2</td>\n",
       "      <td>0.5</td>\n",
       "      <td>6</td>\n",
       "      <td>10</td>\n",
       "    </tr>\n",
       "    <tr>\n",
       "      <th>8</th>\n",
       "      <td>pc8</td>\n",
       "      <td>8°07'46\"S</td>\n",
       "      <td>79°01'49\"W</td>\n",
       "      <td>8.129444</td>\n",
       "      <td>79.030278</td>\n",
       "      <td>717034.091147</td>\n",
       "      <td>9.100864e+06</td>\n",
       "      <td>717.034091</td>\n",
       "      <td>9100.864118</td>\n",
       "      <td>1</td>\n",
       "      <td>0.5</td>\n",
       "      <td>7</td>\n",
       "      <td>11</td>\n",
       "    </tr>\n",
       "    <tr>\n",
       "      <th>9</th>\n",
       "      <td>pc9</td>\n",
       "      <td>8°07'52\"S</td>\n",
       "      <td>79°01'45\"W</td>\n",
       "      <td>8.131111</td>\n",
       "      <td>79.029167</td>\n",
       "      <td>717155.668531</td>\n",
       "      <td>9.100679e+06</td>\n",
       "      <td>717.155669</td>\n",
       "      <td>9100.679163</td>\n",
       "      <td>1</td>\n",
       "      <td>0.5</td>\n",
       "      <td>8</td>\n",
       "      <td>9</td>\n",
       "    </tr>\n",
       "    <tr>\n",
       "      <th>10</th>\n",
       "      <td>pc10</td>\n",
       "      <td>8°07'53\"S</td>\n",
       "      <td>79°01'46\"W</td>\n",
       "      <td>8.131389</td>\n",
       "      <td>79.029444</td>\n",
       "      <td>717124.900473</td>\n",
       "      <td>9.100649e+06</td>\n",
       "      <td>717.124900</td>\n",
       "      <td>9100.648585</td>\n",
       "      <td>2</td>\n",
       "      <td>0.5</td>\n",
       "      <td>11</td>\n",
       "      <td>13</td>\n",
       "    </tr>\n",
       "    <tr>\n",
       "      <th>11</th>\n",
       "      <td>pc11</td>\n",
       "      <td>8°07'48\"S</td>\n",
       "      <td>79°01'42\"W</td>\n",
       "      <td>8.130000</td>\n",
       "      <td>79.028333</td>\n",
       "      <td>717248.122553</td>\n",
       "      <td>9.100802e+06</td>\n",
       "      <td>717.248123</td>\n",
       "      <td>9100.801622</td>\n",
       "      <td>1</td>\n",
       "      <td>0.5</td>\n",
       "      <td>12</td>\n",
       "      <td>24</td>\n",
       "    </tr>\n",
       "    <tr>\n",
       "      <th>12</th>\n",
       "      <td>pc12</td>\n",
       "      <td>8°07'45\"S</td>\n",
       "      <td>79°01'33\"W</td>\n",
       "      <td>8.129167</td>\n",
       "      <td>79.025833</td>\n",
       "      <td>717524.139743</td>\n",
       "      <td>9.100892e+06</td>\n",
       "      <td>717.524140</td>\n",
       "      <td>9100.892459</td>\n",
       "      <td>1</td>\n",
       "      <td>0.5</td>\n",
       "      <td>13</td>\n",
       "      <td>16</td>\n",
       "    </tr>\n",
       "    <tr>\n",
       "      <th>13</th>\n",
       "      <td>pc13</td>\n",
       "      <td>8°07'43\"S</td>\n",
       "      <td>79°01'36\"W</td>\n",
       "      <td>8.128611</td>\n",
       "      <td>79.026667</td>\n",
       "      <td>717432.582950</td>\n",
       "      <td>9.100954e+06</td>\n",
       "      <td>717.432583</td>\n",
       "      <td>9100.954360</td>\n",
       "      <td>1</td>\n",
       "      <td>0.5</td>\n",
       "      <td>16</td>\n",
       "      <td>20</td>\n",
       "    </tr>\n",
       "    <tr>\n",
       "      <th>14</th>\n",
       "      <td>pc14</td>\n",
       "      <td>8°07'33\"S</td>\n",
       "      <td>79°01'29\"W</td>\n",
       "      <td>8.125833</td>\n",
       "      <td>79.024722</td>\n",
       "      <td>717648.412582</td>\n",
       "      <td>9.101261e+06</td>\n",
       "      <td>717.648413</td>\n",
       "      <td>9101.260581</td>\n",
       "      <td>1</td>\n",
       "      <td>0.5</td>\n",
       "      <td>11</td>\n",
       "      <td>14</td>\n",
       "    </tr>\n",
       "    <tr>\n",
       "      <th>15</th>\n",
       "      <td>pc15</td>\n",
       "      <td>8°07'36\"S</td>\n",
       "      <td>79°01'26\"W</td>\n",
       "      <td>8.126667</td>\n",
       "      <td>79.023889</td>\n",
       "      <td>717739.820052</td>\n",
       "      <td>9.101168e+06</td>\n",
       "      <td>717.739820</td>\n",
       "      <td>9101.167954</td>\n",
       "      <td>2</td>\n",
       "      <td>0.5</td>\n",
       "      <td>10</td>\n",
       "      <td>14</td>\n",
       "    </tr>\n",
       "    <tr>\n",
       "      <th>16</th>\n",
       "      <td>pc16</td>\n",
       "      <td>8°07'33\"S</td>\n",
       "      <td>79°01'25\"W</td>\n",
       "      <td>8.125833</td>\n",
       "      <td>79.023611</td>\n",
       "      <td>717770.888664</td>\n",
       "      <td>9.101260e+06</td>\n",
       "      <td>717.770889</td>\n",
       "      <td>9101.259984</td>\n",
       "      <td>2</td>\n",
       "      <td>0.5</td>\n",
       "      <td>5</td>\n",
       "      <td>9</td>\n",
       "    </tr>\n",
       "    <tr>\n",
       "      <th>17</th>\n",
       "      <td>d1</td>\n",
       "      <td>8°07'34\"S</td>\n",
       "      <td>79°01'47\"W</td>\n",
       "      <td>8.126111</td>\n",
       "      <td>79.029722</td>\n",
       "      <td>717097.121783</td>\n",
       "      <td>9.101233e+06</td>\n",
       "      <td>717.097122</td>\n",
       "      <td>9101.232538</td>\n",
       "      <td>0</td>\n",
       "      <td>0.5</td>\n",
       "      <td>4</td>\n",
       "      <td>20</td>\n",
       "    </tr>\n",
       "  </tbody>\n",
       "</table>\n",
       "</div>"
      ],
      "text/plain": [
       "   Punto de colecta     Latitud    Longitud  X_Longitude  Y_Latitude  \\\n",
       "0                d1  8°07'34\"S   79°01'47\"W     8.126111   79.029722   \n",
       "1               pc1  8°07'52\"S   79°02'00\"W     8.131111   79.033333   \n",
       "2               pc2  8°07'48\"S   79°01'59\"W     8.130000   79.033056   \n",
       "3               pc3  8°07'45\"S   79°01'58\"W     8.129167   79.032778   \n",
       "4               pc4  8°07'42\"S   79°02'04\"W     8.128333   79.034444   \n",
       "5               pc5  8°07'47\"S   79°02'06\"W     8.129722   79.035000   \n",
       "6               pc6  8°07'51\"S   79°01'53\"W     8.130833   79.031389   \n",
       "7               pc7  8°07'50\"S   79°01'47\"W     8.130556   79.029722   \n",
       "8               pc8  8°07'46\"S   79°01'49\"W     8.129444   79.030278   \n",
       "9               pc9  8°07'52\"S   79°01'45\"W     8.131111   79.029167   \n",
       "10             pc10  8°07'53\"S   79°01'46\"W     8.131389   79.029444   \n",
       "11             pc11  8°07'48\"S   79°01'42\"W     8.130000   79.028333   \n",
       "12             pc12  8°07'45\"S   79°01'33\"W     8.129167   79.025833   \n",
       "13             pc13  8°07'43\"S   79°01'36\"W     8.128611   79.026667   \n",
       "14             pc14  8°07'33\"S   79°01'29\"W     8.125833   79.024722   \n",
       "15             pc15  8°07'36\"S   79°01'26\"W     8.126667   79.023889   \n",
       "16             pc16  8°07'33\"S   79°01'25\"W     8.125833   79.023611   \n",
       "17               d1  8°07'34\"S   79°01'47\"W     8.126111   79.029722   \n",
       "\n",
       "            UTM_X         UTM_Y           X            Y  demanda  \\\n",
       "0   717097.121783  9.101233e+06  717.097122  9101.232538        0   \n",
       "1   716696.391133  9.100681e+06  716.696391  9100.681396        1   \n",
       "2   716727.606565  9.100804e+06  716.727607  9100.804153        2   \n",
       "3   716758.672853  9.100896e+06  716.758673  9100.896184        1   \n",
       "4   716575.408573  9.100989e+06  716.575409  9100.989255        2   \n",
       "5   716513.425949  9.100836e+06  716.513426  9100.835920        1   \n",
       "6   716910.869825  9.100711e+06  716.910870  9100.711081        1   \n",
       "7   717094.730484  9.100741e+06  717.094730  9100.740914        2   \n",
       "8   717034.091147  9.100864e+06  717.034091  9100.864118        1   \n",
       "9   717155.668531  9.100679e+06  717.155669  9100.679163        1   \n",
       "10  717124.900473  9.100649e+06  717.124900  9100.648585        2   \n",
       "11  717248.122553  9.100802e+06  717.248123  9100.801622        1   \n",
       "12  717524.139743  9.100892e+06  717.524140  9100.892459        1   \n",
       "13  717432.582950  9.100954e+06  717.432583  9100.954360        1   \n",
       "14  717648.412582  9.101261e+06  717.648413  9101.260581        1   \n",
       "15  717739.820052  9.101168e+06  717.739820  9101.167954        2   \n",
       "16  717770.888664  9.101260e+06  717.770889  9101.259984        2   \n",
       "17  717097.121783  9.101233e+06  717.097122  9101.232538        0   \n",
       "\n",
       "    service_time   a   b  \n",
       "0            0.5   4  20  \n",
       "1            0.5   7  12  \n",
       "2            0.5   8  12  \n",
       "3            0.5  10  12  \n",
       "4            0.5  12  14  \n",
       "5            0.5  15  24  \n",
       "6            0.5   6  12  \n",
       "7            0.5   6  10  \n",
       "8            0.5   7  11  \n",
       "9            0.5   8   9  \n",
       "10           0.5  11  13  \n",
       "11           0.5  12  24  \n",
       "12           0.5  13  16  \n",
       "13           0.5  16  20  \n",
       "14           0.5  11  14  \n",
       "15           0.5  10  14  \n",
       "16           0.5   5   9  \n",
       "17           0.5   4  20  "
      ]
     },
     "execution_count": 2,
     "metadata": {},
     "output_type": "execute_result"
    }
   ],
   "source": [
    "sector"
   ]
  },
  {
   "cell_type": "code",
   "execution_count": 3,
   "metadata": {},
   "outputs": [
    {
     "data": {
      "text/plain": [
       "array([0, 1, 2, 3])"
      ]
     },
     "execution_count": 3,
     "metadata": {},
     "output_type": "execute_result"
    }
   ],
   "source": [
    "K"
   ]
  },
  {
   "cell_type": "code",
   "execution_count": 4,
   "metadata": {},
   "outputs": [
    {
     "name": "stdout",
     "output_type": "stream",
     "text": [
      "created\n"
     ]
    }
   ],
   "source": [
    "model = BaseModel()"
   ]
  },
  {
   "cell_type": "code",
   "execution_count": 5,
   "metadata": {},
   "outputs": [
    {
     "name": "stdout",
     "output_type": "stream",
     "text": [
      "Tiempo de ejecución: 0.003285646438598633 segundos\n"
     ]
    }
   ],
   "source": [
    "start_time = time.time()\n",
    "x0 = model.nearestNeighborHeuristic(16)\n",
    "elapsed_time = time.time() - start_time\n",
    "print(\"Tiempo de ejecución:\", elapsed_time, \"segundos\")"
   ]
  },
  {
   "cell_type": "code",
   "execution_count": 6,
   "metadata": {},
   "outputs": [
    {
     "data": {
      "text/plain": [
       "0.4928178361655407"
      ]
     },
     "execution_count": 6,
     "metadata": {},
     "output_type": "execute_result"
    }
   ],
   "source": [
    "model.objective_function(x0)"
   ]
  },
  {
   "cell_type": "code",
   "execution_count": 7,
   "metadata": {},
   "outputs": [
    {
     "data": {
      "text/html": [
       "<div>\n",
       "<style scoped>\n",
       "    .dataframe tbody tr th:only-of-type {\n",
       "        vertical-align: middle;\n",
       "    }\n",
       "\n",
       "    .dataframe tbody tr th {\n",
       "        vertical-align: top;\n",
       "    }\n",
       "\n",
       "    .dataframe thead th {\n",
       "        text-align: right;\n",
       "    }\n",
       "</style>\n",
       "<table border=\"1\" class=\"dataframe\">\n",
       "  <thead>\n",
       "    <tr style=\"text-align: right;\">\n",
       "      <th></th>\n",
       "      <th>Vehiculo</th>\n",
       "      <th>Nodoi-1</th>\n",
       "      <th>Nodoi</th>\n",
       "      <th>Distancia</th>\n",
       "      <th>TiempoArco</th>\n",
       "      <th>TW_A</th>\n",
       "      <th>TW_B</th>\n",
       "      <th>Tanque</th>\n",
       "      <th>CO2</th>\n",
       "    </tr>\n",
       "  </thead>\n",
       "  <tbody>\n",
       "    <tr>\n",
       "      <th>0</th>\n",
       "      <td>0</td>\n",
       "      <td>0</td>\n",
       "      <td>16</td>\n",
       "      <td>0.674326</td>\n",
       "      <td>0.016858</td>\n",
       "      <td>5</td>\n",
       "      <td>9</td>\n",
       "      <td>0.981258</td>\n",
       "      <td>0.018742</td>\n",
       "    </tr>\n",
       "    <tr>\n",
       "      <th>1</th>\n",
       "      <td>0</td>\n",
       "      <td>16</td>\n",
       "      <td>7</td>\n",
       "      <td>0.852422</td>\n",
       "      <td>0.021311</td>\n",
       "      <td>6</td>\n",
       "      <td>10</td>\n",
       "      <td>0.957565</td>\n",
       "      <td>0.023692</td>\n",
       "    </tr>\n",
       "    <tr>\n",
       "      <th>2</th>\n",
       "      <td>0</td>\n",
       "      <td>7</td>\n",
       "      <td>6</td>\n",
       "      <td>0.186265</td>\n",
       "      <td>0.004657</td>\n",
       "      <td>6</td>\n",
       "      <td>12</td>\n",
       "      <td>0.952388</td>\n",
       "      <td>0.005177</td>\n",
       "    </tr>\n",
       "    <tr>\n",
       "      <th>3</th>\n",
       "      <td>0</td>\n",
       "      <td>6</td>\n",
       "      <td>8</td>\n",
       "      <td>0.196479</td>\n",
       "      <td>0.004912</td>\n",
       "      <td>7</td>\n",
       "      <td>11</td>\n",
       "      <td>0.946927</td>\n",
       "      <td>0.005461</td>\n",
       "    </tr>\n",
       "    <tr>\n",
       "      <th>4</th>\n",
       "      <td>0</td>\n",
       "      <td>8</td>\n",
       "      <td>9</td>\n",
       "      <td>0.221335</td>\n",
       "      <td>0.005533</td>\n",
       "      <td>8</td>\n",
       "      <td>9</td>\n",
       "      <td>0.940776</td>\n",
       "      <td>0.006152</td>\n",
       "    </tr>\n",
       "    <tr>\n",
       "      <th>5</th>\n",
       "      <td>0</td>\n",
       "      <td>9</td>\n",
       "      <td>2</td>\n",
       "      <td>0.445937</td>\n",
       "      <td>0.011148</td>\n",
       "      <td>8</td>\n",
       "      <td>12</td>\n",
       "      <td>0.928381</td>\n",
       "      <td>0.012394</td>\n",
       "    </tr>\n",
       "    <tr>\n",
       "      <th>6</th>\n",
       "      <td>0</td>\n",
       "      <td>2</td>\n",
       "      <td>1</td>\n",
       "      <td>0.126664</td>\n",
       "      <td>0.003167</td>\n",
       "      <td>7</td>\n",
       "      <td>12</td>\n",
       "      <td>0.924861</td>\n",
       "      <td>0.003521</td>\n",
       "    </tr>\n",
       "    <tr>\n",
       "      <th>7</th>\n",
       "      <td>0</td>\n",
       "      <td>1</td>\n",
       "      <td>3</td>\n",
       "      <td>0.223635</td>\n",
       "      <td>0.005591</td>\n",
       "      <td>10</td>\n",
       "      <td>12</td>\n",
       "      <td>0.918645</td>\n",
       "      <td>0.006216</td>\n",
       "    </tr>\n",
       "    <tr>\n",
       "      <th>8</th>\n",
       "      <td>0</td>\n",
       "      <td>3</td>\n",
       "      <td>10</td>\n",
       "      <td>0.442072</td>\n",
       "      <td>0.011052</td>\n",
       "      <td>11</td>\n",
       "      <td>13</td>\n",
       "      <td>0.906358</td>\n",
       "      <td>0.012287</td>\n",
       "    </tr>\n",
       "    <tr>\n",
       "      <th>9</th>\n",
       "      <td>0</td>\n",
       "      <td>10</td>\n",
       "      <td>15</td>\n",
       "      <td>0.804903</td>\n",
       "      <td>0.020123</td>\n",
       "      <td>10</td>\n",
       "      <td>14</td>\n",
       "      <td>0.883986</td>\n",
       "      <td>0.022372</td>\n",
       "    </tr>\n",
       "    <tr>\n",
       "      <th>10</th>\n",
       "      <td>0</td>\n",
       "      <td>15</td>\n",
       "      <td>14</td>\n",
       "      <td>0.130135</td>\n",
       "      <td>0.003253</td>\n",
       "      <td>11</td>\n",
       "      <td>14</td>\n",
       "      <td>0.880369</td>\n",
       "      <td>0.003617</td>\n",
       "    </tr>\n",
       "    <tr>\n",
       "      <th>11</th>\n",
       "      <td>0</td>\n",
       "      <td>14</td>\n",
       "      <td>4</td>\n",
       "      <td>1.106777</td>\n",
       "      <td>0.027669</td>\n",
       "      <td>12</td>\n",
       "      <td>14</td>\n",
       "      <td>0.849607</td>\n",
       "      <td>0.030762</td>\n",
       "    </tr>\n",
       "    <tr>\n",
       "      <th>12</th>\n",
       "      <td>0</td>\n",
       "      <td>4</td>\n",
       "      <td>12</td>\n",
       "      <td>0.953656</td>\n",
       "      <td>0.023841</td>\n",
       "      <td>13</td>\n",
       "      <td>16</td>\n",
       "      <td>0.823101</td>\n",
       "      <td>0.026506</td>\n",
       "    </tr>\n",
       "    <tr>\n",
       "      <th>13</th>\n",
       "      <td>0</td>\n",
       "      <td>12</td>\n",
       "      <td>11</td>\n",
       "      <td>0.290580</td>\n",
       "      <td>0.007265</td>\n",
       "      <td>12</td>\n",
       "      <td>24</td>\n",
       "      <td>0.815025</td>\n",
       "      <td>0.008076</td>\n",
       "    </tr>\n",
       "    <tr>\n",
       "      <th>14</th>\n",
       "      <td>0</td>\n",
       "      <td>11</td>\n",
       "      <td>13</td>\n",
       "      <td>0.239488</td>\n",
       "      <td>0.005987</td>\n",
       "      <td>16</td>\n",
       "      <td>20</td>\n",
       "      <td>0.808369</td>\n",
       "      <td>0.006656</td>\n",
       "    </tr>\n",
       "    <tr>\n",
       "      <th>15</th>\n",
       "      <td>0</td>\n",
       "      <td>13</td>\n",
       "      <td>5</td>\n",
       "      <td>0.926757</td>\n",
       "      <td>0.023169</td>\n",
       "      <td>15</td>\n",
       "      <td>24</td>\n",
       "      <td>0.782610</td>\n",
       "      <td>0.025758</td>\n",
       "    </tr>\n",
       "    <tr>\n",
       "      <th>16</th>\n",
       "      <td>0</td>\n",
       "      <td>5</td>\n",
       "      <td>0</td>\n",
       "      <td>0.705696</td>\n",
       "      <td>0.017642</td>\n",
       "      <td>4</td>\n",
       "      <td>20</td>\n",
       "      <td>0.762996</td>\n",
       "      <td>0.019614</td>\n",
       "    </tr>\n",
       "  </tbody>\n",
       "</table>\n",
       "</div>"
      ],
      "text/plain": [
       "    Vehiculo  Nodoi-1  Nodoi  Distancia  TiempoArco  TW_A  TW_B    Tanque  \\\n",
       "0          0        0     16   0.674326    0.016858     5     9  0.981258   \n",
       "1          0       16      7   0.852422    0.021311     6    10  0.957565   \n",
       "2          0        7      6   0.186265    0.004657     6    12  0.952388   \n",
       "3          0        6      8   0.196479    0.004912     7    11  0.946927   \n",
       "4          0        8      9   0.221335    0.005533     8     9  0.940776   \n",
       "5          0        9      2   0.445937    0.011148     8    12  0.928381   \n",
       "6          0        2      1   0.126664    0.003167     7    12  0.924861   \n",
       "7          0        1      3   0.223635    0.005591    10    12  0.918645   \n",
       "8          0        3     10   0.442072    0.011052    11    13  0.906358   \n",
       "9          0       10     15   0.804903    0.020123    10    14  0.883986   \n",
       "10         0       15     14   0.130135    0.003253    11    14  0.880369   \n",
       "11         0       14      4   1.106777    0.027669    12    14  0.849607   \n",
       "12         0        4     12   0.953656    0.023841    13    16  0.823101   \n",
       "13         0       12     11   0.290580    0.007265    12    24  0.815025   \n",
       "14         0       11     13   0.239488    0.005987    16    20  0.808369   \n",
       "15         0       13      5   0.926757    0.023169    15    24  0.782610   \n",
       "16         0        5      0   0.705696    0.017642     4    20  0.762996   \n",
       "\n",
       "         CO2  \n",
       "0   0.018742  \n",
       "1   0.023692  \n",
       "2   0.005177  \n",
       "3   0.005461  \n",
       "4   0.006152  \n",
       "5   0.012394  \n",
       "6   0.003521  \n",
       "7   0.006216  \n",
       "8   0.012287  \n",
       "9   0.022372  \n",
       "10  0.003617  \n",
       "11  0.030762  \n",
       "12  0.026506  \n",
       "13  0.008076  \n",
       "14  0.006656  \n",
       "15  0.025758  \n",
       "16  0.019614  "
      ]
     },
     "execution_count": 7,
     "metadata": {},
     "output_type": "execute_result"
    }
   ],
   "source": [
    "initial_route, df_summary = model.decoding(x0, summary=True)\n",
    "df_summary"
   ]
  },
  {
   "cell_type": "code",
   "execution_count": 8,
   "metadata": {},
   "outputs": [
    {
     "data": {
      "image/png": "[encoded data removed]",
      "text/plain": [
       "<Figure size 1000x800 with 1 Axes>"
      ]
     },
     "metadata": {},
     "output_type": "display_data"
    }
   ],
   "source": [
    "draw_graph(initial_route)"
   ]
  },
  {
   "cell_type": "code",
   "execution_count": 9,
   "metadata": {},
   "outputs": [
    {
     "data": {
      "text/plain": [
       "0.4928178361655407"
      ]
     },
     "execution_count": 9,
     "metadata": {},
     "output_type": "execute_result"
    }
   ],
   "source": [
    "model.objective_function(x0)"
   ]
  },
  {
   "cell_type": "code",
   "execution_count": 18,
   "metadata": {},
   "outputs": [
    {
     "name": "stdout",
     "output_type": "stream",
     "text": [
      "generation: 1\n",
      "generation: 2\n",
      "generation: 3\n",
      "generation: 4\n",
      "generation: 5\n",
      "generation: 6\n",
      "generation: 7\n",
      "generation: 8\n",
      "generation: 9\n",
      "generation: 10\n",
      "generation: 11\n",
      "generation: 12\n",
      "generation: 13\n",
      "generation: 14\n",
      "generation: 15\n",
      "generation: 16\n",
      "generation: 17\n",
      "generation: 18\n",
      "generation: 19\n",
      "Tiempo de ejecución: 11.693032026290894 segundos\n"
     ]
    }
   ],
   "source": [
    "start_time = time.time()\n",
    "info = model.ga(\n",
    "    x0= x0,\n",
    "    PopSize= 100,\n",
    "    ElitePopSize= 10,\n",
    "    subPopSize=20,\n",
    "    MaxGenerations= 60,\n",
    "    localOptimumTime= 10\n",
    ")\n",
    "elapsed_time = time.time() - start_time\n",
    "print(\"Tiempo de ejecución:\", elapsed_time, \"segundos\")"
   ]
  },
  {
   "cell_type": "code",
   "execution_count": 19,
   "metadata": {},
   "outputs": [
    {
     "name": "stdout",
     "output_type": "stream",
     "text": [
      "[16  8  7  9  6  2  1 10 14 15 12 13 11  3  4  5]\n",
      "0.3692712567846358\n"
     ]
    }
   ],
   "source": [
    "print(info['x_best'])\n",
    "print(info['e_best'])"
   ]
  },
  {
   "cell_type": "code",
   "execution_count": 20,
   "metadata": {},
   "outputs": [
    {
     "data": {
      "text/html": [
       "<div>\n",
       "<style scoped>\n",
       "    .dataframe tbody tr th:only-of-type {\n",
       "        vertical-align: middle;\n",
       "    }\n",
       "\n",
       "    .dataframe tbody tr th {\n",
       "        vertical-align: top;\n",
       "    }\n",
       "\n",
       "    .dataframe thead th {\n",
       "        text-align: right;\n",
       "    }\n",
       "</style>\n",
       "<table border=\"1\" class=\"dataframe\">\n",
       "  <thead>\n",
       "    <tr style=\"text-align: right;\">\n",
       "      <th></th>\n",
       "      <th>Vehiculo</th>\n",
       "      <th>Nodoi-1</th>\n",
       "      <th>Nodoi</th>\n",
       "      <th>Distancia</th>\n",
       "      <th>TiempoArco</th>\n",
       "      <th>TW_A</th>\n",
       "      <th>TW_B</th>\n",
       "      <th>Tanque</th>\n",
       "      <th>CO2</th>\n",
       "    </tr>\n",
       "  </thead>\n",
       "  <tbody>\n",
       "    <tr>\n",
       "      <th>0</th>\n",
       "      <td>0</td>\n",
       "      <td>0</td>\n",
       "      <td>16</td>\n",
       "      <td>0.674326</td>\n",
       "      <td>0.016858</td>\n",
       "      <td>5</td>\n",
       "      <td>9</td>\n",
       "      <td>0.981258</td>\n",
       "      <td>0.018742</td>\n",
       "    </tr>\n",
       "    <tr>\n",
       "      <th>1</th>\n",
       "      <td>0</td>\n",
       "      <td>16</td>\n",
       "      <td>8</td>\n",
       "      <td>0.836409</td>\n",
       "      <td>0.020910</td>\n",
       "      <td>7</td>\n",
       "      <td>11</td>\n",
       "      <td>0.958010</td>\n",
       "      <td>0.023247</td>\n",
       "    </tr>\n",
       "    <tr>\n",
       "      <th>2</th>\n",
       "      <td>0</td>\n",
       "      <td>8</td>\n",
       "      <td>7</td>\n",
       "      <td>0.137318</td>\n",
       "      <td>0.003433</td>\n",
       "      <td>6</td>\n",
       "      <td>10</td>\n",
       "      <td>0.954194</td>\n",
       "      <td>0.003817</td>\n",
       "    </tr>\n",
       "    <tr>\n",
       "      <th>3</th>\n",
       "      <td>0</td>\n",
       "      <td>7</td>\n",
       "      <td>9</td>\n",
       "      <td>0.086756</td>\n",
       "      <td>0.002169</td>\n",
       "      <td>8</td>\n",
       "      <td>9</td>\n",
       "      <td>0.951782</td>\n",
       "      <td>0.002411</td>\n",
       "    </tr>\n",
       "    <tr>\n",
       "      <th>4</th>\n",
       "      <td>0</td>\n",
       "      <td>9</td>\n",
       "      <td>6</td>\n",
       "      <td>0.246871</td>\n",
       "      <td>0.006172</td>\n",
       "      <td>6</td>\n",
       "      <td>12</td>\n",
       "      <td>0.944921</td>\n",
       "      <td>0.006862</td>\n",
       "    </tr>\n",
       "    <tr>\n",
       "      <th>5</th>\n",
       "      <td>0</td>\n",
       "      <td>6</td>\n",
       "      <td>2</td>\n",
       "      <td>0.205543</td>\n",
       "      <td>0.005139</td>\n",
       "      <td>8</td>\n",
       "      <td>12</td>\n",
       "      <td>0.939208</td>\n",
       "      <td>0.005713</td>\n",
       "    </tr>\n",
       "    <tr>\n",
       "      <th>6</th>\n",
       "      <td>0</td>\n",
       "      <td>2</td>\n",
       "      <td>1</td>\n",
       "      <td>0.126664</td>\n",
       "      <td>0.003167</td>\n",
       "      <td>7</td>\n",
       "      <td>12</td>\n",
       "      <td>0.935688</td>\n",
       "      <td>0.003521</td>\n",
       "    </tr>\n",
       "    <tr>\n",
       "      <th>7</th>\n",
       "      <td>0</td>\n",
       "      <td>1</td>\n",
       "      <td>10</td>\n",
       "      <td>0.429764</td>\n",
       "      <td>0.010744</td>\n",
       "      <td>11</td>\n",
       "      <td>13</td>\n",
       "      <td>0.923743</td>\n",
       "      <td>0.011945</td>\n",
       "    </tr>\n",
       "    <tr>\n",
       "      <th>8</th>\n",
       "      <td>0</td>\n",
       "      <td>10</td>\n",
       "      <td>14</td>\n",
       "      <td>0.805359</td>\n",
       "      <td>0.020134</td>\n",
       "      <td>11</td>\n",
       "      <td>14</td>\n",
       "      <td>0.901358</td>\n",
       "      <td>0.022384</td>\n",
       "    </tr>\n",
       "    <tr>\n",
       "      <th>9</th>\n",
       "      <td>0</td>\n",
       "      <td>14</td>\n",
       "      <td>15</td>\n",
       "      <td>0.130135</td>\n",
       "      <td>0.003253</td>\n",
       "      <td>10</td>\n",
       "      <td>14</td>\n",
       "      <td>0.897741</td>\n",
       "      <td>0.003617</td>\n",
       "    </tr>\n",
       "    <tr>\n",
       "      <th>10</th>\n",
       "      <td>0</td>\n",
       "      <td>15</td>\n",
       "      <td>12</td>\n",
       "      <td>0.349879</td>\n",
       "      <td>0.008747</td>\n",
       "      <td>13</td>\n",
       "      <td>16</td>\n",
       "      <td>0.888017</td>\n",
       "      <td>0.009725</td>\n",
       "    </tr>\n",
       "    <tr>\n",
       "      <th>11</th>\n",
       "      <td>0</td>\n",
       "      <td>12</td>\n",
       "      <td>13</td>\n",
       "      <td>0.110519</td>\n",
       "      <td>0.002763</td>\n",
       "      <td>16</td>\n",
       "      <td>20</td>\n",
       "      <td>0.884945</td>\n",
       "      <td>0.003072</td>\n",
       "    </tr>\n",
       "    <tr>\n",
       "      <th>12</th>\n",
       "      <td>0</td>\n",
       "      <td>13</td>\n",
       "      <td>11</td>\n",
       "      <td>0.239488</td>\n",
       "      <td>0.005987</td>\n",
       "      <td>12</td>\n",
       "      <td>24</td>\n",
       "      <td>0.878289</td>\n",
       "      <td>0.006656</td>\n",
       "    </tr>\n",
       "    <tr>\n",
       "      <th>13</th>\n",
       "      <td>0</td>\n",
       "      <td>11</td>\n",
       "      <td>0</td>\n",
       "      <td>0.456607</td>\n",
       "      <td>0.011415</td>\n",
       "      <td>4</td>\n",
       "      <td>20</td>\n",
       "      <td>0.865598</td>\n",
       "      <td>0.012691</td>\n",
       "    </tr>\n",
       "    <tr>\n",
       "      <th>14</th>\n",
       "      <td>1</td>\n",
       "      <td>0</td>\n",
       "      <td>3</td>\n",
       "      <td>0.477160</td>\n",
       "      <td>0.011929</td>\n",
       "      <td>10</td>\n",
       "      <td>12</td>\n",
       "      <td>0.986738</td>\n",
       "      <td>0.013262</td>\n",
       "    </tr>\n",
       "    <tr>\n",
       "      <th>15</th>\n",
       "      <td>1</td>\n",
       "      <td>3</td>\n",
       "      <td>4</td>\n",
       "      <td>0.205543</td>\n",
       "      <td>0.005139</td>\n",
       "      <td>12</td>\n",
       "      <td>14</td>\n",
       "      <td>0.981025</td>\n",
       "      <td>0.005713</td>\n",
       "    </tr>\n",
       "    <tr>\n",
       "      <th>16</th>\n",
       "      <td>1</td>\n",
       "      <td>4</td>\n",
       "      <td>5</td>\n",
       "      <td>0.165389</td>\n",
       "      <td>0.004135</td>\n",
       "      <td>15</td>\n",
       "      <td>24</td>\n",
       "      <td>0.976428</td>\n",
       "      <td>0.004597</td>\n",
       "    </tr>\n",
       "    <tr>\n",
       "      <th>17</th>\n",
       "      <td>1</td>\n",
       "      <td>5</td>\n",
       "      <td>0</td>\n",
       "      <td>0.705696</td>\n",
       "      <td>0.017642</td>\n",
       "      <td>4</td>\n",
       "      <td>20</td>\n",
       "      <td>0.956814</td>\n",
       "      <td>0.019614</td>\n",
       "    </tr>\n",
       "  </tbody>\n",
       "</table>\n",
       "</div>"
      ],
      "text/plain": [
       "    Vehiculo  Nodoi-1  Nodoi  Distancia  TiempoArco  TW_A  TW_B    Tanque  \\\n",
       "0          0        0     16   0.674326    0.016858     5     9  0.981258   \n",
       "1          0       16      8   0.836409    0.020910     7    11  0.958010   \n",
       "2          0        8      7   0.137318    0.003433     6    10  0.954194   \n",
       "3          0        7      9   0.086756    0.002169     8     9  0.951782   \n",
       "4          0        9      6   0.246871    0.006172     6    12  0.944921   \n",
       "5          0        6      2   0.205543    0.005139     8    12  0.939208   \n",
       "6          0        2      1   0.126664    0.003167     7    12  0.935688   \n",
       "7          0        1     10   0.429764    0.010744    11    13  0.923743   \n",
       "8          0       10     14   0.805359    0.020134    11    14  0.901358   \n",
       "9          0       14     15   0.130135    0.003253    10    14  0.897741   \n",
       "10         0       15     12   0.349879    0.008747    13    16  0.888017   \n",
       "11         0       12     13   0.110519    0.002763    16    20  0.884945   \n",
       "12         0       13     11   0.239488    0.005987    12    24  0.878289   \n",
       "13         0       11      0   0.456607    0.011415     4    20  0.865598   \n",
       "14         1        0      3   0.477160    0.011929    10    12  0.986738   \n",
       "15         1        3      4   0.205543    0.005139    12    14  0.981025   \n",
       "16         1        4      5   0.165389    0.004135    15    24  0.976428   \n",
       "17         1        5      0   0.705696    0.017642     4    20  0.956814   \n",
       "\n",
       "         CO2  \n",
       "0   0.018742  \n",
       "1   0.023247  \n",
       "2   0.003817  \n",
       "3   0.002411  \n",
       "4   0.006862  \n",
       "5   0.005713  \n",
       "6   0.003521  \n",
       "7   0.011945  \n",
       "8   0.022384  \n",
       "9   0.003617  \n",
       "10  0.009725  \n",
       "11  0.003072  \n",
       "12  0.006656  \n",
       "13  0.012691  \n",
       "14  0.013262  \n",
       "15  0.005713  \n",
       "16  0.004597  \n",
       "17  0.019614  "
      ]
     },
     "execution_count": 20,
     "metadata": {},
     "output_type": "execute_result"
    }
   ],
   "source": [
    "optimal_route, df_summary2 = model.decoding(info['x_best'], summary=True)\n",
    "df_summary2"
   ]
  },
  {
   "cell_type": "code",
   "execution_count": 23,
   "metadata": {},
   "outputs": [
    {
     "data": {
      "image/png": "[encoded data removed]",
      "text/plain": [
       "<Figure size 1000x800 with 1 Axes>"
      ]
     },
     "metadata": {},
     "output_type": "display_data"
    }
   ],
   "source": [
    "draw_graph(optimal_route)"
   ]
  },
  {
   "cell_type": "code",
   "execution_count": 17,
   "metadata": {},
   "outputs": [
    {
     "data": {
      "application/vnd.plotly.v1+json": {
       "config": {
        "plotlyServerURL": "https://plot.ly"
       },
       "data": [
        {
         "hovertemplate": "Step=%{x}<br>Best Energy Value=%{y}<extra></extra>",
         "legendgroup": "",
         "line": {
          "color": "#636efa",
          "dash": "solid",
          "shape": "linear"
         },
         "marker": {
          "symbol": "circle"
         },
         "mode": "markers+lines",
         "name": "",
         "orientation": "v",
         "showlegend": false,
         "type": "scatter",
         "x": [
          1,
          2,
          3,
          4,
          5,
          6,
          7,
          8,
          9,
          10,
          11,
          12,
          13,
          14
         ],
         "xaxis": "x",
         "y": [
          0.4522826630778951,
          0.38179664016883175,
          0.38179664016883175,
          0.36712699841220553,
          0.36190467941372617,
          0.36190467941372617,
          0.36190467941372617,
          0.36190467941372617,
          0.36190467941372617,
          0.36190467941372617,
          0.36190467941372617,
          0.36190467941372617,
          0.36190467941372617,
          0.36190467941372617
         ],
         "yaxis": "y"
        }
       ],
       "layout": {
        "legend": {
         "tracegroupgap": 0
        },
        "template": {
         "data": {
          "bar": [
           {
            "error_x": {
             "color": "#2a3f5f"
            },
            "error_y": {
             "color": "#2a3f5f"
            },
            "marker": {
             "line": {
              "color": "#E5ECF6",
              "width": 0.5
             },
             "pattern": {
              "fillmode": "overlay",
              "size": 10,
              "solidity": 0.2
             }
            },
            "type": "bar"
           }
          ],
          "barpolar": [
           {
            "marker": {
             "line": {
              "color": "#E5ECF6",
              "width": 0.5
             },
             "pattern": {
              "fillmode": "overlay",
              "size": 10,
              "solidity": 0.2
             }
            },
            "type": "barpolar"
           }
          ],
          "carpet": [
           {
            "aaxis": {
             "endlinecolor": "#2a3f5f",
             "gridcolor": "white",
             "linecolor": "white",
             "minorgridcolor": "white",
             "startlinecolor": "#2a3f5f"
            },
            "baxis": {
             "endlinecolor": "#2a3f5f",
             "gridcolor": "white",
             "linecolor": "white",
             "minorgridcolor": "white",
             "startlinecolor": "#2a3f5f"
            },
            "type": "carpet"
           }
          ],
          "choropleth": [
           {
            "colorbar": {
             "outlinewidth": 0,
             "ticks": ""
            },
            "type": "choropleth"
           }
          ],
          "contour": [
           {
            "colorbar": {
             "outlinewidth": 0,
             "ticks": ""
            },
            "colorscale": [
             [
              0,
              "#0d0887"
             ],
             [
              0.1111111111111111,
              "#46039f"
             ],
             [
              0.2222222222222222,
              "#7201a8"
             ],
             [
              0.3333333333333333,
              "#9c179e"
             ],
             [
              0.4444444444444444,
              "#bd3786"
             ],
             [
              0.5555555555555556,
              "#d8576b"
             ],
             [
              0.6666666666666666,
              "#ed7953"
             ],
             [
              0.7777777777777778,
              "#fb9f3a"
             ],
             [
              0.8888888888888888,
              "#fdca26"
             ],
             [
              1,
              "#f0f921"
             ]
            ],
            "type": "contour"
           }
          ],
          "contourcarpet": [
           {
            "colorbar": {
             "outlinewidth": 0,
             "ticks": ""
            },
            "type": "contourcarpet"
           }
          ],
          "heatmap": [
           {
            "colorbar": {
             "outlinewidth": 0,
             "ticks": ""
            },
            "colorscale": [
             [
              0,
              "#0d0887"
             ],
             [
              0.1111111111111111,
              "#46039f"
             ],
             [
              0.2222222222222222,
              "#7201a8"
             ],
             [
              0.3333333333333333,
              "#9c179e"
             ],
             [
              0.4444444444444444,
              "#bd3786"
             ],
             [
              0.5555555555555556,
              "#d8576b"
             ],
             [
              0.6666666666666666,
              "#ed7953"
             ],
             [
              0.7777777777777778,
              "#fb9f3a"
             ],
             [
              0.8888888888888888,
              "#fdca26"
             ],
             [
              1,
              "#f0f921"
             ]
            ],
            "type": "heatmap"
           }
          ],
          "heatmapgl": [
           {
            "colorbar": {
             "outlinewidth": 0,
             "ticks": ""
            },
            "colorscale": [
             [
              0,
              "#0d0887"
             ],
             [
              0.1111111111111111,
              "#46039f"
             ],
             [
              0.2222222222222222,
              "#7201a8"
             ],
             [
              0.3333333333333333,
              "#9c179e"
             ],
             [
              0.4444444444444444,
              "#bd3786"
             ],
             [
              0.5555555555555556,
              "#d8576b"
             ],
             [
              0.6666666666666666,
              "#ed7953"
             ],
             [
              0.7777777777777778,
              "#fb9f3a"
             ],
             [
              0.8888888888888888,
              "#fdca26"
             ],
             [
              1,
              "#f0f921"
             ]
            ],
            "type": "heatmapgl"
           }
          ],
          "histogram": [
           {
            "marker": {
             "pattern": {
              "fillmode": "overlay",
              "size": 10,
              "solidity": 0.2
             }
            },
            "type": "histogram"
           }
          ],
          "histogram2d": [
           {
            "colorbar": {
             "outlinewidth": 0,
             "ticks": ""
            },
            "colorscale": [
             [
              0,
              "#0d0887"
             ],
             [
              0.1111111111111111,
              "#46039f"
             ],
             [
              0.2222222222222222,
              "#7201a8"
             ],
             [
              0.3333333333333333,
              "#9c179e"
             ],
             [
              0.4444444444444444,
              "#bd3786"
             ],
             [
              0.5555555555555556,
              "#d8576b"
             ],
             [
              0.6666666666666666,
              "#ed7953"
             ],
             [
              0.7777777777777778,
              "#fb9f3a"
             ],
             [
              0.8888888888888888,
              "#fdca26"
             ],
             [
              1,
              "#f0f921"
             ]
            ],
            "type": "histogram2d"
           }
          ],
          "histogram2dcontour": [
           {
            "colorbar": {
             "outlinewidth": 0,
             "ticks": ""
            },
            "colorscale": [
             [
              0,
              "#0d0887"
             ],
             [
              0.1111111111111111,
              "#46039f"
             ],
             [
              0.2222222222222222,
              "#7201a8"
             ],
             [
              0.3333333333333333,
              "#9c179e"
             ],
             [
              0.4444444444444444,
              "#bd3786"
             ],
             [
              0.5555555555555556,
              "#d8576b"
             ],
             [
              0.6666666666666666,
              "#ed7953"
             ],
             [
              0.7777777777777778,
              "#fb9f3a"
             ],
             [
              0.8888888888888888,
              "#fdca26"
             ],
             [
              1,
              "#f0f921"
             ]
            ],
            "type": "histogram2dcontour"
           }
          ],
          "mesh3d": [
           {
            "colorbar": {
             "outlinewidth": 0,
             "ticks": ""
            },
            "type": "mesh3d"
           }
          ],
          "parcoords": [
           {
            "line": {
             "colorbar": {
              "outlinewidth": 0,
              "ticks": ""
             }
            },
            "type": "parcoords"
           }
          ],
          "pie": [
           {
            "automargin": true,
            "type": "pie"
           }
          ],
          "scatter": [
           {
            "fillpattern": {
             "fillmode": "overlay",
             "size": 10,
             "solidity": 0.2
            },
            "type": "scatter"
           }
          ],
          "scatter3d": [
           {
            "line": {
             "colorbar": {
              "outlinewidth": 0,
              "ticks": ""
             }
            },
            "marker": {
             "colorbar": {
              "outlinewidth": 0,
              "ticks": ""
             }
            },
            "type": "scatter3d"
           }
          ],
          "scattercarpet": [
           {
            "marker": {
             "colorbar": {
              "outlinewidth": 0,
              "ticks": ""
             }
            },
            "type": "scattercarpet"
           }
          ],
          "scattergeo": [
           {
            "marker": {
             "colorbar": {
              "outlinewidth": 0,
              "ticks": ""
             }
            },
            "type": "scattergeo"
           }
          ],
          "scattergl": [
           {
            "marker": {
             "colorbar": {
              "outlinewidth": 0,
              "ticks": ""
             }
            },
            "type": "scattergl"
           }
          ],
          "scattermapbox": [
           {
            "marker": {
             "colorbar": {
              "outlinewidth": 0,
              "ticks": ""
             }
            },
            "type": "scattermapbox"
           }
          ],
          "scatterpolar": [
           {
            "marker": {
             "colorbar": {
              "outlinewidth": 0,
              "ticks": ""
             }
            },
            "type": "scatterpolar"
           }
          ],
          "scatterpolargl": [
           {
            "marker": {
             "colorbar": {
              "outlinewidth": 0,
              "ticks": ""
             }
            },
            "type": "scatterpolargl"
           }
          ],
          "scatterternary": [
           {
            "marker": {
             "colorbar": {
              "outlinewidth": 0,
              "ticks": ""
             }
            },
            "type": "scatterternary"
           }
          ],
          "surface": [
           {
            "colorbar": {
             "outlinewidth": 0,
             "ticks": ""
            },
            "colorscale": [
             [
              0,
              "#0d0887"
             ],
             [
              0.1111111111111111,
              "#46039f"
             ],
             [
              0.2222222222222222,
              "#7201a8"
             ],
             [
              0.3333333333333333,
              "#9c179e"
             ],
             [
              0.4444444444444444,
              "#bd3786"
             ],
             [
              0.5555555555555556,
              "#d8576b"
             ],
             [
              0.6666666666666666,
              "#ed7953"
             ],
             [
              0.7777777777777778,
              "#fb9f3a"
             ],
             [
              0.8888888888888888,
              "#fdca26"
             ],
             [
              1,
              "#f0f921"
             ]
            ],
            "type": "surface"
           }
          ],
          "table": [
           {
            "cells": {
             "fill": {
              "color": "#EBF0F8"
             },
             "line": {
              "color": "white"
             }
            },
            "header": {
             "fill": {
              "color": "#C8D4E3"
             },
             "line": {
              "color": "white"
             }
            },
            "type": "table"
           }
          ]
         },
         "layout": {
          "annotationdefaults": {
           "arrowcolor": "#2a3f5f",
           "arrowhead": 0,
           "arrowwidth": 1
          },
          "autotypenumbers": "strict",
          "coloraxis": {
           "colorbar": {
            "outlinewidth": 0,
            "ticks": ""
           }
          },
          "colorscale": {
           "diverging": [
            [
             0,
             "#8e0152"
            ],
            [
             0.1,
             "#c51b7d"
            ],
            [
             0.2,
             "#de77ae"
            ],
            [
             0.3,
             "#f1b6da"
            ],
            [
             0.4,
             "#fde0ef"
            ],
            [
             0.5,
             "#f7f7f7"
            ],
            [
             0.6,
             "#e6f5d0"
            ],
            [
             0.7,
             "#b8e186"
            ],
            [
             0.8,
             "#7fbc41"
            ],
            [
             0.9,
             "#4d9221"
            ],
            [
             1,
             "#276419"
            ]
           ],
           "sequential": [
            [
             0,
             "#0d0887"
            ],
            [
             0.1111111111111111,
             "#46039f"
            ],
            [
             0.2222222222222222,
             "#7201a8"
            ],
            [
             0.3333333333333333,
             "#9c179e"
            ],
            [
             0.4444444444444444,
             "#bd3786"
            ],
            [
             0.5555555555555556,
             "#d8576b"
            ],
            [
             0.6666666666666666,
             "#ed7953"
            ],
            [
             0.7777777777777778,
             "#fb9f3a"
            ],
            [
             0.8888888888888888,
             "#fdca26"
            ],
            [
             1,
             "#f0f921"
            ]
           ],
           "sequentialminus": [
            [
             0,
             "#0d0887"
            ],
            [
             0.1111111111111111,
             "#46039f"
            ],
            [
             0.2222222222222222,
             "#7201a8"
            ],
            [
             0.3333333333333333,
             "#9c179e"
            ],
            [
             0.4444444444444444,
             "#bd3786"
            ],
            [
             0.5555555555555556,
             "#d8576b"
            ],
            [
             0.6666666666666666,
             "#ed7953"
            ],
            [
             0.7777777777777778,
             "#fb9f3a"
            ],
            [
             0.8888888888888888,
             "#fdca26"
            ],
            [
             1,
             "#f0f921"
            ]
           ]
          },
          "colorway": [
           "#636efa",
           "#EF553B",
           "#00cc96",
           "#ab63fa",
           "#FFA15A",
           "#19d3f3",
           "#FF6692",
           "#B6E880",
           "#FF97FF",
           "#FECB52"
          ],
          "font": {
           "color": "#2a3f5f"
          },
          "geo": {
           "bgcolor": "white",
           "lakecolor": "white",
           "landcolor": "#E5ECF6",
           "showlakes": true,
           "showland": true,
           "subunitcolor": "white"
          },
          "hoverlabel": {
           "align": "left"
          },
          "hovermode": "closest",
          "mapbox": {
           "style": "light"
          },
          "paper_bgcolor": "white",
          "plot_bgcolor": "#E5ECF6",
          "polar": {
           "angularaxis": {
            "gridcolor": "white",
            "linecolor": "white",
            "ticks": ""
           },
           "bgcolor": "#E5ECF6",
           "radialaxis": {
            "gridcolor": "white",
            "linecolor": "white",
            "ticks": ""
           }
          },
          "scene": {
           "xaxis": {
            "backgroundcolor": "#E5ECF6",
            "gridcolor": "white",
            "gridwidth": 2,
            "linecolor": "white",
            "showbackground": true,
            "ticks": "",
            "zerolinecolor": "white"
           },
           "yaxis": {
            "backgroundcolor": "#E5ECF6",
            "gridcolor": "white",
            "gridwidth": 2,
            "linecolor": "white",
            "showbackground": true,
            "ticks": "",
            "zerolinecolor": "white"
           },
           "zaxis": {
            "backgroundcolor": "#E5ECF6",
            "gridcolor": "white",
            "gridwidth": 2,
            "linecolor": "white",
            "showbackground": true,
            "ticks": "",
            "zerolinecolor": "white"
           }
          },
          "shapedefaults": {
           "line": {
            "color": "#2a3f5f"
           }
          },
          "ternary": {
           "aaxis": {
            "gridcolor": "white",
            "linecolor": "white",
            "ticks": ""
           },
           "baxis": {
            "gridcolor": "white",
            "linecolor": "white",
            "ticks": ""
           },
           "bgcolor": "#E5ECF6",
           "caxis": {
            "gridcolor": "white",
            "linecolor": "white",
            "ticks": ""
           }
          },
          "title": {
           "x": 0.05
          },
          "xaxis": {
           "automargin": true,
           "gridcolor": "white",
           "linecolor": "white",
           "ticks": "",
           "title": {
            "standoff": 15
           },
           "zerolinecolor": "white",
           "zerolinewidth": 2
          },
          "yaxis": {
           "automargin": true,
           "gridcolor": "white",
           "linecolor": "white",
           "ticks": "",
           "title": {
            "standoff": 15
           },
           "zerolinecolor": "white",
           "zerolinewidth": 2
          }
         }
        },
        "title": {
         "text": "Optimization Progress"
        },
        "xaxis": {
         "anchor": "y",
         "domain": [
          0,
          1
         ],
         "title": {
          "text": "Step"
         }
        },
        "yaxis": {
         "anchor": "x",
         "domain": [
          0,
          1
         ],
         "title": {
          "text": "Best Energy Value"
         }
        }
       }
      }
     },
     "metadata": {},
     "output_type": "display_data"
    }
   ],
   "source": [
    "model.draw_energy_plot(info['hist'])"
   ]
  },
  {
   "cell_type": "markdown",
   "metadata": {},
   "source": [
    "## VEGSA"
   ]
  },
  {
   "cell_type": "code",
   "execution_count": 27,
   "metadata": {},
   "outputs": [
    {
     "name": "stdout",
     "output_type": "stream",
     "text": [
      "GA init: \n",
      "generation: 1\n",
      "generation: 2\n",
      "generation: 3\n",
      "generation: 4\n",
      "generation: 5\n",
      "generation: 6\n",
      "generation: 7\n",
      "generation: 8\n",
      "generation: 9\n",
      "generation: 10\n",
      "generation: 11\n",
      "generation: 12\n",
      "generation: 13\n",
      "generation: 14\n",
      "generation: 15\n",
      "generation: 16\n",
      "GA result: \n",
      "{'x_best': array([16, 15, 14,  8,  9,  6,  1,  2,  3,  4,  7, 10, 11, 12, 13,  5]), 'e_best': 0.36617669723088464, 'time': 16, 'hist': [(1, 0.4682185951180602), (2, 0.44221964356555543), (3, 0.4344783986773819), (4, 0.41134211071364385), (5, 0.4075596255452095), (6, 0.3737516281058261), (7, 0.36617669723088464), (8, 0.36617669723088464), (9, 0.36617669723088464), (10, 0.36617669723088464), (11, 0.36617669723088464), (12, 0.36617669723088464), (13, 0.36617669723088464), (14, 0.36617669723088464), (15, 0.36617669723088464), (16, 0.36617669723088464)]}\n",
      "SA init: \n",
      "step: 1, temperature: 300, energy: 0.36617669723088464\n",
      "step: 2, temperature: 299.06666666666666, energy: 0.36617669723088464\n",
      "step: 3, temperature: 298.1333333333333, energy: 0.36617669723088464\n",
      "step: 4, temperature: 297.2, energy: 0.36617669723088464\n",
      "step: 5, temperature: 296.26666666666665, energy: 0.36617669723088464\n",
      "step: 6, temperature: 295.3333333333333, energy: 0.36617669723088464\n",
      "step: 7, temperature: 294.4, energy: 0.36617669723088464\n",
      "step: 8, temperature: 293.46666666666664, energy: 0.36617669723088464\n",
      "step: 9, temperature: 292.53333333333336, energy: 0.36617669723088464\n",
      "step: 10, temperature: 291.6, energy: 0.36617669723088464\n",
      "step: 11, temperature: 290.6666666666667, energy: 0.36617669723088464\n",
      "step: 12, temperature: 289.73333333333335, energy: 0.36617669723088464\n",
      "step: 13, temperature: 288.8, energy: 0.36617669723088464\n",
      "step: 14, temperature: 287.8666666666667, energy: 0.36617669723088464\n",
      "step: 15, temperature: 286.93333333333334, energy: 0.36617669723088464\n",
      "step: 16, temperature: 286.0, energy: 0.36617669723088464\n",
      "step: 17, temperature: 285.06666666666666, energy: 0.36617669723088464\n",
      "step: 18, temperature: 284.1333333333333, energy: 0.36617669723088464\n",
      "step: 19, temperature: 283.2, energy: 0.36617669723088464\n",
      "step: 20, temperature: 282.26666666666665, energy: 0.36617669723088464\n",
      "step: 21, temperature: 281.3333333333333, energy: 0.36617669723088464\n",
      "step: 22, temperature: 280.4, energy: 0.36617669723088464\n",
      "step: 23, temperature: 279.46666666666664, energy: 0.36617669723088464\n",
      "step: 24, temperature: 278.53333333333336, energy: 0.36617669723088464\n",
      "step: 25, temperature: 277.6, energy: 0.36617669723088464\n",
      "step: 26, temperature: 276.6666666666667, energy: 0.36617669723088464\n",
      "step: 27, temperature: 275.73333333333335, energy: 0.36617669723088464\n",
      "step: 28, temperature: 274.8, energy: 0.36617669723088464\n",
      "step: 29, temperature: 273.8666666666667, energy: 0.36617669723088464\n",
      "step: 30, temperature: 272.93333333333334, energy: 0.36617669723088464\n",
      "step: 31, temperature: 272.0, energy: 0.36617669723088464\n",
      "step: 32, temperature: 271.06666666666666, energy: 0.36617669723088464\n",
      "step: 33, temperature: 270.1333333333333, energy: 0.36617669723088464\n",
      "step: 34, temperature: 269.2, energy: 0.3483749894575975\n",
      "step: 35, temperature: 268.26666666666665, energy: 0.3483749894575975\n",
      "step: 36, temperature: 267.33333333333337, energy: 0.3483749894575975\n",
      "step: 37, temperature: 266.4, energy: 0.3483749894575975\n",
      "step: 38, temperature: 265.4666666666667, energy: 0.3483749894575975\n",
      "step: 39, temperature: 264.5333333333333, energy: 0.3483749894575975\n",
      "step: 40, temperature: 263.6, energy: 0.3483749894575975\n",
      "step: 41, temperature: 262.66666666666663, energy: 0.3483749894575975\n",
      "step: 42, temperature: 261.73333333333335, energy: 0.3483749894575975\n",
      "step: 43, temperature: 260.8, energy: 0.3483749894575975\n",
      "step: 44, temperature: 259.8666666666667, energy: 0.3463311500351044\n",
      "step: 45, temperature: 258.93333333333334, energy: 0.3463311500351044\n",
      "step: 46, temperature: 258.0, energy: 0.3463311500351044\n",
      "step: 47, temperature: 257.06666666666666, energy: 0.3463311500351044\n",
      "step: 48, temperature: 256.1333333333333, energy: 0.3463311500351044\n",
      "step: 49, temperature: 255.2, energy: 0.3463311500351044\n",
      "step: 50, temperature: 254.26666666666668, energy: 0.3463311500351044\n",
      "step: 51, temperature: 253.33333333333334, energy: 0.3463311500351044\n",
      "step: 52, temperature: 252.4, energy: 0.3463311500351044\n",
      "step: 53, temperature: 251.46666666666667, energy: 0.3463311500351044\n",
      "step: 54, temperature: 250.53333333333333, energy: 0.3463311500351044\n",
      "step: 55, temperature: 249.6, energy: 0.344978095060691\n",
      "step: 56, temperature: 248.66666666666666, energy: 0.344978095060691\n",
      "step: 57, temperature: 247.73333333333332, energy: 0.344978095060691\n",
      "step: 58, temperature: 246.8, energy: 0.344978095060691\n",
      "step: 59, temperature: 245.86666666666667, energy: 0.344978095060691\n",
      "step: 60, temperature: 244.93333333333334, energy: 0.344978095060691\n",
      "step: 61, temperature: 244.0, energy: 0.344978095060691\n",
      "step: 62, temperature: 243.06666666666666, energy: 0.344978095060691\n",
      "step: 63, temperature: 242.13333333333333, energy: 0.344978095060691\n",
      "step: 64, temperature: 241.2, energy: 0.344978095060691\n",
      "step: 65, temperature: 240.26666666666668, energy: 0.344978095060691\n",
      "step: 66, temperature: 239.33333333333334, energy: 0.344978095060691\n",
      "step: 67, temperature: 238.4, energy: 0.344978095060691\n",
      "step: 68, temperature: 237.46666666666667, energy: 0.344978095060691\n",
      "step: 69, temperature: 236.53333333333333, energy: 0.344978095060691\n",
      "step: 70, temperature: 235.6, energy: 0.344978095060691\n",
      "step: 71, temperature: 234.66666666666666, energy: 0.344978095060691\n",
      "step: 72, temperature: 233.73333333333332, energy: 0.3277863686366126\n",
      "step: 73, temperature: 232.8, energy: 0.3277863686366126\n",
      "step: 74, temperature: 231.86666666666667, energy: 0.3277863686366126\n",
      "step: 75, temperature: 230.93333333333334, energy: 0.3277863686366126\n",
      "step: 76, temperature: 230.0, energy: 0.3277863686366126\n",
      "step: 77, temperature: 229.06666666666666, energy: 0.3277863686366126\n",
      "step: 78, temperature: 228.13333333333333, energy: 0.3263892459615466\n",
      "step: 79, temperature: 227.2, energy: 0.3263892459615466\n",
      "step: 80, temperature: 226.26666666666668, energy: 0.3263892459615466\n",
      "step: 81, temperature: 225.33333333333334, energy: 0.3263892459615466\n",
      "step: 82, temperature: 224.4, energy: 0.3263892459615466\n",
      "step: 83, temperature: 223.46666666666667, energy: 0.3263892459615466\n",
      "step: 84, temperature: 222.53333333333333, energy: 0.3263892459615466\n",
      "step: 85, temperature: 221.6, energy: 0.3263892459615466\n",
      "step: 86, temperature: 220.66666666666666, energy: 0.3263892459615466\n",
      "step: 87, temperature: 219.73333333333332, energy: 0.3263892459615466\n",
      "step: 88, temperature: 218.8, energy: 0.3263892459615466\n",
      "step: 89, temperature: 217.86666666666667, energy: 0.3263892459615466\n",
      "step: 90, temperature: 216.93333333333334, energy: 0.3263892459615466\n",
      "step: 91, temperature: 216.0, energy: 0.3263892459615466\n",
      "step: 92, temperature: 215.06666666666666, energy: 0.3263892459615466\n",
      "step: 93, temperature: 214.13333333333333, energy: 0.3263892459615466\n",
      "step: 94, temperature: 213.2, energy: 0.3263892459615466\n",
      "step: 95, temperature: 212.26666666666668, energy: 0.3263892459615466\n",
      "step: 96, temperature: 211.33333333333334, energy: 0.3263892459615466\n",
      "step: 97, temperature: 210.4, energy: 0.3263892459615466\n",
      "step: 98, temperature: 209.46666666666667, energy: 0.3263892459615466\n",
      "step: 99, temperature: 208.53333333333333, energy: 0.3263892459615466\n",
      "step: 100, temperature: 207.6, energy: 0.3263892459615466\n",
      "step: 101, temperature: 206.66666666666666, energy: 0.3263892459615466\n",
      "step: 102, temperature: 205.73333333333332, energy: 0.3263892459615466\n",
      "step: 103, temperature: 204.8, energy: 0.3263892459615466\n",
      "step: 104, temperature: 203.86666666666667, energy: 0.3263892459615466\n",
      "step: 105, temperature: 202.93333333333334, energy: 0.3263892459615466\n",
      "step: 106, temperature: 202.0, energy: 0.3263892459615466\n",
      "step: 107, temperature: 201.06666666666666, energy: 0.3263892459615466\n",
      "step: 108, temperature: 200.13333333333333, energy: 0.3263892459615466\n",
      "step: 109, temperature: 199.2, energy: 0.3263892459615466\n",
      "step: 110, temperature: 198.26666666666668, energy: 0.3263892459615466\n",
      "step: 111, temperature: 197.33333333333334, energy: 0.3263892459615466\n",
      "step: 112, temperature: 196.4, energy: 0.3263892459615466\n",
      "step: 113, temperature: 195.46666666666667, energy: 0.3263892459615466\n",
      "step: 114, temperature: 194.53333333333333, energy: 0.3263892459615466\n",
      "step: 115, temperature: 193.6, energy: 0.3263892459615466\n",
      "step: 116, temperature: 192.66666666666666, energy: 0.3263892459615466\n",
      "step: 117, temperature: 191.73333333333332, energy: 0.3263892459615466\n",
      "step: 118, temperature: 190.8, energy: 0.3263892459615466\n",
      "step: 119, temperature: 189.86666666666667, energy: 0.3263892459615466\n",
      "step: 120, temperature: 188.93333333333334, energy: 0.3263892459615466\n",
      "step: 121, temperature: 188.0, energy: 0.3263892459615466\n",
      "step: 122, temperature: 187.06666666666666, energy: 0.3263892459615466\n",
      "step: 123, temperature: 186.13333333333333, energy: 0.3263892459615466\n",
      "step: 124, temperature: 185.2, energy: 0.3263892459615466\n",
      "step: 125, temperature: 184.26666666666668, energy: 0.3263892459615466\n",
      "step: 126, temperature: 183.33333333333334, energy: 0.3263892459615466\n",
      "step: 127, temperature: 182.4, energy: 0.3263892459615466\n",
      "step: 128, temperature: 181.46666666666667, energy: 0.3263892459615466\n",
      "step: 129, temperature: 180.53333333333333, energy: 0.3263892459615466\n",
      "step: 130, temperature: 179.6, energy: 0.3263892459615466\n",
      "step: 131, temperature: 178.66666666666666, energy: 0.3263892459615466\n",
      "step: 132, temperature: 177.73333333333332, energy: 0.3263892459615466\n",
      "step: 133, temperature: 176.8, energy: 0.3263892459615466\n",
      "step: 134, temperature: 175.86666666666667, energy: 0.3263892459615466\n",
      "step: 135, temperature: 174.93333333333334, energy: 0.3263892459615466\n",
      "step: 136, temperature: 174.0, energy: 0.3263892459615466\n",
      "step: 137, temperature: 173.06666666666666, energy: 0.3263892459615466\n",
      "step: 138, temperature: 172.13333333333333, energy: 0.3263892459615466\n",
      "step: 139, temperature: 171.2, energy: 0.3263892459615466\n",
      "step: 140, temperature: 170.26666666666668, energy: 0.3263892459615466\n",
      "step: 141, temperature: 169.33333333333334, energy: 0.3263892459615466\n",
      "step: 142, temperature: 168.4, energy: 0.3263892459615466\n",
      "step: 143, temperature: 167.46666666666667, energy: 0.3263892459615466\n",
      "step: 144, temperature: 166.53333333333333, energy: 0.3263892459615466\n",
      "step: 145, temperature: 165.6, energy: 0.3263892459615466\n",
      "step: 146, temperature: 164.66666666666666, energy: 0.3263892459615466\n",
      "step: 147, temperature: 163.73333333333332, energy: 0.3263892459615466\n",
      "step: 148, temperature: 162.8, energy: 0.3263892459615466\n",
      "step: 149, temperature: 161.86666666666667, energy: 0.3263892459615466\n",
      "step: 150, temperature: 160.93333333333334, energy: 0.3263892459615466\n",
      "step: 151, temperature: 160.0, energy: 0.3263892459615466\n",
      "step: 152, temperature: 159.06666666666666, energy: 0.3263892459615466\n",
      "step: 153, temperature: 158.13333333333333, energy: 0.3263892459615466\n",
      "step: 154, temperature: 157.2, energy: 0.3263892459615466\n",
      "step: 155, temperature: 156.26666666666668, energy: 0.3263892459615466\n",
      "step: 156, temperature: 155.33333333333334, energy: 0.3263892459615466\n",
      "step: 157, temperature: 154.4, energy: 0.3263892459615466\n",
      "step: 158, temperature: 153.46666666666667, energy: 0.3263892459615466\n",
      "step: 159, temperature: 152.53333333333333, energy: 0.3263892459615466\n",
      "step: 160, temperature: 151.6, energy: 0.3263892459615466\n",
      "step: 161, temperature: 150.66666666666666, energy: 0.3263892459615466\n",
      "step: 162, temperature: 149.73333333333332, energy: 0.3263892459615466\n",
      "step: 163, temperature: 148.8, energy: 0.3263892459615466\n",
      "step: 164, temperature: 147.86666666666667, energy: 0.3263892459615466\n",
      "step: 165, temperature: 146.93333333333334, energy: 0.3263892459615466\n",
      "step: 166, temperature: 146.0, energy: 0.3263892459615466\n",
      "step: 167, temperature: 145.06666666666666, energy: 0.3263892459615466\n",
      "step: 168, temperature: 144.13333333333333, energy: 0.3263892459615466\n",
      "step: 169, temperature: 143.2, energy: 0.3263892459615466\n",
      "step: 170, temperature: 142.26666666666665, energy: 0.3263892459615466\n",
      "step: 171, temperature: 141.33333333333331, energy: 0.3263892459615466\n",
      "step: 172, temperature: 140.4, energy: 0.3263892459615466\n",
      "step: 173, temperature: 139.46666666666667, energy: 0.3263892459615466\n",
      "step: 174, temperature: 138.53333333333333, energy: 0.3263892459615466\n",
      "step: 175, temperature: 137.6, energy: 0.3263892459615466\n",
      "step: 176, temperature: 136.66666666666669, energy: 0.3263892459615466\n",
      "step: 177, temperature: 135.73333333333335, energy: 0.3263892459615466\n",
      "step: 178, temperature: 134.8, energy: 0.3263892459615466\n",
      "step: 179, temperature: 133.86666666666667, energy: 0.3263892459615466\n",
      "step: 180, temperature: 132.93333333333334, energy: 0.3263892459615466\n",
      "step: 181, temperature: 132.0, energy: 0.3263892459615466\n",
      "step: 182, temperature: 131.06666666666666, energy: 0.3263892459615466\n",
      "step: 183, temperature: 130.13333333333333, energy: 0.3263892459615466\n",
      "step: 184, temperature: 129.2, energy: 0.3263892459615466\n",
      "step: 185, temperature: 128.26666666666665, energy: 0.3263892459615466\n",
      "step: 186, temperature: 127.33333333333333, energy: 0.3263892459615466\n",
      "step: 187, temperature: 126.4, energy: 0.3263892459615466\n",
      "step: 188, temperature: 125.46666666666667, energy: 0.3263892459615466\n",
      "step: 189, temperature: 124.53333333333333, energy: 0.3263892459615466\n",
      "step: 190, temperature: 123.6, energy: 0.3263892459615466\n",
      "step: 191, temperature: 122.66666666666667, energy: 0.3263892459615466\n",
      "step: 192, temperature: 121.73333333333333, energy: 0.3263892459615466\n",
      "step: 193, temperature: 120.8, energy: 0.3263892459615466\n",
      "step: 194, temperature: 119.86666666666666, energy: 0.3263892459615466\n",
      "step: 195, temperature: 118.93333333333334, energy: 0.3263892459615466\n",
      "step: 196, temperature: 118.0, energy: 0.3263892459615466\n",
      "step: 197, temperature: 117.06666666666666, energy: 0.3263892459615466\n",
      "step: 198, temperature: 116.13333333333334, energy: 0.3263892459615466\n",
      "step: 199, temperature: 115.2, energy: 0.3263892459615466\n",
      "step: 200, temperature: 114.26666666666667, energy: 0.3263892459615466\n",
      "step: 201, temperature: 113.33333333333333, energy: 0.3263892459615466\n",
      "step: 202, temperature: 112.4, energy: 0.3263892459615466\n",
      "step: 203, temperature: 111.46666666666667, energy: 0.3263892459615466\n",
      "step: 204, temperature: 110.53333333333333, energy: 0.3263892459615466\n",
      "step: 205, temperature: 109.6, energy: 0.3263892459615466\n",
      "step: 206, temperature: 108.66666666666667, energy: 0.3263892459615466\n",
      "step: 207, temperature: 107.73333333333333, energy: 0.3263892459615466\n",
      "step: 208, temperature: 106.8, energy: 0.3263892459615466\n",
      "step: 209, temperature: 105.86666666666666, energy: 0.3263892459615466\n",
      "step: 210, temperature: 104.93333333333334, energy: 0.3263892459615466\n",
      "step: 211, temperature: 104.0, energy: 0.3263892459615466\n",
      "step: 212, temperature: 103.06666666666666, energy: 0.3263892459615466\n",
      "step: 213, temperature: 102.13333333333334, energy: 0.3263892459615466\n",
      "step: 214, temperature: 101.2, energy: 0.3263892459615466\n",
      "step: 215, temperature: 100.26666666666667, energy: 0.3263892459615466\n",
      "step: 216, temperature: 99.33333333333333, energy: 0.3263892459615466\n",
      "step: 217, temperature: 98.4, energy: 0.3263892459615466\n",
      "step: 218, temperature: 97.46666666666667, energy: 0.3263892459615466\n",
      "step: 219, temperature: 96.53333333333333, energy: 0.3263892459615466\n",
      "step: 220, temperature: 95.6, energy: 0.3263892459615466\n",
      "step: 221, temperature: 94.66666666666667, energy: 0.3263892459615466\n",
      "step: 222, temperature: 93.73333333333333, energy: 0.3263892459615466\n",
      "step: 223, temperature: 92.8, energy: 0.3263892459615466\n",
      "step: 224, temperature: 91.86666666666666, energy: 0.3263892459615466\n",
      "step: 225, temperature: 90.93333333333334, energy: 0.3263892459615466\n",
      "step: 226, temperature: 90.0, energy: 0.3263892459615466\n",
      "step: 227, temperature: 89.06666666666666, energy: 0.3263892459615466\n",
      "step: 228, temperature: 88.13333333333334, energy: 0.3263892459615466\n",
      "step: 229, temperature: 87.2, energy: 0.3263892459615466\n",
      "step: 230, temperature: 86.26666666666667, energy: 0.3263892459615466\n",
      "step: 231, temperature: 85.33333333333333, energy: 0.3263892459615466\n",
      "step: 232, temperature: 84.4, energy: 0.3263892459615466\n",
      "step: 233, temperature: 83.46666666666667, energy: 0.3263892459615466\n",
      "step: 234, temperature: 82.53333333333333, energy: 0.3263892459615466\n",
      "step: 235, temperature: 81.6, energy: 0.3263892459615466\n",
      "step: 236, temperature: 80.66666666666666, energy: 0.3263892459615466\n",
      "step: 237, temperature: 79.73333333333333, energy: 0.3263892459615466\n",
      "step: 238, temperature: 78.8, energy: 0.3263892459615466\n",
      "step: 239, temperature: 77.86666666666667, energy: 0.3263892459615466\n",
      "step: 240, temperature: 76.93333333333334, energy: 0.3263892459615466\n",
      "step: 241, temperature: 76.0, energy: 0.3263892459615466\n",
      "step: 242, temperature: 75.06666666666666, energy: 0.3263892459615466\n",
      "step: 243, temperature: 74.13333333333333, energy: 0.3263892459615466\n",
      "step: 244, temperature: 73.2, energy: 0.3263892459615466\n",
      "step: 245, temperature: 72.26666666666667, energy: 0.3263892459615466\n",
      "step: 246, temperature: 71.33333333333334, energy: 0.3263892459615466\n",
      "step: 247, temperature: 70.4, energy: 0.3263892459615466\n",
      "step: 248, temperature: 69.46666666666667, energy: 0.3263892459615466\n",
      "step: 249, temperature: 68.53333333333333, energy: 0.3263892459615466\n",
      "step: 250, temperature: 67.6, energy: 0.3263892459615466\n",
      "step: 251, temperature: 66.66666666666666, energy: 0.3263892459615466\n",
      "step: 252, temperature: 65.73333333333333, energy: 0.3263892459615466\n",
      "step: 253, temperature: 64.8, energy: 0.3263892459615466\n",
      "step: 254, temperature: 63.86666666666667, energy: 0.3263892459615466\n",
      "step: 255, temperature: 62.93333333333333, energy: 0.3263892459615466\n",
      "step: 256, temperature: 62.0, energy: 0.3263892459615466\n",
      "step: 257, temperature: 61.06666666666667, energy: 0.3263892459615466\n",
      "step: 258, temperature: 60.13333333333333, energy: 0.3263892459615466\n",
      "step: 259, temperature: 59.2, energy: 0.3263892459615466\n",
      "step: 260, temperature: 58.266666666666666, energy: 0.3263892459615466\n",
      "step: 261, temperature: 57.333333333333336, energy: 0.3263892459615466\n",
      "step: 262, temperature: 56.4, energy: 0.3263892459615466\n",
      "step: 263, temperature: 55.46666666666667, energy: 0.3263892459615466\n",
      "step: 264, temperature: 54.53333333333333, energy: 0.3263892459615466\n",
      "step: 265, temperature: 53.6, energy: 0.3263892459615466\n",
      "step: 266, temperature: 52.666666666666664, energy: 0.3263892459615466\n",
      "step: 267, temperature: 51.733333333333334, energy: 0.3263892459615466\n",
      "step: 268, temperature: 50.8, energy: 0.3263892459615466\n",
      "step: 269, temperature: 49.86666666666667, energy: 0.3263892459615466\n",
      "step: 270, temperature: 48.93333333333334, energy: 0.3263892459615466\n",
      "step: 271, temperature: 48.0, energy: 0.3263892459615466\n",
      "step: 272, temperature: 47.06666666666666, energy: 0.3263892459615466\n",
      "step: 273, temperature: 46.13333333333333, energy: 0.3263892459615466\n",
      "step: 274, temperature: 45.2, energy: 0.3263892459615466\n",
      "step: 275, temperature: 44.266666666666666, energy: 0.3263892459615466\n",
      "step: 276, temperature: 43.33333333333333, energy: 0.3263892459615466\n",
      "step: 277, temperature: 42.4, energy: 0.3263892459615466\n",
      "step: 278, temperature: 41.46666666666667, energy: 0.3263892459615466\n",
      "step: 279, temperature: 40.53333333333333, energy: 0.3263892459615466\n",
      "step: 280, temperature: 39.6, energy: 0.3263892459615466\n",
      "step: 281, temperature: 38.66666666666667, energy: 0.3263892459615466\n",
      "step: 282, temperature: 37.733333333333334, energy: 0.3263892459615466\n",
      "step: 283, temperature: 36.8, energy: 0.3263892459615466\n",
      "step: 284, temperature: 35.86666666666667, energy: 0.3263892459615466\n",
      "step: 285, temperature: 34.93333333333334, energy: 0.3263892459615466\n",
      "step: 286, temperature: 34.0, energy: 0.3263892459615466\n",
      "step: 287, temperature: 33.06666666666666, energy: 0.3263892459615466\n",
      "step: 288, temperature: 32.13333333333333, energy: 0.3263892459615466\n",
      "step: 289, temperature: 31.2, energy: 0.3263892459615466\n",
      "step: 290, temperature: 30.266666666666666, energy: 0.3263892459615466\n",
      "step: 291, temperature: 29.333333333333336, energy: 0.3263892459615466\n",
      "step: 292, temperature: 28.4, energy: 0.3263892459615466\n",
      "step: 293, temperature: 27.46666666666667, energy: 0.3263892459615466\n",
      "step: 294, temperature: 26.53333333333333, energy: 0.3263892459615466\n",
      "step: 295, temperature: 25.6, energy: 0.3263892459615466\n",
      "step: 296, temperature: 24.666666666666668, energy: 0.3263892459615466\n",
      "step: 297, temperature: 23.733333333333334, energy: 0.3263892459615466\n",
      "step: 298, temperature: 22.8, energy: 0.3263892459615466\n",
      "step: 299, temperature: 21.866666666666667, energy: 0.3263892459615466\n",
      "step: 300, temperature: 20.933333333333334, energy: 0.3263892459615466\n",
      "SA result: \n",
      "{'x_best': array([16, 15, 14,  8,  7,  9,  6,  2,  1, 10, 11, 12, 13,  3,  4,  5]), 'e_best': 0.3263892459615466, 'temperature': 20.0, 'time': 301, 'hist': [(1, 0.36617669723088464, 300), (2, 0.36617669723088464, 299.06666666666666), (3, 0.36617669723088464, 298.1333333333333), (4, 0.36617669723088464, 297.2), (5, 0.36617669723088464, 296.26666666666665), (6, 0.36617669723088464, 295.3333333333333), (7, 0.36617669723088464, 294.4), (8, 0.36617669723088464, 293.46666666666664), (9, 0.36617669723088464, 292.53333333333336), (10, 0.36617669723088464, 291.6), (11, 0.36617669723088464, 290.6666666666667), (12, 0.36617669723088464, 289.73333333333335), (13, 0.36617669723088464, 288.8), (14, 0.36617669723088464, 287.8666666666667), (15, 0.36617669723088464, 286.93333333333334), (16, 0.36617669723088464, 286.0), (17, 0.36617669723088464, 285.06666666666666), (18, 0.36617669723088464, 284.1333333333333), (19, 0.36617669723088464, 283.2), (20, 0.36617669723088464, 282.26666666666665), (21, 0.36617669723088464, 281.3333333333333), (22, 0.36617669723088464, 280.4), (23, 0.36617669723088464, 279.46666666666664), (24, 0.36617669723088464, 278.53333333333336), (25, 0.36617669723088464, 277.6), (26, 0.36617669723088464, 276.6666666666667), (27, 0.36617669723088464, 275.73333333333335), (28, 0.36617669723088464, 274.8), (29, 0.36617669723088464, 273.8666666666667), (30, 0.36617669723088464, 272.93333333333334), (31, 0.36617669723088464, 272.0), (32, 0.36617669723088464, 271.06666666666666), (33, 0.36617669723088464, 270.1333333333333), (34, 0.3483749894575975, 269.2), (35, 0.3483749894575975, 268.26666666666665), (36, 0.3483749894575975, 267.33333333333337), (37, 0.3483749894575975, 266.4), (38, 0.3483749894575975, 265.4666666666667), (39, 0.3483749894575975, 264.5333333333333), (40, 0.3483749894575975, 263.6), (41, 0.3483749894575975, 262.66666666666663), (42, 0.3483749894575975, 261.73333333333335), (43, 0.3483749894575975, 260.8), (44, 0.3463311500351044, 259.8666666666667), (45, 0.3463311500351044, 258.93333333333334), (46, 0.3463311500351044, 258.0), (47, 0.3463311500351044, 257.06666666666666), (48, 0.3463311500351044, 256.1333333333333), (49, 0.3463311500351044, 255.2), (50, 0.3463311500351044, 254.26666666666668), (51, 0.3463311500351044, 253.33333333333334), (52, 0.3463311500351044, 252.4), (53, 0.3463311500351044, 251.46666666666667), (54, 0.3463311500351044, 250.53333333333333), (55, 0.344978095060691, 249.6), (56, 0.344978095060691, 248.66666666666666), (57, 0.344978095060691, 247.73333333333332), (58, 0.344978095060691, 246.8), (59, 0.344978095060691, 245.86666666666667), (60, 0.344978095060691, 244.93333333333334), (61, 0.344978095060691, 244.0), (62, 0.344978095060691, 243.06666666666666), (63, 0.344978095060691, 242.13333333333333), (64, 0.344978095060691, 241.2), (65, 0.344978095060691, 240.26666666666668), (66, 0.344978095060691, 239.33333333333334), (67, 0.344978095060691, 238.4), (68, 0.344978095060691, 237.46666666666667), (69, 0.344978095060691, 236.53333333333333), (70, 0.344978095060691, 235.6), (71, 0.344978095060691, 234.66666666666666), (72, 0.3277863686366126, 233.73333333333332), (73, 0.3277863686366126, 232.8), (74, 0.3277863686366126, 231.86666666666667), (75, 0.3277863686366126, 230.93333333333334), (76, 0.3277863686366126, 230.0), (77, 0.3277863686366126, 229.06666666666666), (78, 0.3263892459615466, 228.13333333333333), (79, 0.3263892459615466, 227.2), (80, 0.3263892459615466, 226.26666666666668), (81, 0.3263892459615466, 225.33333333333334), (82, 0.3263892459615466, 224.4), (83, 0.3263892459615466, 223.46666666666667), (84, 0.3263892459615466, 222.53333333333333), (85, 0.3263892459615466, 221.6), (86, 0.3263892459615466, 220.66666666666666), (87, 0.3263892459615466, 219.73333333333332), (88, 0.3263892459615466, 218.8), (89, 0.3263892459615466, 217.86666666666667), (90, 0.3263892459615466, 216.93333333333334), (91, 0.3263892459615466, 216.0), (92, 0.3263892459615466, 215.06666666666666), (93, 0.3263892459615466, 214.13333333333333), (94, 0.3263892459615466, 213.2), (95, 0.3263892459615466, 212.26666666666668), (96, 0.3263892459615466, 211.33333333333334), (97, 0.3263892459615466, 210.4), (98, 0.3263892459615466, 209.46666666666667), (99, 0.3263892459615466, 208.53333333333333), (100, 0.3263892459615466, 207.6), (101, 0.3263892459615466, 206.66666666666666), (102, 0.3263892459615466, 205.73333333333332), (103, 0.3263892459615466, 204.8), (104, 0.3263892459615466, 203.86666666666667), (105, 0.3263892459615466, 202.93333333333334), (106, 0.3263892459615466, 202.0), (107, 0.3263892459615466, 201.06666666666666), (108, 0.3263892459615466, 200.13333333333333), (109, 0.3263892459615466, 199.2), (110, 0.3263892459615466, 198.26666666666668), (111, 0.3263892459615466, 197.33333333333334), (112, 0.3263892459615466, 196.4), (113, 0.3263892459615466, 195.46666666666667), (114, 0.3263892459615466, 194.53333333333333), (115, 0.3263892459615466, 193.6), (116, 0.3263892459615466, 192.66666666666666), (117, 0.3263892459615466, 191.73333333333332), (118, 0.3263892459615466, 190.8), (119, 0.3263892459615466, 189.86666666666667), (120, 0.3263892459615466, 188.93333333333334), (121, 0.3263892459615466, 188.0), (122, 0.3263892459615466, 187.06666666666666), (123, 0.3263892459615466, 186.13333333333333), (124, 0.3263892459615466, 185.2), (125, 0.3263892459615466, 184.26666666666668), (126, 0.3263892459615466, 183.33333333333334), (127, 0.3263892459615466, 182.4), (128, 0.3263892459615466, 181.46666666666667), (129, 0.3263892459615466, 180.53333333333333), (130, 0.3263892459615466, 179.6), (131, 0.3263892459615466, 178.66666666666666), (132, 0.3263892459615466, 177.73333333333332), (133, 0.3263892459615466, 176.8), (134, 0.3263892459615466, 175.86666666666667), (135, 0.3263892459615466, 174.93333333333334), (136, 0.3263892459615466, 174.0), (137, 0.3263892459615466, 173.06666666666666), (138, 0.3263892459615466, 172.13333333333333), (139, 0.3263892459615466, 171.2), (140, 0.3263892459615466, 170.26666666666668), (141, 0.3263892459615466, 169.33333333333334), (142, 0.3263892459615466, 168.4), (143, 0.3263892459615466, 167.46666666666667), (144, 0.3263892459615466, 166.53333333333333), (145, 0.3263892459615466, 165.6), (146, 0.3263892459615466, 164.66666666666666), (147, 0.3263892459615466, 163.73333333333332), (148, 0.3263892459615466, 162.8), (149, 0.3263892459615466, 161.86666666666667), (150, 0.3263892459615466, 160.93333333333334), (151, 0.3263892459615466, 160.0), (152, 0.3263892459615466, 159.06666666666666), (153, 0.3263892459615466, 158.13333333333333), (154, 0.3263892459615466, 157.2), (155, 0.3263892459615466, 156.26666666666668), (156, 0.3263892459615466, 155.33333333333334), (157, 0.3263892459615466, 154.4), (158, 0.3263892459615466, 153.46666666666667), (159, 0.3263892459615466, 152.53333333333333), (160, 0.3263892459615466, 151.6), (161, 0.3263892459615466, 150.66666666666666), (162, 0.3263892459615466, 149.73333333333332), (163, 0.3263892459615466, 148.8), (164, 0.3263892459615466, 147.86666666666667), (165, 0.3263892459615466, 146.93333333333334), (166, 0.3263892459615466, 146.0), (167, 0.3263892459615466, 145.06666666666666), (168, 0.3263892459615466, 144.13333333333333), (169, 0.3263892459615466, 143.2), (170, 0.3263892459615466, 142.26666666666665), (171, 0.3263892459615466, 141.33333333333331), (172, 0.3263892459615466, 140.4), (173, 0.3263892459615466, 139.46666666666667), (174, 0.3263892459615466, 138.53333333333333), (175, 0.3263892459615466, 137.6), (176, 0.3263892459615466, 136.66666666666669), (177, 0.3263892459615466, 135.73333333333335), (178, 0.3263892459615466, 134.8), (179, 0.3263892459615466, 133.86666666666667), (180, 0.3263892459615466, 132.93333333333334), (181, 0.3263892459615466, 132.0), (182, 0.3263892459615466, 131.06666666666666), (183, 0.3263892459615466, 130.13333333333333), (184, 0.3263892459615466, 129.2), (185, 0.3263892459615466, 128.26666666666665), (186, 0.3263892459615466, 127.33333333333333), (187, 0.3263892459615466, 126.4), (188, 0.3263892459615466, 125.46666666666667), (189, 0.3263892459615466, 124.53333333333333), (190, 0.3263892459615466, 123.6), (191, 0.3263892459615466, 122.66666666666667), (192, 0.3263892459615466, 121.73333333333333), (193, 0.3263892459615466, 120.8), (194, 0.3263892459615466, 119.86666666666666), (195, 0.3263892459615466, 118.93333333333334), (196, 0.3263892459615466, 118.0), (197, 0.3263892459615466, 117.06666666666666), (198, 0.3263892459615466, 116.13333333333334), (199, 0.3263892459615466, 115.2), (200, 0.3263892459615466, 114.26666666666667), (201, 0.3263892459615466, 113.33333333333333), (202, 0.3263892459615466, 112.4), (203, 0.3263892459615466, 111.46666666666667), (204, 0.3263892459615466, 110.53333333333333), (205, 0.3263892459615466, 109.6), (206, 0.3263892459615466, 108.66666666666667), (207, 0.3263892459615466, 107.73333333333333), (208, 0.3263892459615466, 106.8), (209, 0.3263892459615466, 105.86666666666666), (210, 0.3263892459615466, 104.93333333333334), (211, 0.3263892459615466, 104.0), (212, 0.3263892459615466, 103.06666666666666), (213, 0.3263892459615466, 102.13333333333334), (214, 0.3263892459615466, 101.2), (215, 0.3263892459615466, 100.26666666666667), (216, 0.3263892459615466, 99.33333333333333), (217, 0.3263892459615466, 98.4), (218, 0.3263892459615466, 97.46666666666667), (219, 0.3263892459615466, 96.53333333333333), (220, 0.3263892459615466, 95.6), (221, 0.3263892459615466, 94.66666666666667), (222, 0.3263892459615466, 93.73333333333333), (223, 0.3263892459615466, 92.8), (224, 0.3263892459615466, 91.86666666666666), (225, 0.3263892459615466, 90.93333333333334), (226, 0.3263892459615466, 90.0), (227, 0.3263892459615466, 89.06666666666666), (228, 0.3263892459615466, 88.13333333333334), (229, 0.3263892459615466, 87.2), (230, 0.3263892459615466, 86.26666666666667), (231, 0.3263892459615466, 85.33333333333333), (232, 0.3263892459615466, 84.4), (233, 0.3263892459615466, 83.46666666666667), (234, 0.3263892459615466, 82.53333333333333), (235, 0.3263892459615466, 81.6), (236, 0.3263892459615466, 80.66666666666666), (237, 0.3263892459615466, 79.73333333333333), (238, 0.3263892459615466, 78.8), (239, 0.3263892459615466, 77.86666666666667), (240, 0.3263892459615466, 76.93333333333334), (241, 0.3263892459615466, 76.0), (242, 0.3263892459615466, 75.06666666666666), (243, 0.3263892459615466, 74.13333333333333), (244, 0.3263892459615466, 73.2), (245, 0.3263892459615466, 72.26666666666667), (246, 0.3263892459615466, 71.33333333333334), (247, 0.3263892459615466, 70.4), (248, 0.3263892459615466, 69.46666666666667), (249, 0.3263892459615466, 68.53333333333333), (250, 0.3263892459615466, 67.6), (251, 0.3263892459615466, 66.66666666666666), (252, 0.3263892459615466, 65.73333333333333), (253, 0.3263892459615466, 64.8), (254, 0.3263892459615466, 63.86666666666667), (255, 0.3263892459615466, 62.93333333333333), (256, 0.3263892459615466, 62.0), (257, 0.3263892459615466, 61.06666666666667), (258, 0.3263892459615466, 60.13333333333333), (259, 0.3263892459615466, 59.2), (260, 0.3263892459615466, 58.266666666666666), (261, 0.3263892459615466, 57.333333333333336), (262, 0.3263892459615466, 56.4), (263, 0.3263892459615466, 55.46666666666667), (264, 0.3263892459615466, 54.53333333333333), (265, 0.3263892459615466, 53.6), (266, 0.3263892459615466, 52.666666666666664), (267, 0.3263892459615466, 51.733333333333334), (268, 0.3263892459615466, 50.8), (269, 0.3263892459615466, 49.86666666666667), (270, 0.3263892459615466, 48.93333333333334), (271, 0.3263892459615466, 48.0), (272, 0.3263892459615466, 47.06666666666666), (273, 0.3263892459615466, 46.13333333333333), (274, 0.3263892459615466, 45.2), (275, 0.3263892459615466, 44.266666666666666), (276, 0.3263892459615466, 43.33333333333333), (277, 0.3263892459615466, 42.4), (278, 0.3263892459615466, 41.46666666666667), (279, 0.3263892459615466, 40.53333333333333), (280, 0.3263892459615466, 39.6), (281, 0.3263892459615466, 38.66666666666667), (282, 0.3263892459615466, 37.733333333333334), (283, 0.3263892459615466, 36.8), (284, 0.3263892459615466, 35.86666666666667), (285, 0.3263892459615466, 34.93333333333334), (286, 0.3263892459615466, 34.0), (287, 0.3263892459615466, 33.06666666666666), (288, 0.3263892459615466, 32.13333333333333), (289, 0.3263892459615466, 31.2), (290, 0.3263892459615466, 30.266666666666666), (291, 0.3263892459615466, 29.333333333333336), (292, 0.3263892459615466, 28.4), (293, 0.3263892459615466, 27.46666666666667), (294, 0.3263892459615466, 26.53333333333333), (295, 0.3263892459615466, 25.6), (296, 0.3263892459615466, 24.666666666666668), (297, 0.3263892459615466, 23.733333333333334), (298, 0.3263892459615466, 22.8), (299, 0.3263892459615466, 21.866666666666667), (300, 0.3263892459615466, 20.933333333333334)]}\n",
      "Tiempo de ejecución: 12.300846576690674 segundos\n"
     ]
    }
   ],
   "source": [
    "\n",
    "start_time = time.time()\n",
    "Tmax = 300 \n",
    "Tmin = 20\n",
    "StepMax = 300\n",
    "information = model.vegsa(\n",
    "    x0= x0,\n",
    "    PopSize= 100,\n",
    "    ElitePopSize= 10,\n",
    "    subPopSize=20,\n",
    "    MaxGenerations= 100,\n",
    "    localOptimumTime= 10,\n",
    "    StepMax= StepMax,\n",
    "    Tmin= Tmin,\n",
    "    Tmax= Tmax,\n",
    "    SAlocalEntropyTime= 10,\n",
    "    cooling_operator= linear_additive_cooling(t_max=Tmax, t_min=Tmin, alpha=0.9, step_max=StepMax)\n",
    ")\n",
    "elapsed_time = time.time() - start_time\n",
    "print(\"Tiempo de ejecución:\", elapsed_time, \"segundos\")"
   ]
  },
  {
   "cell_type": "code",
   "execution_count": 28,
   "metadata": {},
   "outputs": [
    {
     "name": "stdout",
     "output_type": "stream",
     "text": [
      "[16 15 14  8  7  9  6  2  1 10 11 12 13  3  4  5]\n",
      "0.3263892459615466\n",
      "20.0\n",
      "301\n"
     ]
    }
   ],
   "source": [
    "print(information['x_best'])\n",
    "print(information['e_best'])\n",
    "print(information['temperature'])\n",
    "print(information['time'])"
   ]
  },
  {
   "cell_type": "code",
   "execution_count": 29,
   "metadata": {},
   "outputs": [
    {
     "data": {
      "text/html": [
       "<div>\n",
       "<style scoped>\n",
       "    .dataframe tbody tr th:only-of-type {\n",
       "        vertical-align: middle;\n",
       "    }\n",
       "\n",
       "    .dataframe tbody tr th {\n",
       "        vertical-align: top;\n",
       "    }\n",
       "\n",
       "    .dataframe thead th {\n",
       "        text-align: right;\n",
       "    }\n",
       "</style>\n",
       "<table border=\"1\" class=\"dataframe\">\n",
       "  <thead>\n",
       "    <tr style=\"text-align: right;\">\n",
       "      <th></th>\n",
       "      <th>Vehiculo</th>\n",
       "      <th>Nodoi-1</th>\n",
       "      <th>Nodoi</th>\n",
       "      <th>Distancia</th>\n",
       "      <th>TiempoArco</th>\n",
       "      <th>TW_A</th>\n",
       "      <th>TW_B</th>\n",
       "      <th>Tanque</th>\n",
       "      <th>CO2</th>\n",
       "    </tr>\n",
       "  </thead>\n",
       "  <tbody>\n",
       "    <tr>\n",
       "      <th>0</th>\n",
       "      <td>0</td>\n",
       "      <td>0</td>\n",
       "      <td>16</td>\n",
       "      <td>0.674326</td>\n",
       "      <td>0.016858</td>\n",
       "      <td>5</td>\n",
       "      <td>9</td>\n",
       "      <td>0.981258</td>\n",
       "      <td>0.018742</td>\n",
       "    </tr>\n",
       "    <tr>\n",
       "      <th>1</th>\n",
       "      <td>0</td>\n",
       "      <td>16</td>\n",
       "      <td>15</td>\n",
       "      <td>0.097133</td>\n",
       "      <td>0.002428</td>\n",
       "      <td>10</td>\n",
       "      <td>14</td>\n",
       "      <td>0.978558</td>\n",
       "      <td>0.002700</td>\n",
       "    </tr>\n",
       "    <tr>\n",
       "      <th>2</th>\n",
       "      <td>0</td>\n",
       "      <td>15</td>\n",
       "      <td>14</td>\n",
       "      <td>0.130135</td>\n",
       "      <td>0.003253</td>\n",
       "      <td>11</td>\n",
       "      <td>14</td>\n",
       "      <td>0.974941</td>\n",
       "      <td>0.003617</td>\n",
       "    </tr>\n",
       "    <tr>\n",
       "      <th>3</th>\n",
       "      <td>0</td>\n",
       "      <td>14</td>\n",
       "      <td>0</td>\n",
       "      <td>0.552004</td>\n",
       "      <td>0.013800</td>\n",
       "      <td>4</td>\n",
       "      <td>20</td>\n",
       "      <td>0.959599</td>\n",
       "      <td>0.015342</td>\n",
       "    </tr>\n",
       "    <tr>\n",
       "      <th>4</th>\n",
       "      <td>1</td>\n",
       "      <td>0</td>\n",
       "      <td>8</td>\n",
       "      <td>0.373773</td>\n",
       "      <td>0.009344</td>\n",
       "      <td>7</td>\n",
       "      <td>11</td>\n",
       "      <td>0.989611</td>\n",
       "      <td>0.010389</td>\n",
       "    </tr>\n",
       "    <tr>\n",
       "      <th>5</th>\n",
       "      <td>1</td>\n",
       "      <td>8</td>\n",
       "      <td>7</td>\n",
       "      <td>0.137318</td>\n",
       "      <td>0.003433</td>\n",
       "      <td>6</td>\n",
       "      <td>10</td>\n",
       "      <td>0.985795</td>\n",
       "      <td>0.003817</td>\n",
       "    </tr>\n",
       "    <tr>\n",
       "      <th>6</th>\n",
       "      <td>1</td>\n",
       "      <td>7</td>\n",
       "      <td>9</td>\n",
       "      <td>0.086756</td>\n",
       "      <td>0.002169</td>\n",
       "      <td>8</td>\n",
       "      <td>9</td>\n",
       "      <td>0.983383</td>\n",
       "      <td>0.002411</td>\n",
       "    </tr>\n",
       "    <tr>\n",
       "      <th>7</th>\n",
       "      <td>1</td>\n",
       "      <td>9</td>\n",
       "      <td>6</td>\n",
       "      <td>0.246871</td>\n",
       "      <td>0.006172</td>\n",
       "      <td>6</td>\n",
       "      <td>12</td>\n",
       "      <td>0.976522</td>\n",
       "      <td>0.006862</td>\n",
       "    </tr>\n",
       "    <tr>\n",
       "      <th>8</th>\n",
       "      <td>1</td>\n",
       "      <td>6</td>\n",
       "      <td>2</td>\n",
       "      <td>0.205543</td>\n",
       "      <td>0.005139</td>\n",
       "      <td>8</td>\n",
       "      <td>12</td>\n",
       "      <td>0.970809</td>\n",
       "      <td>0.005713</td>\n",
       "    </tr>\n",
       "    <tr>\n",
       "      <th>9</th>\n",
       "      <td>1</td>\n",
       "      <td>2</td>\n",
       "      <td>1</td>\n",
       "      <td>0.126664</td>\n",
       "      <td>0.003167</td>\n",
       "      <td>7</td>\n",
       "      <td>12</td>\n",
       "      <td>0.967288</td>\n",
       "      <td>0.003521</td>\n",
       "    </tr>\n",
       "    <tr>\n",
       "      <th>10</th>\n",
       "      <td>1</td>\n",
       "      <td>1</td>\n",
       "      <td>10</td>\n",
       "      <td>0.429764</td>\n",
       "      <td>0.010744</td>\n",
       "      <td>11</td>\n",
       "      <td>13</td>\n",
       "      <td>0.955344</td>\n",
       "      <td>0.011945</td>\n",
       "    </tr>\n",
       "    <tr>\n",
       "      <th>11</th>\n",
       "      <td>1</td>\n",
       "      <td>10</td>\n",
       "      <td>11</td>\n",
       "      <td>0.196479</td>\n",
       "      <td>0.004912</td>\n",
       "      <td>12</td>\n",
       "      <td>24</td>\n",
       "      <td>0.949883</td>\n",
       "      <td>0.005461</td>\n",
       "    </tr>\n",
       "    <tr>\n",
       "      <th>12</th>\n",
       "      <td>1</td>\n",
       "      <td>11</td>\n",
       "      <td>12</td>\n",
       "      <td>0.290580</td>\n",
       "      <td>0.007265</td>\n",
       "      <td>13</td>\n",
       "      <td>16</td>\n",
       "      <td>0.941806</td>\n",
       "      <td>0.008076</td>\n",
       "    </tr>\n",
       "    <tr>\n",
       "      <th>13</th>\n",
       "      <td>1</td>\n",
       "      <td>12</td>\n",
       "      <td>13</td>\n",
       "      <td>0.110519</td>\n",
       "      <td>0.002763</td>\n",
       "      <td>16</td>\n",
       "      <td>20</td>\n",
       "      <td>0.938734</td>\n",
       "      <td>0.003072</td>\n",
       "    </tr>\n",
       "    <tr>\n",
       "      <th>14</th>\n",
       "      <td>1</td>\n",
       "      <td>13</td>\n",
       "      <td>0</td>\n",
       "      <td>0.435795</td>\n",
       "      <td>0.010895</td>\n",
       "      <td>4</td>\n",
       "      <td>20</td>\n",
       "      <td>0.926622</td>\n",
       "      <td>0.012113</td>\n",
       "    </tr>\n",
       "    <tr>\n",
       "      <th>15</th>\n",
       "      <td>2</td>\n",
       "      <td>0</td>\n",
       "      <td>3</td>\n",
       "      <td>0.477160</td>\n",
       "      <td>0.011929</td>\n",
       "      <td>10</td>\n",
       "      <td>12</td>\n",
       "      <td>0.986738</td>\n",
       "      <td>0.013262</td>\n",
       "    </tr>\n",
       "    <tr>\n",
       "      <th>16</th>\n",
       "      <td>2</td>\n",
       "      <td>3</td>\n",
       "      <td>4</td>\n",
       "      <td>0.205543</td>\n",
       "      <td>0.005139</td>\n",
       "      <td>12</td>\n",
       "      <td>14</td>\n",
       "      <td>0.981025</td>\n",
       "      <td>0.005713</td>\n",
       "    </tr>\n",
       "    <tr>\n",
       "      <th>17</th>\n",
       "      <td>2</td>\n",
       "      <td>4</td>\n",
       "      <td>5</td>\n",
       "      <td>0.165389</td>\n",
       "      <td>0.004135</td>\n",
       "      <td>15</td>\n",
       "      <td>24</td>\n",
       "      <td>0.976428</td>\n",
       "      <td>0.004597</td>\n",
       "    </tr>\n",
       "    <tr>\n",
       "      <th>18</th>\n",
       "      <td>2</td>\n",
       "      <td>5</td>\n",
       "      <td>0</td>\n",
       "      <td>0.705696</td>\n",
       "      <td>0.017642</td>\n",
       "      <td>4</td>\n",
       "      <td>20</td>\n",
       "      <td>0.956814</td>\n",
       "      <td>0.019614</td>\n",
       "    </tr>\n",
       "  </tbody>\n",
       "</table>\n",
       "</div>"
      ],
      "text/plain": [
       "    Vehiculo  Nodoi-1  Nodoi  Distancia  TiempoArco  TW_A  TW_B    Tanque  \\\n",
       "0          0        0     16   0.674326    0.016858     5     9  0.981258   \n",
       "1          0       16     15   0.097133    0.002428    10    14  0.978558   \n",
       "2          0       15     14   0.130135    0.003253    11    14  0.974941   \n",
       "3          0       14      0   0.552004    0.013800     4    20  0.959599   \n",
       "4          1        0      8   0.373773    0.009344     7    11  0.989611   \n",
       "5          1        8      7   0.137318    0.003433     6    10  0.985795   \n",
       "6          1        7      9   0.086756    0.002169     8     9  0.983383   \n",
       "7          1        9      6   0.246871    0.006172     6    12  0.976522   \n",
       "8          1        6      2   0.205543    0.005139     8    12  0.970809   \n",
       "9          1        2      1   0.126664    0.003167     7    12  0.967288   \n",
       "10         1        1     10   0.429764    0.010744    11    13  0.955344   \n",
       "11         1       10     11   0.196479    0.004912    12    24  0.949883   \n",
       "12         1       11     12   0.290580    0.007265    13    16  0.941806   \n",
       "13         1       12     13   0.110519    0.002763    16    20  0.938734   \n",
       "14         1       13      0   0.435795    0.010895     4    20  0.926622   \n",
       "15         2        0      3   0.477160    0.011929    10    12  0.986738   \n",
       "16         2        3      4   0.205543    0.005139    12    14  0.981025   \n",
       "17         2        4      5   0.165389    0.004135    15    24  0.976428   \n",
       "18         2        5      0   0.705696    0.017642     4    20  0.956814   \n",
       "\n",
       "         CO2  \n",
       "0   0.018742  \n",
       "1   0.002700  \n",
       "2   0.003617  \n",
       "3   0.015342  \n",
       "4   0.010389  \n",
       "5   0.003817  \n",
       "6   0.002411  \n",
       "7   0.006862  \n",
       "8   0.005713  \n",
       "9   0.003521  \n",
       "10  0.011945  \n",
       "11  0.005461  \n",
       "12  0.008076  \n",
       "13  0.003072  \n",
       "14  0.012113  \n",
       "15  0.013262  \n",
       "16  0.005713  \n",
       "17  0.004597  \n",
       "18  0.019614  "
      ]
     },
     "execution_count": 29,
     "metadata": {},
     "output_type": "execute_result"
    }
   ],
   "source": [
    "optimal_route3, df_summary3 = model.decoding(information['x_best'], summary=True)\n",
    "df_summary3"
   ]
  },
  {
   "cell_type": "code",
   "execution_count": 49,
   "metadata": {},
   "outputs": [
    {
     "data": {
      "image/png": "[encoded data removed]",
      "text/plain": [
       "<Figure size 1000x800 with 1 Axes>"
      ]
     },
     "metadata": {},
     "output_type": "display_data"
    }
   ],
   "source": [
    "draw_graph(optimal_route3)"
   ]
  }
 ],
 "metadata": {
  "kernelspec": {
   "display_name": "Python 3",
   "language": "python",
   "name": "python3"
  },
  "language_info": {
   "codemirror_mode": {
    "name": "ipython",
    "version": 3
   },
   "file_extension": ".py",
   "mimetype": "text/x-python",
   "name": "python",
   "nbconvert_exporter": "python",
   "pygments_lexer": "ipython3",
   "version": "3.12.1"
  }
 },
 "nbformat": 4,
 "nbformat_minor": 2
}
