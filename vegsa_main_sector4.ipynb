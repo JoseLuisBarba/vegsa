{
 "cells": [
  {
   "cell_type": "code",
   "execution_count": 1,
   "metadata": {},
   "outputs": [],
   "source": [
    "from models.model3 import linear_multiplicative_cooling, linear_additive_cooling, logarithmic_multiplicative_cooling\n",
    "from models.model3 import BaseModel\n",
    "from src.variables import sector, K, demands, coords, T, EM,a , b, service_time, N, Q_MAX\n",
    "from src.graph import draw_graph\n",
    "import time\n",
    "import numpy as np"
   ]
  },
  {
   "cell_type": "code",
   "execution_count": 2,
   "metadata": {},
   "outputs": [
    {
     "data": {
      "text/html": [
       "<div>\n",
       "<style scoped>\n",
       "    .dataframe tbody tr th:only-of-type {\n",
       "        vertical-align: middle;\n",
       "    }\n",
       "\n",
       "    .dataframe tbody tr th {\n",
       "        vertical-align: top;\n",
       "    }\n",
       "\n",
       "    .dataframe thead th {\n",
       "        text-align: right;\n",
       "    }\n",
       "</style>\n",
       "<table border=\"1\" class=\"dataframe\">\n",
       "  <thead>\n",
       "    <tr style=\"text-align: right;\">\n",
       "      <th></th>\n",
       "      <th>Punto de colecta</th>\n",
       "      <th>Latitud</th>\n",
       "      <th>Longitud</th>\n",
       "      <th>X_Longitude</th>\n",
       "      <th>Y_Latitude</th>\n",
       "      <th>UTM_X</th>\n",
       "      <th>UTM_Y</th>\n",
       "      <th>X</th>\n",
       "      <th>Y</th>\n",
       "      <th>demanda</th>\n",
       "      <th>service_time</th>\n",
       "      <th>a</th>\n",
       "      <th>b</th>\n",
       "    </tr>\n",
       "  </thead>\n",
       "  <tbody>\n",
       "    <tr>\n",
       "      <th>0</th>\n",
       "      <td>d1</td>\n",
       "      <td>8°06'16\"S</td>\n",
       "      <td>79°02'12\"W</td>\n",
       "      <td>8.104444</td>\n",
       "      <td>79.036667</td>\n",
       "      <td>716343.248686</td>\n",
       "      <td>9.103633e+06</td>\n",
       "      <td>716.343249</td>\n",
       "      <td>9103.632911</td>\n",
       "      <td>0</td>\n",
       "      <td>0.5</td>\n",
       "      <td>4</td>\n",
       "      <td>15</td>\n",
       "    </tr>\n",
       "    <tr>\n",
       "      <th>1</th>\n",
       "      <td>pc151</td>\n",
       "      <td>8°06'05\"S</td>\n",
       "      <td>79°02'28\"W</td>\n",
       "      <td>8.101389</td>\n",
       "      <td>79.041111</td>\n",
       "      <td>715854.951993</td>\n",
       "      <td>9.103973e+06</td>\n",
       "      <td>715.854952</td>\n",
       "      <td>9103.973265</td>\n",
       "      <td>1</td>\n",
       "      <td>0.5</td>\n",
       "      <td>7</td>\n",
       "      <td>12</td>\n",
       "    </tr>\n",
       "    <tr>\n",
       "      <th>2</th>\n",
       "      <td>pc152</td>\n",
       "      <td>8°06'06\"S</td>\n",
       "      <td>79°02'20\"W</td>\n",
       "      <td>8.101667</td>\n",
       "      <td>79.038889</td>\n",
       "      <td>716099.768471</td>\n",
       "      <td>9.103941e+06</td>\n",
       "      <td>716.099768</td>\n",
       "      <td>9103.941357</td>\n",
       "      <td>2</td>\n",
       "      <td>0.5</td>\n",
       "      <td>8</td>\n",
       "      <td>12</td>\n",
       "    </tr>\n",
       "    <tr>\n",
       "      <th>3</th>\n",
       "      <td>pc153</td>\n",
       "      <td>8°06'03\"S</td>\n",
       "      <td>79°02'23\"W</td>\n",
       "      <td>8.100833</td>\n",
       "      <td>79.039722</td>\n",
       "      <td>716008.351328</td>\n",
       "      <td>9.104034e+06</td>\n",
       "      <td>716.008351</td>\n",
       "      <td>9104.033979</td>\n",
       "      <td>2</td>\n",
       "      <td>0.5</td>\n",
       "      <td>10</td>\n",
       "      <td>14</td>\n",
       "    </tr>\n",
       "    <tr>\n",
       "      <th>4</th>\n",
       "      <td>pc154</td>\n",
       "      <td>8°05'56\"S</td>\n",
       "      <td>79°02'23\"W</td>\n",
       "      <td>8.098889</td>\n",
       "      <td>79.039722</td>\n",
       "      <td>716009.388578</td>\n",
       "      <td>9.104249e+06</td>\n",
       "      <td>716.009389</td>\n",
       "      <td>9104.249063</td>\n",
       "      <td>1</td>\n",
       "      <td>0.5</td>\n",
       "      <td>11</td>\n",
       "      <td>14</td>\n",
       "    </tr>\n",
       "    <tr>\n",
       "      <th>...</th>\n",
       "      <td>...</td>\n",
       "      <td>...</td>\n",
       "      <td>...</td>\n",
       "      <td>...</td>\n",
       "      <td>...</td>\n",
       "      <td>...</td>\n",
       "      <td>...</td>\n",
       "      <td>...</td>\n",
       "      <td>...</td>\n",
       "      <td>...</td>\n",
       "      <td>...</td>\n",
       "      <td>...</td>\n",
       "      <td>...</td>\n",
       "    </tr>\n",
       "    <tr>\n",
       "      <th>77</th>\n",
       "      <td>pc227</td>\n",
       "      <td>8°05'42\"S</td>\n",
       "      <td>79°01'59\"W</td>\n",
       "      <td>8.095000</td>\n",
       "      <td>79.033056</td>\n",
       "      <td>716746.369731</td>\n",
       "      <td>9.104676e+06</td>\n",
       "      <td>716.746370</td>\n",
       "      <td>9104.675683</td>\n",
       "      <td>1</td>\n",
       "      <td>0.5</td>\n",
       "      <td>8</td>\n",
       "      <td>12</td>\n",
       "    </tr>\n",
       "    <tr>\n",
       "      <th>78</th>\n",
       "      <td>pc228</td>\n",
       "      <td>8°05'38\"S</td>\n",
       "      <td>79°02'09\"W</td>\n",
       "      <td>8.093889</td>\n",
       "      <td>79.035833</td>\n",
       "      <td>716440.751469</td>\n",
       "      <td>9.104800e+06</td>\n",
       "      <td>716.440751</td>\n",
       "      <td>9104.800069</td>\n",
       "      <td>1</td>\n",
       "      <td>0.5</td>\n",
       "      <td>5</td>\n",
       "      <td>12</td>\n",
       "    </tr>\n",
       "    <tr>\n",
       "      <th>79</th>\n",
       "      <td>pc229</td>\n",
       "      <td>8°05'35\"S</td>\n",
       "      <td>79°02'05\"W</td>\n",
       "      <td>8.093056</td>\n",
       "      <td>79.034722</td>\n",
       "      <td>716563.681773</td>\n",
       "      <td>9.104892e+06</td>\n",
       "      <td>716.563682</td>\n",
       "      <td>9104.891656</td>\n",
       "      <td>1</td>\n",
       "      <td>0.5</td>\n",
       "      <td>9</td>\n",
       "      <td>10</td>\n",
       "    </tr>\n",
       "    <tr>\n",
       "      <th>80</th>\n",
       "      <td>pc230</td>\n",
       "      <td>8°05'34\"S</td>\n",
       "      <td>79°02'06\"W</td>\n",
       "      <td>8.092778</td>\n",
       "      <td>79.035000</td>\n",
       "      <td>716533.208867</td>\n",
       "      <td>9.104923e+06</td>\n",
       "      <td>716.533209</td>\n",
       "      <td>9104.922530</td>\n",
       "      <td>1</td>\n",
       "      <td>0.5</td>\n",
       "      <td>10</td>\n",
       "      <td>13</td>\n",
       "    </tr>\n",
       "    <tr>\n",
       "      <th>81</th>\n",
       "      <td>d1</td>\n",
       "      <td>8°06'16\"S</td>\n",
       "      <td>79°02'12\"W</td>\n",
       "      <td>8.104444</td>\n",
       "      <td>79.036667</td>\n",
       "      <td>716343.248686</td>\n",
       "      <td>9.103633e+06</td>\n",
       "      <td>716.343249</td>\n",
       "      <td>9103.632911</td>\n",
       "      <td>0</td>\n",
       "      <td>0.5</td>\n",
       "      <td>4</td>\n",
       "      <td>15</td>\n",
       "    </tr>\n",
       "  </tbody>\n",
       "</table>\n",
       "<p>82 rows × 13 columns</p>\n",
       "</div>"
      ],
      "text/plain": [
       "   Punto de colecta     Latitud    Longitud  X_Longitude  Y_Latitude  \\\n",
       "0                d1  8°06'16\"S   79°02'12\"W     8.104444   79.036667   \n",
       "1             pc151  8°06'05\"S   79°02'28\"W     8.101389   79.041111   \n",
       "2             pc152  8°06'06\"S   79°02'20\"W     8.101667   79.038889   \n",
       "3             pc153  8°06'03\"S   79°02'23\"W     8.100833   79.039722   \n",
       "4             pc154  8°05'56\"S   79°02'23\"W     8.098889   79.039722   \n",
       "..              ...         ...         ...          ...         ...   \n",
       "77            pc227  8°05'42\"S   79°01'59\"W     8.095000   79.033056   \n",
       "78            pc228  8°05'38\"S   79°02'09\"W     8.093889   79.035833   \n",
       "79            pc229  8°05'35\"S   79°02'05\"W     8.093056   79.034722   \n",
       "80            pc230  8°05'34\"S   79°02'06\"W     8.092778   79.035000   \n",
       "81               d1  8°06'16\"S   79°02'12\"W     8.104444   79.036667   \n",
       "\n",
       "            UTM_X         UTM_Y           X            Y  demanda  \\\n",
       "0   716343.248686  9.103633e+06  716.343249  9103.632911        0   \n",
       "1   715854.951993  9.103973e+06  715.854952  9103.973265        1   \n",
       "2   716099.768471  9.103941e+06  716.099768  9103.941357        2   \n",
       "3   716008.351328  9.104034e+06  716.008351  9104.033979        2   \n",
       "4   716009.388578  9.104249e+06  716.009389  9104.249063        1   \n",
       "..            ...           ...         ...          ...      ...   \n",
       "77  716746.369731  9.104676e+06  716.746370  9104.675683        1   \n",
       "78  716440.751469  9.104800e+06  716.440751  9104.800069        1   \n",
       "79  716563.681773  9.104892e+06  716.563682  9104.891656        1   \n",
       "80  716533.208867  9.104923e+06  716.533209  9104.922530        1   \n",
       "81  716343.248686  9.103633e+06  716.343249  9103.632911        0   \n",
       "\n",
       "    service_time   a   b  \n",
       "0            0.5   4  15  \n",
       "1            0.5   7  12  \n",
       "2            0.5   8  12  \n",
       "3            0.5  10  14  \n",
       "4            0.5  11  14  \n",
       "..           ...  ..  ..  \n",
       "77           0.5   8  12  \n",
       "78           0.5   5  12  \n",
       "79           0.5   9  10  \n",
       "80           0.5  10  13  \n",
       "81           0.5   4  15  \n",
       "\n",
       "[82 rows x 13 columns]"
      ]
     },
     "execution_count": 2,
     "metadata": {},
     "output_type": "execute_result"
    }
   ],
   "source": [
    "sector"
   ]
  },
  {
   "cell_type": "code",
   "execution_count": 3,
   "metadata": {},
   "outputs": [
    {
     "data": {
      "text/plain": [
       "array([0, 1, 2, 3, 4, 5, 6])"
      ]
     },
     "execution_count": 3,
     "metadata": {},
     "output_type": "execute_result"
    }
   ],
   "source": [
    "K"
   ]
  },
  {
   "cell_type": "code",
   "execution_count": 4,
   "metadata": {},
   "outputs": [
    {
     "name": "stdout",
     "output_type": "stream",
     "text": [
      "created\n"
     ]
    }
   ],
   "source": [
    "model = BaseModel()"
   ]
  },
  {
   "cell_type": "code",
   "execution_count": 5,
   "metadata": {},
   "outputs": [
    {
     "name": "stdout",
     "output_type": "stream",
     "text": [
      "Tiempo de ejecución: 0.069000244140625 segundos\n",
      "[30 48 63 70 74 54 51 60 52 75 64  9  6  2  5 10 14 72 65 27 44 66  7  8\n",
      " 16 24 36 35 28 31 21 20  1 42 58 50 46 56 45 62 69 73 34 29 19 41 55 53\n",
      " 59 61 80  4  3 15 11 47 78 23 22 43 79 76 77 68 67 71 26 25 37 38 39 17\n",
      " 18 49 13 40 32 33 57 12]\n"
     ]
    }
   ],
   "source": [
    "start_time = time.time()\n",
    "x0 = model.nearestNeighborHeuristic(80)\n",
    "elapsed_time = time.time() - start_time\n",
    "print(\"Tiempo de ejecución:\", elapsed_time, \"segundos\")\n",
    "print(x0)"
   ]
  },
  {
   "cell_type": "code",
   "execution_count": 6,
   "metadata": {},
   "outputs": [
    {
     "data": {
      "text/html": [
       "<div>\n",
       "<style scoped>\n",
       "    .dataframe tbody tr th:only-of-type {\n",
       "        vertical-align: middle;\n",
       "    }\n",
       "\n",
       "    .dataframe tbody tr th {\n",
       "        vertical-align: top;\n",
       "    }\n",
       "\n",
       "    .dataframe thead th {\n",
       "        text-align: right;\n",
       "    }\n",
       "</style>\n",
       "<table border=\"1\" class=\"dataframe\">\n",
       "  <thead>\n",
       "    <tr style=\"text-align: right;\">\n",
       "      <th></th>\n",
       "      <th>Vehiculo</th>\n",
       "      <th>Nodoi-1</th>\n",
       "      <th>Nodoi</th>\n",
       "      <th>Distancia</th>\n",
       "      <th>TiempoArco</th>\n",
       "      <th>TW_A</th>\n",
       "      <th>TW_B</th>\n",
       "      <th>Tanque</th>\n",
       "      <th>CO2</th>\n",
       "    </tr>\n",
       "  </thead>\n",
       "  <tbody>\n",
       "    <tr>\n",
       "      <th>0</th>\n",
       "      <td>0</td>\n",
       "      <td>0</td>\n",
       "      <td>30</td>\n",
       "      <td>0.291399</td>\n",
       "      <td>0.007285</td>\n",
       "      <td>5</td>\n",
       "      <td>8</td>\n",
       "      <td>0.991901</td>\n",
       "      <td>0.008099</td>\n",
       "    </tr>\n",
       "    <tr>\n",
       "      <th>1</th>\n",
       "      <td>0</td>\n",
       "      <td>30</td>\n",
       "      <td>48</td>\n",
       "      <td>0.927933</td>\n",
       "      <td>0.023198</td>\n",
       "      <td>5</td>\n",
       "      <td>8</td>\n",
       "      <td>0.966110</td>\n",
       "      <td>0.025791</td>\n",
       "    </tr>\n",
       "    <tr>\n",
       "      <th>2</th>\n",
       "      <td>0</td>\n",
       "      <td>48</td>\n",
       "      <td>63</td>\n",
       "      <td>0.370216</td>\n",
       "      <td>0.009255</td>\n",
       "      <td>5</td>\n",
       "      <td>8</td>\n",
       "      <td>0.955820</td>\n",
       "      <td>0.010290</td>\n",
       "    </tr>\n",
       "    <tr>\n",
       "      <th>3</th>\n",
       "      <td>0</td>\n",
       "      <td>63</td>\n",
       "      <td>70</td>\n",
       "      <td>0.392968</td>\n",
       "      <td>0.009824</td>\n",
       "      <td>5</td>\n",
       "      <td>8</td>\n",
       "      <td>0.944898</td>\n",
       "      <td>0.010922</td>\n",
       "    </tr>\n",
       "    <tr>\n",
       "      <th>4</th>\n",
       "      <td>0</td>\n",
       "      <td>70</td>\n",
       "      <td>74</td>\n",
       "      <td>0.130140</td>\n",
       "      <td>0.003253</td>\n",
       "      <td>5</td>\n",
       "      <td>8</td>\n",
       "      <td>0.941281</td>\n",
       "      <td>0.003617</td>\n",
       "    </tr>\n",
       "    <tr>\n",
       "      <th>...</th>\n",
       "      <td>...</td>\n",
       "      <td>...</td>\n",
       "      <td>...</td>\n",
       "      <td>...</td>\n",
       "      <td>...</td>\n",
       "      <td>...</td>\n",
       "      <td>...</td>\n",
       "      <td>...</td>\n",
       "      <td>...</td>\n",
       "    </tr>\n",
       "    <tr>\n",
       "      <th>80</th>\n",
       "      <td>4</td>\n",
       "      <td>40</td>\n",
       "      <td>32</td>\n",
       "      <td>0.943464</td>\n",
       "      <td>0.023587</td>\n",
       "      <td>11</td>\n",
       "      <td>15</td>\n",
       "      <td>0.856255</td>\n",
       "      <td>0.026223</td>\n",
       "    </tr>\n",
       "    <tr>\n",
       "      <th>81</th>\n",
       "      <td>4</td>\n",
       "      <td>32</td>\n",
       "      <td>33</td>\n",
       "      <td>0.498528</td>\n",
       "      <td>0.012463</td>\n",
       "      <td>8</td>\n",
       "      <td>16</td>\n",
       "      <td>0.842398</td>\n",
       "      <td>0.013856</td>\n",
       "    </tr>\n",
       "    <tr>\n",
       "      <th>82</th>\n",
       "      <td>4</td>\n",
       "      <td>33</td>\n",
       "      <td>57</td>\n",
       "      <td>1.425363</td>\n",
       "      <td>0.035634</td>\n",
       "      <td>8</td>\n",
       "      <td>16</td>\n",
       "      <td>0.802782</td>\n",
       "      <td>0.039617</td>\n",
       "    </tr>\n",
       "    <tr>\n",
       "      <th>83</th>\n",
       "      <td>4</td>\n",
       "      <td>57</td>\n",
       "      <td>12</td>\n",
       "      <td>1.189290</td>\n",
       "      <td>0.029732</td>\n",
       "      <td>13</td>\n",
       "      <td>15</td>\n",
       "      <td>0.769726</td>\n",
       "      <td>0.033055</td>\n",
       "    </tr>\n",
       "    <tr>\n",
       "      <th>84</th>\n",
       "      <td>4</td>\n",
       "      <td>12</td>\n",
       "      <td>0</td>\n",
       "      <td>0.990068</td>\n",
       "      <td>0.024752</td>\n",
       "      <td>4</td>\n",
       "      <td>15</td>\n",
       "      <td>0.742208</td>\n",
       "      <td>0.027518</td>\n",
       "    </tr>\n",
       "  </tbody>\n",
       "</table>\n",
       "<p>85 rows × 9 columns</p>\n",
       "</div>"
      ],
      "text/plain": [
       "    Vehiculo  Nodoi-1  Nodoi  Distancia  TiempoArco  TW_A  TW_B    Tanque  \\\n",
       "0          0        0     30   0.291399    0.007285     5     8  0.991901   \n",
       "1          0       30     48   0.927933    0.023198     5     8  0.966110   \n",
       "2          0       48     63   0.370216    0.009255     5     8  0.955820   \n",
       "3          0       63     70   0.392968    0.009824     5     8  0.944898   \n",
       "4          0       70     74   0.130140    0.003253     5     8  0.941281   \n",
       "..       ...      ...    ...        ...         ...   ...   ...       ...   \n",
       "80         4       40     32   0.943464    0.023587    11    15  0.856255   \n",
       "81         4       32     33   0.498528    0.012463     8    16  0.842398   \n",
       "82         4       33     57   1.425363    0.035634     8    16  0.802782   \n",
       "83         4       57     12   1.189290    0.029732    13    15  0.769726   \n",
       "84         4       12      0   0.990068    0.024752     4    15  0.742208   \n",
       "\n",
       "         CO2  \n",
       "0   0.008099  \n",
       "1   0.025791  \n",
       "2   0.010290  \n",
       "3   0.010922  \n",
       "4   0.003617  \n",
       "..       ...  \n",
       "80  0.026223  \n",
       "81  0.013856  \n",
       "82  0.039617  \n",
       "83  0.033055  \n",
       "84  0.027518  \n",
       "\n",
       "[85 rows x 9 columns]"
      ]
     },
     "execution_count": 6,
     "metadata": {},
     "output_type": "execute_result"
    }
   ],
   "source": [
    "initial_route, df_summary = model.decoding(x0, summary=True)\n",
    "df_summary"
   ]
  },
  {
   "cell_type": "code",
   "execution_count": 7,
   "metadata": {},
   "outputs": [
    {
     "data": {
      "text/plain": [
       "2.5734008778648914"
      ]
     },
     "execution_count": 7,
     "metadata": {},
     "output_type": "execute_result"
    }
   ],
   "source": [
    "model.objective_function(x0)"
   ]
  },
  {
   "cell_type": "code",
   "execution_count": 8,
   "metadata": {},
   "outputs": [
    {
     "data": {
      "image/png": "[encoded data removed]",
      "text/plain": [
       "<Figure size 1000x800 with 1 Axes>"
      ]
     },
     "metadata": {},
     "output_type": "display_data"
    }
   ],
   "source": [
    "draw_graph(initial_route)"
   ]
  },
  {
   "cell_type": "code",
   "execution_count": 30,
   "metadata": {},
   "outputs": [
    {
     "name": "stdout",
     "output_type": "stream",
     "text": [
      "generation: 1\n",
      "generation: 2\n",
      "generation: 3\n",
      "generation: 4\n",
      "generation: 5\n",
      "generation: 6\n",
      "generation: 7\n",
      "generation: 8\n",
      "generation: 9\n",
      "generation: 10\n",
      "generation: 11\n",
      "generation: 12\n",
      "generation: 13\n",
      "generation: 14\n",
      "generation: 15\n",
      "generation: 16\n",
      "generation: 17\n",
      "generation: 18\n",
      "generation: 19\n",
      "generation: 20\n",
      "generation: 21\n",
      "generation: 22\n",
      "generation: 23\n",
      "generation: 24\n",
      "generation: 25\n",
      "generation: 26\n",
      "generation: 27\n",
      "generation: 28\n",
      "generation: 29\n",
      "generation: 30\n",
      "generation: 31\n",
      "generation: 32\n",
      "generation: 33\n",
      "generation: 34\n",
      "generation: 35\n",
      "generation: 36\n",
      "generation: 37\n",
      "generation: 38\n",
      "generation: 39\n",
      "generation: 40\n",
      "generation: 41\n",
      "generation: 42\n",
      "generation: 43\n",
      "generation: 44\n",
      "generation: 45\n",
      "generation: 46\n",
      "generation: 47\n",
      "generation: 48\n",
      "generation: 49\n",
      "generation: 50\n",
      "generation: 51\n",
      "generation: 52\n",
      "generation: 53\n",
      "generation: 54\n",
      "generation: 55\n",
      "generation: 56\n",
      "generation: 57\n",
      "generation: 58\n",
      "generation: 59\n",
      "generation: 60\n",
      "generation: 61\n",
      "generation: 62\n",
      "generation: 63\n",
      "generation: 64\n",
      "generation: 65\n",
      "generation: 66\n",
      "generation: 67\n",
      "generation: 68\n",
      "generation: 69\n",
      "generation: 70\n",
      "generation: 71\n",
      "generation: 72\n",
      "generation: 73\n",
      "generation: 74\n",
      "generation: 75\n",
      "generation: 76\n",
      "generation: 77\n",
      "generation: 78\n",
      "generation: 79\n",
      "generation: 80\n",
      "generation: 81\n",
      "generation: 82\n",
      "generation: 83\n",
      "generation: 84\n",
      "generation: 85\n",
      "generation: 86\n",
      "generation: 87\n",
      "generation: 88\n",
      "generation: 89\n",
      "generation: 90\n",
      "generation: 91\n",
      "generation: 92\n",
      "generation: 93\n",
      "generation: 94\n",
      "generation: 95\n",
      "generation: 96\n",
      "generation: 97\n",
      "generation: 98\n",
      "generation: 99\n",
      "generation: 100\n",
      "generation: 101\n",
      "generation: 102\n",
      "generation: 103\n",
      "generation: 104\n",
      "generation: 105\n",
      "generation: 106\n",
      "generation: 107\n",
      "generation: 108\n",
      "generation: 109\n",
      "generation: 110\n",
      "generation: 111\n",
      "generation: 112\n",
      "generation: 113\n",
      "generation: 114\n",
      "generation: 115\n",
      "generation: 116\n",
      "generation: 117\n",
      "generation: 118\n",
      "generation: 119\n",
      "Tiempo de ejecución: 223.52605748176575 segundos\n",
      "[30 48 63 70 74 54 51 60 52 75 64  9  6  2  5 10 14 72 65 27 44 66  7  8\n",
      " 16 24 36 35 28 31 21 20  1 42 58 50 46 56 45 62 69 73 34 29 19 41 55 53\n",
      " 59 61 80  4  3 15 11 47 78 23 22 43 79 76 77 68 67 71 26 25 37 38 39 17\n",
      " 18 49 13 40 32 33 57 12]\n"
     ]
    }
   ],
   "source": [
    "start_time = time.time()\n",
    "info = model.ga(\n",
    "    x0= x0,\n",
    "    PopSize= 100,\n",
    "    ElitePopSize= 16,\n",
    "    subPopSize=20,\n",
    "    MaxGenerations= 150,\n",
    "    localOptimumTime= 30\n",
    ")\n",
    "elapsed_time = time.time() - start_time\n",
    "print(\"Tiempo de ejecución:\", elapsed_time, \"segundos\")\n",
    "print(x0)"
   ]
  },
  {
   "cell_type": "code",
   "execution_count": 31,
   "metadata": {},
   "outputs": [
    {
     "name": "stdout",
     "output_type": "stream",
     "text": [
      "[30 48 63 78 74 54 51 45 62 75 64  9  6  2  4 10 14 11 32 47 70 66  7  8\n",
      " 16 24 36 35 28 31 21 20  1 42 58 50 56 46 44 41 67 71 72 65 60 57 55 53\n",
      " 59 61 68 73  5  3 37 38 39 52 43 49 79 80 76 77 69 15 13 12 34 29 27 19\n",
      " 17 18 40 23 22 33 26 25]\n",
      "1.9094653161650983\n"
     ]
    }
   ],
   "source": [
    "print(info['x_best'])\n",
    "print(info['e_best'])"
   ]
  },
  {
   "cell_type": "code",
   "execution_count": 32,
   "metadata": {},
   "outputs": [
    {
     "data": {
      "text/html": [
       "<div>\n",
       "<style scoped>\n",
       "    .dataframe tbody tr th:only-of-type {\n",
       "        vertical-align: middle;\n",
       "    }\n",
       "\n",
       "    .dataframe tbody tr th {\n",
       "        vertical-align: top;\n",
       "    }\n",
       "\n",
       "    .dataframe thead th {\n",
       "        text-align: right;\n",
       "    }\n",
       "</style>\n",
       "<table border=\"1\" class=\"dataframe\">\n",
       "  <thead>\n",
       "    <tr style=\"text-align: right;\">\n",
       "      <th></th>\n",
       "      <th>Vehiculo</th>\n",
       "      <th>Nodoi-1</th>\n",
       "      <th>Nodoi</th>\n",
       "      <th>Distancia</th>\n",
       "      <th>TiempoArco</th>\n",
       "      <th>TW_A</th>\n",
       "      <th>TW_B</th>\n",
       "      <th>Tanque</th>\n",
       "      <th>CO2</th>\n",
       "    </tr>\n",
       "  </thead>\n",
       "  <tbody>\n",
       "    <tr>\n",
       "      <th>0</th>\n",
       "      <td>0</td>\n",
       "      <td>0</td>\n",
       "      <td>30</td>\n",
       "      <td>0.291399</td>\n",
       "      <td>0.007285</td>\n",
       "      <td>5</td>\n",
       "      <td>8</td>\n",
       "      <td>0.991901</td>\n",
       "      <td>0.008099</td>\n",
       "    </tr>\n",
       "    <tr>\n",
       "      <th>1</th>\n",
       "      <td>0</td>\n",
       "      <td>30</td>\n",
       "      <td>48</td>\n",
       "      <td>0.927933</td>\n",
       "      <td>0.023198</td>\n",
       "      <td>5</td>\n",
       "      <td>8</td>\n",
       "      <td>0.966110</td>\n",
       "      <td>0.025791</td>\n",
       "    </tr>\n",
       "    <tr>\n",
       "      <th>2</th>\n",
       "      <td>0</td>\n",
       "      <td>48</td>\n",
       "      <td>63</td>\n",
       "      <td>0.370216</td>\n",
       "      <td>0.009255</td>\n",
       "      <td>5</td>\n",
       "      <td>8</td>\n",
       "      <td>0.955820</td>\n",
       "      <td>0.010290</td>\n",
       "    </tr>\n",
       "    <tr>\n",
       "      <th>3</th>\n",
       "      <td>0</td>\n",
       "      <td>63</td>\n",
       "      <td>78</td>\n",
       "      <td>0.522354</td>\n",
       "      <td>0.013059</td>\n",
       "      <td>5</td>\n",
       "      <td>12</td>\n",
       "      <td>0.941302</td>\n",
       "      <td>0.014518</td>\n",
       "    </tr>\n",
       "    <tr>\n",
       "      <th>4</th>\n",
       "      <td>0</td>\n",
       "      <td>78</td>\n",
       "      <td>74</td>\n",
       "      <td>0.196337</td>\n",
       "      <td>0.004908</td>\n",
       "      <td>5</td>\n",
       "      <td>8</td>\n",
       "      <td>0.935845</td>\n",
       "      <td>0.005457</td>\n",
       "    </tr>\n",
       "    <tr>\n",
       "      <th>...</th>\n",
       "      <td>...</td>\n",
       "      <td>...</td>\n",
       "      <td>...</td>\n",
       "      <td>...</td>\n",
       "      <td>...</td>\n",
       "      <td>...</td>\n",
       "      <td>...</td>\n",
       "      <td>...</td>\n",
       "      <td>...</td>\n",
       "    </tr>\n",
       "    <tr>\n",
       "      <th>81</th>\n",
       "      <td>5</td>\n",
       "      <td>23</td>\n",
       "      <td>22</td>\n",
       "      <td>0.156155</td>\n",
       "      <td>0.003904</td>\n",
       "      <td>7</td>\n",
       "      <td>12</td>\n",
       "      <td>0.929414</td>\n",
       "      <td>0.004340</td>\n",
       "    </tr>\n",
       "    <tr>\n",
       "      <th>82</th>\n",
       "      <td>5</td>\n",
       "      <td>22</td>\n",
       "      <td>33</td>\n",
       "      <td>0.306885</td>\n",
       "      <td>0.007672</td>\n",
       "      <td>8</td>\n",
       "      <td>16</td>\n",
       "      <td>0.920885</td>\n",
       "      <td>0.008530</td>\n",
       "    </tr>\n",
       "    <tr>\n",
       "      <th>83</th>\n",
       "      <td>5</td>\n",
       "      <td>33</td>\n",
       "      <td>26</td>\n",
       "      <td>0.196333</td>\n",
       "      <td>0.004908</td>\n",
       "      <td>6</td>\n",
       "      <td>14</td>\n",
       "      <td>0.915428</td>\n",
       "      <td>0.005457</td>\n",
       "    </tr>\n",
       "    <tr>\n",
       "      <th>84</th>\n",
       "      <td>5</td>\n",
       "      <td>26</td>\n",
       "      <td>25</td>\n",
       "      <td>0.247713</td>\n",
       "      <td>0.006193</td>\n",
       "      <td>8</td>\n",
       "      <td>14</td>\n",
       "      <td>0.908543</td>\n",
       "      <td>0.006885</td>\n",
       "    </tr>\n",
       "    <tr>\n",
       "      <th>85</th>\n",
       "      <td>5</td>\n",
       "      <td>25</td>\n",
       "      <td>0</td>\n",
       "      <td>0.565445</td>\n",
       "      <td>0.014136</td>\n",
       "      <td>4</td>\n",
       "      <td>15</td>\n",
       "      <td>0.892827</td>\n",
       "      <td>0.015716</td>\n",
       "    </tr>\n",
       "  </tbody>\n",
       "</table>\n",
       "<p>86 rows × 9 columns</p>\n",
       "</div>"
      ],
      "text/plain": [
       "    Vehiculo  Nodoi-1  Nodoi  Distancia  TiempoArco  TW_A  TW_B    Tanque  \\\n",
       "0          0        0     30   0.291399    0.007285     5     8  0.991901   \n",
       "1          0       30     48   0.927933    0.023198     5     8  0.966110   \n",
       "2          0       48     63   0.370216    0.009255     5     8  0.955820   \n",
       "3          0       63     78   0.522354    0.013059     5    12  0.941302   \n",
       "4          0       78     74   0.196337    0.004908     5     8  0.935845   \n",
       "..       ...      ...    ...        ...         ...   ...   ...       ...   \n",
       "81         5       23     22   0.156155    0.003904     7    12  0.929414   \n",
       "82         5       22     33   0.306885    0.007672     8    16  0.920885   \n",
       "83         5       33     26   0.196333    0.004908     6    14  0.915428   \n",
       "84         5       26     25   0.247713    0.006193     8    14  0.908543   \n",
       "85         5       25      0   0.565445    0.014136     4    15  0.892827   \n",
       "\n",
       "         CO2  \n",
       "0   0.008099  \n",
       "1   0.025791  \n",
       "2   0.010290  \n",
       "3   0.014518  \n",
       "4   0.005457  \n",
       "..       ...  \n",
       "81  0.004340  \n",
       "82  0.008530  \n",
       "83  0.005457  \n",
       "84  0.006885  \n",
       "85  0.015716  \n",
       "\n",
       "[86 rows x 9 columns]"
      ]
     },
     "execution_count": 32,
     "metadata": {},
     "output_type": "execute_result"
    }
   ],
   "source": [
    "optimal_route, df_summary2 = model.decoding(info['x_best'], summary=True)\n",
    "df_summary2"
   ]
  },
  {
   "cell_type": "code",
   "execution_count": 36,
   "metadata": {},
   "outputs": [
    {
     "data": {
      "image/png": "[encoded data removed]",
      "text/plain": [
       "<Figure size 1000x800 with 1 Axes>"
      ]
     },
     "metadata": {},
     "output_type": "display_data"
    }
   ],
   "source": [
    "draw_graph(optimal_route)"
   ]
  },
  {
   "cell_type": "code",
   "execution_count": 37,
   "metadata": {},
   "outputs": [
    {
     "data": {
      "application/vnd.plotly.v1+json": {
       "config": {
        "plotlyServerURL": "https://plot.ly"
       },
       "data": [
        {
         "hovertemplate": "Step=%{x}<br>Best Energy Value=%{y}<extra></extra>",
         "legendgroup": "",
         "line": {
          "color": "#636efa",
          "dash": "solid",
          "shape": "linear"
         },
         "marker": {
          "symbol": "circle"
         },
         "mode": "lines+markers",
         "name": "",
         "orientation": "v",
         "showlegend": false,
         "type": "scatter",
         "x": [
          1,
          2,
          3,
          4,
          5,
          6,
          7,
          8,
          9,
          10,
          11,
          12,
          13,
          14,
          15,
          16,
          17,
          18,
          19,
          20,
          21,
          22,
          23,
          24,
          25,
          26,
          27,
          28,
          29,
          30,
          31,
          32,
          33,
          34,
          35,
          36,
          37,
          38,
          39,
          40,
          41,
          42,
          43,
          44,
          45,
          46,
          47,
          48,
          49,
          50,
          51,
          52,
          53,
          54,
          55,
          56,
          57,
          58,
          59,
          60,
          61,
          62,
          63,
          64,
          65,
          66,
          67,
          68,
          69,
          70,
          71,
          72,
          73,
          74,
          75,
          76,
          77,
          78,
          79,
          80,
          81,
          82,
          83,
          84,
          85,
          86,
          87,
          88,
          89,
          90,
          91,
          92,
          93,
          94,
          95,
          96,
          97,
          98,
          99,
          100,
          101,
          102,
          103,
          104,
          105,
          106,
          107,
          108,
          109,
          110,
          111,
          112,
          113,
          114,
          115,
          116,
          117,
          118,
          119
         ],
         "xaxis": "x",
         "y": [
          2.531746430038409,
          2.4719198154516926,
          2.339443001348454,
          2.333800139344963,
          2.3150017312611944,
          2.2551926725879445,
          2.249862074160878,
          2.246771074089182,
          2.246771074089182,
          2.2227543235331177,
          2.2227543235331177,
          2.2227543235331177,
          2.2227543235331177,
          2.14971515789284,
          2.14971515789284,
          2.14971515789284,
          2.14971515789284,
          2.14971515789284,
          2.144498891109356,
          2.144498891109356,
          2.1314940944069924,
          2.1314940944069924,
          2.1314940944069924,
          2.1229985243828287,
          2.1229985243828287,
          2.1071300637656933,
          2.1016286106493167,
          2.1016286106493167,
          2.1016286106493167,
          2.1016286106493167,
          2.1016286106493167,
          2.1016286106493167,
          2.1011218077998297,
          2.087507110576081,
          2.087507110576081,
          2.087507110576081,
          2.063963438332853,
          2.063963438332853,
          2.063963438332853,
          2.061850780051759,
          2.0398470989432322,
          2.0398470989432322,
          2.0398470989432322,
          2.0398470989432322,
          2.0398470989432322,
          2.0398470989432322,
          2.0398470989432322,
          2.0398470989432322,
          2.0398470989432322,
          2.0398470989432322,
          2.001132843810028,
          2.001132843810028,
          2.001132843810028,
          2.001132843810028,
          2.001132843810028,
          2.001132843810028,
          2.001132843810028,
          2.001132843810028,
          2.001132843810028,
          2.001132843810028,
          2.001132843810028,
          2.001132843810028,
          2.001132843810028,
          2.001132843810028,
          2.001132843810028,
          2.001132843810028,
          2.001132843810028,
          2.001132843810028,
          2.001132843810028,
          2.001132843810028,
          2.001132843810028,
          2.001132843810028,
          1.9809060984929876,
          1.978252833411383,
          1.97512084850963,
          1.97512084850963,
          1.9730743633764891,
          1.9730743633764891,
          1.9730743633764891,
          1.9730743633764891,
          1.957056616819966,
          1.957056616819966,
          1.957056616819966,
          1.957056616819966,
          1.9148764029781526,
          1.9148764029781526,
          1.9148764029781526,
          1.9148764029781526,
          1.9148764029781526,
          1.9094653161650983,
          1.9094653161650983,
          1.9094653161650983,
          1.9094653161650983,
          1.9094653161650983,
          1.9094653161650983,
          1.9094653161650983,
          1.9094653161650983,
          1.9094653161650983,
          1.9094653161650983,
          1.9094653161650983,
          1.9094653161650983,
          1.9094653161650983,
          1.9094653161650983,
          1.9094653161650983,
          1.9094653161650983,
          1.9094653161650983,
          1.9094653161650983,
          1.9094653161650983,
          1.9094653161650983,
          1.9094653161650983,
          1.9094653161650983,
          1.9094653161650983,
          1.9094653161650983,
          1.9094653161650983,
          1.9094653161650983,
          1.9094653161650983,
          1.9094653161650983,
          1.9094653161650983,
          1.9094653161650983
         ],
         "yaxis": "y"
        }
       ],
       "layout": {
        "legend": {
         "tracegroupgap": 0
        },
        "template": {
         "data": {
          "bar": [
           {
            "error_x": {
             "color": "#2a3f5f"
            },
            "error_y": {
             "color": "#2a3f5f"
            },
            "marker": {
             "line": {
              "color": "#E5ECF6",
              "width": 0.5
             },
             "pattern": {
              "fillmode": "overlay",
              "size": 10,
              "solidity": 0.2
             }
            },
            "type": "bar"
           }
          ],
          "barpolar": [
           {
            "marker": {
             "line": {
              "color": "#E5ECF6",
              "width": 0.5
             },
             "pattern": {
              "fillmode": "overlay",
              "size": 10,
              "solidity": 0.2
             }
            },
            "type": "barpolar"
           }
          ],
          "carpet": [
           {
            "aaxis": {
             "endlinecolor": "#2a3f5f",
             "gridcolor": "white",
             "linecolor": "white",
             "minorgridcolor": "white",
             "startlinecolor": "#2a3f5f"
            },
            "baxis": {
             "endlinecolor": "#2a3f5f",
             "gridcolor": "white",
             "linecolor": "white",
             "minorgridcolor": "white",
             "startlinecolor": "#2a3f5f"
            },
            "type": "carpet"
           }
          ],
          "choropleth": [
           {
            "colorbar": {
             "outlinewidth": 0,
             "ticks": ""
            },
            "type": "choropleth"
           }
          ],
          "contour": [
           {
            "colorbar": {
             "outlinewidth": 0,
             "ticks": ""
            },
            "colorscale": [
             [
              0,
              "#0d0887"
             ],
             [
              0.1111111111111111,
              "#46039f"
             ],
             [
              0.2222222222222222,
              "#7201a8"
             ],
             [
              0.3333333333333333,
              "#9c179e"
             ],
             [
              0.4444444444444444,
              "#bd3786"
             ],
             [
              0.5555555555555556,
              "#d8576b"
             ],
             [
              0.6666666666666666,
              "#ed7953"
             ],
             [
              0.7777777777777778,
              "#fb9f3a"
             ],
             [
              0.8888888888888888,
              "#fdca26"
             ],
             [
              1,
              "#f0f921"
             ]
            ],
            "type": "contour"
           }
          ],
          "contourcarpet": [
           {
            "colorbar": {
             "outlinewidth": 0,
             "ticks": ""
            },
            "type": "contourcarpet"
           }
          ],
          "heatmap": [
           {
            "colorbar": {
             "outlinewidth": 0,
             "ticks": ""
            },
            "colorscale": [
             [
              0,
              "#0d0887"
             ],
             [
              0.1111111111111111,
              "#46039f"
             ],
             [
              0.2222222222222222,
              "#7201a8"
             ],
             [
              0.3333333333333333,
              "#9c179e"
             ],
             [
              0.4444444444444444,
              "#bd3786"
             ],
             [
              0.5555555555555556,
              "#d8576b"
             ],
             [
              0.6666666666666666,
              "#ed7953"
             ],
             [
              0.7777777777777778,
              "#fb9f3a"
             ],
             [
              0.8888888888888888,
              "#fdca26"
             ],
             [
              1,
              "#f0f921"
             ]
            ],
            "type": "heatmap"
           }
          ],
          "heatmapgl": [
           {
            "colorbar": {
             "outlinewidth": 0,
             "ticks": ""
            },
            "colorscale": [
             [
              0,
              "#0d0887"
             ],
             [
              0.1111111111111111,
              "#46039f"
             ],
             [
              0.2222222222222222,
              "#7201a8"
             ],
             [
              0.3333333333333333,
              "#9c179e"
             ],
             [
              0.4444444444444444,
              "#bd3786"
             ],
             [
              0.5555555555555556,
              "#d8576b"
             ],
             [
              0.6666666666666666,
              "#ed7953"
             ],
             [
              0.7777777777777778,
              "#fb9f3a"
             ],
             [
              0.8888888888888888,
              "#fdca26"
             ],
             [
              1,
              "#f0f921"
             ]
            ],
            "type": "heatmapgl"
           }
          ],
          "histogram": [
           {
            "marker": {
             "pattern": {
              "fillmode": "overlay",
              "size": 10,
              "solidity": 0.2
             }
            },
            "type": "histogram"
           }
          ],
          "histogram2d": [
           {
            "colorbar": {
             "outlinewidth": 0,
             "ticks": ""
            },
            "colorscale": [
             [
              0,
              "#0d0887"
             ],
             [
              0.1111111111111111,
              "#46039f"
             ],
             [
              0.2222222222222222,
              "#7201a8"
             ],
             [
              0.3333333333333333,
              "#9c179e"
             ],
             [
              0.4444444444444444,
              "#bd3786"
             ],
             [
              0.5555555555555556,
              "#d8576b"
             ],
             [
              0.6666666666666666,
              "#ed7953"
             ],
             [
              0.7777777777777778,
              "#fb9f3a"
             ],
             [
              0.8888888888888888,
              "#fdca26"
             ],
             [
              1,
              "#f0f921"
             ]
            ],
            "type": "histogram2d"
           }
          ],
          "histogram2dcontour": [
           {
            "colorbar": {
             "outlinewidth": 0,
             "ticks": ""
            },
            "colorscale": [
             [
              0,
              "#0d0887"
             ],
             [
              0.1111111111111111,
              "#46039f"
             ],
             [
              0.2222222222222222,
              "#7201a8"
             ],
             [
              0.3333333333333333,
              "#9c179e"
             ],
             [
              0.4444444444444444,
              "#bd3786"
             ],
             [
              0.5555555555555556,
              "#d8576b"
             ],
             [
              0.6666666666666666,
              "#ed7953"
             ],
             [
              0.7777777777777778,
              "#fb9f3a"
             ],
             [
              0.8888888888888888,
              "#fdca26"
             ],
             [
              1,
              "#f0f921"
             ]
            ],
            "type": "histogram2dcontour"
           }
          ],
          "mesh3d": [
           {
            "colorbar": {
             "outlinewidth": 0,
             "ticks": ""
            },
            "type": "mesh3d"
           }
          ],
          "parcoords": [
           {
            "line": {
             "colorbar": {
              "outlinewidth": 0,
              "ticks": ""
             }
            },
            "type": "parcoords"
           }
          ],
          "pie": [
           {
            "automargin": true,
            "type": "pie"
           }
          ],
          "scatter": [
           {
            "fillpattern": {
             "fillmode": "overlay",
             "size": 10,
             "solidity": 0.2
            },
            "type": "scatter"
           }
          ],
          "scatter3d": [
           {
            "line": {
             "colorbar": {
              "outlinewidth": 0,
              "ticks": ""
             }
            },
            "marker": {
             "colorbar": {
              "outlinewidth": 0,
              "ticks": ""
             }
            },
            "type": "scatter3d"
           }
          ],
          "scattercarpet": [
           {
            "marker": {
             "colorbar": {
              "outlinewidth": 0,
              "ticks": ""
             }
            },
            "type": "scattercarpet"
           }
          ],
          "scattergeo": [
           {
            "marker": {
             "colorbar": {
              "outlinewidth": 0,
              "ticks": ""
             }
            },
            "type": "scattergeo"
           }
          ],
          "scattergl": [
           {
            "marker": {
             "colorbar": {
              "outlinewidth": 0,
              "ticks": ""
             }
            },
            "type": "scattergl"
           }
          ],
          "scattermapbox": [
           {
            "marker": {
             "colorbar": {
              "outlinewidth": 0,
              "ticks": ""
             }
            },
            "type": "scattermapbox"
           }
          ],
          "scatterpolar": [
           {
            "marker": {
             "colorbar": {
              "outlinewidth": 0,
              "ticks": ""
             }
            },
            "type": "scatterpolar"
           }
          ],
          "scatterpolargl": [
           {
            "marker": {
             "colorbar": {
              "outlinewidth": 0,
              "ticks": ""
             }
            },
            "type": "scatterpolargl"
           }
          ],
          "scatterternary": [
           {
            "marker": {
             "colorbar": {
              "outlinewidth": 0,
              "ticks": ""
             }
            },
            "type": "scatterternary"
           }
          ],
          "surface": [
           {
            "colorbar": {
             "outlinewidth": 0,
             "ticks": ""
            },
            "colorscale": [
             [
              0,
              "#0d0887"
             ],
             [
              0.1111111111111111,
              "#46039f"
             ],
             [
              0.2222222222222222,
              "#7201a8"
             ],
             [
              0.3333333333333333,
              "#9c179e"
             ],
             [
              0.4444444444444444,
              "#bd3786"
             ],
             [
              0.5555555555555556,
              "#d8576b"
             ],
             [
              0.6666666666666666,
              "#ed7953"
             ],
             [
              0.7777777777777778,
              "#fb9f3a"
             ],
             [
              0.8888888888888888,
              "#fdca26"
             ],
             [
              1,
              "#f0f921"
             ]
            ],
            "type": "surface"
           }
          ],
          "table": [
           {
            "cells": {
             "fill": {
              "color": "#EBF0F8"
             },
             "line": {
              "color": "white"
             }
            },
            "header": {
             "fill": {
              "color": "#C8D4E3"
             },
             "line": {
              "color": "white"
             }
            },
            "type": "table"
           }
          ]
         },
         "layout": {
          "annotationdefaults": {
           "arrowcolor": "#2a3f5f",
           "arrowhead": 0,
           "arrowwidth": 1
          },
          "autotypenumbers": "strict",
          "coloraxis": {
           "colorbar": {
            "outlinewidth": 0,
            "ticks": ""
           }
          },
          "colorscale": {
           "diverging": [
            [
             0,
             "#8e0152"
            ],
            [
             0.1,
             "#c51b7d"
            ],
            [
             0.2,
             "#de77ae"
            ],
            [
             0.3,
             "#f1b6da"
            ],
            [
             0.4,
             "#fde0ef"
            ],
            [
             0.5,
             "#f7f7f7"
            ],
            [
             0.6,
             "#e6f5d0"
            ],
            [
             0.7,
             "#b8e186"
            ],
            [
             0.8,
             "#7fbc41"
            ],
            [
             0.9,
             "#4d9221"
            ],
            [
             1,
             "#276419"
            ]
           ],
           "sequential": [
            [
             0,
             "#0d0887"
            ],
            [
             0.1111111111111111,
             "#46039f"
            ],
            [
             0.2222222222222222,
             "#7201a8"
            ],
            [
             0.3333333333333333,
             "#9c179e"
            ],
            [
             0.4444444444444444,
             "#bd3786"
            ],
            [
             0.5555555555555556,
             "#d8576b"
            ],
            [
             0.6666666666666666,
             "#ed7953"
            ],
            [
             0.7777777777777778,
             "#fb9f3a"
            ],
            [
             0.8888888888888888,
             "#fdca26"
            ],
            [
             1,
             "#f0f921"
            ]
           ],
           "sequentialminus": [
            [
             0,
             "#0d0887"
            ],
            [
             0.1111111111111111,
             "#46039f"
            ],
            [
             0.2222222222222222,
             "#7201a8"
            ],
            [
             0.3333333333333333,
             "#9c179e"
            ],
            [
             0.4444444444444444,
             "#bd3786"
            ],
            [
             0.5555555555555556,
             "#d8576b"
            ],
            [
             0.6666666666666666,
             "#ed7953"
            ],
            [
             0.7777777777777778,
             "#fb9f3a"
            ],
            [
             0.8888888888888888,
             "#fdca26"
            ],
            [
             1,
             "#f0f921"
            ]
           ]
          },
          "colorway": [
           "#636efa",
           "#EF553B",
           "#00cc96",
           "#ab63fa",
           "#FFA15A",
           "#19d3f3",
           "#FF6692",
           "#B6E880",
           "#FF97FF",
           "#FECB52"
          ],
          "font": {
           "color": "#2a3f5f"
          },
          "geo": {
           "bgcolor": "white",
           "lakecolor": "white",
           "landcolor": "#E5ECF6",
           "showlakes": true,
           "showland": true,
           "subunitcolor": "white"
          },
          "hoverlabel": {
           "align": "left"
          },
          "hovermode": "closest",
          "mapbox": {
           "style": "light"
          },
          "paper_bgcolor": "white",
          "plot_bgcolor": "#E5ECF6",
          "polar": {
           "angularaxis": {
            "gridcolor": "white",
            "linecolor": "white",
            "ticks": ""
           },
           "bgcolor": "#E5ECF6",
           "radialaxis": {
            "gridcolor": "white",
            "linecolor": "white",
            "ticks": ""
           }
          },
          "scene": {
           "xaxis": {
            "backgroundcolor": "#E5ECF6",
            "gridcolor": "white",
            "gridwidth": 2,
            "linecolor": "white",
            "showbackground": true,
            "ticks": "",
            "zerolinecolor": "white"
           },
           "yaxis": {
            "backgroundcolor": "#E5ECF6",
            "gridcolor": "white",
            "gridwidth": 2,
            "linecolor": "white",
            "showbackground": true,
            "ticks": "",
            "zerolinecolor": "white"
           },
           "zaxis": {
            "backgroundcolor": "#E5ECF6",
            "gridcolor": "white",
            "gridwidth": 2,
            "linecolor": "white",
            "showbackground": true,
            "ticks": "",
            "zerolinecolor": "white"
           }
          },
          "shapedefaults": {
           "line": {
            "color": "#2a3f5f"
           }
          },
          "ternary": {
           "aaxis": {
            "gridcolor": "white",
            "linecolor": "white",
            "ticks": ""
           },
           "baxis": {
            "gridcolor": "white",
            "linecolor": "white",
            "ticks": ""
           },
           "bgcolor": "#E5ECF6",
           "caxis": {
            "gridcolor": "white",
            "linecolor": "white",
            "ticks": ""
           }
          },
          "title": {
           "x": 0.05
          },
          "xaxis": {
           "automargin": true,
           "gridcolor": "white",
           "linecolor": "white",
           "ticks": "",
           "title": {
            "standoff": 15
           },
           "zerolinecolor": "white",
           "zerolinewidth": 2
          },
          "yaxis": {
           "automargin": true,
           "gridcolor": "white",
           "linecolor": "white",
           "ticks": "",
           "title": {
            "standoff": 15
           },
           "zerolinecolor": "white",
           "zerolinewidth": 2
          }
         }
        },
        "title": {
         "text": "Optimization Progress"
        },
        "xaxis": {
         "anchor": "y",
         "domain": [
          0,
          1
         ],
         "title": {
          "text": "Step"
         }
        },
        "yaxis": {
         "anchor": "x",
         "domain": [
          0,
          1
         ],
         "title": {
          "text": "Best Energy Value"
         }
        }
       }
      }
     },
     "metadata": {},
     "output_type": "display_data"
    }
   ],
   "source": [
    "model.draw_energy_plot(info['hist'])"
   ]
  },
  {
   "cell_type": "markdown",
   "metadata": {},
   "source": [
    "## VEGSA"
   ]
  },
  {
   "cell_type": "code",
   "execution_count": 64,
   "metadata": {},
   "outputs": [
    {
     "name": "stdout",
     "output_type": "stream",
     "text": [
      "GA init: \n",
      "generation: 1\n",
      "generation: 2\n",
      "generation: 3\n",
      "generation: 4\n",
      "generation: 5\n",
      "generation: 6\n",
      "generation: 7\n",
      "generation: 8\n",
      "generation: 9\n",
      "generation: 10\n",
      "generation: 11\n",
      "generation: 12\n",
      "generation: 13\n",
      "generation: 14\n",
      "generation: 15\n",
      "generation: 16\n",
      "generation: 17\n",
      "generation: 18\n",
      "generation: 19\n",
      "generation: 20\n",
      "generation: 21\n",
      "generation: 22\n",
      "generation: 23\n",
      "generation: 24\n",
      "generation: 25\n",
      "generation: 26\n",
      "generation: 27\n",
      "generation: 28\n",
      "generation: 29\n",
      "generation: 30\n",
      "generation: 31\n",
      "generation: 32\n",
      "generation: 33\n",
      "generation: 34\n",
      "generation: 35\n",
      "generation: 36\n",
      "generation: 37\n",
      "generation: 38\n",
      "generation: 39\n",
      "generation: 40\n",
      "generation: 41\n",
      "generation: 42\n",
      "generation: 43\n",
      "generation: 44\n",
      "generation: 45\n",
      "generation: 46\n",
      "generation: 47\n",
      "generation: 48\n",
      "generation: 49\n",
      "generation: 50\n",
      "generation: 51\n",
      "generation: 52\n",
      "generation: 53\n",
      "generation: 54\n",
      "generation: 55\n",
      "generation: 56\n",
      "generation: 57\n",
      "generation: 58\n",
      "generation: 59\n",
      "generation: 60\n",
      "generation: 61\n",
      "generation: 62\n",
      "generation: 63\n",
      "generation: 64\n",
      "generation: 65\n",
      "generation: 66\n",
      "generation: 67\n",
      "generation: 68\n",
      "generation: 69\n",
      "generation: 70\n",
      "generation: 71\n",
      "generation: 72\n",
      "generation: 73\n",
      "generation: 74\n",
      "generation: 75\n",
      "generation: 76\n",
      "generation: 77\n",
      "generation: 78\n",
      "generation: 79\n",
      "generation: 80\n",
      "generation: 81\n",
      "generation: 82\n",
      "generation: 83\n",
      "generation: 84\n",
      "generation: 85\n",
      "generation: 86\n",
      "generation: 87\n",
      "generation: 88\n",
      "generation: 89\n",
      "generation: 90\n",
      "generation: 91\n",
      "generation: 92\n",
      "generation: 93\n",
      "generation: 94\n",
      "generation: 95\n",
      "generation: 96\n",
      "generation: 97\n",
      "generation: 98\n",
      "generation: 99\n",
      "generation: 100\n",
      "generation: 101\n",
      "generation: 102\n",
      "generation: 103\n",
      "generation: 104\n",
      "generation: 105\n",
      "generation: 106\n",
      "generation: 107\n",
      "generation: 108\n",
      "generation: 109\n",
      "generation: 110\n",
      "generation: 111\n",
      "generation: 112\n",
      "generation: 113\n",
      "generation: 114\n",
      "generation: 115\n",
      "generation: 116\n",
      "generation: 117\n",
      "generation: 118\n",
      "generation: 119\n",
      "generation: 120\n",
      "generation: 121\n",
      "generation: 122\n",
      "generation: 123\n",
      "generation: 124\n",
      "generation: 125\n",
      "generation: 126\n",
      "generation: 127\n",
      "generation: 128\n",
      "generation: 129\n",
      "generation: 130\n",
      "generation: 131\n",
      "generation: 132\n",
      "generation: 133\n",
      "generation: 134\n",
      "generation: 135\n",
      "generation: 136\n",
      "generation: 137\n",
      "generation: 138\n",
      "generation: 139\n",
      "generation: 140\n",
      "generation: 141\n",
      "generation: 142\n",
      "generation: 143\n",
      "generation: 144\n",
      "generation: 145\n",
      "generation: 146\n",
      "generation: 147\n",
      "generation: 148\n",
      "generation: 149\n",
      "generation: 150\n",
      "generation: 151\n",
      "generation: 152\n",
      "generation: 153\n",
      "generation: 154\n",
      "generation: 155\n",
      "generation: 156\n",
      "generation: 157\n",
      "generation: 158\n",
      "generation: 159\n",
      "generation: 160\n",
      "generation: 161\n",
      "generation: 162\n",
      "generation: 163\n",
      "generation: 164\n",
      "generation: 165\n",
      "generation: 166\n",
      "generation: 167\n",
      "generation: 168\n",
      "generation: 169\n",
      "generation: 170\n",
      "generation: 171\n",
      "generation: 172\n",
      "generation: 173\n",
      "generation: 174\n",
      "generation: 175\n",
      "generation: 176\n",
      "generation: 177\n",
      "generation: 178\n",
      "generation: 179\n",
      "generation: 180\n",
      "generation: 181\n",
      "generation: 182\n",
      "generation: 183\n",
      "generation: 184\n",
      "generation: 185\n",
      "generation: 186\n",
      "generation: 187\n",
      "generation: 188\n",
      "generation: 189\n",
      "generation: 190\n",
      "generation: 191\n",
      "generation: 192\n",
      "generation: 193\n",
      "generation: 194\n",
      "generation: 195\n",
      "generation: 196\n",
      "generation: 197\n",
      "generation: 198\n",
      "generation: 199\n",
      "generation: 200\n",
      "generation: 201\n",
      "GA result: \n",
      "{'x_best': array([31, 44, 48, 52, 54, 60, 51, 47, 50, 64,  9,  6,  5, 10, 13, 12, 14,\n",
      "       45, 73, 66,  7,  8, 16, 33, 24, 36, 35, 34, 38, 39, 25, 37, 49, 42,\n",
      "       43, 46, 58, 56, 57, 30, 29, 27, 23, 22, 19, 41, 55, 53, 59, 61, 80,\n",
      "       72, 65, 63, 62, 69, 75, 70, 74, 78, 79, 76, 77, 68, 67, 71, 15, 26,\n",
      "       28, 20,  1, 17, 18, 40, 21, 32,  2,  4, 11,  3]), 'e_best': 1.6127558914806168, 'time': 201, 'hist': [(1, 2.5016461058564765), (2, 2.443407263415674), (3, 2.391979428997538), (4, 2.391979428997538), (5, 2.391979428997538), (6, 2.3865253053335653), (7, 2.3865253053335653), (8, 2.3760377033938562), (9, 2.3329420221689334), (10, 2.3249297562865943), (11, 2.29102641218651), (12, 2.2778573042044625), (13, 2.2349406135690235), (14, 2.199162047784017), (15, 2.1978766612806506), (16, 2.1978766612806506), (17, 2.1462675223227974), (18, 2.107172337903169), (19, 2.107172337903169), (20, 2.107172337903169), (21, 2.107172337903169), (22, 2.107172337903169), (23, 2.107172337903169), (24, 2.107172337903169), (25, 2.086469342298937), (26, 2.086469342298937), (27, 2.086469342298937), (28, 2.086469342298937), (29, 2.086469342298937), (30, 2.086469342298937), (31, 2.086469342298937), (32, 2.086469342298937), (33, 2.081143138920572), (34, 2.081143138920572), (35, 2.081143138920572), (36, 2.081143138920572), (37, 2.005624081488323), (38, 2.005624081488323), (39, 2.005624081488323), (40, 2.005624081488323), (41, 2.005624081488323), (42, 2.005624081488323), (43, 2.005624081488323), (44, 1.9631615141170031), (45, 1.9631615141170031), (46, 1.9163322702316994), (47, 1.9040399906936052), (48, 1.900825393491168), (49, 1.900825393491168), (50, 1.900825393491168), (51, 1.900825393491168), (52, 1.900825393491168), (53, 1.900825393491168), (54, 1.900825393491168), (55, 1.900825393491168), (56, 1.900825393491168), (57, 1.900825393491168), (58, 1.900825393491168), (59, 1.900825393491168), (60, 1.900825393491168), (61, 1.900825393491168), (62, 1.900825393491168), (63, 1.900825393491168), (64, 1.900825393491168), (65, 1.900825393491168), (66, 1.900825393491168), (67, 1.900825393491168), (68, 1.900825393491168), (69, 1.900825393491168), (70, 1.8913997339379693), (71, 1.8913997339379693), (72, 1.8913997339379693), (73, 1.8632564106411862), (74, 1.8284291576745302), (75, 1.8216816468495174), (76, 1.8216816468495174), (77, 1.8216816468495174), (78, 1.8188039413991777), (79, 1.8177126171090578), (80, 1.8177126171090578), (81, 1.8136001685414211), (82, 1.8136001685414211), (83, 1.8028501207152763), (84, 1.7998210597270412), (85, 1.7901185704068814), (86, 1.7901185704068814), (87, 1.7901185704068814), (88, 1.7607812108064804), (89, 1.7607812108064804), (90, 1.7607812108064804), (91, 1.7546364273034563), (92, 1.7546364273034563), (93, 1.7546364273034563), (94, 1.7546364273034563), (95, 1.7546364273034563), (96, 1.7546364273034563), (97, 1.7546364273034563), (98, 1.7546364273034563), (99, 1.7363952941909484), (100, 1.7282058045359545), (101, 1.7231115905001542), (102, 1.7231115905001542), (103, 1.7231115905001542), (104, 1.7231115905001542), (105, 1.7231115905001542), (106, 1.7231115905001542), (107, 1.7231115905001542), (108, 1.7231115905001542), (109, 1.7231115905001542), (110, 1.7231115905001542), (111, 1.7231115905001542), (112, 1.7231115905001542), (113, 1.7231115905001542), (114, 1.7231115905001542), (115, 1.7231115905001542), (116, 1.7231115905001542), (117, 1.7231115905001542), (118, 1.7231115905001542), (119, 1.7231115905001542), (120, 1.7231115905001542), (121, 1.7231115905001542), (122, 1.7231115905001542), (123, 1.7231115905001542), (124, 1.7231115905001542), (125, 1.7231115905001542), (126, 1.7231115905001542), (127, 1.7231115905001542), (128, 1.7154788587302974), (129, 1.7154788587302974), (130, 1.7154788587302974), (131, 1.7077021975939042), (132, 1.7077021975939042), (133, 1.7077021975939042), (134, 1.7077021975939042), (135, 1.7077021975939042), (136, 1.7077021975939042), (137, 1.7077021975939042), (138, 1.7077021975939042), (139, 1.7077021975939042), (140, 1.7077021975939042), (141, 1.7077021975939042), (142, 1.7072335141359278), (143, 1.7072335141359278), (144, 1.7072335141359278), (145, 1.7072335141359278), (146, 1.7072335141359278), (147, 1.7072335141359278), (148, 1.7072335141359278), (149, 1.7072335141359278), (150, 1.7072335141359278), (151, 1.7072335141359278), (152, 1.7072335141359278), (153, 1.6986655539214484), (154, 1.6828109959194668), (155, 1.6828109959194668), (156, 1.6828109959194668), (157, 1.6828109959194668), (158, 1.6794789410986737), (159, 1.6794789410986737), (160, 1.6794789410986737), (161, 1.6794785398607073), (162, 1.6794785398607073), (163, 1.6794785398607073), (164, 1.6794785398607073), (165, 1.6794785398607073), (166, 1.6794785398607073), (167, 1.6794785398607073), (168, 1.6794785398607073), (169, 1.6794785398607073), (170, 1.6794785398607073), (171, 1.6794785398607073), (172, 1.6794785398607073), (173, 1.6794785398607073), (174, 1.6794785398607073), (175, 1.6794785398607073), (176, 1.6794785398607073), (177, 1.6794785398607073), (178, 1.665942558452742), (179, 1.665942558452742), (180, 1.6658365160300355), (181, 1.6658365160300355), (182, 1.6658365160300355), (183, 1.6658365160300355), (184, 1.6548446883933094), (185, 1.6548446883933094), (186, 1.6548446883933094), (187, 1.6548446883933094), (188, 1.6504315222969794), (189, 1.6495708068925388), (190, 1.6445974194927055), (191, 1.6407717482381807), (192, 1.6407717482381807), (193, 1.6294598874722097), (194, 1.6135014519243227), (195, 1.6135014519243227), (196, 1.6135014519243227), (197, 1.6135014519243227), (198, 1.6135014519243227), (199, 1.6135014519243227), (200, 1.6127558914806168), (201, 1.6127558914806168)]}\n",
      "SA init: \n",
      "step: 1, temperature: 400, energy: 1.6127558914806168\n",
      "step: 2, temperature: 399.0, energy: 1.606766756490946\n",
      "step: 3, temperature: 398.0, energy: 1.606766756490946\n",
      "step: 4, temperature: 397.0, energy: 1.606766756490946\n",
      "step: 5, temperature: 396.0, energy: 1.606766756490946\n",
      "step: 6, temperature: 395.0, energy: 1.606766756490946\n",
      "step: 7, temperature: 394.0, energy: 1.606766756490946\n",
      "step: 8, temperature: 393.0, energy: 1.606766756490946\n",
      "step: 9, temperature: 392.0, energy: 1.606766756490946\n",
      "step: 10, temperature: 391.0, energy: 1.606766756490946\n",
      "step: 11, temperature: 390.0, energy: 1.606766756490946\n",
      "step: 12, temperature: 389.0, energy: 1.606766756490946\n",
      "step: 13, temperature: 388.0, energy: 1.606766756490946\n",
      "step: 14, temperature: 387.0, energy: 1.606766756490946\n",
      "step: 15, temperature: 386.0, energy: 1.606766756490946\n",
      "step: 16, temperature: 385.0, energy: 1.606766756490946\n",
      "step: 17, temperature: 384.0, energy: 1.606766756490946\n",
      "step: 18, temperature: 383.0, energy: 1.606766756490946\n",
      "step: 19, temperature: 382.0, energy: 1.606766756490946\n",
      "step: 20, temperature: 381.0, energy: 1.606766756490946\n",
      "step: 21, temperature: 380.0, energy: 1.606766756490946\n",
      "step: 22, temperature: 379.0, energy: 1.606766756490946\n",
      "step: 23, temperature: 378.0, energy: 1.606766756490946\n",
      "step: 24, temperature: 377.0, energy: 1.606766756490946\n",
      "step: 25, temperature: 376.0, energy: 1.606766756490946\n",
      "step: 26, temperature: 375.0, energy: 1.606766756490946\n",
      "step: 27, temperature: 374.0, energy: 1.606766756490946\n",
      "step: 28, temperature: 373.0, energy: 1.606766756490946\n",
      "step: 29, temperature: 372.0, energy: 1.606766756490946\n",
      "step: 30, temperature: 371.0, energy: 1.606766756490946\n",
      "step: 31, temperature: 370.0, energy: 1.606766756490946\n",
      "step: 32, temperature: 369.0, energy: 1.606766756490946\n",
      "step: 33, temperature: 368.0, energy: 1.606766756490946\n",
      "step: 34, temperature: 367.0, energy: 1.606766756490946\n",
      "step: 35, temperature: 366.0, energy: 1.606766756490946\n",
      "step: 36, temperature: 365.0, energy: 1.606766756490946\n",
      "step: 37, temperature: 364.0, energy: 1.606766756490946\n",
      "step: 38, temperature: 363.0, energy: 1.606766756490946\n",
      "step: 39, temperature: 362.0, energy: 1.606766756490946\n",
      "step: 40, temperature: 361.0, energy: 1.606766756490946\n",
      "step: 41, temperature: 360.0, energy: 1.606766756490946\n",
      "step: 42, temperature: 359.0, energy: 1.606766756490946\n",
      "step: 43, temperature: 358.0, energy: 1.606766756490946\n",
      "step: 44, temperature: 357.0, energy: 1.606766756490946\n",
      "step: 45, temperature: 356.0, energy: 1.6036781153027315\n",
      "step: 46, temperature: 355.0, energy: 1.6036781153027315\n",
      "step: 47, temperature: 354.0, energy: 1.6036781153027315\n",
      "step: 48, temperature: 353.0, energy: 1.6036781153027315\n",
      "step: 49, temperature: 352.0, energy: 1.6036781153027315\n",
      "step: 50, temperature: 351.0, energy: 1.6036781153027315\n",
      "step: 51, temperature: 350.0, energy: 1.6036781153027315\n",
      "step: 52, temperature: 349.0, energy: 1.6036781153027315\n",
      "step: 53, temperature: 348.0, energy: 1.6036781153027315\n",
      "step: 54, temperature: 347.0, energy: 1.6036781153027315\n",
      "step: 55, temperature: 346.0, energy: 1.6036781153027315\n",
      "step: 56, temperature: 345.0, energy: 1.6036781153027315\n",
      "step: 57, temperature: 344.0, energy: 1.6036781153027315\n",
      "step: 58, temperature: 343.0, energy: 1.6032979730985766\n",
      "step: 59, temperature: 342.0, energy: 1.6032979730985766\n",
      "step: 60, temperature: 341.0, energy: 1.5701390991331596\n",
      "step: 61, temperature: 340.0, energy: 1.5701390991331596\n",
      "step: 62, temperature: 339.0, energy: 1.5694292480970933\n",
      "step: 63, temperature: 338.0, energy: 1.5683422635843214\n",
      "step: 64, temperature: 337.0, energy: 1.5683422635843214\n",
      "step: 65, temperature: 336.0, energy: 1.5683422635843214\n",
      "step: 66, temperature: 335.0, energy: 1.5683422635843214\n",
      "step: 67, temperature: 334.0, energy: 1.5642658766185202\n",
      "step: 68, temperature: 333.0, energy: 1.5642658766185202\n",
      "step: 69, temperature: 332.0, energy: 1.5642658766185202\n",
      "step: 70, temperature: 331.0, energy: 1.5642658766185202\n",
      "step: 71, temperature: 330.0, energy: 1.5642658766185202\n",
      "step: 72, temperature: 329.0, energy: 1.5642658766185202\n",
      "step: 73, temperature: 328.0, energy: 1.5603491242264675\n",
      "step: 74, temperature: 327.0, energy: 1.5603491242264675\n",
      "step: 75, temperature: 326.0, energy: 1.5603491242264675\n",
      "step: 76, temperature: 325.0, energy: 1.5603491242264675\n",
      "step: 77, temperature: 324.0, energy: 1.5603491242264675\n",
      "step: 78, temperature: 323.0, energy: 1.5603491242264675\n",
      "step: 79, temperature: 322.0, energy: 1.5603491242264675\n",
      "step: 80, temperature: 321.0, energy: 1.5603491242264675\n",
      "step: 81, temperature: 320.0, energy: 1.5603491242264675\n",
      "step: 82, temperature: 319.0, energy: 1.5603491242264675\n",
      "step: 83, temperature: 318.0, energy: 1.5603491242264675\n",
      "step: 84, temperature: 317.0, energy: 1.5603491242264675\n",
      "step: 85, temperature: 316.0, energy: 1.5603491242264675\n",
      "step: 86, temperature: 315.0, energy: 1.5603491242264675\n",
      "step: 87, temperature: 314.0, energy: 1.5603491242264675\n",
      "step: 88, temperature: 313.0, energy: 1.5603491242264675\n",
      "step: 89, temperature: 312.0, energy: 1.5603491242264675\n",
      "step: 90, temperature: 311.0, energy: 1.5603491242264675\n",
      "step: 91, temperature: 310.0, energy: 1.5603491242264675\n",
      "step: 92, temperature: 309.0, energy: 1.5603491242264675\n",
      "step: 93, temperature: 308.0, energy: 1.5603491242264675\n",
      "step: 94, temperature: 307.0, energy: 1.5603491242264675\n",
      "step: 95, temperature: 306.0, energy: 1.5603491242264675\n",
      "step: 96, temperature: 305.0, energy: 1.5603491242264675\n",
      "step: 97, temperature: 304.0, energy: 1.5603491242264675\n",
      "step: 98, temperature: 303.0, energy: 1.5603491242264675\n",
      "step: 99, temperature: 302.0, energy: 1.5603491242264675\n",
      "step: 100, temperature: 301.0, energy: 1.5603491242264675\n",
      "step: 101, temperature: 300.0, energy: 1.5603491242264675\n",
      "step: 102, temperature: 299.0, energy: 1.5603491242264675\n",
      "step: 103, temperature: 298.0, energy: 1.5603491242264675\n",
      "step: 104, temperature: 297.0, energy: 1.5603491242264675\n",
      "step: 105, temperature: 296.0, energy: 1.5603491242264675\n",
      "step: 106, temperature: 295.0, energy: 1.5603491242264675\n",
      "step: 107, temperature: 294.0, energy: 1.5603491242264675\n",
      "step: 108, temperature: 293.0, energy: 1.5603491242264675\n",
      "step: 109, temperature: 292.0, energy: 1.5603491242264675\n",
      "step: 110, temperature: 291.0, energy: 1.5603491242264675\n",
      "step: 111, temperature: 290.0, energy: 1.5603491242264675\n",
      "step: 112, temperature: 289.0, energy: 1.5603491242264675\n",
      "step: 113, temperature: 288.0, energy: 1.5603491242264675\n",
      "step: 114, temperature: 287.0, energy: 1.5603491242264675\n",
      "step: 115, temperature: 286.0, energy: 1.5603491242264675\n",
      "step: 116, temperature: 285.0, energy: 1.5603491242264675\n",
      "step: 117, temperature: 284.0, energy: 1.5603491242264675\n",
      "step: 118, temperature: 283.0, energy: 1.5603491242264675\n",
      "step: 119, temperature: 282.0, energy: 1.5603491242264675\n",
      "step: 120, temperature: 281.0, energy: 1.5603491242264675\n",
      "step: 121, temperature: 280.0, energy: 1.5594908483759977\n",
      "step: 122, temperature: 279.0, energy: 1.5594908483759977\n",
      "step: 123, temperature: 278.0, energy: 1.5594908483759977\n",
      "step: 124, temperature: 277.0, energy: 1.5594908483759977\n",
      "step: 125, temperature: 276.0, energy: 1.5594908483759977\n",
      "step: 126, temperature: 275.0, energy: 1.5594908483759977\n",
      "step: 127, temperature: 274.0, energy: 1.5594908483759977\n",
      "step: 128, temperature: 273.0, energy: 1.5594908483759977\n",
      "step: 129, temperature: 272.0, energy: 1.5594908483759977\n",
      "step: 130, temperature: 271.0, energy: 1.5594908483759977\n",
      "step: 131, temperature: 270.0, energy: 1.5594908483759977\n",
      "step: 132, temperature: 269.0, energy: 1.5594908483759977\n",
      "step: 133, temperature: 268.0, energy: 1.5594908483759977\n",
      "step: 134, temperature: 267.0, energy: 1.5594908483759977\n",
      "step: 135, temperature: 266.0, energy: 1.5594908483759977\n",
      "step: 136, temperature: 265.0, energy: 1.5594908483759977\n",
      "step: 137, temperature: 264.0, energy: 1.5594908483759977\n",
      "step: 138, temperature: 263.0, energy: 1.5594908483759977\n",
      "step: 139, temperature: 262.0, energy: 1.5594908483759977\n",
      "step: 140, temperature: 261.0, energy: 1.5594908483759977\n",
      "step: 141, temperature: 260.0, energy: 1.5594908483759977\n",
      "step: 142, temperature: 259.0, energy: 1.5505593824225021\n",
      "step: 143, temperature: 258.0, energy: 1.5505593824225021\n",
      "step: 144, temperature: 257.0, energy: 1.5505593824225021\n",
      "step: 145, temperature: 256.0, energy: 1.5505593824225021\n",
      "step: 146, temperature: 255.0, energy: 1.5505593824225021\n",
      "step: 147, temperature: 254.0, energy: 1.5505593824225021\n",
      "step: 148, temperature: 253.0, energy: 1.5505593824225021\n",
      "step: 149, temperature: 252.0, energy: 1.5505593824225021\n",
      "step: 150, temperature: 251.0, energy: 1.5505593824225021\n",
      "step: 151, temperature: 250.0, energy: 1.5505593824225021\n",
      "step: 152, temperature: 249.0, energy: 1.5505593824225021\n",
      "step: 153, temperature: 248.0, energy: 1.5505593824225021\n",
      "step: 154, temperature: 247.0, energy: 1.5505593824225021\n",
      "step: 155, temperature: 246.0, energy: 1.5505593824225021\n",
      "step: 156, temperature: 245.0, energy: 1.5505593824225021\n",
      "step: 157, temperature: 244.0, energy: 1.5505593824225021\n",
      "step: 158, temperature: 243.0, energy: 1.5505593824225021\n",
      "step: 159, temperature: 242.0, energy: 1.5505593824225021\n",
      "step: 160, temperature: 241.0, energy: 1.5505593824225021\n",
      "step: 161, temperature: 240.0, energy: 1.5505593824225021\n",
      "step: 162, temperature: 239.0, energy: 1.5505593824225021\n",
      "step: 163, temperature: 238.0, energy: 1.5505593824225021\n",
      "step: 164, temperature: 237.0, energy: 1.5505593824225021\n",
      "step: 165, temperature: 236.0, energy: 1.5505593824225021\n",
      "step: 166, temperature: 235.0, energy: 1.5505593824225021\n",
      "step: 167, temperature: 234.0, energy: 1.5505593824225021\n",
      "step: 168, temperature: 233.0, energy: 1.5505593824225021\n",
      "step: 169, temperature: 232.0, energy: 1.5505593824225021\n",
      "step: 170, temperature: 231.0, energy: 1.5505593824225021\n",
      "step: 171, temperature: 230.0, energy: 1.5505593824225021\n",
      "step: 172, temperature: 229.0, energy: 1.5505593824225021\n",
      "step: 173, temperature: 228.0, energy: 1.5505593824225021\n",
      "step: 174, temperature: 227.0, energy: 1.5505593824225021\n",
      "step: 175, temperature: 226.0, energy: 1.5505593824225021\n",
      "step: 176, temperature: 225.0, energy: 1.5505593824225021\n",
      "step: 177, temperature: 224.0, energy: 1.5505593824225021\n",
      "step: 178, temperature: 223.0, energy: 1.5505593824225021\n",
      "step: 179, temperature: 222.0, energy: 1.5505593824225021\n",
      "step: 180, temperature: 221.0, energy: 1.5505593824225021\n",
      "step: 181, temperature: 220.0, energy: 1.5505593824225021\n",
      "step: 182, temperature: 219.0, energy: 1.5505593824225021\n",
      "step: 183, temperature: 218.0, energy: 1.5505593824225021\n",
      "step: 184, temperature: 217.0, energy: 1.5505593824225021\n",
      "step: 185, temperature: 216.0, energy: 1.5505593824225021\n",
      "step: 186, temperature: 215.0, energy: 1.5505593824225021\n",
      "step: 187, temperature: 214.0, energy: 1.5505593824225021\n",
      "step: 188, temperature: 213.0, energy: 1.5505593824225021\n",
      "step: 189, temperature: 212.0, energy: 1.5505593824225021\n",
      "step: 190, temperature: 211.0, energy: 1.5505593824225021\n",
      "step: 191, temperature: 210.0, energy: 1.5505593824225021\n",
      "step: 192, temperature: 209.0, energy: 1.5505593824225021\n",
      "step: 193, temperature: 208.0, energy: 1.5505593824225021\n",
      "step: 194, temperature: 207.0, energy: 1.5505593824225021\n",
      "step: 195, temperature: 206.0, energy: 1.5505593824225021\n",
      "step: 196, temperature: 205.0, energy: 1.5505593824225021\n",
      "step: 197, temperature: 204.0, energy: 1.5505593824225021\n",
      "step: 198, temperature: 203.0, energy: 1.5505593824225021\n",
      "step: 199, temperature: 202.0, energy: 1.5505593824225021\n",
      "step: 200, temperature: 201.0, energy: 1.5505593824225021\n",
      "step: 201, temperature: 200.0, energy: 1.5505593824225021\n",
      "step: 202, temperature: 199.0, energy: 1.5505593824225021\n",
      "step: 203, temperature: 198.0, energy: 1.5505593824225021\n",
      "step: 204, temperature: 197.0, energy: 1.5505593824225021\n",
      "step: 205, temperature: 196.0, energy: 1.5505593824225021\n",
      "step: 206, temperature: 195.0, energy: 1.5505593824225021\n",
      "step: 207, temperature: 194.0, energy: 1.5505593824225021\n",
      "step: 208, temperature: 193.0, energy: 1.5505593824225021\n",
      "step: 209, temperature: 192.0, energy: 1.5505593824225021\n",
      "step: 210, temperature: 191.0, energy: 1.5505593824225021\n",
      "step: 211, temperature: 190.0, energy: 1.5505593824225021\n",
      "step: 212, temperature: 189.0, energy: 1.5505593824225021\n",
      "step: 213, temperature: 188.0, energy: 1.5505593824225021\n",
      "step: 214, temperature: 187.0, energy: 1.5505593824225021\n",
      "step: 215, temperature: 186.0, energy: 1.5505593824225021\n",
      "step: 216, temperature: 185.0, energy: 1.5505593824225021\n",
      "step: 217, temperature: 184.0, energy: 1.5505593824225021\n",
      "step: 218, temperature: 183.0, energy: 1.5505593824225021\n",
      "step: 219, temperature: 182.0, energy: 1.5505593824225021\n",
      "step: 220, temperature: 181.0, energy: 1.5505593824225021\n",
      "step: 221, temperature: 180.0, energy: 1.5505593824225021\n",
      "step: 222, temperature: 179.0, energy: 1.5505593824225021\n",
      "step: 223, temperature: 178.0, energy: 1.5505593824225021\n",
      "step: 224, temperature: 177.0, energy: 1.5505593824225021\n",
      "step: 225, temperature: 176.0, energy: 1.5505593824225021\n",
      "step: 226, temperature: 175.0, energy: 1.5505593824225021\n",
      "step: 227, temperature: 174.0, energy: 1.5505593824225021\n",
      "step: 228, temperature: 173.0, energy: 1.5505593824225021\n",
      "step: 229, temperature: 172.0, energy: 1.5505593824225021\n",
      "step: 230, temperature: 171.0, energy: 1.5505593824225021\n",
      "step: 231, temperature: 170.0, energy: 1.5505593824225021\n",
      "step: 232, temperature: 169.0, energy: 1.5505593824225021\n",
      "step: 233, temperature: 168.0, energy: 1.5505593824225021\n",
      "step: 234, temperature: 167.0, energy: 1.5505593824225021\n",
      "step: 235, temperature: 166.0, energy: 1.5505593824225021\n",
      "step: 236, temperature: 165.0, energy: 1.5505593824225021\n",
      "step: 237, temperature: 164.0, energy: 1.5505593824225021\n",
      "step: 238, temperature: 163.0, energy: 1.5505593824225021\n",
      "step: 239, temperature: 162.0, energy: 1.5505593824225021\n",
      "step: 240, temperature: 161.0, energy: 1.5505593824225021\n",
      "step: 241, temperature: 160.0, energy: 1.5505593824225021\n",
      "step: 242, temperature: 159.0, energy: 1.5505593824225021\n",
      "step: 243, temperature: 158.0, energy: 1.5505593824225021\n",
      "step: 244, temperature: 157.0, energy: 1.5505593824225021\n",
      "step: 245, temperature: 156.0, energy: 1.5505593824225021\n",
      "step: 246, temperature: 155.0, energy: 1.5505593824225021\n",
      "step: 247, temperature: 154.0, energy: 1.5505593824225021\n",
      "step: 248, temperature: 153.0, energy: 1.5505593824225021\n",
      "step: 249, temperature: 152.0, energy: 1.5505593824225021\n",
      "step: 250, temperature: 151.0, energy: 1.5505593824225021\n",
      "step: 251, temperature: 150.0, energy: 1.5505593824225021\n",
      "step: 252, temperature: 149.0, energy: 1.5505593824225021\n",
      "step: 253, temperature: 148.0, energy: 1.5505593824225021\n",
      "step: 254, temperature: 147.0, energy: 1.5505593824225021\n",
      "step: 255, temperature: 146.0, energy: 1.5482368613854431\n",
      "step: 256, temperature: 145.0, energy: 1.5482368613854431\n",
      "step: 257, temperature: 144.0, energy: 1.5482368613854431\n",
      "step: 258, temperature: 143.0, energy: 1.5482368613854431\n",
      "step: 259, temperature: 142.0, energy: 1.5482368613854431\n",
      "step: 260, temperature: 141.0, energy: 1.5482368613854431\n",
      "step: 261, temperature: 140.0, energy: 1.5482368613854431\n",
      "step: 262, temperature: 139.0, energy: 1.5482368613854431\n",
      "step: 263, temperature: 138.0, energy: 1.5482368613854431\n",
      "step: 264, temperature: 137.0, energy: 1.5482368613854431\n",
      "step: 265, temperature: 136.0, energy: 1.5482368613854431\n",
      "step: 266, temperature: 135.0, energy: 1.5482368613854431\n",
      "step: 267, temperature: 134.0, energy: 1.5482368613854431\n",
      "step: 268, temperature: 133.0, energy: 1.5482368613854431\n",
      "step: 269, temperature: 132.0, energy: 1.5482368613854431\n",
      "step: 270, temperature: 131.0, energy: 1.5482368613854431\n",
      "step: 271, temperature: 130.0, energy: 1.5482368613854431\n",
      "step: 272, temperature: 129.0, energy: 1.5482368613854431\n",
      "step: 273, temperature: 128.0, energy: 1.5482368613854431\n",
      "step: 274, temperature: 127.0, energy: 1.5482368613854431\n",
      "step: 275, temperature: 126.0, energy: 1.5482368613854431\n",
      "step: 276, temperature: 125.0, energy: 1.5482368613854431\n",
      "step: 277, temperature: 124.0, energy: 1.5479666207340244\n",
      "step: 278, temperature: 123.0, energy: 1.5479666207340244\n",
      "step: 279, temperature: 122.0, energy: 1.5479666207340244\n",
      "step: 280, temperature: 121.0, energy: 1.5479666207340244\n",
      "step: 281, temperature: 120.0, energy: 1.5479666207340244\n",
      "step: 282, temperature: 119.0, energy: 1.5479666207340244\n",
      "step: 283, temperature: 118.0, energy: 1.5479666207340244\n",
      "step: 284, temperature: 117.0, energy: 1.5479666207340244\n",
      "step: 285, temperature: 116.0, energy: 1.5479666207340244\n",
      "step: 286, temperature: 115.0, energy: 1.5479666207340244\n",
      "step: 287, temperature: 114.0, energy: 1.5479666207340244\n",
      "step: 288, temperature: 113.0, energy: 1.5479666207340244\n",
      "step: 289, temperature: 112.0, energy: 1.5479666207340244\n",
      "step: 290, temperature: 111.0, energy: 1.5479666207340244\n",
      "step: 291, temperature: 110.0, energy: 1.5479666207340244\n",
      "step: 292, temperature: 109.0, energy: 1.5479666207340244\n",
      "step: 293, temperature: 108.0, energy: 1.5479666207340244\n",
      "step: 294, temperature: 107.0, energy: 1.5479666207340244\n",
      "step: 295, temperature: 106.0, energy: 1.5479666207340244\n",
      "step: 296, temperature: 105.0, energy: 1.5479666207340244\n",
      "step: 297, temperature: 104.0, energy: 1.5479666207340244\n",
      "step: 298, temperature: 103.0, energy: 1.5479666207340244\n",
      "step: 299, temperature: 102.0, energy: 1.5479666207340244\n",
      "step: 300, temperature: 101.0, energy: 1.5423993789411692\n",
      "step: 301, temperature: 100.0, energy: 1.5423993789411692\n",
      "step: 302, temperature: 99.0, energy: 1.535105152671647\n",
      "step: 303, temperature: 98.0, energy: 1.535105152671647\n",
      "step: 304, temperature: 97.0, energy: 1.535105152671647\n",
      "step: 305, temperature: 96.0, energy: 1.535105152671647\n",
      "step: 306, temperature: 95.0, energy: 1.535105152671647\n",
      "step: 307, temperature: 94.0, energy: 1.535105152671647\n",
      "step: 308, temperature: 93.0, energy: 1.535105152671647\n",
      "step: 309, temperature: 92.0, energy: 1.535105152671647\n",
      "step: 310, temperature: 91.0, energy: 1.535105152671647\n",
      "step: 311, temperature: 90.0, energy: 1.535105152671647\n",
      "step: 312, temperature: 89.0, energy: 1.535105152671647\n",
      "step: 313, temperature: 88.0, energy: 1.535105152671647\n",
      "step: 314, temperature: 87.0, energy: 1.535105152671647\n",
      "step: 315, temperature: 86.0, energy: 1.535105152671647\n",
      "step: 316, temperature: 85.0, energy: 1.535105152671647\n",
      "step: 317, temperature: 84.0, energy: 1.535105152671647\n",
      "step: 318, temperature: 83.0, energy: 1.5342912486960731\n",
      "step: 319, temperature: 82.0, energy: 1.5342912486960731\n",
      "step: 320, temperature: 81.0, energy: 1.5342912486960731\n",
      "step: 321, temperature: 80.0, energy: 1.5342912486960731\n",
      "step: 322, temperature: 79.0, energy: 1.5342912486960731\n",
      "step: 323, temperature: 78.0, energy: 1.5342912486960731\n",
      "step: 324, temperature: 77.0, energy: 1.5342912486960731\n",
      "step: 325, temperature: 76.0, energy: 1.5342912486960731\n",
      "step: 326, temperature: 75.0, energy: 1.5342912486960731\n",
      "step: 327, temperature: 74.0, energy: 1.5342912486960731\n",
      "step: 328, temperature: 73.0, energy: 1.5342912486960731\n",
      "step: 329, temperature: 72.0, energy: 1.5342912486960731\n",
      "step: 330, temperature: 71.0, energy: 1.5342912486960731\n",
      "step: 331, temperature: 70.0, energy: 1.5342912486960731\n",
      "step: 332, temperature: 69.0, energy: 1.5342912486960731\n",
      "step: 333, temperature: 68.0, energy: 1.5342912486960731\n",
      "step: 334, temperature: 67.0, energy: 1.5342912486960731\n",
      "step: 335, temperature: 66.0, energy: 1.5342912486960731\n",
      "step: 336, temperature: 65.0, energy: 1.5342912486960731\n",
      "step: 337, temperature: 64.0, energy: 1.5342912486960731\n",
      "step: 338, temperature: 63.0, energy: 1.5342912486960731\n",
      "step: 339, temperature: 62.0, energy: 1.5342912486960731\n",
      "step: 340, temperature: 61.0, energy: 1.5342912486960731\n",
      "step: 341, temperature: 60.0, energy: 1.5342912486960731\n",
      "step: 342, temperature: 59.0, energy: 1.5342912486960731\n",
      "step: 343, temperature: 58.0, energy: 1.5342912486960731\n",
      "step: 344, temperature: 57.0, energy: 1.5342912486960731\n",
      "step: 345, temperature: 56.0, energy: 1.5342912486960731\n",
      "step: 346, temperature: 55.0, energy: 1.5342912486960731\n",
      "step: 347, temperature: 54.0, energy: 1.5342912486960731\n",
      "step: 348, temperature: 53.0, energy: 1.5342912486960731\n",
      "step: 349, temperature: 52.0, energy: 1.5184955670751368\n",
      "step: 350, temperature: 51.0, energy: 1.5184955670751368\n",
      "step: 351, temperature: 50.0, energy: 1.5184955670751368\n",
      "step: 352, temperature: 49.0, energy: 1.5184955670751368\n",
      "step: 353, temperature: 48.0, energy: 1.5184955670751368\n",
      "step: 354, temperature: 47.0, energy: 1.51789410364093\n",
      "step: 355, temperature: 46.0, energy: 1.51789410364093\n",
      "step: 356, temperature: 45.0, energy: 1.51789410364093\n",
      "step: 357, temperature: 44.0, energy: 1.51789410364093\n",
      "step: 358, temperature: 43.0, energy: 1.51789410364093\n",
      "step: 359, temperature: 42.0, energy: 1.51789410364093\n",
      "step: 360, temperature: 41.0, energy: 1.51789410364093\n",
      "step: 361, temperature: 40.0, energy: 1.51789410364093\n",
      "step: 362, temperature: 39.0, energy: 1.51789410364093\n",
      "step: 363, temperature: 38.0, energy: 1.51789410364093\n",
      "step: 364, temperature: 37.0, energy: 1.51789410364093\n",
      "step: 365, temperature: 36.0, energy: 1.51789410364093\n",
      "step: 366, temperature: 35.0, energy: 1.51789410364093\n",
      "step: 367, temperature: 34.0, energy: 1.51789410364093\n",
      "step: 368, temperature: 33.0, energy: 1.51789410364093\n",
      "step: 369, temperature: 32.0, energy: 1.51789410364093\n",
      "step: 370, temperature: 31.0, energy: 1.51789410364093\n",
      "step: 371, temperature: 30.0, energy: 1.51789410364093\n",
      "step: 372, temperature: 29.0, energy: 1.51789410364093\n",
      "step: 373, temperature: 28.0, energy: 1.51789410364093\n",
      "step: 374, temperature: 27.0, energy: 1.51789410364093\n",
      "step: 375, temperature: 26.0, energy: 1.51789410364093\n",
      "step: 376, temperature: 25.0, energy: 1.51789410364093\n",
      "step: 377, temperature: 24.0, energy: 1.51789410364093\n",
      "step: 378, temperature: 23.0, energy: 1.51789410364093\n",
      "step: 379, temperature: 22.0, energy: 1.51789410364093\n",
      "step: 380, temperature: 21.0, energy: 1.51789410364093\n",
      "step: 381, temperature: 20.0, energy: 1.51789410364093\n",
      "step: 382, temperature: 19.0, energy: 1.51789410364093\n",
      "step: 383, temperature: 18.0, energy: 1.51789410364093\n",
      "step: 384, temperature: 17.0, energy: 1.51789410364093\n",
      "step: 385, temperature: 16.0, energy: 1.51789410364093\n",
      "step: 386, temperature: 15.0, energy: 1.51789410364093\n",
      "step: 387, temperature: 14.0, energy: 1.51789410364093\n",
      "step: 388, temperature: 13.0, energy: 1.51789410364093\n",
      "step: 389, temperature: 12.0, energy: 1.51789410364093\n",
      "step: 390, temperature: 11.0, energy: 1.51789410364093\n",
      "step: 391, temperature: 10.0, energy: 1.51789410364093\n",
      "step: 392, temperature: 9.0, energy: 1.51789410364093\n",
      "step: 393, temperature: 8.0, energy: 1.5143677560773063\n",
      "step: 394, temperature: 7.0, energy: 1.5143677560773063\n",
      "step: 395, temperature: 6.0, energy: 1.5143677560773063\n",
      "step: 396, temperature: 5.0, energy: 1.5143677560773063\n",
      "step: 397, temperature: 4.0, energy: 1.5143677560773063\n",
      "step: 398, temperature: 3.0, energy: 1.5143677560773063\n",
      "step: 399, temperature: 2.0, energy: 1.5143677560773063\n",
      "step: 400, temperature: 1.0, energy: 1.5143677560773063\n",
      "SA result: \n",
      "{'x_best': array([44, 48, 52, 54, 60, 51, 47, 46,  5,  6,  9, 10, 12, 14, 63, 66,  7,\n",
      "        8, 20, 33, 24, 36, 35, 34, 38, 39, 25, 37, 31, 49, 42, 43, 59, 58,\n",
      "       56, 57, 50, 28, 30, 29, 27, 23, 22, 19, 41, 64, 55, 53, 61, 80, 72,\n",
      "       65, 45, 62, 69, 75, 70, 74, 77, 76, 79, 78, 73, 68, 67, 71, 13, 15,\n",
      "       26, 32,  1, 16, 17, 18, 40, 21,  2,  3, 11,  4]), 'e_best': 1.5143677560773063, 'temperature': 0.0, 'time': 401, 'hist': [(1, 1.6127558914806168, 400), (2, 1.606766756490946, 399.0), (3, 1.606766756490946, 398.0), (4, 1.606766756490946, 397.0), (5, 1.606766756490946, 396.0), (6, 1.606766756490946, 395.0), (7, 1.606766756490946, 394.0), (8, 1.606766756490946, 393.0), (9, 1.606766756490946, 392.0), (10, 1.606766756490946, 391.0), (11, 1.606766756490946, 390.0), (12, 1.606766756490946, 389.0), (13, 1.606766756490946, 388.0), (14, 1.606766756490946, 387.0), (15, 1.606766756490946, 386.0), (16, 1.606766756490946, 385.0), (17, 1.606766756490946, 384.0), (18, 1.606766756490946, 383.0), (19, 1.606766756490946, 382.0), (20, 1.606766756490946, 381.0), (21, 1.606766756490946, 380.0), (22, 1.606766756490946, 379.0), (23, 1.606766756490946, 378.0), (24, 1.606766756490946, 377.0), (25, 1.606766756490946, 376.0), (26, 1.606766756490946, 375.0), (27, 1.606766756490946, 374.0), (28, 1.606766756490946, 373.0), (29, 1.606766756490946, 372.0), (30, 1.606766756490946, 371.0), (31, 1.606766756490946, 370.0), (32, 1.606766756490946, 369.0), (33, 1.606766756490946, 368.0), (34, 1.606766756490946, 367.0), (35, 1.606766756490946, 366.0), (36, 1.606766756490946, 365.0), (37, 1.606766756490946, 364.0), (38, 1.606766756490946, 363.0), (39, 1.606766756490946, 362.0), (40, 1.606766756490946, 361.0), (41, 1.606766756490946, 360.0), (42, 1.606766756490946, 359.0), (43, 1.606766756490946, 358.0), (44, 1.606766756490946, 357.0), (45, 1.6036781153027315, 356.0), (46, 1.6036781153027315, 355.0), (47, 1.6036781153027315, 354.0), (48, 1.6036781153027315, 353.0), (49, 1.6036781153027315, 352.0), (50, 1.6036781153027315, 351.0), (51, 1.6036781153027315, 350.0), (52, 1.6036781153027315, 349.0), (53, 1.6036781153027315, 348.0), (54, 1.6036781153027315, 347.0), (55, 1.6036781153027315, 346.0), (56, 1.6036781153027315, 345.0), (57, 1.6036781153027315, 344.0), (58, 1.6032979730985766, 343.0), (59, 1.6032979730985766, 342.0), (60, 1.5701390991331596, 341.0), (61, 1.5701390991331596, 340.0), (62, 1.5694292480970933, 339.0), (63, 1.5683422635843214, 338.0), (64, 1.5683422635843214, 337.0), (65, 1.5683422635843214, 336.0), (66, 1.5683422635843214, 335.0), (67, 1.5642658766185202, 334.0), (68, 1.5642658766185202, 333.0), (69, 1.5642658766185202, 332.0), (70, 1.5642658766185202, 331.0), (71, 1.5642658766185202, 330.0), (72, 1.5642658766185202, 329.0), (73, 1.5603491242264675, 328.0), (74, 1.5603491242264675, 327.0), (75, 1.5603491242264675, 326.0), (76, 1.5603491242264675, 325.0), (77, 1.5603491242264675, 324.0), (78, 1.5603491242264675, 323.0), (79, 1.5603491242264675, 322.0), (80, 1.5603491242264675, 321.0), (81, 1.5603491242264675, 320.0), (82, 1.5603491242264675, 319.0), (83, 1.5603491242264675, 318.0), (84, 1.5603491242264675, 317.0), (85, 1.5603491242264675, 316.0), (86, 1.5603491242264675, 315.0), (87, 1.5603491242264675, 314.0), (88, 1.5603491242264675, 313.0), (89, 1.5603491242264675, 312.0), (90, 1.5603491242264675, 311.0), (91, 1.5603491242264675, 310.0), (92, 1.5603491242264675, 309.0), (93, 1.5603491242264675, 308.0), (94, 1.5603491242264675, 307.0), (95, 1.5603491242264675, 306.0), (96, 1.5603491242264675, 305.0), (97, 1.5603491242264675, 304.0), (98, 1.5603491242264675, 303.0), (99, 1.5603491242264675, 302.0), (100, 1.5603491242264675, 301.0), (101, 1.5603491242264675, 300.0), (102, 1.5603491242264675, 299.0), (103, 1.5603491242264675, 298.0), (104, 1.5603491242264675, 297.0), (105, 1.5603491242264675, 296.0), (106, 1.5603491242264675, 295.0), (107, 1.5603491242264675, 294.0), (108, 1.5603491242264675, 293.0), (109, 1.5603491242264675, 292.0), (110, 1.5603491242264675, 291.0), (111, 1.5603491242264675, 290.0), (112, 1.5603491242264675, 289.0), (113, 1.5603491242264675, 288.0), (114, 1.5603491242264675, 287.0), (115, 1.5603491242264675, 286.0), (116, 1.5603491242264675, 285.0), (117, 1.5603491242264675, 284.0), (118, 1.5603491242264675, 283.0), (119, 1.5603491242264675, 282.0), (120, 1.5603491242264675, 281.0), (121, 1.5594908483759977, 280.0), (122, 1.5594908483759977, 279.0), (123, 1.5594908483759977, 278.0), (124, 1.5594908483759977, 277.0), (125, 1.5594908483759977, 276.0), (126, 1.5594908483759977, 275.0), (127, 1.5594908483759977, 274.0), (128, 1.5594908483759977, 273.0), (129, 1.5594908483759977, 272.0), (130, 1.5594908483759977, 271.0), (131, 1.5594908483759977, 270.0), (132, 1.5594908483759977, 269.0), (133, 1.5594908483759977, 268.0), (134, 1.5594908483759977, 267.0), (135, 1.5594908483759977, 266.0), (136, 1.5594908483759977, 265.0), (137, 1.5594908483759977, 264.0), (138, 1.5594908483759977, 263.0), (139, 1.5594908483759977, 262.0), (140, 1.5594908483759977, 261.0), (141, 1.5594908483759977, 260.0), (142, 1.5505593824225021, 259.0), (143, 1.5505593824225021, 258.0), (144, 1.5505593824225021, 257.0), (145, 1.5505593824225021, 256.0), (146, 1.5505593824225021, 255.0), (147, 1.5505593824225021, 254.0), (148, 1.5505593824225021, 253.0), (149, 1.5505593824225021, 252.0), (150, 1.5505593824225021, 251.0), (151, 1.5505593824225021, 250.0), (152, 1.5505593824225021, 249.0), (153, 1.5505593824225021, 248.0), (154, 1.5505593824225021, 247.0), (155, 1.5505593824225021, 246.0), (156, 1.5505593824225021, 245.0), (157, 1.5505593824225021, 244.0), (158, 1.5505593824225021, 243.0), (159, 1.5505593824225021, 242.0), (160, 1.5505593824225021, 241.0), (161, 1.5505593824225021, 240.0), (162, 1.5505593824225021, 239.0), (163, 1.5505593824225021, 238.0), (164, 1.5505593824225021, 237.0), (165, 1.5505593824225021, 236.0), (166, 1.5505593824225021, 235.0), (167, 1.5505593824225021, 234.0), (168, 1.5505593824225021, 233.0), (169, 1.5505593824225021, 232.0), (170, 1.5505593824225021, 231.0), (171, 1.5505593824225021, 230.0), (172, 1.5505593824225021, 229.0), (173, 1.5505593824225021, 228.0), (174, 1.5505593824225021, 227.0), (175, 1.5505593824225021, 226.0), (176, 1.5505593824225021, 225.0), (177, 1.5505593824225021, 224.0), (178, 1.5505593824225021, 223.0), (179, 1.5505593824225021, 222.0), (180, 1.5505593824225021, 221.0), (181, 1.5505593824225021, 220.0), (182, 1.5505593824225021, 219.0), (183, 1.5505593824225021, 218.0), (184, 1.5505593824225021, 217.0), (185, 1.5505593824225021, 216.0), (186, 1.5505593824225021, 215.0), (187, 1.5505593824225021, 214.0), (188, 1.5505593824225021, 213.0), (189, 1.5505593824225021, 212.0), (190, 1.5505593824225021, 211.0), (191, 1.5505593824225021, 210.0), (192, 1.5505593824225021, 209.0), (193, 1.5505593824225021, 208.0), (194, 1.5505593824225021, 207.0), (195, 1.5505593824225021, 206.0), (196, 1.5505593824225021, 205.0), (197, 1.5505593824225021, 204.0), (198, 1.5505593824225021, 203.0), (199, 1.5505593824225021, 202.0), (200, 1.5505593824225021, 201.0), (201, 1.5505593824225021, 200.0), (202, 1.5505593824225021, 199.0), (203, 1.5505593824225021, 198.0), (204, 1.5505593824225021, 197.0), (205, 1.5505593824225021, 196.0), (206, 1.5505593824225021, 195.0), (207, 1.5505593824225021, 194.0), (208, 1.5505593824225021, 193.0), (209, 1.5505593824225021, 192.0), (210, 1.5505593824225021, 191.0), (211, 1.5505593824225021, 190.0), (212, 1.5505593824225021, 189.0), (213, 1.5505593824225021, 188.0), (214, 1.5505593824225021, 187.0), (215, 1.5505593824225021, 186.0), (216, 1.5505593824225021, 185.0), (217, 1.5505593824225021, 184.0), (218, 1.5505593824225021, 183.0), (219, 1.5505593824225021, 182.0), (220, 1.5505593824225021, 181.0), (221, 1.5505593824225021, 180.0), (222, 1.5505593824225021, 179.0), (223, 1.5505593824225021, 178.0), (224, 1.5505593824225021, 177.0), (225, 1.5505593824225021, 176.0), (226, 1.5505593824225021, 175.0), (227, 1.5505593824225021, 174.0), (228, 1.5505593824225021, 173.0), (229, 1.5505593824225021, 172.0), (230, 1.5505593824225021, 171.0), (231, 1.5505593824225021, 170.0), (232, 1.5505593824225021, 169.0), (233, 1.5505593824225021, 168.0), (234, 1.5505593824225021, 167.0), (235, 1.5505593824225021, 166.0), (236, 1.5505593824225021, 165.0), (237, 1.5505593824225021, 164.0), (238, 1.5505593824225021, 163.0), (239, 1.5505593824225021, 162.0), (240, 1.5505593824225021, 161.0), (241, 1.5505593824225021, 160.0), (242, 1.5505593824225021, 159.0), (243, 1.5505593824225021, 158.0), (244, 1.5505593824225021, 157.0), (245, 1.5505593824225021, 156.0), (246, 1.5505593824225021, 155.0), (247, 1.5505593824225021, 154.0), (248, 1.5505593824225021, 153.0), (249, 1.5505593824225021, 152.0), (250, 1.5505593824225021, 151.0), (251, 1.5505593824225021, 150.0), (252, 1.5505593824225021, 149.0), (253, 1.5505593824225021, 148.0), (254, 1.5505593824225021, 147.0), (255, 1.5482368613854431, 146.0), (256, 1.5482368613854431, 145.0), (257, 1.5482368613854431, 144.0), (258, 1.5482368613854431, 143.0), (259, 1.5482368613854431, 142.0), (260, 1.5482368613854431, 141.0), (261, 1.5482368613854431, 140.0), (262, 1.5482368613854431, 139.0), (263, 1.5482368613854431, 138.0), (264, 1.5482368613854431, 137.0), (265, 1.5482368613854431, 136.0), (266, 1.5482368613854431, 135.0), (267, 1.5482368613854431, 134.0), (268, 1.5482368613854431, 133.0), (269, 1.5482368613854431, 132.0), (270, 1.5482368613854431, 131.0), (271, 1.5482368613854431, 130.0), (272, 1.5482368613854431, 129.0), (273, 1.5482368613854431, 128.0), (274, 1.5482368613854431, 127.0), (275, 1.5482368613854431, 126.0), (276, 1.5482368613854431, 125.0), (277, 1.5479666207340244, 124.0), (278, 1.5479666207340244, 123.0), (279, 1.5479666207340244, 122.0), (280, 1.5479666207340244, 121.0), (281, 1.5479666207340244, 120.0), (282, 1.5479666207340244, 119.0), (283, 1.5479666207340244, 118.0), (284, 1.5479666207340244, 117.0), (285, 1.5479666207340244, 116.0), (286, 1.5479666207340244, 115.0), (287, 1.5479666207340244, 114.0), (288, 1.5479666207340244, 113.0), (289, 1.5479666207340244, 112.0), (290, 1.5479666207340244, 111.0), (291, 1.5479666207340244, 110.0), (292, 1.5479666207340244, 109.0), (293, 1.5479666207340244, 108.0), (294, 1.5479666207340244, 107.0), (295, 1.5479666207340244, 106.0), (296, 1.5479666207340244, 105.0), (297, 1.5479666207340244, 104.0), (298, 1.5479666207340244, 103.0), (299, 1.5479666207340244, 102.0), (300, 1.5423993789411692, 101.0), (301, 1.5423993789411692, 100.0), (302, 1.535105152671647, 99.0), (303, 1.535105152671647, 98.0), (304, 1.535105152671647, 97.0), (305, 1.535105152671647, 96.0), (306, 1.535105152671647, 95.0), (307, 1.535105152671647, 94.0), (308, 1.535105152671647, 93.0), (309, 1.535105152671647, 92.0), (310, 1.535105152671647, 91.0), (311, 1.535105152671647, 90.0), (312, 1.535105152671647, 89.0), (313, 1.535105152671647, 88.0), (314, 1.535105152671647, 87.0), (315, 1.535105152671647, 86.0), (316, 1.535105152671647, 85.0), (317, 1.535105152671647, 84.0), (318, 1.5342912486960731, 83.0), (319, 1.5342912486960731, 82.0), (320, 1.5342912486960731, 81.0), (321, 1.5342912486960731, 80.0), (322, 1.5342912486960731, 79.0), (323, 1.5342912486960731, 78.0), (324, 1.5342912486960731, 77.0), (325, 1.5342912486960731, 76.0), (326, 1.5342912486960731, 75.0), (327, 1.5342912486960731, 74.0), (328, 1.5342912486960731, 73.0), (329, 1.5342912486960731, 72.0), (330, 1.5342912486960731, 71.0), (331, 1.5342912486960731, 70.0), (332, 1.5342912486960731, 69.0), (333, 1.5342912486960731, 68.0), (334, 1.5342912486960731, 67.0), (335, 1.5342912486960731, 66.0), (336, 1.5342912486960731, 65.0), (337, 1.5342912486960731, 64.0), (338, 1.5342912486960731, 63.0), (339, 1.5342912486960731, 62.0), (340, 1.5342912486960731, 61.0), (341, 1.5342912486960731, 60.0), (342, 1.5342912486960731, 59.0), (343, 1.5342912486960731, 58.0), (344, 1.5342912486960731, 57.0), (345, 1.5342912486960731, 56.0), (346, 1.5342912486960731, 55.0), (347, 1.5342912486960731, 54.0), (348, 1.5342912486960731, 53.0), (349, 1.5184955670751368, 52.0), (350, 1.5184955670751368, 51.0), (351, 1.5184955670751368, 50.0), (352, 1.5184955670751368, 49.0), (353, 1.5184955670751368, 48.0), (354, 1.51789410364093, 47.0), (355, 1.51789410364093, 46.0), (356, 1.51789410364093, 45.0), (357, 1.51789410364093, 44.0), (358, 1.51789410364093, 43.0), (359, 1.51789410364093, 42.0), (360, 1.51789410364093, 41.0), (361, 1.51789410364093, 40.0), (362, 1.51789410364093, 39.0), (363, 1.51789410364093, 38.0), (364, 1.51789410364093, 37.0), (365, 1.51789410364093, 36.0), (366, 1.51789410364093, 35.0), (367, 1.51789410364093, 34.0), (368, 1.51789410364093, 33.0), (369, 1.51789410364093, 32.0), (370, 1.51789410364093, 31.0), (371, 1.51789410364093, 30.0), (372, 1.51789410364093, 29.0), (373, 1.51789410364093, 28.0), (374, 1.51789410364093, 27.0), (375, 1.51789410364093, 26.0), (376, 1.51789410364093, 25.0), (377, 1.51789410364093, 24.0), (378, 1.51789410364093, 23.0), (379, 1.51789410364093, 22.0), (380, 1.51789410364093, 21.0), (381, 1.51789410364093, 20.0), (382, 1.51789410364093, 19.0), (383, 1.51789410364093, 18.0), (384, 1.51789410364093, 17.0), (385, 1.51789410364093, 16.0), (386, 1.51789410364093, 15.0), (387, 1.51789410364093, 14.0), (388, 1.51789410364093, 13.0), (389, 1.51789410364093, 12.0), (390, 1.51789410364093, 11.0), (391, 1.51789410364093, 10.0), (392, 1.51789410364093, 9.0), (393, 1.5143677560773063, 8.0), (394, 1.5143677560773063, 7.0), (395, 1.5143677560773063, 6.0), (396, 1.5143677560773063, 5.0), (397, 1.5143677560773063, 4.0), (398, 1.5143677560773063, 3.0), (399, 1.5143677560773063, 2.0), (400, 1.5143677560773063, 1.0)]}\n",
      "Tiempo de ejecución: 476.3924915790558 segundos\n",
      "[30 48 63 70 74 54 51 60 52 75 64  9  6  2  5 10 14 72 65 27 44 66  7  8\n",
      " 16 24 36 35 28 31 21 20  1 42 58 50 46 56 45 62 69 73 34 29 19 41 55 53\n",
      " 59 61 80  4  3 15 11 47 78 23 22 43 79 76 77 68 67 71 26 25 37 38 39 17\n",
      " 18 49 13 40 32 33 57 12]\n"
     ]
    }
   ],
   "source": [
    "start_time = time.time()\n",
    "Tmax = 400 \n",
    "Tmin = 0\n",
    "StepMax = 400\n",
    "information = model.vegsa(\n",
    "    x0= x0,\n",
    "    PopSize= 120,\n",
    "    ElitePopSize= 20,\n",
    "    subPopSize=20,\n",
    "    MaxGenerations= 200,\n",
    "    localOptimumTime= 30,\n",
    "    StepMax= StepMax,\n",
    "    Tmin= Tmin,\n",
    "    Tmax= Tmax,\n",
    "    SAlocalEntropyTime= 30,\n",
    "    cooling_operator= linear_additive_cooling(t_max=Tmax, t_min=Tmin, alpha=0.9, step_max=StepMax)\n",
    ")\n",
    "elapsed_time = time.time() - start_time\n",
    "print(\"Tiempo de ejecución:\", elapsed_time, \"segundos\")\n",
    "print(x0)"
   ]
  },
  {
   "cell_type": "code",
   "execution_count": 65,
   "metadata": {},
   "outputs": [
    {
     "name": "stdout",
     "output_type": "stream",
     "text": [
      "[44 48 52 54 60 51 47 46  5  6  9 10 12 14 63 66  7  8 20 33 24 36 35 34\n",
      " 38 39 25 37 31 49 42 43 59 58 56 57 50 28 30 29 27 23 22 19 41 64 55 53\n",
      " 61 80 72 65 45 62 69 75 70 74 77 76 79 78 73 68 67 71 13 15 26 32  1 16\n",
      " 17 18 40 21  2  3 11  4]\n",
      "1.5143677560773063\n",
      "0.0\n",
      "401\n"
     ]
    }
   ],
   "source": [
    "print(information['x_best'])\n",
    "print(information['e_best'])\n",
    "print(information['temperature'])\n",
    "print(information['time'])"
   ]
  },
  {
   "cell_type": "code",
   "execution_count": null,
   "metadata": {},
   "outputs": [],
   "source": [
    "[44 47 63 70 74 69 77 76 43 41 64  9  6  1  5  4  3 32 29 30 27  7  8 16\n",
    " 24 36 35 31 21 20  2 42 58 50 46 56 45 62 60 48 51 52 54 53 55 57 59 61\n",
    " 68 67 11 12 72 65 49 34 22 23 25 66 73 78 75 79 80 71 14 13 10 15 38 39\n",
    " 28 19 17 18 40 33 26 37]\n",
    "1.6688740475071735\n",
    "0.0\n",
    "401"
   ]
  },
  {
   "cell_type": "code",
   "execution_count": 66,
   "metadata": {},
   "outputs": [
    {
     "data": {
      "text/html": [
       "<div>\n",
       "<style scoped>\n",
       "    .dataframe tbody tr th:only-of-type {\n",
       "        vertical-align: middle;\n",
       "    }\n",
       "\n",
       "    .dataframe tbody tr th {\n",
       "        vertical-align: top;\n",
       "    }\n",
       "\n",
       "    .dataframe thead th {\n",
       "        text-align: right;\n",
       "    }\n",
       "</style>\n",
       "<table border=\"1\" class=\"dataframe\">\n",
       "  <thead>\n",
       "    <tr style=\"text-align: right;\">\n",
       "      <th></th>\n",
       "      <th>Vehiculo</th>\n",
       "      <th>Nodoi-1</th>\n",
       "      <th>Nodoi</th>\n",
       "      <th>Distancia</th>\n",
       "      <th>TiempoArco</th>\n",
       "      <th>TW_A</th>\n",
       "      <th>TW_B</th>\n",
       "      <th>Tanque</th>\n",
       "      <th>CO2</th>\n",
       "    </tr>\n",
       "  </thead>\n",
       "  <tbody>\n",
       "    <tr>\n",
       "      <th>0</th>\n",
       "      <td>0</td>\n",
       "      <td>0</td>\n",
       "      <td>44</td>\n",
       "      <td>0.374643</td>\n",
       "      <td>0.009366</td>\n",
       "      <td>5</td>\n",
       "      <td>9</td>\n",
       "      <td>0.989587</td>\n",
       "      <td>0.010413</td>\n",
       "    </tr>\n",
       "    <tr>\n",
       "      <th>1</th>\n",
       "      <td>0</td>\n",
       "      <td>44</td>\n",
       "      <td>48</td>\n",
       "      <td>0.282726</td>\n",
       "      <td>0.007068</td>\n",
       "      <td>5</td>\n",
       "      <td>8</td>\n",
       "      <td>0.981729</td>\n",
       "      <td>0.007858</td>\n",
       "    </tr>\n",
       "    <tr>\n",
       "      <th>2</th>\n",
       "      <td>0</td>\n",
       "      <td>48</td>\n",
       "      <td>52</td>\n",
       "      <td>0.338232</td>\n",
       "      <td>0.008456</td>\n",
       "      <td>4</td>\n",
       "      <td>10</td>\n",
       "      <td>0.972328</td>\n",
       "      <td>0.009401</td>\n",
       "    </tr>\n",
       "    <tr>\n",
       "      <th>3</th>\n",
       "      <td>0</td>\n",
       "      <td>52</td>\n",
       "      <td>54</td>\n",
       "      <td>0.194267</td>\n",
       "      <td>0.004857</td>\n",
       "      <td>5</td>\n",
       "      <td>8</td>\n",
       "      <td>0.966929</td>\n",
       "      <td>0.005399</td>\n",
       "    </tr>\n",
       "    <tr>\n",
       "      <th>4</th>\n",
       "      <td>0</td>\n",
       "      <td>54</td>\n",
       "      <td>60</td>\n",
       "      <td>0.319787</td>\n",
       "      <td>0.007995</td>\n",
       "      <td>5</td>\n",
       "      <td>9</td>\n",
       "      <td>0.958040</td>\n",
       "      <td>0.008888</td>\n",
       "    </tr>\n",
       "    <tr>\n",
       "      <th>...</th>\n",
       "      <td>...</td>\n",
       "      <td>...</td>\n",
       "      <td>...</td>\n",
       "      <td>...</td>\n",
       "      <td>...</td>\n",
       "      <td>...</td>\n",
       "      <td>...</td>\n",
       "      <td>...</td>\n",
       "      <td>...</td>\n",
       "    </tr>\n",
       "    <tr>\n",
       "      <th>81</th>\n",
       "      <td>5</td>\n",
       "      <td>21</td>\n",
       "      <td>2</td>\n",
       "      <td>0.330779</td>\n",
       "      <td>0.008269</td>\n",
       "      <td>8</td>\n",
       "      <td>12</td>\n",
       "      <td>0.933311</td>\n",
       "      <td>0.009194</td>\n",
       "    </tr>\n",
       "    <tr>\n",
       "      <th>82</th>\n",
       "      <td>5</td>\n",
       "      <td>2</td>\n",
       "      <td>3</td>\n",
       "      <td>0.130138</td>\n",
       "      <td>0.003253</td>\n",
       "      <td>10</td>\n",
       "      <td>14</td>\n",
       "      <td>0.929694</td>\n",
       "      <td>0.003617</td>\n",
       "    </tr>\n",
       "    <tr>\n",
       "      <th>83</th>\n",
       "      <td>5</td>\n",
       "      <td>3</td>\n",
       "      <td>11</td>\n",
       "      <td>0.417804</td>\n",
       "      <td>0.010445</td>\n",
       "      <td>12</td>\n",
       "      <td>15</td>\n",
       "      <td>0.918081</td>\n",
       "      <td>0.011612</td>\n",
       "    </tr>\n",
       "    <tr>\n",
       "      <th>84</th>\n",
       "      <td>5</td>\n",
       "      <td>11</td>\n",
       "      <td>4</td>\n",
       "      <td>0.221339</td>\n",
       "      <td>0.005533</td>\n",
       "      <td>11</td>\n",
       "      <td>14</td>\n",
       "      <td>0.911929</td>\n",
       "      <td>0.006152</td>\n",
       "    </tr>\n",
       "    <tr>\n",
       "      <th>85</th>\n",
       "      <td>5</td>\n",
       "      <td>4</td>\n",
       "      <td>0</td>\n",
       "      <td>0.700790</td>\n",
       "      <td>0.017520</td>\n",
       "      <td>4</td>\n",
       "      <td>15</td>\n",
       "      <td>0.892452</td>\n",
       "      <td>0.019478</td>\n",
       "    </tr>\n",
       "  </tbody>\n",
       "</table>\n",
       "<p>86 rows × 9 columns</p>\n",
       "</div>"
      ],
      "text/plain": [
       "    Vehiculo  Nodoi-1  Nodoi  Distancia  TiempoArco  TW_A  TW_B    Tanque  \\\n",
       "0          0        0     44   0.374643    0.009366     5     9  0.989587   \n",
       "1          0       44     48   0.282726    0.007068     5     8  0.981729   \n",
       "2          0       48     52   0.338232    0.008456     4    10  0.972328   \n",
       "3          0       52     54   0.194267    0.004857     5     8  0.966929   \n",
       "4          0       54     60   0.319787    0.007995     5     9  0.958040   \n",
       "..       ...      ...    ...        ...         ...   ...   ...       ...   \n",
       "81         5       21      2   0.330779    0.008269     8    12  0.933311   \n",
       "82         5        2      3   0.130138    0.003253    10    14  0.929694   \n",
       "83         5        3     11   0.417804    0.010445    12    15  0.918081   \n",
       "84         5       11      4   0.221339    0.005533    11    14  0.911929   \n",
       "85         5        4      0   0.700790    0.017520     4    15  0.892452   \n",
       "\n",
       "         CO2  \n",
       "0   0.010413  \n",
       "1   0.007858  \n",
       "2   0.009401  \n",
       "3   0.005399  \n",
       "4   0.008888  \n",
       "..       ...  \n",
       "81  0.009194  \n",
       "82  0.003617  \n",
       "83  0.011612  \n",
       "84  0.006152  \n",
       "85  0.019478  \n",
       "\n",
       "[86 rows x 9 columns]"
      ]
     },
     "execution_count": 66,
     "metadata": {},
     "output_type": "execute_result"
    }
   ],
   "source": [
    "optimal_route3, df_summary3 = model.decoding(information['x_best'], summary=True)\n",
    "df_summary3.head(100)"
   ]
  },
  {
   "cell_type": "code",
   "execution_count": 67,
   "metadata": {},
   "outputs": [
    {
     "data": {
      "image/png": "[encoded data removed]",
      "text/plain": [
       "<Figure size 1000x800 with 1 Axes>"
      ]
     },
     "metadata": {},
     "output_type": "display_data"
    }
   ],
   "source": [
    "draw_graph(optimal_route3)"
   ]
  },
  {
   "cell_type": "code",
   "execution_count": 68,
   "metadata": {},
   "outputs": [
    {
     "data": {
      "application/vnd.plotly.v1+json": {
       "config": {
        "plotlyServerURL": "https://plot.ly"
       },
       "data": [
        {
         "hovertemplate": "Step=%{x}<br>Best Energy Value=%{y}<extra></extra>",
         "legendgroup": "",
         "line": {
          "color": "#636efa",
          "dash": "solid",
          "shape": "linear"
         },
         "marker": {
          "symbol": "circle"
         },
         "mode": "lines+markers",
         "name": "",
         "orientation": "v",
         "showlegend": false,
         "type": "scatter",
         "x": [
          1,
          2,
          3,
          4,
          5,
          6,
          7,
          8,
          9,
          10,
          11,
          12,
          13,
          14,
          15,
          16,
          17,
          18,
          19,
          20,
          21,
          22,
          23,
          24,
          25,
          26,
          27,
          28,
          29,
          30,
          31,
          32,
          33,
          34,
          35,
          36,
          37,
          38,
          39,
          40,
          41,
          42,
          43,
          44,
          45,
          46,
          47,
          48,
          49,
          50,
          51,
          52,
          53,
          54,
          55,
          56,
          57,
          58,
          59,
          60,
          61,
          62,
          63,
          64,
          65,
          66,
          67,
          68,
          69,
          70,
          71,
          72,
          73,
          74,
          75,
          76,
          77,
          78,
          79,
          80,
          81,
          82,
          83,
          84,
          85,
          86,
          87,
          88,
          89,
          90,
          91,
          92,
          93,
          94,
          95,
          96,
          97,
          98,
          99,
          100,
          101,
          102,
          103,
          104,
          105,
          106,
          107,
          108,
          109,
          110,
          111,
          112,
          113,
          114,
          115,
          116,
          117,
          118,
          119,
          120,
          121,
          122,
          123,
          124,
          125,
          126,
          127,
          128,
          129,
          130,
          131,
          132,
          133,
          134,
          135,
          136,
          137,
          138,
          139,
          140,
          141,
          142,
          143,
          144,
          145,
          146,
          147,
          148,
          149,
          150,
          151,
          152,
          153,
          154,
          155,
          156,
          157,
          158,
          159,
          160,
          161,
          162,
          163,
          164,
          165,
          166,
          167,
          168,
          169,
          170,
          171,
          172,
          173,
          174,
          175,
          176,
          177,
          178,
          179,
          180,
          181,
          182,
          183,
          184,
          185,
          186,
          187,
          188,
          189,
          190,
          191,
          192,
          193,
          194,
          195,
          196,
          197,
          198,
          199,
          200,
          201,
          202,
          203,
          204,
          205,
          206,
          207,
          208,
          209,
          210,
          211,
          212,
          213,
          214,
          215,
          216,
          217,
          218,
          219,
          220,
          221,
          222,
          223,
          224,
          225,
          226,
          227,
          228,
          229,
          230,
          231,
          232,
          233,
          234,
          235,
          236,
          237,
          238,
          239,
          240,
          241,
          242,
          243,
          244,
          245,
          246,
          247,
          248,
          249,
          250,
          251,
          252,
          253,
          254,
          255,
          256,
          257,
          258,
          259,
          260,
          261,
          262,
          263,
          264,
          265,
          266,
          267,
          268,
          269,
          270,
          271,
          272,
          273,
          274,
          275,
          276,
          277,
          278,
          279,
          280,
          281,
          282,
          283,
          284,
          285,
          286,
          287,
          288,
          289,
          290,
          291,
          292,
          293,
          294,
          295,
          296,
          297,
          298,
          299,
          300,
          301,
          302,
          303,
          304,
          305,
          306,
          307,
          308,
          309,
          310,
          311,
          312,
          313,
          314,
          315,
          316,
          317,
          318,
          319,
          320,
          321,
          322,
          323,
          324,
          325,
          326,
          327,
          328,
          329,
          330,
          331,
          332,
          333,
          334,
          335,
          336,
          337,
          338,
          339,
          340,
          341,
          342,
          343,
          344,
          345,
          346,
          347,
          348,
          349,
          350,
          351,
          352,
          353,
          354,
          355,
          356,
          357,
          358,
          359,
          360,
          361,
          362,
          363,
          364,
          365,
          366,
          367,
          368,
          369,
          370,
          371,
          372,
          373,
          374,
          375,
          376,
          377,
          378,
          379,
          380,
          381,
          382,
          383,
          384,
          385,
          386,
          387,
          388,
          389,
          390,
          391,
          392,
          393,
          394,
          395,
          396,
          397,
          398,
          399,
          400
         ],
         "xaxis": "x",
         "y": [
          1.6127558914806168,
          1.606766756490946,
          1.606766756490946,
          1.606766756490946,
          1.606766756490946,
          1.606766756490946,
          1.606766756490946,
          1.606766756490946,
          1.606766756490946,
          1.606766756490946,
          1.606766756490946,
          1.606766756490946,
          1.606766756490946,
          1.606766756490946,
          1.606766756490946,
          1.606766756490946,
          1.606766756490946,
          1.606766756490946,
          1.606766756490946,
          1.606766756490946,
          1.606766756490946,
          1.606766756490946,
          1.606766756490946,
          1.606766756490946,
          1.606766756490946,
          1.606766756490946,
          1.606766756490946,
          1.606766756490946,
          1.606766756490946,
          1.606766756490946,
          1.606766756490946,
          1.606766756490946,
          1.606766756490946,
          1.606766756490946,
          1.606766756490946,
          1.606766756490946,
          1.606766756490946,
          1.606766756490946,
          1.606766756490946,
          1.606766756490946,
          1.606766756490946,
          1.606766756490946,
          1.606766756490946,
          1.606766756490946,
          1.6036781153027315,
          1.6036781153027315,
          1.6036781153027315,
          1.6036781153027315,
          1.6036781153027315,
          1.6036781153027315,
          1.6036781153027315,
          1.6036781153027315,
          1.6036781153027315,
          1.6036781153027315,
          1.6036781153027315,
          1.6036781153027315,
          1.6036781153027315,
          1.6032979730985766,
          1.6032979730985766,
          1.5701390991331596,
          1.5701390991331596,
          1.5694292480970933,
          1.5683422635843214,
          1.5683422635843214,
          1.5683422635843214,
          1.5683422635843214,
          1.5642658766185202,
          1.5642658766185202,
          1.5642658766185202,
          1.5642658766185202,
          1.5642658766185202,
          1.5642658766185202,
          1.5603491242264675,
          1.5603491242264675,
          1.5603491242264675,
          1.5603491242264675,
          1.5603491242264675,
          1.5603491242264675,
          1.5603491242264675,
          1.5603491242264675,
          1.5603491242264675,
          1.5603491242264675,
          1.5603491242264675,
          1.5603491242264675,
          1.5603491242264675,
          1.5603491242264675,
          1.5603491242264675,
          1.5603491242264675,
          1.5603491242264675,
          1.5603491242264675,
          1.5603491242264675,
          1.5603491242264675,
          1.5603491242264675,
          1.5603491242264675,
          1.5603491242264675,
          1.5603491242264675,
          1.5603491242264675,
          1.5603491242264675,
          1.5603491242264675,
          1.5603491242264675,
          1.5603491242264675,
          1.5603491242264675,
          1.5603491242264675,
          1.5603491242264675,
          1.5603491242264675,
          1.5603491242264675,
          1.5603491242264675,
          1.5603491242264675,
          1.5603491242264675,
          1.5603491242264675,
          1.5603491242264675,
          1.5603491242264675,
          1.5603491242264675,
          1.5603491242264675,
          1.5603491242264675,
          1.5603491242264675,
          1.5603491242264675,
          1.5603491242264675,
          1.5603491242264675,
          1.5603491242264675,
          1.5594908483759977,
          1.5594908483759977,
          1.5594908483759977,
          1.5594908483759977,
          1.5594908483759977,
          1.5594908483759977,
          1.5594908483759977,
          1.5594908483759977,
          1.5594908483759977,
          1.5594908483759977,
          1.5594908483759977,
          1.5594908483759977,
          1.5594908483759977,
          1.5594908483759977,
          1.5594908483759977,
          1.5594908483759977,
          1.5594908483759977,
          1.5594908483759977,
          1.5594908483759977,
          1.5594908483759977,
          1.5594908483759977,
          1.5505593824225021,
          1.5505593824225021,
          1.5505593824225021,
          1.5505593824225021,
          1.5505593824225021,
          1.5505593824225021,
          1.5505593824225021,
          1.5505593824225021,
          1.5505593824225021,
          1.5505593824225021,
          1.5505593824225021,
          1.5505593824225021,
          1.5505593824225021,
          1.5505593824225021,
          1.5505593824225021,
          1.5505593824225021,
          1.5505593824225021,
          1.5505593824225021,
          1.5505593824225021,
          1.5505593824225021,
          1.5505593824225021,
          1.5505593824225021,
          1.5505593824225021,
          1.5505593824225021,
          1.5505593824225021,
          1.5505593824225021,
          1.5505593824225021,
          1.5505593824225021,
          1.5505593824225021,
          1.5505593824225021,
          1.5505593824225021,
          1.5505593824225021,
          1.5505593824225021,
          1.5505593824225021,
          1.5505593824225021,
          1.5505593824225021,
          1.5505593824225021,
          1.5505593824225021,
          1.5505593824225021,
          1.5505593824225021,
          1.5505593824225021,
          1.5505593824225021,
          1.5505593824225021,
          1.5505593824225021,
          1.5505593824225021,
          1.5505593824225021,
          1.5505593824225021,
          1.5505593824225021,
          1.5505593824225021,
          1.5505593824225021,
          1.5505593824225021,
          1.5505593824225021,
          1.5505593824225021,
          1.5505593824225021,
          1.5505593824225021,
          1.5505593824225021,
          1.5505593824225021,
          1.5505593824225021,
          1.5505593824225021,
          1.5505593824225021,
          1.5505593824225021,
          1.5505593824225021,
          1.5505593824225021,
          1.5505593824225021,
          1.5505593824225021,
          1.5505593824225021,
          1.5505593824225021,
          1.5505593824225021,
          1.5505593824225021,
          1.5505593824225021,
          1.5505593824225021,
          1.5505593824225021,
          1.5505593824225021,
          1.5505593824225021,
          1.5505593824225021,
          1.5505593824225021,
          1.5505593824225021,
          1.5505593824225021,
          1.5505593824225021,
          1.5505593824225021,
          1.5505593824225021,
          1.5505593824225021,
          1.5505593824225021,
          1.5505593824225021,
          1.5505593824225021,
          1.5505593824225021,
          1.5505593824225021,
          1.5505593824225021,
          1.5505593824225021,
          1.5505593824225021,
          1.5505593824225021,
          1.5505593824225021,
          1.5505593824225021,
          1.5505593824225021,
          1.5505593824225021,
          1.5505593824225021,
          1.5505593824225021,
          1.5505593824225021,
          1.5505593824225021,
          1.5505593824225021,
          1.5505593824225021,
          1.5505593824225021,
          1.5505593824225021,
          1.5505593824225021,
          1.5505593824225021,
          1.5505593824225021,
          1.5505593824225021,
          1.5505593824225021,
          1.5505593824225021,
          1.5505593824225021,
          1.5505593824225021,
          1.5505593824225021,
          1.5505593824225021,
          1.5482368613854431,
          1.5482368613854431,
          1.5482368613854431,
          1.5482368613854431,
          1.5482368613854431,
          1.5482368613854431,
          1.5482368613854431,
          1.5482368613854431,
          1.5482368613854431,
          1.5482368613854431,
          1.5482368613854431,
          1.5482368613854431,
          1.5482368613854431,
          1.5482368613854431,
          1.5482368613854431,
          1.5482368613854431,
          1.5482368613854431,
          1.5482368613854431,
          1.5482368613854431,
          1.5482368613854431,
          1.5482368613854431,
          1.5482368613854431,
          1.5479666207340244,
          1.5479666207340244,
          1.5479666207340244,
          1.5479666207340244,
          1.5479666207340244,
          1.5479666207340244,
          1.5479666207340244,
          1.5479666207340244,
          1.5479666207340244,
          1.5479666207340244,
          1.5479666207340244,
          1.5479666207340244,
          1.5479666207340244,
          1.5479666207340244,
          1.5479666207340244,
          1.5479666207340244,
          1.5479666207340244,
          1.5479666207340244,
          1.5479666207340244,
          1.5479666207340244,
          1.5479666207340244,
          1.5479666207340244,
          1.5479666207340244,
          1.5423993789411692,
          1.5423993789411692,
          1.535105152671647,
          1.535105152671647,
          1.535105152671647,
          1.535105152671647,
          1.535105152671647,
          1.535105152671647,
          1.535105152671647,
          1.535105152671647,
          1.535105152671647,
          1.535105152671647,
          1.535105152671647,
          1.535105152671647,
          1.535105152671647,
          1.535105152671647,
          1.535105152671647,
          1.535105152671647,
          1.5342912486960731,
          1.5342912486960731,
          1.5342912486960731,
          1.5342912486960731,
          1.5342912486960731,
          1.5342912486960731,
          1.5342912486960731,
          1.5342912486960731,
          1.5342912486960731,
          1.5342912486960731,
          1.5342912486960731,
          1.5342912486960731,
          1.5342912486960731,
          1.5342912486960731,
          1.5342912486960731,
          1.5342912486960731,
          1.5342912486960731,
          1.5342912486960731,
          1.5342912486960731,
          1.5342912486960731,
          1.5342912486960731,
          1.5342912486960731,
          1.5342912486960731,
          1.5342912486960731,
          1.5342912486960731,
          1.5342912486960731,
          1.5342912486960731,
          1.5342912486960731,
          1.5342912486960731,
          1.5342912486960731,
          1.5342912486960731,
          1.5184955670751368,
          1.5184955670751368,
          1.5184955670751368,
          1.5184955670751368,
          1.5184955670751368,
          1.51789410364093,
          1.51789410364093,
          1.51789410364093,
          1.51789410364093,
          1.51789410364093,
          1.51789410364093,
          1.51789410364093,
          1.51789410364093,
          1.51789410364093,
          1.51789410364093,
          1.51789410364093,
          1.51789410364093,
          1.51789410364093,
          1.51789410364093,
          1.51789410364093,
          1.51789410364093,
          1.51789410364093,
          1.51789410364093,
          1.51789410364093,
          1.51789410364093,
          1.51789410364093,
          1.51789410364093,
          1.51789410364093,
          1.51789410364093,
          1.51789410364093,
          1.51789410364093,
          1.51789410364093,
          1.51789410364093,
          1.51789410364093,
          1.51789410364093,
          1.51789410364093,
          1.51789410364093,
          1.51789410364093,
          1.51789410364093,
          1.51789410364093,
          1.51789410364093,
          1.51789410364093,
          1.51789410364093,
          1.51789410364093,
          1.5143677560773063,
          1.5143677560773063,
          1.5143677560773063,
          1.5143677560773063,
          1.5143677560773063,
          1.5143677560773063,
          1.5143677560773063,
          1.5143677560773063
         ],
         "yaxis": "y"
        }
       ],
       "layout": {
        "legend": {
         "tracegroupgap": 0
        },
        "template": {
         "data": {
          "bar": [
           {
            "error_x": {
             "color": "#2a3f5f"
            },
            "error_y": {
             "color": "#2a3f5f"
            },
            "marker": {
             "line": {
              "color": "#E5ECF6",
              "width": 0.5
             },
             "pattern": {
              "fillmode": "overlay",
              "size": 10,
              "solidity": 0.2
             }
            },
            "type": "bar"
           }
          ],
          "barpolar": [
           {
            "marker": {
             "line": {
              "color": "#E5ECF6",
              "width": 0.5
             },
             "pattern": {
              "fillmode": "overlay",
              "size": 10,
              "solidity": 0.2
             }
            },
            "type": "barpolar"
           }
          ],
          "carpet": [
           {
            "aaxis": {
             "endlinecolor": "#2a3f5f",
             "gridcolor": "white",
             "linecolor": "white",
             "minorgridcolor": "white",
             "startlinecolor": "#2a3f5f"
            },
            "baxis": {
             "endlinecolor": "#2a3f5f",
             "gridcolor": "white",
             "linecolor": "white",
             "minorgridcolor": "white",
             "startlinecolor": "#2a3f5f"
            },
            "type": "carpet"
           }
          ],
          "choropleth": [
           {
            "colorbar": {
             "outlinewidth": 0,
             "ticks": ""
            },
            "type": "choropleth"
           }
          ],
          "contour": [
           {
            "colorbar": {
             "outlinewidth": 0,
             "ticks": ""
            },
            "colorscale": [
             [
              0,
              "#0d0887"
             ],
             [
              0.1111111111111111,
              "#46039f"
             ],
             [
              0.2222222222222222,
              "#7201a8"
             ],
             [
              0.3333333333333333,
              "#9c179e"
             ],
             [
              0.4444444444444444,
              "#bd3786"
             ],
             [
              0.5555555555555556,
              "#d8576b"
             ],
             [
              0.6666666666666666,
              "#ed7953"
             ],
             [
              0.7777777777777778,
              "#fb9f3a"
             ],
             [
              0.8888888888888888,
              "#fdca26"
             ],
             [
              1,
              "#f0f921"
             ]
            ],
            "type": "contour"
           }
          ],
          "contourcarpet": [
           {
            "colorbar": {
             "outlinewidth": 0,
             "ticks": ""
            },
            "type": "contourcarpet"
           }
          ],
          "heatmap": [
           {
            "colorbar": {
             "outlinewidth": 0,
             "ticks": ""
            },
            "colorscale": [
             [
              0,
              "#0d0887"
             ],
             [
              0.1111111111111111,
              "#46039f"
             ],
             [
              0.2222222222222222,
              "#7201a8"
             ],
             [
              0.3333333333333333,
              "#9c179e"
             ],
             [
              0.4444444444444444,
              "#bd3786"
             ],
             [
              0.5555555555555556,
              "#d8576b"
             ],
             [
              0.6666666666666666,
              "#ed7953"
             ],
             [
              0.7777777777777778,
              "#fb9f3a"
             ],
             [
              0.8888888888888888,
              "#fdca26"
             ],
             [
              1,
              "#f0f921"
             ]
            ],
            "type": "heatmap"
           }
          ],
          "heatmapgl": [
           {
            "colorbar": {
             "outlinewidth": 0,
             "ticks": ""
            },
            "colorscale": [
             [
              0,
              "#0d0887"
             ],
             [
              0.1111111111111111,
              "#46039f"
             ],
             [
              0.2222222222222222,
              "#7201a8"
             ],
             [
              0.3333333333333333,
              "#9c179e"
             ],
             [
              0.4444444444444444,
              "#bd3786"
             ],
             [
              0.5555555555555556,
              "#d8576b"
             ],
             [
              0.6666666666666666,
              "#ed7953"
             ],
             [
              0.7777777777777778,
              "#fb9f3a"
             ],
             [
              0.8888888888888888,
              "#fdca26"
             ],
             [
              1,
              "#f0f921"
             ]
            ],
            "type": "heatmapgl"
           }
          ],
          "histogram": [
           {
            "marker": {
             "pattern": {
              "fillmode": "overlay",
              "size": 10,
              "solidity": 0.2
             }
            },
            "type": "histogram"
           }
          ],
          "histogram2d": [
           {
            "colorbar": {
             "outlinewidth": 0,
             "ticks": ""
            },
            "colorscale": [
             [
              0,
              "#0d0887"
             ],
             [
              0.1111111111111111,
              "#46039f"
             ],
             [
              0.2222222222222222,
              "#7201a8"
             ],
             [
              0.3333333333333333,
              "#9c179e"
             ],
             [
              0.4444444444444444,
              "#bd3786"
             ],
             [
              0.5555555555555556,
              "#d8576b"
             ],
             [
              0.6666666666666666,
              "#ed7953"
             ],
             [
              0.7777777777777778,
              "#fb9f3a"
             ],
             [
              0.8888888888888888,
              "#fdca26"
             ],
             [
              1,
              "#f0f921"
             ]
            ],
            "type": "histogram2d"
           }
          ],
          "histogram2dcontour": [
           {
            "colorbar": {
             "outlinewidth": 0,
             "ticks": ""
            },
            "colorscale": [
             [
              0,
              "#0d0887"
             ],
             [
              0.1111111111111111,
              "#46039f"
             ],
             [
              0.2222222222222222,
              "#7201a8"
             ],
             [
              0.3333333333333333,
              "#9c179e"
             ],
             [
              0.4444444444444444,
              "#bd3786"
             ],
             [
              0.5555555555555556,
              "#d8576b"
             ],
             [
              0.6666666666666666,
              "#ed7953"
             ],
             [
              0.7777777777777778,
              "#fb9f3a"
             ],
             [
              0.8888888888888888,
              "#fdca26"
             ],
             [
              1,
              "#f0f921"
             ]
            ],
            "type": "histogram2dcontour"
           }
          ],
          "mesh3d": [
           {
            "colorbar": {
             "outlinewidth": 0,
             "ticks": ""
            },
            "type": "mesh3d"
           }
          ],
          "parcoords": [
           {
            "line": {
             "colorbar": {
              "outlinewidth": 0,
              "ticks": ""
             }
            },
            "type": "parcoords"
           }
          ],
          "pie": [
           {
            "automargin": true,
            "type": "pie"
           }
          ],
          "scatter": [
           {
            "fillpattern": {
             "fillmode": "overlay",
             "size": 10,
             "solidity": 0.2
            },
            "type": "scatter"
           }
          ],
          "scatter3d": [
           {
            "line": {
             "colorbar": {
              "outlinewidth": 0,
              "ticks": ""
             }
            },
            "marker": {
             "colorbar": {
              "outlinewidth": 0,
              "ticks": ""
             }
            },
            "type": "scatter3d"
           }
          ],
          "scattercarpet": [
           {
            "marker": {
             "colorbar": {
              "outlinewidth": 0,
              "ticks": ""
             }
            },
            "type": "scattercarpet"
           }
          ],
          "scattergeo": [
           {
            "marker": {
             "colorbar": {
              "outlinewidth": 0,
              "ticks": ""
             }
            },
            "type": "scattergeo"
           }
          ],
          "scattergl": [
           {
            "marker": {
             "colorbar": {
              "outlinewidth": 0,
              "ticks": ""
             }
            },
            "type": "scattergl"
           }
          ],
          "scattermapbox": [
           {
            "marker": {
             "colorbar": {
              "outlinewidth": 0,
              "ticks": ""
             }
            },
            "type": "scattermapbox"
           }
          ],
          "scatterpolar": [
           {
            "marker": {
             "colorbar": {
              "outlinewidth": 0,
              "ticks": ""
             }
            },
            "type": "scatterpolar"
           }
          ],
          "scatterpolargl": [
           {
            "marker": {
             "colorbar": {
              "outlinewidth": 0,
              "ticks": ""
             }
            },
            "type": "scatterpolargl"
           }
          ],
          "scatterternary": [
           {
            "marker": {
             "colorbar": {
              "outlinewidth": 0,
              "ticks": ""
             }
            },
            "type": "scatterternary"
           }
          ],
          "surface": [
           {
            "colorbar": {
             "outlinewidth": 0,
             "ticks": ""
            },
            "colorscale": [
             [
              0,
              "#0d0887"
             ],
             [
              0.1111111111111111,
              "#46039f"
             ],
             [
              0.2222222222222222,
              "#7201a8"
             ],
             [
              0.3333333333333333,
              "#9c179e"
             ],
             [
              0.4444444444444444,
              "#bd3786"
             ],
             [
              0.5555555555555556,
              "#d8576b"
             ],
             [
              0.6666666666666666,
              "#ed7953"
             ],
             [
              0.7777777777777778,
              "#fb9f3a"
             ],
             [
              0.8888888888888888,
              "#fdca26"
             ],
             [
              1,
              "#f0f921"
             ]
            ],
            "type": "surface"
           }
          ],
          "table": [
           {
            "cells": {
             "fill": {
              "color": "#EBF0F8"
             },
             "line": {
              "color": "white"
             }
            },
            "header": {
             "fill": {
              "color": "#C8D4E3"
             },
             "line": {
              "color": "white"
             }
            },
            "type": "table"
           }
          ]
         },
         "layout": {
          "annotationdefaults": {
           "arrowcolor": "#2a3f5f",
           "arrowhead": 0,
           "arrowwidth": 1
          },
          "autotypenumbers": "strict",
          "coloraxis": {
           "colorbar": {
            "outlinewidth": 0,
            "ticks": ""
           }
          },
          "colorscale": {
           "diverging": [
            [
             0,
             "#8e0152"
            ],
            [
             0.1,
             "#c51b7d"
            ],
            [
             0.2,
             "#de77ae"
            ],
            [
             0.3,
             "#f1b6da"
            ],
            [
             0.4,
             "#fde0ef"
            ],
            [
             0.5,
             "#f7f7f7"
            ],
            [
             0.6,
             "#e6f5d0"
            ],
            [
             0.7,
             "#b8e186"
            ],
            [
             0.8,
             "#7fbc41"
            ],
            [
             0.9,
             "#4d9221"
            ],
            [
             1,
             "#276419"
            ]
           ],
           "sequential": [
            [
             0,
             "#0d0887"
            ],
            [
             0.1111111111111111,
             "#46039f"
            ],
            [
             0.2222222222222222,
             "#7201a8"
            ],
            [
             0.3333333333333333,
             "#9c179e"
            ],
            [
             0.4444444444444444,
             "#bd3786"
            ],
            [
             0.5555555555555556,
             "#d8576b"
            ],
            [
             0.6666666666666666,
             "#ed7953"
            ],
            [
             0.7777777777777778,
             "#fb9f3a"
            ],
            [
             0.8888888888888888,
             "#fdca26"
            ],
            [
             1,
             "#f0f921"
            ]
           ],
           "sequentialminus": [
            [
             0,
             "#0d0887"
            ],
            [
             0.1111111111111111,
             "#46039f"
            ],
            [
             0.2222222222222222,
             "#7201a8"
            ],
            [
             0.3333333333333333,
             "#9c179e"
            ],
            [
             0.4444444444444444,
             "#bd3786"
            ],
            [
             0.5555555555555556,
             "#d8576b"
            ],
            [
             0.6666666666666666,
             "#ed7953"
            ],
            [
             0.7777777777777778,
             "#fb9f3a"
            ],
            [
             0.8888888888888888,
             "#fdca26"
            ],
            [
             1,
             "#f0f921"
            ]
           ]
          },
          "colorway": [
           "#636efa",
           "#EF553B",
           "#00cc96",
           "#ab63fa",
           "#FFA15A",
           "#19d3f3",
           "#FF6692",
           "#B6E880",
           "#FF97FF",
           "#FECB52"
          ],
          "font": {
           "color": "#2a3f5f"
          },
          "geo": {
           "bgcolor": "white",
           "lakecolor": "white",
           "landcolor": "#E5ECF6",
           "showlakes": true,
           "showland": true,
           "subunitcolor": "white"
          },
          "hoverlabel": {
           "align": "left"
          },
          "hovermode": "closest",
          "mapbox": {
           "style": "light"
          },
          "paper_bgcolor": "white",
          "plot_bgcolor": "#E5ECF6",
          "polar": {
           "angularaxis": {
            "gridcolor": "white",
            "linecolor": "white",
            "ticks": ""
           },
           "bgcolor": "#E5ECF6",
           "radialaxis": {
            "gridcolor": "white",
            "linecolor": "white",
            "ticks": ""
           }
          },
          "scene": {
           "xaxis": {
            "backgroundcolor": "#E5ECF6",
            "gridcolor": "white",
            "gridwidth": 2,
            "linecolor": "white",
            "showbackground": true,
            "ticks": "",
            "zerolinecolor": "white"
           },
           "yaxis": {
            "backgroundcolor": "#E5ECF6",
            "gridcolor": "white",
            "gridwidth": 2,
            "linecolor": "white",
            "showbackground": true,
            "ticks": "",
            "zerolinecolor": "white"
           },
           "zaxis": {
            "backgroundcolor": "#E5ECF6",
            "gridcolor": "white",
            "gridwidth": 2,
            "linecolor": "white",
            "showbackground": true,
            "ticks": "",
            "zerolinecolor": "white"
           }
          },
          "shapedefaults": {
           "line": {
            "color": "#2a3f5f"
           }
          },
          "ternary": {
           "aaxis": {
            "gridcolor": "white",
            "linecolor": "white",
            "ticks": ""
           },
           "baxis": {
            "gridcolor": "white",
            "linecolor": "white",
            "ticks": ""
           },
           "bgcolor": "#E5ECF6",
           "caxis": {
            "gridcolor": "white",
            "linecolor": "white",
            "ticks": ""
           }
          },
          "title": {
           "x": 0.05
          },
          "xaxis": {
           "automargin": true,
           "gridcolor": "white",
           "linecolor": "white",
           "ticks": "",
           "title": {
            "standoff": 15
           },
           "zerolinecolor": "white",
           "zerolinewidth": 2
          },
          "yaxis": {
           "automargin": true,
           "gridcolor": "white",
           "linecolor": "white",
           "ticks": "",
           "title": {
            "standoff": 15
           },
           "zerolinecolor": "white",
           "zerolinewidth": 2
          }
         }
        },
        "title": {
         "text": "Optimization Progress"
        },
        "xaxis": {
         "anchor": "y",
         "domain": [
          0,
          1
         ],
         "title": {
          "text": "Step"
         }
        },
        "yaxis": {
         "anchor": "x",
         "domain": [
          0,
          1
         ],
         "title": {
          "text": "Best Energy Value"
         }
        }
       }
      }
     },
     "metadata": {},
     "output_type": "display_data"
    }
   ],
   "source": [
    "model.draw_energy_plot(information['hist'])"
   ]
  }
 ],
 "metadata": {
  "kernelspec": {
   "display_name": "Python 3",
   "language": "python",
   "name": "python3"
  },
  "language_info": {
   "codemirror_mode": {
    "name": "ipython",
    "version": 3
   },
   "file_extension": ".py",
   "mimetype": "text/x-python",
   "name": "python",
   "nbconvert_exporter": "python",
   "pygments_lexer": "ipython3",
   "version": "3.12.1"
  }
 },
 "nbformat": 4,
 "nbformat_minor": 2
}
