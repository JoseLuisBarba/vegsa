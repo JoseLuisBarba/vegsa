{
 "cells": [
  {
   "cell_type": "code",
   "execution_count": 1,
   "metadata": {},
   "outputs": [],
   "source": [
    "from models.model3 import linear_multiplicative_cooling, linear_additive_cooling, logarithmic_multiplicative_cooling\n",
    "from models.model3 import BaseModel\n",
    "from src.graph import draw_graph\n",
    "\n",
    "import numpy as np"
   ]
  },
  {
   "cell_type": "code",
   "execution_count": 2,
   "metadata": {},
   "outputs": [
    {
     "name": "stdout",
     "output_type": "stream",
     "text": [
      "created\n"
     ]
    }
   ],
   "source": [
    "model = BaseModel()"
   ]
  },
  {
   "cell_type": "code",
   "execution_count": 3,
   "metadata": {},
   "outputs": [
    {
     "name": "stdout",
     "output_type": "stream",
     "text": [
      "[ 6 14 15 13 11 12 16  1  3  7  8  2  4  9  5 10]\n"
     ]
    }
   ],
   "source": [
    "x0 = model.nearestNeighborHeuristic(16)\n",
    "print(x0)"
   ]
  },
  {
   "cell_type": "code",
   "execution_count": 4,
   "metadata": {},
   "outputs": [
    {
     "data": {
      "text/html": [
       "<div>\n",
       "<style scoped>\n",
       "    .dataframe tbody tr th:only-of-type {\n",
       "        vertical-align: middle;\n",
       "    }\n",
       "\n",
       "    .dataframe tbody tr th {\n",
       "        vertical-align: top;\n",
       "    }\n",
       "\n",
       "    .dataframe thead th {\n",
       "        text-align: right;\n",
       "    }\n",
       "</style>\n",
       "<table border=\"1\" class=\"dataframe\">\n",
       "  <thead>\n",
       "    <tr style=\"text-align: right;\">\n",
       "      <th></th>\n",
       "      <th>Vehiculo</th>\n",
       "      <th>Nodoi-1</th>\n",
       "      <th>Nodoi</th>\n",
       "      <th>Distancia</th>\n",
       "      <th>TiempoArco</th>\n",
       "      <th>TW_A</th>\n",
       "      <th>TW_B</th>\n",
       "      <th>Tanque</th>\n",
       "      <th>CO2</th>\n",
       "    </tr>\n",
       "  </thead>\n",
       "  <tbody>\n",
       "    <tr>\n",
       "      <th>0</th>\n",
       "      <td>0</td>\n",
       "      <td>0</td>\n",
       "      <td>6</td>\n",
       "      <td>61.131007</td>\n",
       "      <td>1.528275</td>\n",
       "      <td>0</td>\n",
       "      <td>7</td>\n",
       "      <td>12.111560</td>\n",
       "      <td>2.888440</td>\n",
       "    </tr>\n",
       "    <tr>\n",
       "      <th>1</th>\n",
       "      <td>0</td>\n",
       "      <td>6</td>\n",
       "      <td>14</td>\n",
       "      <td>12.727922</td>\n",
       "      <td>0.318198</td>\n",
       "      <td>8</td>\n",
       "      <td>11</td>\n",
       "      <td>11.510166</td>\n",
       "      <td>0.601394</td>\n",
       "    </tr>\n",
       "    <tr>\n",
       "      <th>2</th>\n",
       "      <td>0</td>\n",
       "      <td>14</td>\n",
       "      <td>15</td>\n",
       "      <td>11.180340</td>\n",
       "      <td>0.279508</td>\n",
       "      <td>8</td>\n",
       "      <td>11</td>\n",
       "      <td>10.981895</td>\n",
       "      <td>0.528271</td>\n",
       "    </tr>\n",
       "    <tr>\n",
       "      <th>3</th>\n",
       "      <td>0</td>\n",
       "      <td>15</td>\n",
       "      <td>13</td>\n",
       "      <td>5.000000</td>\n",
       "      <td>0.125000</td>\n",
       "      <td>9</td>\n",
       "      <td>13</td>\n",
       "      <td>10.745645</td>\n",
       "      <td>0.236250</td>\n",
       "    </tr>\n",
       "    <tr>\n",
       "      <th>4</th>\n",
       "      <td>0</td>\n",
       "      <td>13</td>\n",
       "      <td>11</td>\n",
       "      <td>42.720019</td>\n",
       "      <td>1.068000</td>\n",
       "      <td>5</td>\n",
       "      <td>14</td>\n",
       "      <td>8.727124</td>\n",
       "      <td>2.018521</td>\n",
       "    </tr>\n",
       "    <tr>\n",
       "      <th>5</th>\n",
       "      <td>0</td>\n",
       "      <td>11</td>\n",
       "      <td>12</td>\n",
       "      <td>14.142136</td>\n",
       "      <td>0.353553</td>\n",
       "      <td>9</td>\n",
       "      <td>18</td>\n",
       "      <td>8.058908</td>\n",
       "      <td>0.668216</td>\n",
       "    </tr>\n",
       "    <tr>\n",
       "      <th>6</th>\n",
       "      <td>0</td>\n",
       "      <td>12</td>\n",
       "      <td>16</td>\n",
       "      <td>60.133186</td>\n",
       "      <td>1.503330</td>\n",
       "      <td>4</td>\n",
       "      <td>18</td>\n",
       "      <td>5.217615</td>\n",
       "      <td>2.841293</td>\n",
       "    </tr>\n",
       "    <tr>\n",
       "      <th>7</th>\n",
       "      <td>0</td>\n",
       "      <td>16</td>\n",
       "      <td>1</td>\n",
       "      <td>41.012193</td>\n",
       "      <td>1.025305</td>\n",
       "      <td>7</td>\n",
       "      <td>24</td>\n",
       "      <td>3.279789</td>\n",
       "      <td>1.937826</td>\n",
       "    </tr>\n",
       "    <tr>\n",
       "      <th>8</th>\n",
       "      <td>0</td>\n",
       "      <td>1</td>\n",
       "      <td>0</td>\n",
       "      <td>17.492856</td>\n",
       "      <td>0.437321</td>\n",
       "      <td>4</td>\n",
       "      <td>15</td>\n",
       "      <td>2.453251</td>\n",
       "      <td>0.826537</td>\n",
       "    </tr>\n",
       "    <tr>\n",
       "      <th>9</th>\n",
       "      <td>1</td>\n",
       "      <td>0</td>\n",
       "      <td>3</td>\n",
       "      <td>89.442719</td>\n",
       "      <td>2.236068</td>\n",
       "      <td>0</td>\n",
       "      <td>7</td>\n",
       "      <td>10.773832</td>\n",
       "      <td>4.226168</td>\n",
       "    </tr>\n",
       "    <tr>\n",
       "      <th>10</th>\n",
       "      <td>1</td>\n",
       "      <td>3</td>\n",
       "      <td>7</td>\n",
       "      <td>26.248809</td>\n",
       "      <td>0.656220</td>\n",
       "      <td>0</td>\n",
       "      <td>24</td>\n",
       "      <td>9.533575</td>\n",
       "      <td>1.240256</td>\n",
       "    </tr>\n",
       "    <tr>\n",
       "      <th>11</th>\n",
       "      <td>1</td>\n",
       "      <td>7</td>\n",
       "      <td>8</td>\n",
       "      <td>15.000000</td>\n",
       "      <td>0.375000</td>\n",
       "      <td>0</td>\n",
       "      <td>24</td>\n",
       "      <td>8.824825</td>\n",
       "      <td>0.708750</td>\n",
       "    </tr>\n",
       "    <tr>\n",
       "      <th>12</th>\n",
       "      <td>1</td>\n",
       "      <td>8</td>\n",
       "      <td>2</td>\n",
       "      <td>26.476405</td>\n",
       "      <td>0.661910</td>\n",
       "      <td>0</td>\n",
       "      <td>24</td>\n",
       "      <td>7.573815</td>\n",
       "      <td>1.251010</td>\n",
       "    </tr>\n",
       "    <tr>\n",
       "      <th>13</th>\n",
       "      <td>1</td>\n",
       "      <td>2</td>\n",
       "      <td>4</td>\n",
       "      <td>59.203040</td>\n",
       "      <td>1.480076</td>\n",
       "      <td>7</td>\n",
       "      <td>24</td>\n",
       "      <td>4.776471</td>\n",
       "      <td>2.797344</td>\n",
       "    </tr>\n",
       "    <tr>\n",
       "      <th>14</th>\n",
       "      <td>1</td>\n",
       "      <td>4</td>\n",
       "      <td>0</td>\n",
       "      <td>87.235314</td>\n",
       "      <td>2.180883</td>\n",
       "      <td>4</td>\n",
       "      <td>15</td>\n",
       "      <td>0.654603</td>\n",
       "      <td>4.121869</td>\n",
       "    </tr>\n",
       "    <tr>\n",
       "      <th>15</th>\n",
       "      <td>2</td>\n",
       "      <td>0</td>\n",
       "      <td>9</td>\n",
       "      <td>97.452553</td>\n",
       "      <td>2.436314</td>\n",
       "      <td>0</td>\n",
       "      <td>24</td>\n",
       "      <td>10.395367</td>\n",
       "      <td>4.604633</td>\n",
       "    </tr>\n",
       "    <tr>\n",
       "      <th>16</th>\n",
       "      <td>2</td>\n",
       "      <td>9</td>\n",
       "      <td>5</td>\n",
       "      <td>17.029386</td>\n",
       "      <td>0.425735</td>\n",
       "      <td>7</td>\n",
       "      <td>24</td>\n",
       "      <td>9.590728</td>\n",
       "      <td>0.804639</td>\n",
       "    </tr>\n",
       "    <tr>\n",
       "      <th>17</th>\n",
       "      <td>2</td>\n",
       "      <td>5</td>\n",
       "      <td>10</td>\n",
       "      <td>34.176015</td>\n",
       "      <td>0.854400</td>\n",
       "      <td>7</td>\n",
       "      <td>24</td>\n",
       "      <td>7.975912</td>\n",
       "      <td>1.614817</td>\n",
       "    </tr>\n",
       "    <tr>\n",
       "      <th>18</th>\n",
       "      <td>2</td>\n",
       "      <td>10</td>\n",
       "      <td>0</td>\n",
       "      <td>79.630396</td>\n",
       "      <td>1.990760</td>\n",
       "      <td>4</td>\n",
       "      <td>15</td>\n",
       "      <td>4.213375</td>\n",
       "      <td>3.762536</td>\n",
       "    </tr>\n",
       "  </tbody>\n",
       "</table>\n",
       "</div>"
      ],
      "text/plain": [
       "    Vehiculo  Nodoi-1  Nodoi  Distancia  TiempoArco  TW_A  TW_B     Tanque  \\\n",
       "0          0        0      6  61.131007    1.528275     0     7  12.111560   \n",
       "1          0        6     14  12.727922    0.318198     8    11  11.510166   \n",
       "2          0       14     15  11.180340    0.279508     8    11  10.981895   \n",
       "3          0       15     13   5.000000    0.125000     9    13  10.745645   \n",
       "4          0       13     11  42.720019    1.068000     5    14   8.727124   \n",
       "5          0       11     12  14.142136    0.353553     9    18   8.058908   \n",
       "6          0       12     16  60.133186    1.503330     4    18   5.217615   \n",
       "7          0       16      1  41.012193    1.025305     7    24   3.279789   \n",
       "8          0        1      0  17.492856    0.437321     4    15   2.453251   \n",
       "9          1        0      3  89.442719    2.236068     0     7  10.773832   \n",
       "10         1        3      7  26.248809    0.656220     0    24   9.533575   \n",
       "11         1        7      8  15.000000    0.375000     0    24   8.824825   \n",
       "12         1        8      2  26.476405    0.661910     0    24   7.573815   \n",
       "13         1        2      4  59.203040    1.480076     7    24   4.776471   \n",
       "14         1        4      0  87.235314    2.180883     4    15   0.654603   \n",
       "15         2        0      9  97.452553    2.436314     0    24  10.395367   \n",
       "16         2        9      5  17.029386    0.425735     7    24   9.590728   \n",
       "17         2        5     10  34.176015    0.854400     7    24   7.975912   \n",
       "18         2       10      0  79.630396    1.990760     4    15   4.213375   \n",
       "\n",
       "         CO2  \n",
       "0   2.888440  \n",
       "1   0.601394  \n",
       "2   0.528271  \n",
       "3   0.236250  \n",
       "4   2.018521  \n",
       "5   0.668216  \n",
       "6   2.841293  \n",
       "7   1.937826  \n",
       "8   0.826537  \n",
       "9   4.226168  \n",
       "10  1.240256  \n",
       "11  0.708750  \n",
       "12  1.251010  \n",
       "13  2.797344  \n",
       "14  4.121869  \n",
       "15  4.604633  \n",
       "16  0.804639  \n",
       "17  1.614817  \n",
       "18  3.762536  "
      ]
     },
     "execution_count": 4,
     "metadata": {},
     "output_type": "execute_result"
    }
   ],
   "source": [
    "initial_route, df_summary = model.decoding(x0, summary=True)\n",
    "df_summary"
   ]
  },
  {
   "cell_type": "code",
   "execution_count": 35,
   "metadata": {},
   "outputs": [
    {
     "data": {
      "image/png": "[encoded data removed]",
      "text/plain": [
       "<Figure size 1000x800 with 1 Axes>"
      ]
     },
     "metadata": {},
     "output_type": "display_data"
    }
   ],
   "source": [
    "draw_graph(initial_route)"
   ]
  },
  {
   "cell_type": "code",
   "execution_count": 36,
   "metadata": {},
   "outputs": [
    {
     "name": "stdout",
     "output_type": "stream",
     "text": [
      "generation: 1\n",
      "generation: 2\n",
      "generation: 3\n",
      "generation: 4\n",
      "generation: 5\n",
      "generation: 6\n",
      "generation: 7\n",
      "generation: 8\n",
      "generation: 9\n",
      "generation: 10\n",
      "generation: 11\n",
      "generation: 12\n",
      "generation: 13\n",
      "generation: 14\n",
      "generation: 15\n",
      "generation: 16\n",
      "generation: 17\n",
      "generation: 18\n",
      "generation: 19\n",
      "generation: 20\n",
      "generation: 21\n",
      "generation: 22\n",
      "generation: 23\n"
     ]
    }
   ],
   "source": [
    "info = model.ga(\n",
    "    x0= x0,\n",
    "    PopSize= 100,\n",
    "    ElitePopSize= 10,\n",
    "    subPopSize=20,\n",
    "    MaxGenerations= 60,\n",
    "    localOptimumTime= 10\n",
    ")"
   ]
  },
  {
   "cell_type": "code",
   "execution_count": 37,
   "metadata": {},
   "outputs": [
    {
     "name": "stdout",
     "output_type": "stream",
     "text": [
      "[ 6 14 15 13 11  5 10  8  2  7  3  4 12  9 16  1]\n",
      "43.04629998080364\n"
     ]
    }
   ],
   "source": [
    "print(info['x_best'])\n",
    "print(info['e_best'])"
   ]
  },
  {
   "cell_type": "code",
   "execution_count": 38,
   "metadata": {},
   "outputs": [
    {
     "data": {
      "text/html": [
       "<div>\n",
       "<style scoped>\n",
       "    .dataframe tbody tr th:only-of-type {\n",
       "        vertical-align: middle;\n",
       "    }\n",
       "\n",
       "    .dataframe tbody tr th {\n",
       "        vertical-align: top;\n",
       "    }\n",
       "\n",
       "    .dataframe thead th {\n",
       "        text-align: right;\n",
       "    }\n",
       "</style>\n",
       "<table border=\"1\" class=\"dataframe\">\n",
       "  <thead>\n",
       "    <tr style=\"text-align: right;\">\n",
       "      <th></th>\n",
       "      <th>Vehiculo</th>\n",
       "      <th>Nodoi-1</th>\n",
       "      <th>Nodoi</th>\n",
       "      <th>Distancia</th>\n",
       "      <th>TiempoArco</th>\n",
       "      <th>TW_A</th>\n",
       "      <th>TW_B</th>\n",
       "      <th>Tanque</th>\n",
       "      <th>CO2</th>\n",
       "    </tr>\n",
       "  </thead>\n",
       "  <tbody>\n",
       "    <tr>\n",
       "      <th>0</th>\n",
       "      <td>0</td>\n",
       "      <td>0</td>\n",
       "      <td>6</td>\n",
       "      <td>61.131007</td>\n",
       "      <td>1.528275</td>\n",
       "      <td>0</td>\n",
       "      <td>7</td>\n",
       "      <td>12.111560</td>\n",
       "      <td>2.888440</td>\n",
       "    </tr>\n",
       "    <tr>\n",
       "      <th>1</th>\n",
       "      <td>0</td>\n",
       "      <td>6</td>\n",
       "      <td>14</td>\n",
       "      <td>12.727922</td>\n",
       "      <td>0.318198</td>\n",
       "      <td>8</td>\n",
       "      <td>11</td>\n",
       "      <td>11.510166</td>\n",
       "      <td>0.601394</td>\n",
       "    </tr>\n",
       "    <tr>\n",
       "      <th>2</th>\n",
       "      <td>0</td>\n",
       "      <td>14</td>\n",
       "      <td>15</td>\n",
       "      <td>11.180340</td>\n",
       "      <td>0.279508</td>\n",
       "      <td>8</td>\n",
       "      <td>11</td>\n",
       "      <td>10.981895</td>\n",
       "      <td>0.528271</td>\n",
       "    </tr>\n",
       "    <tr>\n",
       "      <th>3</th>\n",
       "      <td>0</td>\n",
       "      <td>15</td>\n",
       "      <td>13</td>\n",
       "      <td>5.000000</td>\n",
       "      <td>0.125000</td>\n",
       "      <td>9</td>\n",
       "      <td>13</td>\n",
       "      <td>10.745645</td>\n",
       "      <td>0.236250</td>\n",
       "    </tr>\n",
       "    <tr>\n",
       "      <th>4</th>\n",
       "      <td>0</td>\n",
       "      <td>13</td>\n",
       "      <td>11</td>\n",
       "      <td>42.720019</td>\n",
       "      <td>1.068000</td>\n",
       "      <td>5</td>\n",
       "      <td>14</td>\n",
       "      <td>8.727124</td>\n",
       "      <td>2.018521</td>\n",
       "    </tr>\n",
       "    <tr>\n",
       "      <th>5</th>\n",
       "      <td>0</td>\n",
       "      <td>11</td>\n",
       "      <td>5</td>\n",
       "      <td>32.449961</td>\n",
       "      <td>0.811249</td>\n",
       "      <td>7</td>\n",
       "      <td>24</td>\n",
       "      <td>7.193863</td>\n",
       "      <td>1.533261</td>\n",
       "    </tr>\n",
       "    <tr>\n",
       "      <th>6</th>\n",
       "      <td>0</td>\n",
       "      <td>5</td>\n",
       "      <td>10</td>\n",
       "      <td>34.176015</td>\n",
       "      <td>0.854400</td>\n",
       "      <td>7</td>\n",
       "      <td>24</td>\n",
       "      <td>5.579046</td>\n",
       "      <td>1.614817</td>\n",
       "    </tr>\n",
       "    <tr>\n",
       "      <th>7</th>\n",
       "      <td>0</td>\n",
       "      <td>10</td>\n",
       "      <td>8</td>\n",
       "      <td>45.000000</td>\n",
       "      <td>1.125000</td>\n",
       "      <td>0</td>\n",
       "      <td>24</td>\n",
       "      <td>3.452796</td>\n",
       "      <td>2.126250</td>\n",
       "    </tr>\n",
       "    <tr>\n",
       "      <th>8</th>\n",
       "      <td>0</td>\n",
       "      <td>8</td>\n",
       "      <td>2</td>\n",
       "      <td>26.476405</td>\n",
       "      <td>0.661910</td>\n",
       "      <td>0</td>\n",
       "      <td>24</td>\n",
       "      <td>2.201786</td>\n",
       "      <td>1.251010</td>\n",
       "    </tr>\n",
       "    <tr>\n",
       "      <th>9</th>\n",
       "      <td>0</td>\n",
       "      <td>2</td>\n",
       "      <td>0</td>\n",
       "      <td>41.436699</td>\n",
       "      <td>1.035917</td>\n",
       "      <td>4</td>\n",
       "      <td>15</td>\n",
       "      <td>0.243902</td>\n",
       "      <td>1.957884</td>\n",
       "    </tr>\n",
       "    <tr>\n",
       "      <th>10</th>\n",
       "      <td>1</td>\n",
       "      <td>0</td>\n",
       "      <td>7</td>\n",
       "      <td>63.631753</td>\n",
       "      <td>1.590794</td>\n",
       "      <td>0</td>\n",
       "      <td>24</td>\n",
       "      <td>11.993400</td>\n",
       "      <td>3.006600</td>\n",
       "    </tr>\n",
       "    <tr>\n",
       "      <th>11</th>\n",
       "      <td>1</td>\n",
       "      <td>7</td>\n",
       "      <td>3</td>\n",
       "      <td>26.248809</td>\n",
       "      <td>0.656220</td>\n",
       "      <td>0</td>\n",
       "      <td>7</td>\n",
       "      <td>10.753143</td>\n",
       "      <td>1.240256</td>\n",
       "    </tr>\n",
       "    <tr>\n",
       "      <th>12</th>\n",
       "      <td>1</td>\n",
       "      <td>3</td>\n",
       "      <td>4</td>\n",
       "      <td>3.162278</td>\n",
       "      <td>0.079057</td>\n",
       "      <td>7</td>\n",
       "      <td>24</td>\n",
       "      <td>10.603726</td>\n",
       "      <td>0.149418</td>\n",
       "    </tr>\n",
       "    <tr>\n",
       "      <th>13</th>\n",
       "      <td>1</td>\n",
       "      <td>4</td>\n",
       "      <td>12</td>\n",
       "      <td>20.248457</td>\n",
       "      <td>0.506211</td>\n",
       "      <td>9</td>\n",
       "      <td>18</td>\n",
       "      <td>9.646986</td>\n",
       "      <td>0.956740</td>\n",
       "    </tr>\n",
       "    <tr>\n",
       "      <th>14</th>\n",
       "      <td>1</td>\n",
       "      <td>12</td>\n",
       "      <td>9</td>\n",
       "      <td>18.357560</td>\n",
       "      <td>0.458939</td>\n",
       "      <td>0</td>\n",
       "      <td>24</td>\n",
       "      <td>8.779592</td>\n",
       "      <td>0.867395</td>\n",
       "    </tr>\n",
       "    <tr>\n",
       "      <th>15</th>\n",
       "      <td>1</td>\n",
       "      <td>9</td>\n",
       "      <td>16</td>\n",
       "      <td>54.781384</td>\n",
       "      <td>1.369535</td>\n",
       "      <td>4</td>\n",
       "      <td>18</td>\n",
       "      <td>6.191171</td>\n",
       "      <td>2.588420</td>\n",
       "    </tr>\n",
       "    <tr>\n",
       "      <th>16</th>\n",
       "      <td>1</td>\n",
       "      <td>16</td>\n",
       "      <td>1</td>\n",
       "      <td>41.012193</td>\n",
       "      <td>1.025305</td>\n",
       "      <td>7</td>\n",
       "      <td>24</td>\n",
       "      <td>4.253345</td>\n",
       "      <td>1.937826</td>\n",
       "    </tr>\n",
       "    <tr>\n",
       "      <th>17</th>\n",
       "      <td>1</td>\n",
       "      <td>1</td>\n",
       "      <td>0</td>\n",
       "      <td>17.492856</td>\n",
       "      <td>0.437321</td>\n",
       "      <td>4</td>\n",
       "      <td>15</td>\n",
       "      <td>3.426808</td>\n",
       "      <td>0.826537</td>\n",
       "    </tr>\n",
       "  </tbody>\n",
       "</table>\n",
       "</div>"
      ],
      "text/plain": [
       "    Vehiculo  Nodoi-1  Nodoi  Distancia  TiempoArco  TW_A  TW_B     Tanque  \\\n",
       "0          0        0      6  61.131007    1.528275     0     7  12.111560   \n",
       "1          0        6     14  12.727922    0.318198     8    11  11.510166   \n",
       "2          0       14     15  11.180340    0.279508     8    11  10.981895   \n",
       "3          0       15     13   5.000000    0.125000     9    13  10.745645   \n",
       "4          0       13     11  42.720019    1.068000     5    14   8.727124   \n",
       "5          0       11      5  32.449961    0.811249     7    24   7.193863   \n",
       "6          0        5     10  34.176015    0.854400     7    24   5.579046   \n",
       "7          0       10      8  45.000000    1.125000     0    24   3.452796   \n",
       "8          0        8      2  26.476405    0.661910     0    24   2.201786   \n",
       "9          0        2      0  41.436699    1.035917     4    15   0.243902   \n",
       "10         1        0      7  63.631753    1.590794     0    24  11.993400   \n",
       "11         1        7      3  26.248809    0.656220     0     7  10.753143   \n",
       "12         1        3      4   3.162278    0.079057     7    24  10.603726   \n",
       "13         1        4     12  20.248457    0.506211     9    18   9.646986   \n",
       "14         1       12      9  18.357560    0.458939     0    24   8.779592   \n",
       "15         1        9     16  54.781384    1.369535     4    18   6.191171   \n",
       "16         1       16      1  41.012193    1.025305     7    24   4.253345   \n",
       "17         1        1      0  17.492856    0.437321     4    15   3.426808   \n",
       "\n",
       "         CO2  \n",
       "0   2.888440  \n",
       "1   0.601394  \n",
       "2   0.528271  \n",
       "3   0.236250  \n",
       "4   2.018521  \n",
       "5   1.533261  \n",
       "6   1.614817  \n",
       "7   2.126250  \n",
       "8   1.251010  \n",
       "9   1.957884  \n",
       "10  3.006600  \n",
       "11  1.240256  \n",
       "12  0.149418  \n",
       "13  0.956740  \n",
       "14  0.867395  \n",
       "15  2.588420  \n",
       "16  1.937826  \n",
       "17  0.826537  "
      ]
     },
     "execution_count": 38,
     "metadata": {},
     "output_type": "execute_result"
    }
   ],
   "source": [
    "optimal_route, df_summary2 = model.decoding(info['x_best'], summary=True)\n",
    "df_summary2"
   ]
  },
  {
   "cell_type": "code",
   "execution_count": 39,
   "metadata": {},
   "outputs": [
    {
     "data": {
      "image/png": "[encoded data removed]",
      "text/plain": [
       "<Figure size 1000x800 with 1 Axes>"
      ]
     },
     "metadata": {},
     "output_type": "display_data"
    }
   ],
   "source": [
    "draw_graph(optimal_route)"
   ]
  },
  {
   "cell_type": "code",
   "execution_count": 40,
   "metadata": {},
   "outputs": [
    {
     "data": {
      "application/vnd.plotly.v1+json": {
       "config": {
        "plotlyServerURL": "https://plot.ly"
       },
       "data": [
        {
         "hovertemplate": "Step=%{x}<br>Best Energy Value=%{y}<extra></extra>",
         "legendgroup": "",
         "line": {
          "color": "#636efa",
          "dash": "solid",
          "shape": "linear"
         },
         "marker": {
          "symbol": "circle"
         },
         "mode": "markers+lines",
         "name": "",
         "orientation": "v",
         "showlegend": false,
         "type": "scatter",
         "x": [
          1,
          2,
          3,
          4,
          5,
          6,
          7,
          8,
          9,
          10,
          11,
          12,
          13,
          14,
          15,
          16,
          17,
          18,
          19,
          20,
          21,
          22,
          23
         ],
         "xaxis": "x",
         "y": [
          52.70765030816317,
          51.53776045135217,
          51.53776045135217,
          51.53776045135217,
          51.53776045135217,
          51.53776045135217,
          51.53776045135217,
          44.203757703407035,
          44.203757703407035,
          44.203757703407035,
          44.203757703407035,
          44.203757703407035,
          44.203757703407035,
          43.04629998080364,
          43.04629998080364,
          43.04629998080364,
          43.04629998080364,
          43.04629998080364,
          43.04629998080364,
          43.04629998080364,
          43.04629998080364,
          43.04629998080364,
          43.04629998080364
         ],
         "yaxis": "y"
        }
       ],
       "layout": {
        "legend": {
         "tracegroupgap": 0
        },
        "template": {
         "data": {
          "bar": [
           {
            "error_x": {
             "color": "#2a3f5f"
            },
            "error_y": {
             "color": "#2a3f5f"
            },
            "marker": {
             "line": {
              "color": "#E5ECF6",
              "width": 0.5
             },
             "pattern": {
              "fillmode": "overlay",
              "size": 10,
              "solidity": 0.2
             }
            },
            "type": "bar"
           }
          ],
          "barpolar": [
           {
            "marker": {
             "line": {
              "color": "#E5ECF6",
              "width": 0.5
             },
             "pattern": {
              "fillmode": "overlay",
              "size": 10,
              "solidity": 0.2
             }
            },
            "type": "barpolar"
           }
          ],
          "carpet": [
           {
            "aaxis": {
             "endlinecolor": "#2a3f5f",
             "gridcolor": "white",
             "linecolor": "white",
             "minorgridcolor": "white",
             "startlinecolor": "#2a3f5f"
            },
            "baxis": {
             "endlinecolor": "#2a3f5f",
             "gridcolor": "white",
             "linecolor": "white",
             "minorgridcolor": "white",
             "startlinecolor": "#2a3f5f"
            },
            "type": "carpet"
           }
          ],
          "choropleth": [
           {
            "colorbar": {
             "outlinewidth": 0,
             "ticks": ""
            },
            "type": "choropleth"
           }
          ],
          "contour": [
           {
            "colorbar": {
             "outlinewidth": 0,
             "ticks": ""
            },
            "colorscale": [
             [
              0,
              "#0d0887"
             ],
             [
              0.1111111111111111,
              "#46039f"
             ],
             [
              0.2222222222222222,
              "#7201a8"
             ],
             [
              0.3333333333333333,
              "#9c179e"
             ],
             [
              0.4444444444444444,
              "#bd3786"
             ],
             [
              0.5555555555555556,
              "#d8576b"
             ],
             [
              0.6666666666666666,
              "#ed7953"
             ],
             [
              0.7777777777777778,
              "#fb9f3a"
             ],
             [
              0.8888888888888888,
              "#fdca26"
             ],
             [
              1,
              "#f0f921"
             ]
            ],
            "type": "contour"
           }
          ],
          "contourcarpet": [
           {
            "colorbar": {
             "outlinewidth": 0,
             "ticks": ""
            },
            "type": "contourcarpet"
           }
          ],
          "heatmap": [
           {
            "colorbar": {
             "outlinewidth": 0,
             "ticks": ""
            },
            "colorscale": [
             [
              0,
              "#0d0887"
             ],
             [
              0.1111111111111111,
              "#46039f"
             ],
             [
              0.2222222222222222,
              "#7201a8"
             ],
             [
              0.3333333333333333,
              "#9c179e"
             ],
             [
              0.4444444444444444,
              "#bd3786"
             ],
             [
              0.5555555555555556,
              "#d8576b"
             ],
             [
              0.6666666666666666,
              "#ed7953"
             ],
             [
              0.7777777777777778,
              "#fb9f3a"
             ],
             [
              0.8888888888888888,
              "#fdca26"
             ],
             [
              1,
              "#f0f921"
             ]
            ],
            "type": "heatmap"
           }
          ],
          "heatmapgl": [
           {
            "colorbar": {
             "outlinewidth": 0,
             "ticks": ""
            },
            "colorscale": [
             [
              0,
              "#0d0887"
             ],
             [
              0.1111111111111111,
              "#46039f"
             ],
             [
              0.2222222222222222,
              "#7201a8"
             ],
             [
              0.3333333333333333,
              "#9c179e"
             ],
             [
              0.4444444444444444,
              "#bd3786"
             ],
             [
              0.5555555555555556,
              "#d8576b"
             ],
             [
              0.6666666666666666,
              "#ed7953"
             ],
             [
              0.7777777777777778,
              "#fb9f3a"
             ],
             [
              0.8888888888888888,
              "#fdca26"
             ],
             [
              1,
              "#f0f921"
             ]
            ],
            "type": "heatmapgl"
           }
          ],
          "histogram": [
           {
            "marker": {
             "pattern": {
              "fillmode": "overlay",
              "size": 10,
              "solidity": 0.2
             }
            },
            "type": "histogram"
           }
          ],
          "histogram2d": [
           {
            "colorbar": {
             "outlinewidth": 0,
             "ticks": ""
            },
            "colorscale": [
             [
              0,
              "#0d0887"
             ],
             [
              0.1111111111111111,
              "#46039f"
             ],
             [
              0.2222222222222222,
              "#7201a8"
             ],
             [
              0.3333333333333333,
              "#9c179e"
             ],
             [
              0.4444444444444444,
              "#bd3786"
             ],
             [
              0.5555555555555556,
              "#d8576b"
             ],
             [
              0.6666666666666666,
              "#ed7953"
             ],
             [
              0.7777777777777778,
              "#fb9f3a"
             ],
             [
              0.8888888888888888,
              "#fdca26"
             ],
             [
              1,
              "#f0f921"
             ]
            ],
            "type": "histogram2d"
           }
          ],
          "histogram2dcontour": [
           {
            "colorbar": {
             "outlinewidth": 0,
             "ticks": ""
            },
            "colorscale": [
             [
              0,
              "#0d0887"
             ],
             [
              0.1111111111111111,
              "#46039f"
             ],
             [
              0.2222222222222222,
              "#7201a8"
             ],
             [
              0.3333333333333333,
              "#9c179e"
             ],
             [
              0.4444444444444444,
              "#bd3786"
             ],
             [
              0.5555555555555556,
              "#d8576b"
             ],
             [
              0.6666666666666666,
              "#ed7953"
             ],
             [
              0.7777777777777778,
              "#fb9f3a"
             ],
             [
              0.8888888888888888,
              "#fdca26"
             ],
             [
              1,
              "#f0f921"
             ]
            ],
            "type": "histogram2dcontour"
           }
          ],
          "mesh3d": [
           {
            "colorbar": {
             "outlinewidth": 0,
             "ticks": ""
            },
            "type": "mesh3d"
           }
          ],
          "parcoords": [
           {
            "line": {
             "colorbar": {
              "outlinewidth": 0,
              "ticks": ""
             }
            },
            "type": "parcoords"
           }
          ],
          "pie": [
           {
            "automargin": true,
            "type": "pie"
           }
          ],
          "scatter": [
           {
            "fillpattern": {
             "fillmode": "overlay",
             "size": 10,
             "solidity": 0.2
            },
            "type": "scatter"
           }
          ],
          "scatter3d": [
           {
            "line": {
             "colorbar": {
              "outlinewidth": 0,
              "ticks": ""
             }
            },
            "marker": {
             "colorbar": {
              "outlinewidth": 0,
              "ticks": ""
             }
            },
            "type": "scatter3d"
           }
          ],
          "scattercarpet": [
           {
            "marker": {
             "colorbar": {
              "outlinewidth": 0,
              "ticks": ""
             }
            },
            "type": "scattercarpet"
           }
          ],
          "scattergeo": [
           {
            "marker": {
             "colorbar": {
              "outlinewidth": 0,
              "ticks": ""
             }
            },
            "type": "scattergeo"
           }
          ],
          "scattergl": [
           {
            "marker": {
             "colorbar": {
              "outlinewidth": 0,
              "ticks": ""
             }
            },
            "type": "scattergl"
           }
          ],
          "scattermapbox": [
           {
            "marker": {
             "colorbar": {
              "outlinewidth": 0,
              "ticks": ""
             }
            },
            "type": "scattermapbox"
           }
          ],
          "scatterpolar": [
           {
            "marker": {
             "colorbar": {
              "outlinewidth": 0,
              "ticks": ""
             }
            },
            "type": "scatterpolar"
           }
          ],
          "scatterpolargl": [
           {
            "marker": {
             "colorbar": {
              "outlinewidth": 0,
              "ticks": ""
             }
            },
            "type": "scatterpolargl"
           }
          ],
          "scatterternary": [
           {
            "marker": {
             "colorbar": {
              "outlinewidth": 0,
              "ticks": ""
             }
            },
            "type": "scatterternary"
           }
          ],
          "surface": [
           {
            "colorbar": {
             "outlinewidth": 0,
             "ticks": ""
            },
            "colorscale": [
             [
              0,
              "#0d0887"
             ],
             [
              0.1111111111111111,
              "#46039f"
             ],
             [
              0.2222222222222222,
              "#7201a8"
             ],
             [
              0.3333333333333333,
              "#9c179e"
             ],
             [
              0.4444444444444444,
              "#bd3786"
             ],
             [
              0.5555555555555556,
              "#d8576b"
             ],
             [
              0.6666666666666666,
              "#ed7953"
             ],
             [
              0.7777777777777778,
              "#fb9f3a"
             ],
             [
              0.8888888888888888,
              "#fdca26"
             ],
             [
              1,
              "#f0f921"
             ]
            ],
            "type": "surface"
           }
          ],
          "table": [
           {
            "cells": {
             "fill": {
              "color": "#EBF0F8"
             },
             "line": {
              "color": "white"
             }
            },
            "header": {
             "fill": {
              "color": "#C8D4E3"
             },
             "line": {
              "color": "white"
             }
            },
            "type": "table"
           }
          ]
         },
         "layout": {
          "annotationdefaults": {
           "arrowcolor": "#2a3f5f",
           "arrowhead": 0,
           "arrowwidth": 1
          },
          "autotypenumbers": "strict",
          "coloraxis": {
           "colorbar": {
            "outlinewidth": 0,
            "ticks": ""
           }
          },
          "colorscale": {
           "diverging": [
            [
             0,
             "#8e0152"
            ],
            [
             0.1,
             "#c51b7d"
            ],
            [
             0.2,
             "#de77ae"
            ],
            [
             0.3,
             "#f1b6da"
            ],
            [
             0.4,
             "#fde0ef"
            ],
            [
             0.5,
             "#f7f7f7"
            ],
            [
             0.6,
             "#e6f5d0"
            ],
            [
             0.7,
             "#b8e186"
            ],
            [
             0.8,
             "#7fbc41"
            ],
            [
             0.9,
             "#4d9221"
            ],
            [
             1,
             "#276419"
            ]
           ],
           "sequential": [
            [
             0,
             "#0d0887"
            ],
            [
             0.1111111111111111,
             "#46039f"
            ],
            [
             0.2222222222222222,
             "#7201a8"
            ],
            [
             0.3333333333333333,
             "#9c179e"
            ],
            [
             0.4444444444444444,
             "#bd3786"
            ],
            [
             0.5555555555555556,
             "#d8576b"
            ],
            [
             0.6666666666666666,
             "#ed7953"
            ],
            [
             0.7777777777777778,
             "#fb9f3a"
            ],
            [
             0.8888888888888888,
             "#fdca26"
            ],
            [
             1,
             "#f0f921"
            ]
           ],
           "sequentialminus": [
            [
             0,
             "#0d0887"
            ],
            [
             0.1111111111111111,
             "#46039f"
            ],
            [
             0.2222222222222222,
             "#7201a8"
            ],
            [
             0.3333333333333333,
             "#9c179e"
            ],
            [
             0.4444444444444444,
             "#bd3786"
            ],
            [
             0.5555555555555556,
             "#d8576b"
            ],
            [
             0.6666666666666666,
             "#ed7953"
            ],
            [
             0.7777777777777778,
             "#fb9f3a"
            ],
            [
             0.8888888888888888,
             "#fdca26"
            ],
            [
             1,
             "#f0f921"
            ]
           ]
          },
          "colorway": [
           "#636efa",
           "#EF553B",
           "#00cc96",
           "#ab63fa",
           "#FFA15A",
           "#19d3f3",
           "#FF6692",
           "#B6E880",
           "#FF97FF",
           "#FECB52"
          ],
          "font": {
           "color": "#2a3f5f"
          },
          "geo": {
           "bgcolor": "white",
           "lakecolor": "white",
           "landcolor": "#E5ECF6",
           "showlakes": true,
           "showland": true,
           "subunitcolor": "white"
          },
          "hoverlabel": {
           "align": "left"
          },
          "hovermode": "closest",
          "mapbox": {
           "style": "light"
          },
          "paper_bgcolor": "white",
          "plot_bgcolor": "#E5ECF6",
          "polar": {
           "angularaxis": {
            "gridcolor": "white",
            "linecolor": "white",
            "ticks": ""
           },
           "bgcolor": "#E5ECF6",
           "radialaxis": {
            "gridcolor": "white",
            "linecolor": "white",
            "ticks": ""
           }
          },
          "scene": {
           "xaxis": {
            "backgroundcolor": "#E5ECF6",
            "gridcolor": "white",
            "gridwidth": 2,
            "linecolor": "white",
            "showbackground": true,
            "ticks": "",
            "zerolinecolor": "white"
           },
           "yaxis": {
            "backgroundcolor": "#E5ECF6",
            "gridcolor": "white",
            "gridwidth": 2,
            "linecolor": "white",
            "showbackground": true,
            "ticks": "",
            "zerolinecolor": "white"
           },
           "zaxis": {
            "backgroundcolor": "#E5ECF6",
            "gridcolor": "white",
            "gridwidth": 2,
            "linecolor": "white",
            "showbackground": true,
            "ticks": "",
            "zerolinecolor": "white"
           }
          },
          "shapedefaults": {
           "line": {
            "color": "#2a3f5f"
           }
          },
          "ternary": {
           "aaxis": {
            "gridcolor": "white",
            "linecolor": "white",
            "ticks": ""
           },
           "baxis": {
            "gridcolor": "white",
            "linecolor": "white",
            "ticks": ""
           },
           "bgcolor": "#E5ECF6",
           "caxis": {
            "gridcolor": "white",
            "linecolor": "white",
            "ticks": ""
           }
          },
          "title": {
           "x": 0.05
          },
          "xaxis": {
           "automargin": true,
           "gridcolor": "white",
           "linecolor": "white",
           "ticks": "",
           "title": {
            "standoff": 15
           },
           "zerolinecolor": "white",
           "zerolinewidth": 2
          },
          "yaxis": {
           "automargin": true,
           "gridcolor": "white",
           "linecolor": "white",
           "ticks": "",
           "title": {
            "standoff": 15
           },
           "zerolinecolor": "white",
           "zerolinewidth": 2
          }
         }
        },
        "title": {
         "text": "Optimization Progress"
        },
        "xaxis": {
         "anchor": "y",
         "domain": [
          0,
          1
         ],
         "title": {
          "text": "Step"
         }
        },
        "yaxis": {
         "anchor": "x",
         "domain": [
          0,
          1
         ],
         "title": {
          "text": "Best Energy Value"
         }
        }
       }
      }
     },
     "metadata": {},
     "output_type": "display_data"
    }
   ],
   "source": [
    "model.draw_energy_plot(info['hist'])"
   ]
  },
  {
   "cell_type": "markdown",
   "metadata": {},
   "source": [
    "## VEGSA"
   ]
  },
  {
   "cell_type": "code",
   "execution_count": 41,
   "metadata": {},
   "outputs": [
    {
     "name": "stdout",
     "output_type": "stream",
     "text": [
      "GA init: \n",
      "generation: 1\n",
      "generation: 2\n",
      "generation: 3\n",
      "generation: 4\n",
      "generation: 5\n",
      "generation: 6\n",
      "generation: 7\n",
      "generation: 8\n",
      "generation: 9\n",
      "generation: 10\n",
      "generation: 11\n",
      "generation: 12\n",
      "generation: 13\n",
      "generation: 14\n",
      "generation: 15\n",
      "generation: 16\n",
      "generation: 17\n",
      "GA result: \n",
      "{'x_best': array([ 6, 14, 15, 13, 10, 12,  5, 11,  7,  2,  8,  3,  4,  9, 16,  1]), 'e_best': 41.479106584458265, 'time': 17, 'hist': [(1, 52.06720074800867), (2, 52.06720074800867), (3, 50.67323868554426), (4, 50.67323868554426), (5, 43.365005205512716), (6, 42.920635698550775), (7, 41.54216572581866), (8, 41.479106584458265), (9, 41.479106584458265), (10, 41.479106584458265), (11, 41.479106584458265), (12, 41.479106584458265), (13, 41.479106584458265), (14, 41.479106584458265), (15, 41.479106584458265), (16, 41.479106584458265), (17, 41.479106584458265)]}\n",
      "SA init: \n",
      "step: 1, temperature: 100, energy: 41.479106584458265\n",
      "step: 2, temperature: 99.2, energy: 41.479106584458265\n",
      "step: 3, temperature: 98.4, energy: 41.479106584458265\n",
      "step: 4, temperature: 97.6, energy: 41.479106584458265\n",
      "step: 5, temperature: 96.8, energy: 41.479106584458265\n",
      "step: 6, temperature: 96.0, energy: 41.479106584458265\n",
      "step: 7, temperature: 95.2, energy: 41.479106584458265\n",
      "step: 8, temperature: 94.4, energy: 41.479106584458265\n",
      "step: 9, temperature: 93.6, energy: 41.479106584458265\n",
      "step: 10, temperature: 92.8, energy: 41.479106584458265\n",
      "step: 11, temperature: 92.0, energy: 41.479106584458265\n",
      "step: 12, temperature: 91.2, energy: 41.479106584458265\n",
      "step: 13, temperature: 90.4, energy: 41.479106584458265\n",
      "step: 14, temperature: 89.6, energy: 41.479106584458265\n",
      "step: 15, temperature: 88.8, energy: 41.479106584458265\n",
      "step: 16, temperature: 88.0, energy: 41.479106584458265\n",
      "step: 17, temperature: 87.2, energy: 40.44658622216486\n",
      "step: 18, temperature: 86.4, energy: 40.44658622216486\n",
      "step: 19, temperature: 85.6, energy: 40.44658622216486\n",
      "step: 20, temperature: 84.8, energy: 40.44658622216486\n",
      "step: 21, temperature: 84.0, energy: 40.44658622216486\n",
      "step: 22, temperature: 83.2, energy: 38.85764707706704\n",
      "step: 23, temperature: 82.4, energy: 38.85764707706704\n",
      "step: 24, temperature: 81.6, energy: 38.85764707706704\n",
      "step: 25, temperature: 80.8, energy: 38.85764707706704\n",
      "step: 26, temperature: 80.0, energy: 38.85764707706704\n",
      "step: 27, temperature: 79.2, energy: 38.85764707706704\n",
      "step: 28, temperature: 78.4, energy: 38.85764707706704\n",
      "step: 29, temperature: 77.6, energy: 38.85764707706704\n",
      "step: 30, temperature: 76.8, energy: 38.85764707706704\n",
      "step: 31, temperature: 76.0, energy: 38.85764707706704\n",
      "step: 32, temperature: 75.2, energy: 38.85764707706704\n",
      "step: 33, temperature: 74.4, energy: 38.81419980049135\n",
      "step: 34, temperature: 73.6, energy: 38.81419980049135\n",
      "step: 35, temperature: 72.8, energy: 38.81419980049135\n",
      "step: 36, temperature: 72.0, energy: 38.81419980049135\n",
      "step: 37, temperature: 71.2, energy: 38.81419980049135\n",
      "step: 38, temperature: 70.4, energy: 38.81419980049135\n",
      "step: 39, temperature: 69.6, energy: 38.81419980049135\n",
      "step: 40, temperature: 68.8, energy: 38.81419980049135\n",
      "step: 41, temperature: 68.0, energy: 38.63501724828717\n",
      "step: 42, temperature: 67.2, energy: 38.63501724828717\n",
      "step: 43, temperature: 66.4, energy: 38.63501724828717\n",
      "step: 44, temperature: 65.6, energy: 38.63501724828717\n",
      "step: 45, temperature: 64.8, energy: 38.63501724828717\n",
      "step: 46, temperature: 64.0, energy: 38.63501724828717\n",
      "step: 47, temperature: 63.2, energy: 38.63501724828717\n",
      "step: 48, temperature: 62.4, energy: 38.63501724828717\n",
      "step: 49, temperature: 61.6, energy: 38.63501724828717\n",
      "step: 50, temperature: 60.8, energy: 38.63501724828717\n",
      "step: 51, temperature: 60.0, energy: 38.63501724828717\n",
      "step: 52, temperature: 59.2, energy: 38.63501724828717\n",
      "step: 53, temperature: 58.4, energy: 38.63501724828717\n",
      "step: 54, temperature: 57.6, energy: 38.63501724828717\n",
      "step: 55, temperature: 56.8, energy: 38.63501724828717\n",
      "step: 56, temperature: 56.0, energy: 38.63501724828717\n",
      "step: 57, temperature: 55.2, energy: 38.63501724828717\n",
      "step: 58, temperature: 54.4, energy: 38.63501724828717\n",
      "step: 59, temperature: 53.6, energy: 38.63501724828717\n",
      "step: 60, temperature: 52.8, energy: 38.63501724828717\n",
      "step: 61, temperature: 52.0, energy: 38.63501724828717\n",
      "step: 62, temperature: 51.2, energy: 38.63501724828717\n",
      "step: 63, temperature: 50.4, energy: 38.63501724828717\n",
      "step: 64, temperature: 49.6, energy: 38.63501724828717\n",
      "step: 65, temperature: 48.8, energy: 38.63501724828717\n",
      "step: 66, temperature: 48.0, energy: 38.63501724828717\n",
      "step: 67, temperature: 47.2, energy: 38.63501724828717\n",
      "step: 68, temperature: 46.4, energy: 38.63501724828717\n",
      "step: 69, temperature: 45.6, energy: 38.63501724828717\n",
      "step: 70, temperature: 44.8, energy: 38.63501724828717\n",
      "step: 71, temperature: 44.0, energy: 38.63501724828717\n",
      "step: 72, temperature: 43.2, energy: 38.63501724828717\n",
      "step: 73, temperature: 42.4, energy: 38.63501724828717\n",
      "step: 74, temperature: 41.6, energy: 38.63501724828717\n",
      "step: 75, temperature: 40.8, energy: 38.63501724828717\n",
      "step: 76, temperature: 40.0, energy: 38.63501724828717\n",
      "step: 77, temperature: 39.2, energy: 38.63501724828717\n",
      "step: 78, temperature: 38.4, energy: 38.63501724828717\n",
      "step: 79, temperature: 37.6, energy: 38.63501724828717\n",
      "step: 80, temperature: 36.8, energy: 38.63501724828717\n",
      "step: 81, temperature: 36.0, energy: 38.63501724828717\n",
      "step: 82, temperature: 35.2, energy: 38.63501724828717\n",
      "step: 83, temperature: 34.4, energy: 38.63501724828717\n",
      "step: 84, temperature: 33.6, energy: 38.63501724828717\n",
      "step: 85, temperature: 32.8, energy: 38.63501724828717\n",
      "step: 86, temperature: 32.0, energy: 38.63501724828717\n",
      "step: 87, temperature: 31.2, energy: 38.63501724828717\n",
      "step: 88, temperature: 30.4, energy: 38.63501724828717\n",
      "step: 89, temperature: 29.6, energy: 38.63501724828717\n",
      "step: 90, temperature: 28.8, energy: 38.63501724828717\n",
      "step: 91, temperature: 28.0, energy: 38.63501724828717\n",
      "step: 92, temperature: 27.2, energy: 38.63501724828717\n",
      "step: 93, temperature: 26.4, energy: 38.63501724828717\n",
      "step: 94, temperature: 25.6, energy: 38.63501724828717\n",
      "step: 95, temperature: 24.8, energy: 38.63501724828717\n",
      "step: 96, temperature: 24.0, energy: 38.63501724828717\n",
      "step: 97, temperature: 23.2, energy: 38.63501724828717\n",
      "step: 98, temperature: 22.4, energy: 38.63501724828717\n",
      "step: 99, temperature: 21.6, energy: 38.63501724828717\n",
      "step: 100, temperature: 20.8, energy: 38.63501724828717\n",
      "SA result: \n",
      "{'x_best': array([ 6, 14, 15, 13, 10,  9,  5, 12, 16,  2,  3,  4, 11,  7,  8,  1]), 'e_best': 38.63501724828717, 'temperature': 20.0, 'time': 101, 'hist': [(1, 41.479106584458265, 100), (2, 41.479106584458265, 99.2), (3, 41.479106584458265, 98.4), (4, 41.479106584458265, 97.6), (5, 41.479106584458265, 96.8), (6, 41.479106584458265, 96.0), (7, 41.479106584458265, 95.2), (8, 41.479106584458265, 94.4), (9, 41.479106584458265, 93.6), (10, 41.479106584458265, 92.8), (11, 41.479106584458265, 92.0), (12, 41.479106584458265, 91.2), (13, 41.479106584458265, 90.4), (14, 41.479106584458265, 89.6), (15, 41.479106584458265, 88.8), (16, 41.479106584458265, 88.0), (17, 40.44658622216486, 87.2), (18, 40.44658622216486, 86.4), (19, 40.44658622216486, 85.6), (20, 40.44658622216486, 84.8), (21, 40.44658622216486, 84.0), (22, 38.85764707706704, 83.2), (23, 38.85764707706704, 82.4), (24, 38.85764707706704, 81.6), (25, 38.85764707706704, 80.8), (26, 38.85764707706704, 80.0), (27, 38.85764707706704, 79.2), (28, 38.85764707706704, 78.4), (29, 38.85764707706704, 77.6), (30, 38.85764707706704, 76.8), (31, 38.85764707706704, 76.0), (32, 38.85764707706704, 75.2), (33, 38.81419980049135, 74.4), (34, 38.81419980049135, 73.6), (35, 38.81419980049135, 72.8), (36, 38.81419980049135, 72.0), (37, 38.81419980049135, 71.2), (38, 38.81419980049135, 70.4), (39, 38.81419980049135, 69.6), (40, 38.81419980049135, 68.8), (41, 38.63501724828717, 68.0), (42, 38.63501724828717, 67.2), (43, 38.63501724828717, 66.4), (44, 38.63501724828717, 65.6), (45, 38.63501724828717, 64.8), (46, 38.63501724828717, 64.0), (47, 38.63501724828717, 63.2), (48, 38.63501724828717, 62.4), (49, 38.63501724828717, 61.6), (50, 38.63501724828717, 60.8), (51, 38.63501724828717, 60.0), (52, 38.63501724828717, 59.2), (53, 38.63501724828717, 58.4), (54, 38.63501724828717, 57.6), (55, 38.63501724828717, 56.8), (56, 38.63501724828717, 56.0), (57, 38.63501724828717, 55.2), (58, 38.63501724828717, 54.4), (59, 38.63501724828717, 53.6), (60, 38.63501724828717, 52.8), (61, 38.63501724828717, 52.0), (62, 38.63501724828717, 51.2), (63, 38.63501724828717, 50.4), (64, 38.63501724828717, 49.6), (65, 38.63501724828717, 48.8), (66, 38.63501724828717, 48.0), (67, 38.63501724828717, 47.2), (68, 38.63501724828717, 46.4), (69, 38.63501724828717, 45.6), (70, 38.63501724828717, 44.8), (71, 38.63501724828717, 44.0), (72, 38.63501724828717, 43.2), (73, 38.63501724828717, 42.4), (74, 38.63501724828717, 41.6), (75, 38.63501724828717, 40.8), (76, 38.63501724828717, 40.0), (77, 38.63501724828717, 39.2), (78, 38.63501724828717, 38.4), (79, 38.63501724828717, 37.6), (80, 38.63501724828717, 36.8), (81, 38.63501724828717, 36.0), (82, 38.63501724828717, 35.2), (83, 38.63501724828717, 34.4), (84, 38.63501724828717, 33.6), (85, 38.63501724828717, 32.8), (86, 38.63501724828717, 32.0), (87, 38.63501724828717, 31.2), (88, 38.63501724828717, 30.4), (89, 38.63501724828717, 29.6), (90, 38.63501724828717, 28.8), (91, 38.63501724828717, 28.0), (92, 38.63501724828717, 27.2), (93, 38.63501724828717, 26.4), (94, 38.63501724828717, 25.6), (95, 38.63501724828717, 24.8), (96, 38.63501724828717, 24.0), (97, 38.63501724828717, 23.2), (98, 38.63501724828717, 22.4), (99, 38.63501724828717, 21.6), (100, 38.63501724828717, 20.8)]}\n"
     ]
    }
   ],
   "source": [
    "Tmax = 100 \n",
    "Tmin = 20\n",
    "StepMax = 100\n",
    "information = model.vegsa(\n",
    "    x0= x0,\n",
    "    PopSize= 100,\n",
    "    ElitePopSize= 10,\n",
    "    subPopSize=20,\n",
    "    MaxGenerations= 60,\n",
    "    localOptimumTime= 10,\n",
    "    StepMax= StepMax,\n",
    "    Tmin= Tmin,\n",
    "    Tmax= Tmax,\n",
    "    SAlocalEntropyTime= 10,\n",
    "    cooling_operator= linear_additive_cooling(t_max=Tmax, t_min=Tmin, alpha=0.9, step_max=StepMax)\n",
    ")"
   ]
  },
  {
   "cell_type": "code",
   "execution_count": 42,
   "metadata": {},
   "outputs": [
    {
     "name": "stdout",
     "output_type": "stream",
     "text": [
      "[ 6 14 15 13 10  9  5 12 16  2  3  4 11  7  8  1]\n",
      "38.63501724828717\n",
      "20.0\n",
      "101\n"
     ]
    }
   ],
   "source": [
    "print(information['x_best'])\n",
    "print(information['e_best'])\n",
    "print(information['temperature'])\n",
    "print(information['time'])"
   ]
  },
  {
   "cell_type": "code",
   "execution_count": 43,
   "metadata": {},
   "outputs": [
    {
     "data": {
      "text/html": [
       "<div>\n",
       "<style scoped>\n",
       "    .dataframe tbody tr th:only-of-type {\n",
       "        vertical-align: middle;\n",
       "    }\n",
       "\n",
       "    .dataframe tbody tr th {\n",
       "        vertical-align: top;\n",
       "    }\n",
       "\n",
       "    .dataframe thead th {\n",
       "        text-align: right;\n",
       "    }\n",
       "</style>\n",
       "<table border=\"1\" class=\"dataframe\">\n",
       "  <thead>\n",
       "    <tr style=\"text-align: right;\">\n",
       "      <th></th>\n",
       "      <th>Vehiculo</th>\n",
       "      <th>Nodoi-1</th>\n",
       "      <th>Nodoi</th>\n",
       "      <th>Distancia</th>\n",
       "      <th>TiempoArco</th>\n",
       "      <th>TW_A</th>\n",
       "      <th>TW_B</th>\n",
       "      <th>Tanque</th>\n",
       "      <th>CO2</th>\n",
       "    </tr>\n",
       "  </thead>\n",
       "  <tbody>\n",
       "    <tr>\n",
       "      <th>0</th>\n",
       "      <td>0</td>\n",
       "      <td>0</td>\n",
       "      <td>6</td>\n",
       "      <td>61.131007</td>\n",
       "      <td>1.528275</td>\n",
       "      <td>0</td>\n",
       "      <td>7</td>\n",
       "      <td>12.111560</td>\n",
       "      <td>2.888440</td>\n",
       "    </tr>\n",
       "    <tr>\n",
       "      <th>1</th>\n",
       "      <td>0</td>\n",
       "      <td>6</td>\n",
       "      <td>14</td>\n",
       "      <td>12.727922</td>\n",
       "      <td>0.318198</td>\n",
       "      <td>8</td>\n",
       "      <td>11</td>\n",
       "      <td>11.510166</td>\n",
       "      <td>0.601394</td>\n",
       "    </tr>\n",
       "    <tr>\n",
       "      <th>2</th>\n",
       "      <td>0</td>\n",
       "      <td>14</td>\n",
       "      <td>15</td>\n",
       "      <td>11.180340</td>\n",
       "      <td>0.279508</td>\n",
       "      <td>8</td>\n",
       "      <td>11</td>\n",
       "      <td>10.981895</td>\n",
       "      <td>0.528271</td>\n",
       "    </tr>\n",
       "    <tr>\n",
       "      <th>3</th>\n",
       "      <td>0</td>\n",
       "      <td>15</td>\n",
       "      <td>13</td>\n",
       "      <td>5.000000</td>\n",
       "      <td>0.125000</td>\n",
       "      <td>9</td>\n",
       "      <td>13</td>\n",
       "      <td>10.745645</td>\n",
       "      <td>0.236250</td>\n",
       "    </tr>\n",
       "    <tr>\n",
       "      <th>4</th>\n",
       "      <td>0</td>\n",
       "      <td>13</td>\n",
       "      <td>10</td>\n",
       "      <td>26.000000</td>\n",
       "      <td>0.650000</td>\n",
       "      <td>7</td>\n",
       "      <td>24</td>\n",
       "      <td>9.517145</td>\n",
       "      <td>1.228500</td>\n",
       "    </tr>\n",
       "    <tr>\n",
       "      <th>5</th>\n",
       "      <td>0</td>\n",
       "      <td>10</td>\n",
       "      <td>9</td>\n",
       "      <td>18.601075</td>\n",
       "      <td>0.465027</td>\n",
       "      <td>0</td>\n",
       "      <td>24</td>\n",
       "      <td>8.638244</td>\n",
       "      <td>0.878901</td>\n",
       "    </tr>\n",
       "    <tr>\n",
       "      <th>6</th>\n",
       "      <td>0</td>\n",
       "      <td>9</td>\n",
       "      <td>5</td>\n",
       "      <td>17.029386</td>\n",
       "      <td>0.425735</td>\n",
       "      <td>7</td>\n",
       "      <td>24</td>\n",
       "      <td>7.833605</td>\n",
       "      <td>0.804639</td>\n",
       "    </tr>\n",
       "    <tr>\n",
       "      <th>7</th>\n",
       "      <td>0</td>\n",
       "      <td>5</td>\n",
       "      <td>12</td>\n",
       "      <td>18.788294</td>\n",
       "      <td>0.469707</td>\n",
       "      <td>9</td>\n",
       "      <td>18</td>\n",
       "      <td>6.945858</td>\n",
       "      <td>0.887747</td>\n",
       "    </tr>\n",
       "    <tr>\n",
       "      <th>8</th>\n",
       "      <td>0</td>\n",
       "      <td>12</td>\n",
       "      <td>16</td>\n",
       "      <td>60.133186</td>\n",
       "      <td>1.503330</td>\n",
       "      <td>4</td>\n",
       "      <td>18</td>\n",
       "      <td>4.104565</td>\n",
       "      <td>2.841293</td>\n",
       "    </tr>\n",
       "    <tr>\n",
       "      <th>9</th>\n",
       "      <td>0</td>\n",
       "      <td>16</td>\n",
       "      <td>0</td>\n",
       "      <td>56.885851</td>\n",
       "      <td>1.422146</td>\n",
       "      <td>4</td>\n",
       "      <td>15</td>\n",
       "      <td>1.416709</td>\n",
       "      <td>2.687856</td>\n",
       "    </tr>\n",
       "    <tr>\n",
       "      <th>10</th>\n",
       "      <td>1</td>\n",
       "      <td>0</td>\n",
       "      <td>2</td>\n",
       "      <td>41.436699</td>\n",
       "      <td>1.035917</td>\n",
       "      <td>0</td>\n",
       "      <td>24</td>\n",
       "      <td>13.042116</td>\n",
       "      <td>1.957884</td>\n",
       "    </tr>\n",
       "    <tr>\n",
       "      <th>11</th>\n",
       "      <td>1</td>\n",
       "      <td>2</td>\n",
       "      <td>3</td>\n",
       "      <td>60.307545</td>\n",
       "      <td>1.507689</td>\n",
       "      <td>0</td>\n",
       "      <td>7</td>\n",
       "      <td>10.192584</td>\n",
       "      <td>2.849532</td>\n",
       "    </tr>\n",
       "    <tr>\n",
       "      <th>12</th>\n",
       "      <td>1</td>\n",
       "      <td>3</td>\n",
       "      <td>4</td>\n",
       "      <td>3.162278</td>\n",
       "      <td>0.079057</td>\n",
       "      <td>7</td>\n",
       "      <td>24</td>\n",
       "      <td>10.043167</td>\n",
       "      <td>0.149418</td>\n",
       "    </tr>\n",
       "    <tr>\n",
       "      <th>13</th>\n",
       "      <td>1</td>\n",
       "      <td>4</td>\n",
       "      <td>11</td>\n",
       "      <td>19.235384</td>\n",
       "      <td>0.480885</td>\n",
       "      <td>5</td>\n",
       "      <td>14</td>\n",
       "      <td>9.134295</td>\n",
       "      <td>0.908872</td>\n",
       "    </tr>\n",
       "    <tr>\n",
       "      <th>14</th>\n",
       "      <td>1</td>\n",
       "      <td>11</td>\n",
       "      <td>7</td>\n",
       "      <td>18.681542</td>\n",
       "      <td>0.467039</td>\n",
       "      <td>0</td>\n",
       "      <td>24</td>\n",
       "      <td>8.251592</td>\n",
       "      <td>0.882703</td>\n",
       "    </tr>\n",
       "    <tr>\n",
       "      <th>15</th>\n",
       "      <td>1</td>\n",
       "      <td>7</td>\n",
       "      <td>8</td>\n",
       "      <td>15.000000</td>\n",
       "      <td>0.375000</td>\n",
       "      <td>0</td>\n",
       "      <td>24</td>\n",
       "      <td>7.542842</td>\n",
       "      <td>0.708750</td>\n",
       "    </tr>\n",
       "    <tr>\n",
       "      <th>16</th>\n",
       "      <td>1</td>\n",
       "      <td>8</td>\n",
       "      <td>1</td>\n",
       "      <td>37.336309</td>\n",
       "      <td>0.933408</td>\n",
       "      <td>7</td>\n",
       "      <td>24</td>\n",
       "      <td>5.778701</td>\n",
       "      <td>1.764141</td>\n",
       "    </tr>\n",
       "    <tr>\n",
       "      <th>17</th>\n",
       "      <td>1</td>\n",
       "      <td>1</td>\n",
       "      <td>0</td>\n",
       "      <td>17.492856</td>\n",
       "      <td>0.437321</td>\n",
       "      <td>4</td>\n",
       "      <td>15</td>\n",
       "      <td>4.952164</td>\n",
       "      <td>0.826537</td>\n",
       "    </tr>\n",
       "  </tbody>\n",
       "</table>\n",
       "</div>"
      ],
      "text/plain": [
       "    Vehiculo  Nodoi-1  Nodoi  Distancia  TiempoArco  TW_A  TW_B     Tanque  \\\n",
       "0          0        0      6  61.131007    1.528275     0     7  12.111560   \n",
       "1          0        6     14  12.727922    0.318198     8    11  11.510166   \n",
       "2          0       14     15  11.180340    0.279508     8    11  10.981895   \n",
       "3          0       15     13   5.000000    0.125000     9    13  10.745645   \n",
       "4          0       13     10  26.000000    0.650000     7    24   9.517145   \n",
       "5          0       10      9  18.601075    0.465027     0    24   8.638244   \n",
       "6          0        9      5  17.029386    0.425735     7    24   7.833605   \n",
       "7          0        5     12  18.788294    0.469707     9    18   6.945858   \n",
       "8          0       12     16  60.133186    1.503330     4    18   4.104565   \n",
       "9          0       16      0  56.885851    1.422146     4    15   1.416709   \n",
       "10         1        0      2  41.436699    1.035917     0    24  13.042116   \n",
       "11         1        2      3  60.307545    1.507689     0     7  10.192584   \n",
       "12         1        3      4   3.162278    0.079057     7    24  10.043167   \n",
       "13         1        4     11  19.235384    0.480885     5    14   9.134295   \n",
       "14         1       11      7  18.681542    0.467039     0    24   8.251592   \n",
       "15         1        7      8  15.000000    0.375000     0    24   7.542842   \n",
       "16         1        8      1  37.336309    0.933408     7    24   5.778701   \n",
       "17         1        1      0  17.492856    0.437321     4    15   4.952164   \n",
       "\n",
       "         CO2  \n",
       "0   2.888440  \n",
       "1   0.601394  \n",
       "2   0.528271  \n",
       "3   0.236250  \n",
       "4   1.228500  \n",
       "5   0.878901  \n",
       "6   0.804639  \n",
       "7   0.887747  \n",
       "8   2.841293  \n",
       "9   2.687856  \n",
       "10  1.957884  \n",
       "11  2.849532  \n",
       "12  0.149418  \n",
       "13  0.908872  \n",
       "14  0.882703  \n",
       "15  0.708750  \n",
       "16  1.764141  \n",
       "17  0.826537  "
      ]
     },
     "execution_count": 43,
     "metadata": {},
     "output_type": "execute_result"
    }
   ],
   "source": [
    "optimal_route3, df_summary3 = model.decoding(information['x_best'], summary=True)\n",
    "df_summary3"
   ]
  },
  {
   "cell_type": "code",
   "execution_count": 44,
   "metadata": {},
   "outputs": [
    {
     "data": {
      "image/png": "[encoded data removed]",
      "text/plain": [
       "<Figure size 1000x800 with 1 Axes>"
      ]
     },
     "metadata": {},
     "output_type": "display_data"
    }
   ],
   "source": [
    "draw_graph(optimal_route3)"
   ]
  },
  {
   "cell_type": "code",
   "execution_count": 45,
   "metadata": {},
   "outputs": [
    {
     "data": {
      "application/vnd.plotly.v1+json": {
       "config": {
        "plotlyServerURL": "https://plot.ly"
       },
       "data": [
        {
         "hovertemplate": "Step=%{x}<br>Best Energy Value=%{y}<extra></extra>",
         "legendgroup": "",
         "line": {
          "color": "#636efa",
          "dash": "solid",
          "shape": "linear"
         },
         "marker": {
          "symbol": "circle"
         },
         "mode": "markers+lines",
         "name": "",
         "orientation": "v",
         "showlegend": false,
         "type": "scatter",
         "x": [
          1,
          2,
          3,
          4,
          5,
          6,
          7,
          8,
          9,
          10,
          11,
          12,
          13,
          14,
          15,
          16,
          17,
          18,
          19,
          20,
          21,
          22,
          23,
          24,
          25,
          26,
          27,
          28,
          29,
          30,
          31,
          32,
          33,
          34,
          35,
          36,
          37,
          38,
          39,
          40,
          41,
          42,
          43,
          44,
          45,
          46,
          47,
          48,
          49,
          50,
          51,
          52,
          53,
          54,
          55,
          56,
          57,
          58,
          59,
          60,
          61,
          62,
          63,
          64,
          65,
          66,
          67,
          68,
          69,
          70,
          71,
          72,
          73,
          74,
          75,
          76,
          77,
          78,
          79,
          80,
          81,
          82,
          83,
          84,
          85,
          86,
          87,
          88,
          89,
          90,
          91,
          92,
          93,
          94,
          95,
          96,
          97,
          98,
          99,
          100
         ],
         "xaxis": "x",
         "y": [
          41.479106584458265,
          41.479106584458265,
          41.479106584458265,
          41.479106584458265,
          41.479106584458265,
          41.479106584458265,
          41.479106584458265,
          41.479106584458265,
          41.479106584458265,
          41.479106584458265,
          41.479106584458265,
          41.479106584458265,
          41.479106584458265,
          41.479106584458265,
          41.479106584458265,
          41.479106584458265,
          40.44658622216486,
          40.44658622216486,
          40.44658622216486,
          40.44658622216486,
          40.44658622216486,
          38.85764707706704,
          38.85764707706704,
          38.85764707706704,
          38.85764707706704,
          38.85764707706704,
          38.85764707706704,
          38.85764707706704,
          38.85764707706704,
          38.85764707706704,
          38.85764707706704,
          38.85764707706704,
          38.81419980049135,
          38.81419980049135,
          38.81419980049135,
          38.81419980049135,
          38.81419980049135,
          38.81419980049135,
          38.81419980049135,
          38.81419980049135,
          38.63501724828717,
          38.63501724828717,
          38.63501724828717,
          38.63501724828717,
          38.63501724828717,
          38.63501724828717,
          38.63501724828717,
          38.63501724828717,
          38.63501724828717,
          38.63501724828717,
          38.63501724828717,
          38.63501724828717,
          38.63501724828717,
          38.63501724828717,
          38.63501724828717,
          38.63501724828717,
          38.63501724828717,
          38.63501724828717,
          38.63501724828717,
          38.63501724828717,
          38.63501724828717,
          38.63501724828717,
          38.63501724828717,
          38.63501724828717,
          38.63501724828717,
          38.63501724828717,
          38.63501724828717,
          38.63501724828717,
          38.63501724828717,
          38.63501724828717,
          38.63501724828717,
          38.63501724828717,
          38.63501724828717,
          38.63501724828717,
          38.63501724828717,
          38.63501724828717,
          38.63501724828717,
          38.63501724828717,
          38.63501724828717,
          38.63501724828717,
          38.63501724828717,
          38.63501724828717,
          38.63501724828717,
          38.63501724828717,
          38.63501724828717,
          38.63501724828717,
          38.63501724828717,
          38.63501724828717,
          38.63501724828717,
          38.63501724828717,
          38.63501724828717,
          38.63501724828717,
          38.63501724828717,
          38.63501724828717,
          38.63501724828717,
          38.63501724828717,
          38.63501724828717,
          38.63501724828717,
          38.63501724828717,
          38.63501724828717
         ],
         "yaxis": "y"
        }
       ],
       "layout": {
        "legend": {
         "tracegroupgap": 0
        },
        "template": {
         "data": {
          "bar": [
           {
            "error_x": {
             "color": "#2a3f5f"
            },
            "error_y": {
             "color": "#2a3f5f"
            },
            "marker": {
             "line": {
              "color": "#E5ECF6",
              "width": 0.5
             },
             "pattern": {
              "fillmode": "overlay",
              "size": 10,
              "solidity": 0.2
             }
            },
            "type": "bar"
           }
          ],
          "barpolar": [
           {
            "marker": {
             "line": {
              "color": "#E5ECF6",
              "width": 0.5
             },
             "pattern": {
              "fillmode": "overlay",
              "size": 10,
              "solidity": 0.2
             }
            },
            "type": "barpolar"
           }
          ],
          "carpet": [
           {
            "aaxis": {
             "endlinecolor": "#2a3f5f",
             "gridcolor": "white",
             "linecolor": "white",
             "minorgridcolor": "white",
             "startlinecolor": "#2a3f5f"
            },
            "baxis": {
             "endlinecolor": "#2a3f5f",
             "gridcolor": "white",
             "linecolor": "white",
             "minorgridcolor": "white",
             "startlinecolor": "#2a3f5f"
            },
            "type": "carpet"
           }
          ],
          "choropleth": [
           {
            "colorbar": {
             "outlinewidth": 0,
             "ticks": ""
            },
            "type": "choropleth"
           }
          ],
          "contour": [
           {
            "colorbar": {
             "outlinewidth": 0,
             "ticks": ""
            },
            "colorscale": [
             [
              0,
              "#0d0887"
             ],
             [
              0.1111111111111111,
              "#46039f"
             ],
             [
              0.2222222222222222,
              "#7201a8"
             ],
             [
              0.3333333333333333,
              "#9c179e"
             ],
             [
              0.4444444444444444,
              "#bd3786"
             ],
             [
              0.5555555555555556,
              "#d8576b"
             ],
             [
              0.6666666666666666,
              "#ed7953"
             ],
             [
              0.7777777777777778,
              "#fb9f3a"
             ],
             [
              0.8888888888888888,
              "#fdca26"
             ],
             [
              1,
              "#f0f921"
             ]
            ],
            "type": "contour"
           }
          ],
          "contourcarpet": [
           {
            "colorbar": {
             "outlinewidth": 0,
             "ticks": ""
            },
            "type": "contourcarpet"
           }
          ],
          "heatmap": [
           {
            "colorbar": {
             "outlinewidth": 0,
             "ticks": ""
            },
            "colorscale": [
             [
              0,
              "#0d0887"
             ],
             [
              0.1111111111111111,
              "#46039f"
             ],
             [
              0.2222222222222222,
              "#7201a8"
             ],
             [
              0.3333333333333333,
              "#9c179e"
             ],
             [
              0.4444444444444444,
              "#bd3786"
             ],
             [
              0.5555555555555556,
              "#d8576b"
             ],
             [
              0.6666666666666666,
              "#ed7953"
             ],
             [
              0.7777777777777778,
              "#fb9f3a"
             ],
             [
              0.8888888888888888,
              "#fdca26"
             ],
             [
              1,
              "#f0f921"
             ]
            ],
            "type": "heatmap"
           }
          ],
          "heatmapgl": [
           {
            "colorbar": {
             "outlinewidth": 0,
             "ticks": ""
            },
            "colorscale": [
             [
              0,
              "#0d0887"
             ],
             [
              0.1111111111111111,
              "#46039f"
             ],
             [
              0.2222222222222222,
              "#7201a8"
             ],
             [
              0.3333333333333333,
              "#9c179e"
             ],
             [
              0.4444444444444444,
              "#bd3786"
             ],
             [
              0.5555555555555556,
              "#d8576b"
             ],
             [
              0.6666666666666666,
              "#ed7953"
             ],
             [
              0.7777777777777778,
              "#fb9f3a"
             ],
             [
              0.8888888888888888,
              "#fdca26"
             ],
             [
              1,
              "#f0f921"
             ]
            ],
            "type": "heatmapgl"
           }
          ],
          "histogram": [
           {
            "marker": {
             "pattern": {
              "fillmode": "overlay",
              "size": 10,
              "solidity": 0.2
             }
            },
            "type": "histogram"
           }
          ],
          "histogram2d": [
           {
            "colorbar": {
             "outlinewidth": 0,
             "ticks": ""
            },
            "colorscale": [
             [
              0,
              "#0d0887"
             ],
             [
              0.1111111111111111,
              "#46039f"
             ],
             [
              0.2222222222222222,
              "#7201a8"
             ],
             [
              0.3333333333333333,
              "#9c179e"
             ],
             [
              0.4444444444444444,
              "#bd3786"
             ],
             [
              0.5555555555555556,
              "#d8576b"
             ],
             [
              0.6666666666666666,
              "#ed7953"
             ],
             [
              0.7777777777777778,
              "#fb9f3a"
             ],
             [
              0.8888888888888888,
              "#fdca26"
             ],
             [
              1,
              "#f0f921"
             ]
            ],
            "type": "histogram2d"
           }
          ],
          "histogram2dcontour": [
           {
            "colorbar": {
             "outlinewidth": 0,
             "ticks": ""
            },
            "colorscale": [
             [
              0,
              "#0d0887"
             ],
             [
              0.1111111111111111,
              "#46039f"
             ],
             [
              0.2222222222222222,
              "#7201a8"
             ],
             [
              0.3333333333333333,
              "#9c179e"
             ],
             [
              0.4444444444444444,
              "#bd3786"
             ],
             [
              0.5555555555555556,
              "#d8576b"
             ],
             [
              0.6666666666666666,
              "#ed7953"
             ],
             [
              0.7777777777777778,
              "#fb9f3a"
             ],
             [
              0.8888888888888888,
              "#fdca26"
             ],
             [
              1,
              "#f0f921"
             ]
            ],
            "type": "histogram2dcontour"
           }
          ],
          "mesh3d": [
           {
            "colorbar": {
             "outlinewidth": 0,
             "ticks": ""
            },
            "type": "mesh3d"
           }
          ],
          "parcoords": [
           {
            "line": {
             "colorbar": {
              "outlinewidth": 0,
              "ticks": ""
             }
            },
            "type": "parcoords"
           }
          ],
          "pie": [
           {
            "automargin": true,
            "type": "pie"
           }
          ],
          "scatter": [
           {
            "fillpattern": {
             "fillmode": "overlay",
             "size": 10,
             "solidity": 0.2
            },
            "type": "scatter"
           }
          ],
          "scatter3d": [
           {
            "line": {
             "colorbar": {
              "outlinewidth": 0,
              "ticks": ""
             }
            },
            "marker": {
             "colorbar": {
              "outlinewidth": 0,
              "ticks": ""
             }
            },
            "type": "scatter3d"
           }
          ],
          "scattercarpet": [
           {
            "marker": {
             "colorbar": {
              "outlinewidth": 0,
              "ticks": ""
             }
            },
            "type": "scattercarpet"
           }
          ],
          "scattergeo": [
           {
            "marker": {
             "colorbar": {
              "outlinewidth": 0,
              "ticks": ""
             }
            },
            "type": "scattergeo"
           }
          ],
          "scattergl": [
           {
            "marker": {
             "colorbar": {
              "outlinewidth": 0,
              "ticks": ""
             }
            },
            "type": "scattergl"
           }
          ],
          "scattermapbox": [
           {
            "marker": {
             "colorbar": {
              "outlinewidth": 0,
              "ticks": ""
             }
            },
            "type": "scattermapbox"
           }
          ],
          "scatterpolar": [
           {
            "marker": {
             "colorbar": {
              "outlinewidth": 0,
              "ticks": ""
             }
            },
            "type": "scatterpolar"
           }
          ],
          "scatterpolargl": [
           {
            "marker": {
             "colorbar": {
              "outlinewidth": 0,
              "ticks": ""
             }
            },
            "type": "scatterpolargl"
           }
          ],
          "scatterternary": [
           {
            "marker": {
             "colorbar": {
              "outlinewidth": 0,
              "ticks": ""
             }
            },
            "type": "scatterternary"
           }
          ],
          "surface": [
           {
            "colorbar": {
             "outlinewidth": 0,
             "ticks": ""
            },
            "colorscale": [
             [
              0,
              "#0d0887"
             ],
             [
              0.1111111111111111,
              "#46039f"
             ],
             [
              0.2222222222222222,
              "#7201a8"
             ],
             [
              0.3333333333333333,
              "#9c179e"
             ],
             [
              0.4444444444444444,
              "#bd3786"
             ],
             [
              0.5555555555555556,
              "#d8576b"
             ],
             [
              0.6666666666666666,
              "#ed7953"
             ],
             [
              0.7777777777777778,
              "#fb9f3a"
             ],
             [
              0.8888888888888888,
              "#fdca26"
             ],
             [
              1,
              "#f0f921"
             ]
            ],
            "type": "surface"
           }
          ],
          "table": [
           {
            "cells": {
             "fill": {
              "color": "#EBF0F8"
             },
             "line": {
              "color": "white"
             }
            },
            "header": {
             "fill": {
              "color": "#C8D4E3"
             },
             "line": {
              "color": "white"
             }
            },
            "type": "table"
           }
          ]
         },
         "layout": {
          "annotationdefaults": {
           "arrowcolor": "#2a3f5f",
           "arrowhead": 0,
           "arrowwidth": 1
          },
          "autotypenumbers": "strict",
          "coloraxis": {
           "colorbar": {
            "outlinewidth": 0,
            "ticks": ""
           }
          },
          "colorscale": {
           "diverging": [
            [
             0,
             "#8e0152"
            ],
            [
             0.1,
             "#c51b7d"
            ],
            [
             0.2,
             "#de77ae"
            ],
            [
             0.3,
             "#f1b6da"
            ],
            [
             0.4,
             "#fde0ef"
            ],
            [
             0.5,
             "#f7f7f7"
            ],
            [
             0.6,
             "#e6f5d0"
            ],
            [
             0.7,
             "#b8e186"
            ],
            [
             0.8,
             "#7fbc41"
            ],
            [
             0.9,
             "#4d9221"
            ],
            [
             1,
             "#276419"
            ]
           ],
           "sequential": [
            [
             0,
             "#0d0887"
            ],
            [
             0.1111111111111111,
             "#46039f"
            ],
            [
             0.2222222222222222,
             "#7201a8"
            ],
            [
             0.3333333333333333,
             "#9c179e"
            ],
            [
             0.4444444444444444,
             "#bd3786"
            ],
            [
             0.5555555555555556,
             "#d8576b"
            ],
            [
             0.6666666666666666,
             "#ed7953"
            ],
            [
             0.7777777777777778,
             "#fb9f3a"
            ],
            [
             0.8888888888888888,
             "#fdca26"
            ],
            [
             1,
             "#f0f921"
            ]
           ],
           "sequentialminus": [
            [
             0,
             "#0d0887"
            ],
            [
             0.1111111111111111,
             "#46039f"
            ],
            [
             0.2222222222222222,
             "#7201a8"
            ],
            [
             0.3333333333333333,
             "#9c179e"
            ],
            [
             0.4444444444444444,
             "#bd3786"
            ],
            [
             0.5555555555555556,
             "#d8576b"
            ],
            [
             0.6666666666666666,
             "#ed7953"
            ],
            [
             0.7777777777777778,
             "#fb9f3a"
            ],
            [
             0.8888888888888888,
             "#fdca26"
            ],
            [
             1,
             "#f0f921"
            ]
           ]
          },
          "colorway": [
           "#636efa",
           "#EF553B",
           "#00cc96",
           "#ab63fa",
           "#FFA15A",
           "#19d3f3",
           "#FF6692",
           "#B6E880",
           "#FF97FF",
           "#FECB52"
          ],
          "font": {
           "color": "#2a3f5f"
          },
          "geo": {
           "bgcolor": "white",
           "lakecolor": "white",
           "landcolor": "#E5ECF6",
           "showlakes": true,
           "showland": true,
           "subunitcolor": "white"
          },
          "hoverlabel": {
           "align": "left"
          },
          "hovermode": "closest",
          "mapbox": {
           "style": "light"
          },
          "paper_bgcolor": "white",
          "plot_bgcolor": "#E5ECF6",
          "polar": {
           "angularaxis": {
            "gridcolor": "white",
            "linecolor": "white",
            "ticks": ""
           },
           "bgcolor": "#E5ECF6",
           "radialaxis": {
            "gridcolor": "white",
            "linecolor": "white",
            "ticks": ""
           }
          },
          "scene": {
           "xaxis": {
            "backgroundcolor": "#E5ECF6",
            "gridcolor": "white",
            "gridwidth": 2,
            "linecolor": "white",
            "showbackground": true,
            "ticks": "",
            "zerolinecolor": "white"
           },
           "yaxis": {
            "backgroundcolor": "#E5ECF6",
            "gridcolor": "white",
            "gridwidth": 2,
            "linecolor": "white",
            "showbackground": true,
            "ticks": "",
            "zerolinecolor": "white"
           },
           "zaxis": {
            "backgroundcolor": "#E5ECF6",
            "gridcolor": "white",
            "gridwidth": 2,
            "linecolor": "white",
            "showbackground": true,
            "ticks": "",
            "zerolinecolor": "white"
           }
          },
          "shapedefaults": {
           "line": {
            "color": "#2a3f5f"
           }
          },
          "ternary": {
           "aaxis": {
            "gridcolor": "white",
            "linecolor": "white",
            "ticks": ""
           },
           "baxis": {
            "gridcolor": "white",
            "linecolor": "white",
            "ticks": ""
           },
           "bgcolor": "#E5ECF6",
           "caxis": {
            "gridcolor": "white",
            "linecolor": "white",
            "ticks": ""
           }
          },
          "title": {
           "x": 0.05
          },
          "xaxis": {
           "automargin": true,
           "gridcolor": "white",
           "linecolor": "white",
           "ticks": "",
           "title": {
            "standoff": 15
           },
           "zerolinecolor": "white",
           "zerolinewidth": 2
          },
          "yaxis": {
           "automargin": true,
           "gridcolor": "white",
           "linecolor": "white",
           "ticks": "",
           "title": {
            "standoff": 15
           },
           "zerolinecolor": "white",
           "zerolinewidth": 2
          }
         }
        },
        "title": {
         "text": "Optimization Progress"
        },
        "xaxis": {
         "anchor": "y",
         "domain": [
          0,
          1
         ],
         "title": {
          "text": "Step"
         }
        },
        "yaxis": {
         "anchor": "x",
         "domain": [
          0,
          1
         ],
         "title": {
          "text": "Best Energy Value"
         }
        }
       }
      }
     },
     "metadata": {},
     "output_type": "display_data"
    }
   ],
   "source": [
    "model.draw_energy_plot(information['hist'])"
   ]
  }
 ],
 "metadata": {
  "kernelspec": {
   "display_name": "Python 3",
   "language": "python",
   "name": "python3"
  },
  "language_info": {
   "codemirror_mode": {
    "name": "ipython",
    "version": 3
   },
   "file_extension": ".py",
   "mimetype": "text/x-python",
   "name": "python",
   "nbconvert_exporter": "python",
   "pygments_lexer": "ipython3",
   "version": "3.12.1"
  }
 },
 "nbformat": 4,
 "nbformat_minor": 2
}
