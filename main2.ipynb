{
 "cells": [
  {
   "cell_type": "code",
   "execution_count": 16,
   "metadata": {},
   "outputs": [],
   "source": [
    "from models.model2 import CES\n",
    "import numpy as np\n",
    "from src.graph import draw_graph\n",
    "from models.model2 import linear_multiplicative_cooling, linear_additive_cooling, logarithmic_multiplicative_cooling\n",
    "import time\n",
    "from memory_profiler import memory_usage"
   ]
  },
  {
   "cell_type": "code",
   "execution_count": 18,
   "metadata": {},
   "outputs": [],
   "source": [
    "# ces = CES(\n",
    "#     cooling_operator= linear_multiplicative_cooling(t_max= 300, alpha= 0.9), \n",
    "#     step_max = 300, \n",
    "#     t_min= 0, \n",
    "#     t_max= 300, \n",
    "#     ChromSize = 12\n",
    "# )\n",
    "\n",
    "# ces = CES(\n",
    "#     cooling_operator= linear_additive_cooling(300, 0, 0.9, 300),\n",
    "#     step_max = 300, \n",
    "#     t_min= 0, \n",
    "#     t_max= 300, \n",
    "#     ChromSize = 11\n",
    "# )\n",
    "\n",
    "\n",
    "ces = CES(\n",
    "    cooling_operator= logarithmic_multiplicative_cooling(400, 0.8),\n",
    "    step_max = 300, \n",
    "    t_min= 0, \n",
    "    t_max= 300, \n",
    "    ChromSize = 16\n",
    ")"
   ]
  },
  {
   "cell_type": "code",
   "execution_count": 19,
   "metadata": {},
   "outputs": [],
   "source": [
    "x0 = ces.nearestNeighborHeuristic(16)"
   ]
  },
  {
   "cell_type": "code",
   "execution_count": 20,
   "metadata": {},
   "outputs": [],
   "source": [
    "r0 ,df = ces.decoding(x0, summary=True)"
   ]
  },
  {
   "cell_type": "code",
   "execution_count": 21,
   "metadata": {},
   "outputs": [
    {
     "data": {
      "text/html": [
       "<div>\n",
       "<style scoped>\n",
       "    .dataframe tbody tr th:only-of-type {\n",
       "        vertical-align: middle;\n",
       "    }\n",
       "\n",
       "    .dataframe tbody tr th {\n",
       "        vertical-align: top;\n",
       "    }\n",
       "\n",
       "    .dataframe thead th {\n",
       "        text-align: right;\n",
       "    }\n",
       "</style>\n",
       "<table border=\"1\" class=\"dataframe\">\n",
       "  <thead>\n",
       "    <tr style=\"text-align: right;\">\n",
       "      <th></th>\n",
       "      <th>Vehiculo</th>\n",
       "      <th>Nodoi-1</th>\n",
       "      <th>Nodoi</th>\n",
       "      <th>Distancia</th>\n",
       "      <th>TiempoArco</th>\n",
       "      <th>TW_A</th>\n",
       "      <th>TW_B</th>\n",
       "      <th>Tanque</th>\n",
       "      <th>CO2</th>\n",
       "    </tr>\n",
       "  </thead>\n",
       "  <tbody>\n",
       "    <tr>\n",
       "      <th>0</th>\n",
       "      <td>0</td>\n",
       "      <td>0</td>\n",
       "      <td>6</td>\n",
       "      <td>61.131007</td>\n",
       "      <td>1.528275</td>\n",
       "      <td>0</td>\n",
       "      <td>7</td>\n",
       "      <td>12.111560</td>\n",
       "      <td>2.888440</td>\n",
       "    </tr>\n",
       "    <tr>\n",
       "      <th>1</th>\n",
       "      <td>0</td>\n",
       "      <td>6</td>\n",
       "      <td>14</td>\n",
       "      <td>12.727922</td>\n",
       "      <td>0.318198</td>\n",
       "      <td>8</td>\n",
       "      <td>11</td>\n",
       "      <td>11.510166</td>\n",
       "      <td>0.601394</td>\n",
       "    </tr>\n",
       "    <tr>\n",
       "      <th>2</th>\n",
       "      <td>0</td>\n",
       "      <td>14</td>\n",
       "      <td>15</td>\n",
       "      <td>11.180340</td>\n",
       "      <td>0.279508</td>\n",
       "      <td>8</td>\n",
       "      <td>11</td>\n",
       "      <td>10.981895</td>\n",
       "      <td>0.528271</td>\n",
       "    </tr>\n",
       "    <tr>\n",
       "      <th>3</th>\n",
       "      <td>0</td>\n",
       "      <td>15</td>\n",
       "      <td>13</td>\n",
       "      <td>5.000000</td>\n",
       "      <td>0.125000</td>\n",
       "      <td>9</td>\n",
       "      <td>13</td>\n",
       "      <td>10.745645</td>\n",
       "      <td>0.236250</td>\n",
       "    </tr>\n",
       "    <tr>\n",
       "      <th>4</th>\n",
       "      <td>0</td>\n",
       "      <td>13</td>\n",
       "      <td>11</td>\n",
       "      <td>42.720019</td>\n",
       "      <td>1.068000</td>\n",
       "      <td>5</td>\n",
       "      <td>14</td>\n",
       "      <td>8.727124</td>\n",
       "      <td>2.018521</td>\n",
       "    </tr>\n",
       "    <tr>\n",
       "      <th>5</th>\n",
       "      <td>0</td>\n",
       "      <td>11</td>\n",
       "      <td>12</td>\n",
       "      <td>14.142136</td>\n",
       "      <td>0.353553</td>\n",
       "      <td>9</td>\n",
       "      <td>18</td>\n",
       "      <td>8.058908</td>\n",
       "      <td>0.668216</td>\n",
       "    </tr>\n",
       "    <tr>\n",
       "      <th>6</th>\n",
       "      <td>0</td>\n",
       "      <td>12</td>\n",
       "      <td>16</td>\n",
       "      <td>60.133186</td>\n",
       "      <td>1.503330</td>\n",
       "      <td>4</td>\n",
       "      <td>18</td>\n",
       "      <td>5.217615</td>\n",
       "      <td>2.841293</td>\n",
       "    </tr>\n",
       "    <tr>\n",
       "      <th>7</th>\n",
       "      <td>0</td>\n",
       "      <td>16</td>\n",
       "      <td>1</td>\n",
       "      <td>41.012193</td>\n",
       "      <td>1.025305</td>\n",
       "      <td>7</td>\n",
       "      <td>24</td>\n",
       "      <td>3.279789</td>\n",
       "      <td>1.937826</td>\n",
       "    </tr>\n",
       "    <tr>\n",
       "      <th>8</th>\n",
       "      <td>0</td>\n",
       "      <td>1</td>\n",
       "      <td>0</td>\n",
       "      <td>17.492856</td>\n",
       "      <td>0.437321</td>\n",
       "      <td>4</td>\n",
       "      <td>15</td>\n",
       "      <td>2.453251</td>\n",
       "      <td>0.826537</td>\n",
       "    </tr>\n",
       "    <tr>\n",
       "      <th>9</th>\n",
       "      <td>1</td>\n",
       "      <td>0</td>\n",
       "      <td>3</td>\n",
       "      <td>89.442719</td>\n",
       "      <td>2.236068</td>\n",
       "      <td>0</td>\n",
       "      <td>7</td>\n",
       "      <td>10.773832</td>\n",
       "      <td>4.226168</td>\n",
       "    </tr>\n",
       "    <tr>\n",
       "      <th>10</th>\n",
       "      <td>1</td>\n",
       "      <td>3</td>\n",
       "      <td>7</td>\n",
       "      <td>26.248809</td>\n",
       "      <td>0.656220</td>\n",
       "      <td>0</td>\n",
       "      <td>24</td>\n",
       "      <td>9.533575</td>\n",
       "      <td>1.240256</td>\n",
       "    </tr>\n",
       "    <tr>\n",
       "      <th>11</th>\n",
       "      <td>1</td>\n",
       "      <td>7</td>\n",
       "      <td>8</td>\n",
       "      <td>15.000000</td>\n",
       "      <td>0.375000</td>\n",
       "      <td>0</td>\n",
       "      <td>24</td>\n",
       "      <td>8.824825</td>\n",
       "      <td>0.708750</td>\n",
       "    </tr>\n",
       "    <tr>\n",
       "      <th>12</th>\n",
       "      <td>1</td>\n",
       "      <td>8</td>\n",
       "      <td>2</td>\n",
       "      <td>26.476405</td>\n",
       "      <td>0.661910</td>\n",
       "      <td>0</td>\n",
       "      <td>24</td>\n",
       "      <td>7.573815</td>\n",
       "      <td>1.251010</td>\n",
       "    </tr>\n",
       "    <tr>\n",
       "      <th>13</th>\n",
       "      <td>1</td>\n",
       "      <td>2</td>\n",
       "      <td>4</td>\n",
       "      <td>59.203040</td>\n",
       "      <td>1.480076</td>\n",
       "      <td>7</td>\n",
       "      <td>24</td>\n",
       "      <td>4.776471</td>\n",
       "      <td>2.797344</td>\n",
       "    </tr>\n",
       "    <tr>\n",
       "      <th>14</th>\n",
       "      <td>1</td>\n",
       "      <td>4</td>\n",
       "      <td>0</td>\n",
       "      <td>87.235314</td>\n",
       "      <td>2.180883</td>\n",
       "      <td>4</td>\n",
       "      <td>15</td>\n",
       "      <td>0.654603</td>\n",
       "      <td>4.121869</td>\n",
       "    </tr>\n",
       "    <tr>\n",
       "      <th>15</th>\n",
       "      <td>2</td>\n",
       "      <td>0</td>\n",
       "      <td>9</td>\n",
       "      <td>97.452553</td>\n",
       "      <td>2.436314</td>\n",
       "      <td>0</td>\n",
       "      <td>24</td>\n",
       "      <td>10.395367</td>\n",
       "      <td>4.604633</td>\n",
       "    </tr>\n",
       "    <tr>\n",
       "      <th>16</th>\n",
       "      <td>2</td>\n",
       "      <td>9</td>\n",
       "      <td>5</td>\n",
       "      <td>17.029386</td>\n",
       "      <td>0.425735</td>\n",
       "      <td>7</td>\n",
       "      <td>24</td>\n",
       "      <td>9.590728</td>\n",
       "      <td>0.804639</td>\n",
       "    </tr>\n",
       "    <tr>\n",
       "      <th>17</th>\n",
       "      <td>2</td>\n",
       "      <td>5</td>\n",
       "      <td>10</td>\n",
       "      <td>34.176015</td>\n",
       "      <td>0.854400</td>\n",
       "      <td>7</td>\n",
       "      <td>24</td>\n",
       "      <td>7.975912</td>\n",
       "      <td>1.614817</td>\n",
       "    </tr>\n",
       "    <tr>\n",
       "      <th>18</th>\n",
       "      <td>2</td>\n",
       "      <td>10</td>\n",
       "      <td>0</td>\n",
       "      <td>79.630396</td>\n",
       "      <td>1.990760</td>\n",
       "      <td>4</td>\n",
       "      <td>15</td>\n",
       "      <td>4.213375</td>\n",
       "      <td>3.762536</td>\n",
       "    </tr>\n",
       "  </tbody>\n",
       "</table>\n",
       "</div>"
      ],
      "text/plain": [
       "    Vehiculo  Nodoi-1  Nodoi  Distancia  TiempoArco  TW_A  TW_B     Tanque  \\\n",
       "0          0        0      6  61.131007    1.528275     0     7  12.111560   \n",
       "1          0        6     14  12.727922    0.318198     8    11  11.510166   \n",
       "2          0       14     15  11.180340    0.279508     8    11  10.981895   \n",
       "3          0       15     13   5.000000    0.125000     9    13  10.745645   \n",
       "4          0       13     11  42.720019    1.068000     5    14   8.727124   \n",
       "5          0       11     12  14.142136    0.353553     9    18   8.058908   \n",
       "6          0       12     16  60.133186    1.503330     4    18   5.217615   \n",
       "7          0       16      1  41.012193    1.025305     7    24   3.279789   \n",
       "8          0        1      0  17.492856    0.437321     4    15   2.453251   \n",
       "9          1        0      3  89.442719    2.236068     0     7  10.773832   \n",
       "10         1        3      7  26.248809    0.656220     0    24   9.533575   \n",
       "11         1        7      8  15.000000    0.375000     0    24   8.824825   \n",
       "12         1        8      2  26.476405    0.661910     0    24   7.573815   \n",
       "13         1        2      4  59.203040    1.480076     7    24   4.776471   \n",
       "14         1        4      0  87.235314    2.180883     4    15   0.654603   \n",
       "15         2        0      9  97.452553    2.436314     0    24  10.395367   \n",
       "16         2        9      5  17.029386    0.425735     7    24   9.590728   \n",
       "17         2        5     10  34.176015    0.854400     7    24   7.975912   \n",
       "18         2       10      0  79.630396    1.990760     4    15   4.213375   \n",
       "\n",
       "         CO2  \n",
       "0   2.888440  \n",
       "1   0.601394  \n",
       "2   0.528271  \n",
       "3   0.236250  \n",
       "4   2.018521  \n",
       "5   0.668216  \n",
       "6   2.841293  \n",
       "7   1.937826  \n",
       "8   0.826537  \n",
       "9   4.226168  \n",
       "10  1.240256  \n",
       "11  0.708750  \n",
       "12  1.251010  \n",
       "13  2.797344  \n",
       "14  4.121869  \n",
       "15  4.604633  \n",
       "16  0.804639  \n",
       "17  1.614817  \n",
       "18  3.762536  "
      ]
     },
     "execution_count": 21,
     "metadata": {},
     "output_type": "execute_result"
    }
   ],
   "source": [
    "df"
   ]
  },
  {
   "cell_type": "code",
   "execution_count": 22,
   "metadata": {},
   "outputs": [
    {
     "data": {
      "text/plain": [
       "61.601799318021534"
      ]
     },
     "execution_count": 22,
     "metadata": {},
     "output_type": "execute_result"
    }
   ],
   "source": [
    "ces.objective_function(x0)"
   ]
  },
  {
   "cell_type": "code",
   "execution_count": 23,
   "metadata": {},
   "outputs": [
    {
     "data": {
      "image/png": "[encoded data removed]",
      "text/plain": [
       "<Figure size 1000x800 with 1 Axes>"
      ]
     },
     "metadata": {},
     "output_type": "display_data"
    }
   ],
   "source": [
    "draw_graph(r0)"
   ]
  },
  {
   "cell_type": "code",
   "execution_count": 24,
   "metadata": {},
   "outputs": [
    {
     "name": "stdout",
     "output_type": "stream",
     "text": [
      "1\n",
      "2\n",
      "3\n",
      "4\n",
      "5\n",
      "6\n",
      "7\n",
      "8\n",
      "9\n",
      "10\n",
      "11\n",
      "12\n",
      "13\n",
      "14\n",
      "15\n",
      "16\n",
      "17\n",
      "18\n",
      "19\n",
      "20\n",
      "21\n",
      "Tiempo de ejecución: 39.93263244628906 segundos\n"
     ]
    }
   ],
   "source": [
    "\n",
    "start_time = time.time()\n",
    "\n",
    "\n",
    "ces.climatic_evolutionary_search(100, 16, 10, 20, 20)\n",
    "\n",
    "\n",
    "elapsed_time = time.time() - start_time\n",
    "print(\"Tiempo de ejecución:\", elapsed_time, \"segundos\")\n",
    "\n",
    "\n",
    "#mem_usage = memory_usage((ces.climatic_evolutionary_search, (50, 11, 2, 8, 20)))\n",
    "#print(\"Uso de memoria máximo:\", max(mem_usage), \"MB\")\n",
    "\n"
   ]
  },
  {
   "cell_type": "code",
   "execution_count": 25,
   "metadata": {},
   "outputs": [
    {
     "data": {
      "text/plain": [
       "300"
      ]
     },
     "execution_count": 25,
     "metadata": {},
     "output_type": "execute_result"
    }
   ],
   "source": [
    "ces.step"
   ]
  },
  {
   "cell_type": "code",
   "execution_count": 26,
   "metadata": {},
   "outputs": [
    {
     "data": {
      "application/vnd.plotly.v1+json": {
       "config": {
        "plotlyServerURL": "https://plot.ly"
       },
       "data": [
        {
         "hovertemplate": "Step=%{x}<br>Best Energy Value=%{y}<extra></extra>",
         "legendgroup": "",
         "line": {
          "color": "#636efa",
          "dash": "solid",
          "shape": "linear"
         },
         "marker": {
          "symbol": "circle"
         },
         "mode": "lines+markers",
         "name": "",
         "orientation": "v",
         "showlegend": false,
         "type": "scatter",
         "x": [
          1,
          2,
          3,
          4,
          5,
          6,
          7,
          8,
          9,
          10,
          11,
          12,
          13,
          14,
          15,
          16,
          17,
          18,
          19,
          20,
          21,
          22,
          23,
          24,
          25,
          26,
          27,
          28,
          29,
          30,
          31,
          32,
          33,
          34,
          35,
          36,
          37,
          38,
          39,
          40,
          41,
          42,
          43,
          44,
          45,
          46,
          47,
          48,
          49,
          50,
          51,
          52,
          53,
          54,
          55,
          56,
          57,
          58,
          59,
          60,
          61,
          62,
          63,
          64,
          65,
          66,
          67,
          68,
          69,
          70,
          71,
          72,
          73,
          74,
          75,
          76,
          77,
          78,
          79,
          80,
          81,
          82,
          83,
          84,
          85,
          86,
          87,
          88,
          89,
          90,
          91,
          92,
          93,
          94,
          95,
          96,
          97,
          98,
          99,
          100,
          101,
          102,
          103,
          104,
          105,
          106,
          107,
          108,
          109,
          110,
          111,
          112,
          113,
          114,
          115,
          116,
          117,
          118,
          119,
          120,
          121,
          122,
          123,
          124,
          125,
          126,
          127,
          128,
          129,
          130,
          131,
          132,
          133,
          134,
          135,
          136,
          137,
          138,
          139,
          140,
          141,
          142,
          143,
          144,
          145,
          146,
          147,
          148,
          149,
          150,
          151,
          152,
          153,
          154,
          155,
          156,
          157,
          158,
          159,
          160,
          161,
          162,
          163,
          164,
          165,
          166,
          167,
          168,
          169,
          170,
          171,
          172,
          173,
          174,
          175,
          176,
          177,
          178,
          179,
          180,
          181,
          182,
          183,
          184,
          185,
          186,
          187,
          188,
          189,
          190,
          191,
          192,
          193,
          194,
          195,
          196,
          197,
          198,
          199,
          200,
          201,
          202,
          203,
          204,
          205,
          206,
          207,
          208,
          209,
          210,
          211,
          212,
          213,
          214,
          215,
          216,
          217,
          218,
          219,
          220,
          221,
          222,
          223,
          224,
          225,
          226,
          227,
          228,
          229,
          230,
          231,
          232,
          233,
          234,
          235,
          236,
          237,
          238,
          239,
          240,
          241,
          242,
          243,
          244,
          245,
          246,
          247,
          248,
          249,
          250,
          251,
          252,
          253,
          254,
          255,
          256,
          257,
          258,
          259,
          260,
          261,
          262,
          263,
          264,
          265,
          266,
          267,
          268,
          269,
          270,
          271,
          272,
          273,
          274,
          275,
          276,
          277,
          278,
          279,
          280,
          281,
          282,
          283,
          284,
          285,
          286,
          287,
          288,
          289,
          290,
          291,
          292,
          293,
          294,
          295,
          296,
          297,
          298,
          299
         ],
         "xaxis": "x",
         "y": [
          42.79725485738364,
          42.79725485738364,
          41.801140171825864,
          41.801140171825864,
          40.51254405380026,
          40.51254405380026,
          40.51254405380026,
          40.51254405380026,
          40.51254405380026,
          40.249798658868244,
          39.862611497890356,
          39.862611497890356,
          39.3414328849742,
          39.3414328849742,
          39.3414328849742,
          39.3414328849742,
          39.3414328849742,
          39.3414328849742,
          39.3414328849742,
          39.3414328849742,
          39.26656413867258,
          39.26656413867258,
          39.26656413867258,
          39.26656413867258,
          39.26656413867258,
          39.26656413867258,
          39.26656413867258,
          39.26656413867258,
          39.26656413867258,
          39.26656413867258,
          39.26656413867258,
          39.26656413867258,
          39.26656413867258,
          39.26656413867258,
          39.26656413867258,
          39.26656413867258,
          39.26656413867258,
          39.26656413867258,
          38.90846912357604,
          38.90846912357604,
          38.90846912357604,
          38.90846912357604,
          38.90846912357604,
          38.90846912357604,
          38.90846912357604,
          38.90846912357604,
          38.90846912357604,
          38.90846912357604,
          38.90846912357604,
          38.90846912357604,
          38.90846912357604,
          38.90846912357604,
          38.90846912357604,
          38.90846912357604,
          38.90846912357604,
          38.90846912357604,
          38.90846912357604,
          38.90846912357604,
          38.90846912357604,
          38.90846912357604,
          38.90846912357604,
          38.90846912357604,
          38.90846912357604,
          38.81395664428703,
          38.81395664428703,
          38.81395664428703,
          38.81395664428703,
          38.81395664428703,
          38.81395664428703,
          38.81395664428703,
          38.81395664428703,
          38.81395664428703,
          38.81395664428703,
          38.81395664428703,
          38.81395664428703,
          38.81395664428703,
          38.81395664428703,
          38.81395664428703,
          38.81395664428703,
          38.81395664428703,
          38.81395664428703,
          38.81395664428703,
          38.81395664428703,
          38.81395664428703,
          38.81395664428703,
          38.81395664428703,
          38.81395664428703,
          38.81395664428703,
          38.81395664428703,
          38.81395664428703,
          38.81395664428703,
          38.81395664428703,
          38.81395664428703,
          38.81395664428703,
          38.81395664428703,
          38.81395664428703,
          38.81395664428703,
          38.81395664428703,
          38.81395664428703,
          38.81395664428703,
          38.81395664428703,
          38.81395664428703,
          38.81395664428703,
          38.81395664428703,
          38.81395664428703,
          38.81395664428703,
          38.81395664428703,
          38.81395664428703,
          38.81395664428703,
          38.81395664428703,
          38.81395664428703,
          38.81395664428703,
          38.81395664428703,
          38.81395664428703,
          38.81395664428703,
          38.81395664428703,
          38.81395664428703,
          38.81395664428703,
          38.81395664428703,
          38.81395664428703,
          38.81395664428703,
          38.81395664428703,
          38.81395664428703,
          38.81395664428703,
          38.81395664428703,
          38.81395664428703,
          38.81395664428703,
          38.81395664428703,
          38.81395664428703,
          38.81395664428703,
          38.81395664428703,
          38.81395664428703,
          38.81395664428703,
          38.81395664428703,
          38.81395664428703,
          38.81395664428703,
          38.81395664428703,
          38.81395664428703,
          38.81395664428703,
          38.81395664428703,
          38.81395664428703,
          38.81395664428703,
          38.81395664428703,
          38.81395664428703,
          38.81395664428703,
          38.81395664428703,
          38.81395664428703,
          38.81395664428703,
          38.81395664428703,
          38.81395664428703,
          38.81395664428703,
          38.81395664428703,
          38.81395664428703,
          38.81395664428703,
          38.81395664428703,
          38.81395664428703,
          38.81395664428703,
          38.81395664428703,
          38.81395664428703,
          38.81395664428703,
          38.81395664428703,
          38.81395664428703,
          38.81395664428703,
          38.81395664428703,
          38.81395664428703,
          38.81395664428703,
          38.81395664428703,
          38.81395664428703,
          38.81395664428703,
          38.81395664428703,
          38.81395664428703,
          38.81395664428703,
          38.81395664428703,
          38.81395664428703,
          38.81395664428703,
          38.81395664428703,
          38.81395664428703,
          38.81395664428703,
          38.81395664428703,
          38.81395664428703,
          38.81395664428703,
          38.81395664428703,
          38.81395664428703,
          38.81395664428703,
          38.81395664428703,
          38.81395664428703,
          38.81395664428703,
          38.81395664428703,
          38.81395664428703,
          38.81395664428703,
          38.81395664428703,
          38.81395664428703,
          38.81395664428703,
          38.81395664428703,
          38.81395664428703,
          38.81395664428703,
          38.81395664428703,
          38.81395664428703,
          38.81395664428703,
          38.81395664428703,
          38.81395664428703,
          38.81395664428703,
          38.81395664428703,
          38.81395664428703,
          38.81395664428703,
          38.81395664428703,
          38.81395664428703,
          38.81395664428703,
          38.81395664428703,
          38.81395664428703,
          38.81395664428703,
          38.81395664428703,
          38.81395664428703,
          38.3483224042822,
          38.3483224042822,
          38.3483224042822,
          38.3483224042822,
          38.3483224042822,
          38.3483224042822,
          38.3483224042822,
          38.3483224042822,
          38.3483224042822,
          38.3483224042822,
          38.3483224042822,
          38.3483224042822,
          38.3483224042822,
          38.3483224042822,
          38.3483224042822,
          38.3483224042822,
          38.3483224042822,
          38.3483224042822,
          38.3483224042822,
          38.3483224042822,
          38.3483224042822,
          38.3483224042822,
          38.3483224042822,
          38.3483224042822,
          38.3483224042822,
          38.3483224042822,
          38.3483224042822,
          38.3483224042822,
          38.3483224042822,
          38.3483224042822,
          38.3483224042822,
          38.3483224042822,
          38.3483224042822,
          38.3483224042822,
          38.3483224042822,
          38.3483224042822,
          38.3483224042822,
          38.3483224042822,
          38.3483224042822,
          38.3483224042822,
          38.3483224042822,
          38.3483224042822,
          38.3483224042822,
          38.3483224042822,
          38.3483224042822,
          38.3483224042822,
          38.3483224042822,
          38.3483224042822,
          38.3483224042822,
          38.03916185577872,
          38.03916185577872,
          38.03916185577872,
          38.03916185577872,
          38.03916185577872,
          38.03916185577872,
          38.03916185577872,
          38.03916185577872,
          38.03916185577872,
          38.03916185577872,
          38.03916185577872,
          38.03916185577872,
          38.03916185577872,
          38.03916185577872,
          38.03916185577872,
          38.03916185577872,
          38.03916185577872,
          38.03916185577872,
          38.03916185577872,
          38.03916185577872,
          38.03916185577872,
          38.03916185577872,
          38.03916185577872,
          38.03916185577872,
          38.03916185577872,
          38.03916185577872,
          38.03916185577872,
          38.03916185577872,
          38.03916185577872,
          38.03916185577872,
          38.03916185577872,
          38.03916185577872,
          38.03916185577872,
          38.03916185577872,
          38.03916185577872,
          38.03916185577872,
          38.03916185577872
         ],
         "yaxis": "y"
        }
       ],
       "layout": {
        "legend": {
         "tracegroupgap": 0
        },
        "template": {
         "data": {
          "bar": [
           {
            "error_x": {
             "color": "#2a3f5f"
            },
            "error_y": {
             "color": "#2a3f5f"
            },
            "marker": {
             "line": {
              "color": "#E5ECF6",
              "width": 0.5
             },
             "pattern": {
              "fillmode": "overlay",
              "size": 10,
              "solidity": 0.2
             }
            },
            "type": "bar"
           }
          ],
          "barpolar": [
           {
            "marker": {
             "line": {
              "color": "#E5ECF6",
              "width": 0.5
             },
             "pattern": {
              "fillmode": "overlay",
              "size": 10,
              "solidity": 0.2
             }
            },
            "type": "barpolar"
           }
          ],
          "carpet": [
           {
            "aaxis": {
             "endlinecolor": "#2a3f5f",
             "gridcolor": "white",
             "linecolor": "white",
             "minorgridcolor": "white",
             "startlinecolor": "#2a3f5f"
            },
            "baxis": {
             "endlinecolor": "#2a3f5f",
             "gridcolor": "white",
             "linecolor": "white",
             "minorgridcolor": "white",
             "startlinecolor": "#2a3f5f"
            },
            "type": "carpet"
           }
          ],
          "choropleth": [
           {
            "colorbar": {
             "outlinewidth": 0,
             "ticks": ""
            },
            "type": "choropleth"
           }
          ],
          "contour": [
           {
            "colorbar": {
             "outlinewidth": 0,
             "ticks": ""
            },
            "colorscale": [
             [
              0,
              "#0d0887"
             ],
             [
              0.1111111111111111,
              "#46039f"
             ],
             [
              0.2222222222222222,
              "#7201a8"
             ],
             [
              0.3333333333333333,
              "#9c179e"
             ],
             [
              0.4444444444444444,
              "#bd3786"
             ],
             [
              0.5555555555555556,
              "#d8576b"
             ],
             [
              0.6666666666666666,
              "#ed7953"
             ],
             [
              0.7777777777777778,
              "#fb9f3a"
             ],
             [
              0.8888888888888888,
              "#fdca26"
             ],
             [
              1,
              "#f0f921"
             ]
            ],
            "type": "contour"
           }
          ],
          "contourcarpet": [
           {
            "colorbar": {
             "outlinewidth": 0,
             "ticks": ""
            },
            "type": "contourcarpet"
           }
          ],
          "heatmap": [
           {
            "colorbar": {
             "outlinewidth": 0,
             "ticks": ""
            },
            "colorscale": [
             [
              0,
              "#0d0887"
             ],
             [
              0.1111111111111111,
              "#46039f"
             ],
             [
              0.2222222222222222,
              "#7201a8"
             ],
             [
              0.3333333333333333,
              "#9c179e"
             ],
             [
              0.4444444444444444,
              "#bd3786"
             ],
             [
              0.5555555555555556,
              "#d8576b"
             ],
             [
              0.6666666666666666,
              "#ed7953"
             ],
             [
              0.7777777777777778,
              "#fb9f3a"
             ],
             [
              0.8888888888888888,
              "#fdca26"
             ],
             [
              1,
              "#f0f921"
             ]
            ],
            "type": "heatmap"
           }
          ],
          "heatmapgl": [
           {
            "colorbar": {
             "outlinewidth": 0,
             "ticks": ""
            },
            "colorscale": [
             [
              0,
              "#0d0887"
             ],
             [
              0.1111111111111111,
              "#46039f"
             ],
             [
              0.2222222222222222,
              "#7201a8"
             ],
             [
              0.3333333333333333,
              "#9c179e"
             ],
             [
              0.4444444444444444,
              "#bd3786"
             ],
             [
              0.5555555555555556,
              "#d8576b"
             ],
             [
              0.6666666666666666,
              "#ed7953"
             ],
             [
              0.7777777777777778,
              "#fb9f3a"
             ],
             [
              0.8888888888888888,
              "#fdca26"
             ],
             [
              1,
              "#f0f921"
             ]
            ],
            "type": "heatmapgl"
           }
          ],
          "histogram": [
           {
            "marker": {
             "pattern": {
              "fillmode": "overlay",
              "size": 10,
              "solidity": 0.2
             }
            },
            "type": "histogram"
           }
          ],
          "histogram2d": [
           {
            "colorbar": {
             "outlinewidth": 0,
             "ticks": ""
            },
            "colorscale": [
             [
              0,
              "#0d0887"
             ],
             [
              0.1111111111111111,
              "#46039f"
             ],
             [
              0.2222222222222222,
              "#7201a8"
             ],
             [
              0.3333333333333333,
              "#9c179e"
             ],
             [
              0.4444444444444444,
              "#bd3786"
             ],
             [
              0.5555555555555556,
              "#d8576b"
             ],
             [
              0.6666666666666666,
              "#ed7953"
             ],
             [
              0.7777777777777778,
              "#fb9f3a"
             ],
             [
              0.8888888888888888,
              "#fdca26"
             ],
             [
              1,
              "#f0f921"
             ]
            ],
            "type": "histogram2d"
           }
          ],
          "histogram2dcontour": [
           {
            "colorbar": {
             "outlinewidth": 0,
             "ticks": ""
            },
            "colorscale": [
             [
              0,
              "#0d0887"
             ],
             [
              0.1111111111111111,
              "#46039f"
             ],
             [
              0.2222222222222222,
              "#7201a8"
             ],
             [
              0.3333333333333333,
              "#9c179e"
             ],
             [
              0.4444444444444444,
              "#bd3786"
             ],
             [
              0.5555555555555556,
              "#d8576b"
             ],
             [
              0.6666666666666666,
              "#ed7953"
             ],
             [
              0.7777777777777778,
              "#fb9f3a"
             ],
             [
              0.8888888888888888,
              "#fdca26"
             ],
             [
              1,
              "#f0f921"
             ]
            ],
            "type": "histogram2dcontour"
           }
          ],
          "mesh3d": [
           {
            "colorbar": {
             "outlinewidth": 0,
             "ticks": ""
            },
            "type": "mesh3d"
           }
          ],
          "parcoords": [
           {
            "line": {
             "colorbar": {
              "outlinewidth": 0,
              "ticks": ""
             }
            },
            "type": "parcoords"
           }
          ],
          "pie": [
           {
            "automargin": true,
            "type": "pie"
           }
          ],
          "scatter": [
           {
            "fillpattern": {
             "fillmode": "overlay",
             "size": 10,
             "solidity": 0.2
            },
            "type": "scatter"
           }
          ],
          "scatter3d": [
           {
            "line": {
             "colorbar": {
              "outlinewidth": 0,
              "ticks": ""
             }
            },
            "marker": {
             "colorbar": {
              "outlinewidth": 0,
              "ticks": ""
             }
            },
            "type": "scatter3d"
           }
          ],
          "scattercarpet": [
           {
            "marker": {
             "colorbar": {
              "outlinewidth": 0,
              "ticks": ""
             }
            },
            "type": "scattercarpet"
           }
          ],
          "scattergeo": [
           {
            "marker": {
             "colorbar": {
              "outlinewidth": 0,
              "ticks": ""
             }
            },
            "type": "scattergeo"
           }
          ],
          "scattergl": [
           {
            "marker": {
             "colorbar": {
              "outlinewidth": 0,
              "ticks": ""
             }
            },
            "type": "scattergl"
           }
          ],
          "scattermapbox": [
           {
            "marker": {
             "colorbar": {
              "outlinewidth": 0,
              "ticks": ""
             }
            },
            "type": "scattermapbox"
           }
          ],
          "scatterpolar": [
           {
            "marker": {
             "colorbar": {
              "outlinewidth": 0,
              "ticks": ""
             }
            },
            "type": "scatterpolar"
           }
          ],
          "scatterpolargl": [
           {
            "marker": {
             "colorbar": {
              "outlinewidth": 0,
              "ticks": ""
             }
            },
            "type": "scatterpolargl"
           }
          ],
          "scatterternary": [
           {
            "marker": {
             "colorbar": {
              "outlinewidth": 0,
              "ticks": ""
             }
            },
            "type": "scatterternary"
           }
          ],
          "surface": [
           {
            "colorbar": {
             "outlinewidth": 0,
             "ticks": ""
            },
            "colorscale": [
             [
              0,
              "#0d0887"
             ],
             [
              0.1111111111111111,
              "#46039f"
             ],
             [
              0.2222222222222222,
              "#7201a8"
             ],
             [
              0.3333333333333333,
              "#9c179e"
             ],
             [
              0.4444444444444444,
              "#bd3786"
             ],
             [
              0.5555555555555556,
              "#d8576b"
             ],
             [
              0.6666666666666666,
              "#ed7953"
             ],
             [
              0.7777777777777778,
              "#fb9f3a"
             ],
             [
              0.8888888888888888,
              "#fdca26"
             ],
             [
              1,
              "#f0f921"
             ]
            ],
            "type": "surface"
           }
          ],
          "table": [
           {
            "cells": {
             "fill": {
              "color": "#EBF0F8"
             },
             "line": {
              "color": "white"
             }
            },
            "header": {
             "fill": {
              "color": "#C8D4E3"
             },
             "line": {
              "color": "white"
             }
            },
            "type": "table"
           }
          ]
         },
         "layout": {
          "annotationdefaults": {
           "arrowcolor": "#2a3f5f",
           "arrowhead": 0,
           "arrowwidth": 1
          },
          "autotypenumbers": "strict",
          "coloraxis": {
           "colorbar": {
            "outlinewidth": 0,
            "ticks": ""
           }
          },
          "colorscale": {
           "diverging": [
            [
             0,
             "#8e0152"
            ],
            [
             0.1,
             "#c51b7d"
            ],
            [
             0.2,
             "#de77ae"
            ],
            [
             0.3,
             "#f1b6da"
            ],
            [
             0.4,
             "#fde0ef"
            ],
            [
             0.5,
             "#f7f7f7"
            ],
            [
             0.6,
             "#e6f5d0"
            ],
            [
             0.7,
             "#b8e186"
            ],
            [
             0.8,
             "#7fbc41"
            ],
            [
             0.9,
             "#4d9221"
            ],
            [
             1,
             "#276419"
            ]
           ],
           "sequential": [
            [
             0,
             "#0d0887"
            ],
            [
             0.1111111111111111,
             "#46039f"
            ],
            [
             0.2222222222222222,
             "#7201a8"
            ],
            [
             0.3333333333333333,
             "#9c179e"
            ],
            [
             0.4444444444444444,
             "#bd3786"
            ],
            [
             0.5555555555555556,
             "#d8576b"
            ],
            [
             0.6666666666666666,
             "#ed7953"
            ],
            [
             0.7777777777777778,
             "#fb9f3a"
            ],
            [
             0.8888888888888888,
             "#fdca26"
            ],
            [
             1,
             "#f0f921"
            ]
           ],
           "sequentialminus": [
            [
             0,
             "#0d0887"
            ],
            [
             0.1111111111111111,
             "#46039f"
            ],
            [
             0.2222222222222222,
             "#7201a8"
            ],
            [
             0.3333333333333333,
             "#9c179e"
            ],
            [
             0.4444444444444444,
             "#bd3786"
            ],
            [
             0.5555555555555556,
             "#d8576b"
            ],
            [
             0.6666666666666666,
             "#ed7953"
            ],
            [
             0.7777777777777778,
             "#fb9f3a"
            ],
            [
             0.8888888888888888,
             "#fdca26"
            ],
            [
             1,
             "#f0f921"
            ]
           ]
          },
          "colorway": [
           "#636efa",
           "#EF553B",
           "#00cc96",
           "#ab63fa",
           "#FFA15A",
           "#19d3f3",
           "#FF6692",
           "#B6E880",
           "#FF97FF",
           "#FECB52"
          ],
          "font": {
           "color": "#2a3f5f"
          },
          "geo": {
           "bgcolor": "white",
           "lakecolor": "white",
           "landcolor": "#E5ECF6",
           "showlakes": true,
           "showland": true,
           "subunitcolor": "white"
          },
          "hoverlabel": {
           "align": "left"
          },
          "hovermode": "closest",
          "mapbox": {
           "style": "light"
          },
          "paper_bgcolor": "white",
          "plot_bgcolor": "#E5ECF6",
          "polar": {
           "angularaxis": {
            "gridcolor": "white",
            "linecolor": "white",
            "ticks": ""
           },
           "bgcolor": "#E5ECF6",
           "radialaxis": {
            "gridcolor": "white",
            "linecolor": "white",
            "ticks": ""
           }
          },
          "scene": {
           "xaxis": {
            "backgroundcolor": "#E5ECF6",
            "gridcolor": "white",
            "gridwidth": 2,
            "linecolor": "white",
            "showbackground": true,
            "ticks": "",
            "zerolinecolor": "white"
           },
           "yaxis": {
            "backgroundcolor": "#E5ECF6",
            "gridcolor": "white",
            "gridwidth": 2,
            "linecolor": "white",
            "showbackground": true,
            "ticks": "",
            "zerolinecolor": "white"
           },
           "zaxis": {
            "backgroundcolor": "#E5ECF6",
            "gridcolor": "white",
            "gridwidth": 2,
            "linecolor": "white",
            "showbackground": true,
            "ticks": "",
            "zerolinecolor": "white"
           }
          },
          "shapedefaults": {
           "line": {
            "color": "#2a3f5f"
           }
          },
          "ternary": {
           "aaxis": {
            "gridcolor": "white",
            "linecolor": "white",
            "ticks": ""
           },
           "baxis": {
            "gridcolor": "white",
            "linecolor": "white",
            "ticks": ""
           },
           "bgcolor": "#E5ECF6",
           "caxis": {
            "gridcolor": "white",
            "linecolor": "white",
            "ticks": ""
           }
          },
          "title": {
           "x": 0.05
          },
          "xaxis": {
           "automargin": true,
           "gridcolor": "white",
           "linecolor": "white",
           "ticks": "",
           "title": {
            "standoff": 15
           },
           "zerolinecolor": "white",
           "zerolinewidth": 2
          },
          "yaxis": {
           "automargin": true,
           "gridcolor": "white",
           "linecolor": "white",
           "ticks": "",
           "title": {
            "standoff": 15
           },
           "zerolinecolor": "white",
           "zerolinewidth": 2
          }
         }
        },
        "title": {
         "text": "Optimization Progress"
        },
        "xaxis": {
         "anchor": "y",
         "domain": [
          0,
          1
         ],
         "title": {
          "text": "Step"
         }
        },
        "yaxis": {
         "anchor": "x",
         "domain": [
          0,
          1
         ],
         "title": {
          "text": "Best Energy Value"
         }
        }
       }
      }
     },
     "metadata": {},
     "output_type": "display_data"
    }
   ],
   "source": [
    "ces.draw_energy_plot()"
   ]
  },
  {
   "cell_type": "code",
   "execution_count": 27,
   "metadata": {},
   "outputs": [
    {
     "data": {
      "text/plain": [
       "array([ 6, 14, 15, 13,  9,  5, 12, 11, 10, 16,  1,  2,  3,  4,  7,  8])"
      ]
     },
     "execution_count": 27,
     "metadata": {},
     "output_type": "execute_result"
    }
   ],
   "source": [
    "ces.x_best.astype(int)"
   ]
  },
  {
   "cell_type": "code",
   "execution_count": 28,
   "metadata": {},
   "outputs": [],
   "source": [
    "r, df = ces.decoding(ces.x_best.astype(int), summary=True)"
   ]
  },
  {
   "cell_type": "code",
   "execution_count": 29,
   "metadata": {},
   "outputs": [
    {
     "data": {
      "text/plain": [
       "38.03916185577872"
      ]
     },
     "execution_count": 29,
     "metadata": {},
     "output_type": "execute_result"
    }
   ],
   "source": [
    "ces.objective_function(ces.x_best.astype(int))"
   ]
  },
  {
   "cell_type": "code",
   "execution_count": 30,
   "metadata": {},
   "outputs": [
    {
     "data": {
      "text/plain": [
       "{0: [[0, 0],\n",
       "  [6, 0],\n",
       "  [14, 0],\n",
       "  [15, 0],\n",
       "  [13, 0],\n",
       "  [9, 0],\n",
       "  [5, 0],\n",
       "  [12, 0],\n",
       "  [11, 0],\n",
       "  [10, 0],\n",
       "  [16, 0],\n",
       "  [1, 0],\n",
       "  [0, 0]],\n",
       " 1: [[0, 1], [2, 1], [3, 1], [4, 1], [7, 1], [8, 1], [0, 1]]}"
      ]
     },
     "execution_count": 30,
     "metadata": {},
     "output_type": "execute_result"
    }
   ],
   "source": [
    "r"
   ]
  },
  {
   "cell_type": "code",
   "execution_count": 80,
   "metadata": {},
   "outputs": [
    {
     "data": {
      "image/png": "[encoded data removed]",
      "text/plain": [
       "<Figure size 1000x800 with 1 Axes>"
      ]
     },
     "metadata": {},
     "output_type": "display_data"
    }
   ],
   "source": [
    "\n",
    "draw_graph(r)"
   ]
  },
  {
   "cell_type": "code",
   "execution_count": 83,
   "metadata": {},
   "outputs": [
    {
     "data": {
      "text/html": [
       "<div>\n",
       "<style scoped>\n",
       "    .dataframe tbody tr th:only-of-type {\n",
       "        vertical-align: middle;\n",
       "    }\n",
       "\n",
       "    .dataframe tbody tr th {\n",
       "        vertical-align: top;\n",
       "    }\n",
       "\n",
       "    .dataframe thead th {\n",
       "        text-align: right;\n",
       "    }\n",
       "</style>\n",
       "<table border=\"1\" class=\"dataframe\">\n",
       "  <thead>\n",
       "    <tr style=\"text-align: right;\">\n",
       "      <th></th>\n",
       "      <th>Vehiculo</th>\n",
       "      <th>Nodoi-1</th>\n",
       "      <th>Nodoi</th>\n",
       "      <th>Distancia</th>\n",
       "      <th>TiempoArco</th>\n",
       "      <th>TW_A</th>\n",
       "      <th>TW_B</th>\n",
       "      <th>Tanque</th>\n",
       "      <th>CO2</th>\n",
       "    </tr>\n",
       "  </thead>\n",
       "  <tbody>\n",
       "    <tr>\n",
       "      <th>0</th>\n",
       "      <td>0</td>\n",
       "      <td>0</td>\n",
       "      <td>6</td>\n",
       "      <td>61.131007</td>\n",
       "      <td>1.528275</td>\n",
       "      <td>0</td>\n",
       "      <td>7</td>\n",
       "      <td>12.111560</td>\n",
       "      <td>2.888440</td>\n",
       "    </tr>\n",
       "    <tr>\n",
       "      <th>1</th>\n",
       "      <td>0</td>\n",
       "      <td>6</td>\n",
       "      <td>14</td>\n",
       "      <td>12.727922</td>\n",
       "      <td>0.318198</td>\n",
       "      <td>8</td>\n",
       "      <td>11</td>\n",
       "      <td>11.510166</td>\n",
       "      <td>0.601394</td>\n",
       "    </tr>\n",
       "    <tr>\n",
       "      <th>2</th>\n",
       "      <td>0</td>\n",
       "      <td>14</td>\n",
       "      <td>15</td>\n",
       "      <td>11.180340</td>\n",
       "      <td>0.279508</td>\n",
       "      <td>8</td>\n",
       "      <td>11</td>\n",
       "      <td>10.981895</td>\n",
       "      <td>0.528271</td>\n",
       "    </tr>\n",
       "    <tr>\n",
       "      <th>3</th>\n",
       "      <td>0</td>\n",
       "      <td>15</td>\n",
       "      <td>13</td>\n",
       "      <td>5.000000</td>\n",
       "      <td>0.125000</td>\n",
       "      <td>9</td>\n",
       "      <td>13</td>\n",
       "      <td>10.745645</td>\n",
       "      <td>0.236250</td>\n",
       "    </tr>\n",
       "    <tr>\n",
       "      <th>4</th>\n",
       "      <td>0</td>\n",
       "      <td>13</td>\n",
       "      <td>9</td>\n",
       "      <td>42.449971</td>\n",
       "      <td>1.061249</td>\n",
       "      <td>0</td>\n",
       "      <td>24</td>\n",
       "      <td>8.739883</td>\n",
       "      <td>2.005761</td>\n",
       "    </tr>\n",
       "    <tr>\n",
       "      <th>5</th>\n",
       "      <td>0</td>\n",
       "      <td>9</td>\n",
       "      <td>5</td>\n",
       "      <td>17.029386</td>\n",
       "      <td>0.425735</td>\n",
       "      <td>7</td>\n",
       "      <td>24</td>\n",
       "      <td>7.935245</td>\n",
       "      <td>0.804639</td>\n",
       "    </tr>\n",
       "    <tr>\n",
       "      <th>6</th>\n",
       "      <td>0</td>\n",
       "      <td>5</td>\n",
       "      <td>12</td>\n",
       "      <td>18.788294</td>\n",
       "      <td>0.469707</td>\n",
       "      <td>9</td>\n",
       "      <td>18</td>\n",
       "      <td>7.047498</td>\n",
       "      <td>0.887747</td>\n",
       "    </tr>\n",
       "    <tr>\n",
       "      <th>7</th>\n",
       "      <td>0</td>\n",
       "      <td>12</td>\n",
       "      <td>11</td>\n",
       "      <td>14.142136</td>\n",
       "      <td>0.353553</td>\n",
       "      <td>5</td>\n",
       "      <td>14</td>\n",
       "      <td>6.379282</td>\n",
       "      <td>0.668216</td>\n",
       "    </tr>\n",
       "    <tr>\n",
       "      <th>8</th>\n",
       "      <td>0</td>\n",
       "      <td>11</td>\n",
       "      <td>10</td>\n",
       "      <td>20.518285</td>\n",
       "      <td>0.512957</td>\n",
       "      <td>7</td>\n",
       "      <td>24</td>\n",
       "      <td>5.409793</td>\n",
       "      <td>0.969489</td>\n",
       "    </tr>\n",
       "    <tr>\n",
       "      <th>9</th>\n",
       "      <td>0</td>\n",
       "      <td>10</td>\n",
       "      <td>16</td>\n",
       "      <td>37.107951</td>\n",
       "      <td>0.927699</td>\n",
       "      <td>4</td>\n",
       "      <td>18</td>\n",
       "      <td>3.656443</td>\n",
       "      <td>1.753351</td>\n",
       "    </tr>\n",
       "    <tr>\n",
       "      <th>10</th>\n",
       "      <td>0</td>\n",
       "      <td>16</td>\n",
       "      <td>1</td>\n",
       "      <td>41.012193</td>\n",
       "      <td>1.025305</td>\n",
       "      <td>7</td>\n",
       "      <td>24</td>\n",
       "      <td>1.718616</td>\n",
       "      <td>1.937826</td>\n",
       "    </tr>\n",
       "    <tr>\n",
       "      <th>11</th>\n",
       "      <td>0</td>\n",
       "      <td>1</td>\n",
       "      <td>0</td>\n",
       "      <td>17.492856</td>\n",
       "      <td>0.437321</td>\n",
       "      <td>4</td>\n",
       "      <td>15</td>\n",
       "      <td>0.892079</td>\n",
       "      <td>0.826537</td>\n",
       "    </tr>\n",
       "    <tr>\n",
       "      <th>12</th>\n",
       "      <td>1</td>\n",
       "      <td>0</td>\n",
       "      <td>2</td>\n",
       "      <td>41.436699</td>\n",
       "      <td>1.035917</td>\n",
       "      <td>0</td>\n",
       "      <td>24</td>\n",
       "      <td>13.042116</td>\n",
       "      <td>1.957884</td>\n",
       "    </tr>\n",
       "    <tr>\n",
       "      <th>13</th>\n",
       "      <td>1</td>\n",
       "      <td>2</td>\n",
       "      <td>3</td>\n",
       "      <td>60.307545</td>\n",
       "      <td>1.507689</td>\n",
       "      <td>0</td>\n",
       "      <td>7</td>\n",
       "      <td>10.192584</td>\n",
       "      <td>2.849532</td>\n",
       "    </tr>\n",
       "    <tr>\n",
       "      <th>14</th>\n",
       "      <td>1</td>\n",
       "      <td>3</td>\n",
       "      <td>4</td>\n",
       "      <td>3.162278</td>\n",
       "      <td>0.079057</td>\n",
       "      <td>7</td>\n",
       "      <td>24</td>\n",
       "      <td>10.043167</td>\n",
       "      <td>0.149418</td>\n",
       "    </tr>\n",
       "    <tr>\n",
       "      <th>15</th>\n",
       "      <td>1</td>\n",
       "      <td>4</td>\n",
       "      <td>7</td>\n",
       "      <td>23.769729</td>\n",
       "      <td>0.594243</td>\n",
       "      <td>0</td>\n",
       "      <td>24</td>\n",
       "      <td>8.920047</td>\n",
       "      <td>1.123120</td>\n",
       "    </tr>\n",
       "    <tr>\n",
       "      <th>16</th>\n",
       "      <td>1</td>\n",
       "      <td>7</td>\n",
       "      <td>8</td>\n",
       "      <td>15.000000</td>\n",
       "      <td>0.375000</td>\n",
       "      <td>0</td>\n",
       "      <td>24</td>\n",
       "      <td>8.211297</td>\n",
       "      <td>0.708750</td>\n",
       "    </tr>\n",
       "    <tr>\n",
       "      <th>17</th>\n",
       "      <td>1</td>\n",
       "      <td>8</td>\n",
       "      <td>0</td>\n",
       "      <td>50.159745</td>\n",
       "      <td>1.253994</td>\n",
       "      <td>4</td>\n",
       "      <td>15</td>\n",
       "      <td>5.841249</td>\n",
       "      <td>2.370048</td>\n",
       "    </tr>\n",
       "  </tbody>\n",
       "</table>\n",
       "</div>"
      ],
      "text/plain": [
       "    Vehiculo  Nodoi-1  Nodoi  Distancia  TiempoArco  TW_A  TW_B     Tanque  \\\n",
       "0          0        0      6  61.131007    1.528275     0     7  12.111560   \n",
       "1          0        6     14  12.727922    0.318198     8    11  11.510166   \n",
       "2          0       14     15  11.180340    0.279508     8    11  10.981895   \n",
       "3          0       15     13   5.000000    0.125000     9    13  10.745645   \n",
       "4          0       13      9  42.449971    1.061249     0    24   8.739883   \n",
       "5          0        9      5  17.029386    0.425735     7    24   7.935245   \n",
       "6          0        5     12  18.788294    0.469707     9    18   7.047498   \n",
       "7          0       12     11  14.142136    0.353553     5    14   6.379282   \n",
       "8          0       11     10  20.518285    0.512957     7    24   5.409793   \n",
       "9          0       10     16  37.107951    0.927699     4    18   3.656443   \n",
       "10         0       16      1  41.012193    1.025305     7    24   1.718616   \n",
       "11         0        1      0  17.492856    0.437321     4    15   0.892079   \n",
       "12         1        0      2  41.436699    1.035917     0    24  13.042116   \n",
       "13         1        2      3  60.307545    1.507689     0     7  10.192584   \n",
       "14         1        3      4   3.162278    0.079057     7    24  10.043167   \n",
       "15         1        4      7  23.769729    0.594243     0    24   8.920047   \n",
       "16         1        7      8  15.000000    0.375000     0    24   8.211297   \n",
       "17         1        8      0  50.159745    1.253994     4    15   5.841249   \n",
       "\n",
       "         CO2  \n",
       "0   2.888440  \n",
       "1   0.601394  \n",
       "2   0.528271  \n",
       "3   0.236250  \n",
       "4   2.005761  \n",
       "5   0.804639  \n",
       "6   0.887747  \n",
       "7   0.668216  \n",
       "8   0.969489  \n",
       "9   1.753351  \n",
       "10  1.937826  \n",
       "11  0.826537  \n",
       "12  1.957884  \n",
       "13  2.849532  \n",
       "14  0.149418  \n",
       "15  1.123120  \n",
       "16  0.708750  \n",
       "17  2.370048  "
      ]
     },
     "execution_count": 83,
     "metadata": {},
     "output_type": "execute_result"
    }
   ],
   "source": [
    "df"
   ]
  },
  {
   "cell_type": "code",
   "execution_count": 81,
   "metadata": {},
   "outputs": [
    {
     "data": {
      "text/plain": [
       "9.665880858889514"
      ]
     },
     "execution_count": 81,
     "metadata": {},
     "output_type": "execute_result"
    }
   ],
   "source": [
    "filtered_df = df[(df['Nodoi-1'] != 0) & (df['Nodoi'] != 0)]\n",
    "\n",
    "15 * filtered_df['Distancia'].sum() / 500"
   ]
  },
  {
   "cell_type": "code",
   "execution_count": 82,
   "metadata": {},
   "outputs": [
    {
     "data": {
      "text/plain": [
       "23.266671814699606"
      ]
     },
     "execution_count": 82,
     "metadata": {},
     "output_type": "execute_result"
    }
   ],
   "source": [
    "df['CO2'].sum()"
   ]
  },
  {
   "cell_type": "code",
   "execution_count": 37,
   "metadata": {},
   "outputs": [
    {
     "name": "stdout",
     "output_type": "stream",
     "text": [
      "Diferencia en costo de transporte = 1.4632365828780198\n",
      "Diferencia en costo de CO2 = 0.9128458842428167\n"
     ]
    }
   ],
   "source": [
    "realCO2 =  20.7\n",
    "realCostTrans = 7.15256341712198\n",
    "metaCostTrans = 8.6158\n",
    "metaCO2 = 21.612845884242816 \n",
    "\n",
    "diferenciaCO2 =  metaCO2 - realCO2\n",
    "diferenciaCostTrans = metaCostTrans - realCostTrans \n",
    "\n",
    "print('Diferencia en costo de transporte =', diferenciaCostTrans)\n",
    "print('Diferencia en costo de CO2 =', diferenciaCO2)"
   ]
  },
  {
   "cell_type": "code",
   "execution_count": 38,
   "metadata": {},
   "outputs": [],
   "source": [
    "\n",
    "A = [7,3,4,11,10,9,5,2,8,1,6]\n",
    "\n",
    "\n",
    "r, df = ces.decoding(np.array(A), summary=True)\n",
    "\n",
    "#6.  8.  2.  1.  3.  4.  5.  9. 10. 11.  7.\n",
    "#6.  1.  8.  2.  3.  4. 10.  9.  5. 11.  7.\n",
    "#3.  5.  9. 10. 11.  4.  7.  6.  8.  2.  1.\n",
    "#[ 3.  4.  5.  9. 11.  8.  1.  6. 10.  7.  2.]\n",
    "\n",
    "#[ 2.  3.  4.  7.  1.  6. 10.  5.  9. 11.  8.]"
   ]
  },
  {
   "cell_type": "code",
   "execution_count": 17,
   "metadata": {},
   "outputs": [
    {
     "data": {
      "text/plain": [
       "40.78708314090964"
      ]
     },
     "execution_count": 17,
     "metadata": {},
     "output_type": "execute_result"
    }
   ],
   "source": [
    "ces.objective_function(np.array(A))"
   ]
  },
  {
   "cell_type": "code",
   "execution_count": 18,
   "metadata": {},
   "outputs": [
    {
     "data": {
      "text/html": [
       "<div>\n",
       "<style scoped>\n",
       "    .dataframe tbody tr th:only-of-type {\n",
       "        vertical-align: middle;\n",
       "    }\n",
       "\n",
       "    .dataframe tbody tr th {\n",
       "        vertical-align: top;\n",
       "    }\n",
       "\n",
       "    .dataframe thead th {\n",
       "        text-align: right;\n",
       "    }\n",
       "</style>\n",
       "<table border=\"1\" class=\"dataframe\">\n",
       "  <thead>\n",
       "    <tr style=\"text-align: right;\">\n",
       "      <th></th>\n",
       "      <th>Vehiculo</th>\n",
       "      <th>Nodoi-1</th>\n",
       "      <th>Nodoi</th>\n",
       "      <th>Distancia</th>\n",
       "      <th>TiempoArco</th>\n",
       "      <th>TW_A</th>\n",
       "      <th>TW_B</th>\n",
       "      <th>Tanque</th>\n",
       "      <th>CO2</th>\n",
       "    </tr>\n",
       "  </thead>\n",
       "  <tbody>\n",
       "    <tr>\n",
       "      <th>0</th>\n",
       "      <td>0</td>\n",
       "      <td>0</td>\n",
       "      <td>7</td>\n",
       "      <td>63.631753</td>\n",
       "      <td>1.590794</td>\n",
       "      <td>0</td>\n",
       "      <td>24</td>\n",
       "      <td>11.993400</td>\n",
       "      <td>3.006600</td>\n",
       "    </tr>\n",
       "    <tr>\n",
       "      <th>1</th>\n",
       "      <td>0</td>\n",
       "      <td>7</td>\n",
       "      <td>3</td>\n",
       "      <td>26.248809</td>\n",
       "      <td>0.656220</td>\n",
       "      <td>0</td>\n",
       "      <td>7</td>\n",
       "      <td>10.753143</td>\n",
       "      <td>1.240256</td>\n",
       "    </tr>\n",
       "    <tr>\n",
       "      <th>2</th>\n",
       "      <td>0</td>\n",
       "      <td>3</td>\n",
       "      <td>4</td>\n",
       "      <td>3.162278</td>\n",
       "      <td>0.079057</td>\n",
       "      <td>7</td>\n",
       "      <td>24</td>\n",
       "      <td>10.603726</td>\n",
       "      <td>0.149418</td>\n",
       "    </tr>\n",
       "    <tr>\n",
       "      <th>3</th>\n",
       "      <td>0</td>\n",
       "      <td>4</td>\n",
       "      <td>11</td>\n",
       "      <td>19.235384</td>\n",
       "      <td>0.480885</td>\n",
       "      <td>5</td>\n",
       "      <td>14</td>\n",
       "      <td>9.694854</td>\n",
       "      <td>0.908872</td>\n",
       "    </tr>\n",
       "    <tr>\n",
       "      <th>4</th>\n",
       "      <td>0</td>\n",
       "      <td>11</td>\n",
       "      <td>10</td>\n",
       "      <td>20.518285</td>\n",
       "      <td>0.512957</td>\n",
       "      <td>7</td>\n",
       "      <td>24</td>\n",
       "      <td>8.725365</td>\n",
       "      <td>0.969489</td>\n",
       "    </tr>\n",
       "    <tr>\n",
       "      <th>5</th>\n",
       "      <td>0</td>\n",
       "      <td>10</td>\n",
       "      <td>9</td>\n",
       "      <td>18.601075</td>\n",
       "      <td>0.465027</td>\n",
       "      <td>0</td>\n",
       "      <td>24</td>\n",
       "      <td>7.846464</td>\n",
       "      <td>0.878901</td>\n",
       "    </tr>\n",
       "    <tr>\n",
       "      <th>6</th>\n",
       "      <td>0</td>\n",
       "      <td>9</td>\n",
       "      <td>5</td>\n",
       "      <td>17.029386</td>\n",
       "      <td>0.425735</td>\n",
       "      <td>7</td>\n",
       "      <td>24</td>\n",
       "      <td>7.041826</td>\n",
       "      <td>0.804639</td>\n",
       "    </tr>\n",
       "    <tr>\n",
       "      <th>7</th>\n",
       "      <td>0</td>\n",
       "      <td>5</td>\n",
       "      <td>2</td>\n",
       "      <td>90.873539</td>\n",
       "      <td>2.271838</td>\n",
       "      <td>0</td>\n",
       "      <td>24</td>\n",
       "      <td>2.748051</td>\n",
       "      <td>4.293775</td>\n",
       "    </tr>\n",
       "    <tr>\n",
       "      <th>8</th>\n",
       "      <td>0</td>\n",
       "      <td>2</td>\n",
       "      <td>0</td>\n",
       "      <td>41.436699</td>\n",
       "      <td>1.035917</td>\n",
       "      <td>4</td>\n",
       "      <td>15</td>\n",
       "      <td>0.790167</td>\n",
       "      <td>1.957884</td>\n",
       "    </tr>\n",
       "    <tr>\n",
       "      <th>9</th>\n",
       "      <td>1</td>\n",
       "      <td>0</td>\n",
       "      <td>8</td>\n",
       "      <td>50.159745</td>\n",
       "      <td>1.253994</td>\n",
       "      <td>0</td>\n",
       "      <td>24</td>\n",
       "      <td>12.629952</td>\n",
       "      <td>2.370048</td>\n",
       "    </tr>\n",
       "    <tr>\n",
       "      <th>10</th>\n",
       "      <td>1</td>\n",
       "      <td>8</td>\n",
       "      <td>1</td>\n",
       "      <td>37.336309</td>\n",
       "      <td>0.933408</td>\n",
       "      <td>7</td>\n",
       "      <td>24</td>\n",
       "      <td>10.865811</td>\n",
       "      <td>1.764141</td>\n",
       "    </tr>\n",
       "    <tr>\n",
       "      <th>11</th>\n",
       "      <td>1</td>\n",
       "      <td>1</td>\n",
       "      <td>0</td>\n",
       "      <td>17.492856</td>\n",
       "      <td>0.437321</td>\n",
       "      <td>4</td>\n",
       "      <td>15</td>\n",
       "      <td>10.039274</td>\n",
       "      <td>0.826537</td>\n",
       "    </tr>\n",
       "    <tr>\n",
       "      <th>12</th>\n",
       "      <td>2</td>\n",
       "      <td>0</td>\n",
       "      <td>6</td>\n",
       "      <td>61.131007</td>\n",
       "      <td>1.528275</td>\n",
       "      <td>0</td>\n",
       "      <td>7</td>\n",
       "      <td>12.111560</td>\n",
       "      <td>2.888440</td>\n",
       "    </tr>\n",
       "    <tr>\n",
       "      <th>13</th>\n",
       "      <td>2</td>\n",
       "      <td>6</td>\n",
       "      <td>0</td>\n",
       "      <td>61.131007</td>\n",
       "      <td>1.528275</td>\n",
       "      <td>4</td>\n",
       "      <td>15</td>\n",
       "      <td>9.223120</td>\n",
       "      <td>2.888440</td>\n",
       "    </tr>\n",
       "  </tbody>\n",
       "</table>\n",
       "</div>"
      ],
      "text/plain": [
       "    Vehiculo  Nodoi-1  Nodoi  Distancia  TiempoArco  TW_A  TW_B     Tanque  \\\n",
       "0          0        0      7  63.631753    1.590794     0    24  11.993400   \n",
       "1          0        7      3  26.248809    0.656220     0     7  10.753143   \n",
       "2          0        3      4   3.162278    0.079057     7    24  10.603726   \n",
       "3          0        4     11  19.235384    0.480885     5    14   9.694854   \n",
       "4          0       11     10  20.518285    0.512957     7    24   8.725365   \n",
       "5          0       10      9  18.601075    0.465027     0    24   7.846464   \n",
       "6          0        9      5  17.029386    0.425735     7    24   7.041826   \n",
       "7          0        5      2  90.873539    2.271838     0    24   2.748051   \n",
       "8          0        2      0  41.436699    1.035917     4    15   0.790167   \n",
       "9          1        0      8  50.159745    1.253994     0    24  12.629952   \n",
       "10         1        8      1  37.336309    0.933408     7    24  10.865811   \n",
       "11         1        1      0  17.492856    0.437321     4    15  10.039274   \n",
       "12         2        0      6  61.131007    1.528275     0     7  12.111560   \n",
       "13         2        6      0  61.131007    1.528275     4    15   9.223120   \n",
       "\n",
       "         CO2  \n",
       "0   3.006600  \n",
       "1   1.240256  \n",
       "2   0.149418  \n",
       "3   0.908872  \n",
       "4   0.969489  \n",
       "5   0.878901  \n",
       "6   0.804639  \n",
       "7   4.293775  \n",
       "8   1.957884  \n",
       "9   2.370048  \n",
       "10  1.764141  \n",
       "11  0.826537  \n",
       "12  2.888440  \n",
       "13  2.888440  "
      ]
     },
     "execution_count": 18,
     "metadata": {},
     "output_type": "execute_result"
    }
   ],
   "source": [
    "df"
   ]
  },
  {
   "cell_type": "code",
   "execution_count": 19,
   "metadata": {},
   "outputs": [
    {
     "data": {
      "image/png": "[encoded data removed]",
      "text/plain": [
       "<Figure size 1000x800 with 1 Axes>"
      ]
     },
     "metadata": {},
     "output_type": "display_data"
    }
   ],
   "source": [
    "draw_graph(r)"
   ]
  },
  {
   "cell_type": "code",
   "execution_count": 19,
   "metadata": {},
   "outputs": [
    {
     "data": {
      "text/plain": [
       "{0: [[0, 0], [6, 0], [8, 0], [2, 0], [1, 0], [0, 0]],\n",
       " 1: [[0, 1], [3, 1], [4, 1], [5, 1], [9, 1], [10, 1], [11, 1], [7, 1], [0, 1]]}"
      ]
     },
     "execution_count": 19,
     "metadata": {},
     "output_type": "execute_result"
    }
   ],
   "source": [
    "r"
   ]
  },
  {
   "cell_type": "code",
   "execution_count": 34,
   "metadata": {},
   "outputs": [],
   "source": [
    "import numpy as np"
   ]
  },
  {
   "cell_type": "code",
   "execution_count": 808,
   "metadata": {},
   "outputs": [],
   "source": [
    "def scrambledSubstring(chromosome_i: np.ndarray):\n",
    "    chromosome = chromosome_i.copy()\n",
    "    a = np.random.randint(0, chromosome.shape[0])\n",
    "    b = np.random.randint(0, chromosome.shape[0])\n",
    "\n",
    "    while True:\n",
    "        b = np.random.randint(0, chromosome.shape[0])\n",
    "        if a != b:\n",
    "            break\n",
    "    x = chromosome[a:b].copy()        \n",
    "    np.random.shuffle(x)\n",
    "    chromosome[a:b] = x\n",
    "    return chromosome"
   ]
  },
  {
   "cell_type": "code",
   "execution_count": 576,
   "metadata": {},
   "outputs": [],
   "source": [
    "def insertion(chromosome_i: np.ndarray):\n",
    "    x = chromosome_i.copy()\n",
    "    n = np.random.randint(1, x.shape[0]-2)\n",
    "    m = np.random.randint(1, x.shape[0])\n",
    "\n",
    "    while True:\n",
    "        m = np.random.randint(0, x.shape[0])\n",
    "        if  m > n:\n",
    "            break\n",
    "    return np.concatenate((x[:n],x[n+1:m],np.array([x[n]]),x[m:]))"
   ]
  },
  {
   "cell_type": "code",
   "execution_count": 578,
   "metadata": {},
   "outputs": [],
   "source": [
    "def reverseSubstring(chromosome_i: np.ndarray):\n",
    "    x = chromosome_i.copy()\n",
    "    n = np.random.randint(1, x.shape[0]-2)\n",
    "    m = np.random.randint(1, x.shape[0])\n",
    "\n",
    "    while True:\n",
    "        m = np.random.randint(n+1, x.shape[0])\n",
    "        if  m > n:\n",
    "            break\n",
    "    print(n)\n",
    "    print(m)\n",
    "    print(x[:n])\n",
    "    print(x[m:n-1:-1])\n",
    "    print(x[m+1:])\n",
    "    return np.concatenate((x[:n],x[m:n-1:-1] ,x[m+1:]))"
   ]
  },
  {
   "cell_type": "code",
   "execution_count": 579,
   "metadata": {},
   "outputs": [],
   "source": [
    "x = np.array([1,2,3,4,5,6,7,8,9,10])"
   ]
  },
  {
   "cell_type": "code",
   "execution_count": 851,
   "metadata": {},
   "outputs": [
    {
     "data": {
      "text/plain": [
       "array([ 1,  2,  3,  4,  5,  7,  9,  8,  6, 10])"
      ]
     },
     "execution_count": 851,
     "metadata": {},
     "output_type": "execute_result"
    }
   ],
   "source": [
    "scrambledSubstring(x)"
   ]
  },
  {
   "cell_type": "code",
   "execution_count": 258,
   "metadata": {},
   "outputs": [
    {
     "data": {
      "text/plain": [
       "array([ 1,  2,  3,  4,  9,  8,  7,  6,  5, 10])"
      ]
     },
     "execution_count": 258,
     "metadata": {},
     "output_type": "execute_result"
    }
   ],
   "source": [
    "n = 4\n",
    "m = 8\n",
    "\n",
    "\n",
    "np.concatenate((x[:n],x[m:n-1:-1] ,x[m+1:]))"
   ]
  },
  {
   "cell_type": "code",
   "execution_count": 202,
   "metadata": {},
   "outputs": [
    {
     "data": {
      "text/plain": [
       "array([ 1,  2,  3,  4,  5,  6,  7,  8,  9, 10])"
      ]
     },
     "execution_count": 202,
     "metadata": {},
     "output_type": "execute_result"
    }
   ],
   "source": [
    "scrambledSubstring(x)"
   ]
  },
  {
   "cell_type": "code",
   "execution_count": 1,
   "metadata": {},
   "outputs": [
    {
     "data": {
      "text/plain": [
       "438.12"
      ]
     },
     "execution_count": 1,
     "metadata": {},
     "output_type": "execute_result"
    }
   ],
   "source": [
    "41.44+61.13+17.49+26.48+3.16+19.24 +17.03+12.73+26.25+15+18.6+79.63+14.14+18.79+51.2+15.81 "
   ]
  },
  {
   "cell_type": "code",
   "execution_count": 2,
   "metadata": {},
   "outputs": [
    {
     "data": {
      "text/plain": [
       "13.143600000000001"
      ]
     },
     "execution_count": 2,
     "metadata": {},
     "output_type": "execute_result"
    }
   ],
   "source": [
    "15*438.12/500"
   ]
  },
  {
   "cell_type": "code",
   "execution_count": 3,
   "metadata": {},
   "outputs": [
    {
     "data": {
      "text/plain": [
       "238.43"
      ]
     },
     "execution_count": 3,
     "metadata": {},
     "output_type": "execute_result"
    }
   ],
   "source": [
    "26.48+3.16+19.24 +17.03+12.73+26.25+15+18.6+14.14+18.79+51.2+15.81"
   ]
  },
  {
   "cell_type": "code",
   "execution_count": 4,
   "metadata": {},
   "outputs": [
    {
     "data": {
      "text/plain": [
       "7.152900000000001"
      ]
     },
     "execution_count": 4,
     "metadata": {},
     "output_type": "execute_result"
    }
   ],
   "source": [
    "15*238.43/500"
   ]
  }
 ],
 "metadata": {
  "kernelspec": {
   "display_name": "Python 3",
   "language": "python",
   "name": "python3"
  },
  "language_info": {
   "codemirror_mode": {
    "name": "ipython",
    "version": 3
   },
   "file_extension": ".py",
   "mimetype": "text/x-python",
   "name": "python",
   "nbconvert_exporter": "python",
   "pygments_lexer": "ipython3",
   "version": "3.12.1"
  }
 },
 "nbformat": 4,
 "nbformat_minor": 2
}
