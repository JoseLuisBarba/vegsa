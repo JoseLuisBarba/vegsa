{
 "cells": [
  {
   "cell_type": "code",
   "execution_count": 1,
   "metadata": {},
   "outputs": [],
   "source": [
    "from src.graph import draw_graph\n",
    "import pandas as pd\n",
    "import numpy as np"
   ]
  },
  {
   "cell_type": "code",
   "execution_count": 2,
   "metadata": {},
   "outputs": [],
   "source": [
    "from models.model import Model"
   ]
  },
  {
   "cell_type": "code",
   "execution_count": 3,
   "metadata": {},
   "outputs": [
    {
     "name": "stdout",
     "output_type": "stream",
     "text": [
      "[6, 11, 7, 8, 1, 3, 4, 5, 9, 10, 2]\n"
     ]
    }
   ],
   "source": [
    "from models.model2 import CES\n",
    "x = CES()\n",
    "x.nearestNeighborHeuristic2(11)"
   ]
  },
  {
   "cell_type": "code",
   "execution_count": 7,
   "metadata": {},
   "outputs": [],
   "source": [
    "x = Model()\n",
    "\n",
    "A = [7,3,4,11,10,9,5,2,8,1,6,]\n",
    "B = [ 3,4, 5,9,11,2,6,10,7,8, 1]\n",
    "C = [6, 11, 7, 8, 1, 3, 4, 5, 9, 10, 2]\n",
    "\n",
    "r, df = x.decoding(C, summary=True)\n",
    "\n",
    "\n",
    "\n",
    "\n"
   ]
  },
  {
   "cell_type": "code",
   "execution_count": 8,
   "metadata": {},
   "outputs": [
    {
     "data": {
      "text/html": [
       "<div>\n",
       "<style scoped>\n",
       "    .dataframe tbody tr th:only-of-type {\n",
       "        vertical-align: middle;\n",
       "    }\n",
       "\n",
       "    .dataframe tbody tr th {\n",
       "        vertical-align: top;\n",
       "    }\n",
       "\n",
       "    .dataframe thead th {\n",
       "        text-align: right;\n",
       "    }\n",
       "</style>\n",
       "<table border=\"1\" class=\"dataframe\">\n",
       "  <thead>\n",
       "    <tr style=\"text-align: right;\">\n",
       "      <th></th>\n",
       "      <th>Vehiculo</th>\n",
       "      <th>Nodoi-1</th>\n",
       "      <th>Nodoi</th>\n",
       "      <th>Distancia</th>\n",
       "      <th>TiempoArco</th>\n",
       "      <th>TW_A</th>\n",
       "      <th>TW_B</th>\n",
       "      <th>Tanque</th>\n",
       "      <th>CO2</th>\n",
       "    </tr>\n",
       "  </thead>\n",
       "  <tbody>\n",
       "    <tr>\n",
       "      <th>0</th>\n",
       "      <td>0</td>\n",
       "      <td>0</td>\n",
       "      <td>6</td>\n",
       "      <td>61.131007</td>\n",
       "      <td>1.528275</td>\n",
       "      <td>0</td>\n",
       "      <td>7</td>\n",
       "      <td>0.722110</td>\n",
       "      <td>0.722110</td>\n",
       "    </tr>\n",
       "    <tr>\n",
       "      <th>1</th>\n",
       "      <td>0</td>\n",
       "      <td>6</td>\n",
       "      <td>11</td>\n",
       "      <td>64.938432</td>\n",
       "      <td>1.623461</td>\n",
       "      <td>5</td>\n",
       "      <td>14</td>\n",
       "      <td>1.489195</td>\n",
       "      <td>0.767085</td>\n",
       "    </tr>\n",
       "    <tr>\n",
       "      <th>2</th>\n",
       "      <td>0</td>\n",
       "      <td>11</td>\n",
       "      <td>7</td>\n",
       "      <td>18.681542</td>\n",
       "      <td>0.467039</td>\n",
       "      <td>0</td>\n",
       "      <td>24</td>\n",
       "      <td>1.709871</td>\n",
       "      <td>0.220676</td>\n",
       "    </tr>\n",
       "    <tr>\n",
       "      <th>3</th>\n",
       "      <td>0</td>\n",
       "      <td>7</td>\n",
       "      <td>8</td>\n",
       "      <td>15.000000</td>\n",
       "      <td>0.375000</td>\n",
       "      <td>0</td>\n",
       "      <td>24</td>\n",
       "      <td>1.887058</td>\n",
       "      <td>0.177187</td>\n",
       "    </tr>\n",
       "    <tr>\n",
       "      <th>4</th>\n",
       "      <td>0</td>\n",
       "      <td>8</td>\n",
       "      <td>1</td>\n",
       "      <td>37.336309</td>\n",
       "      <td>0.933408</td>\n",
       "      <td>7</td>\n",
       "      <td>24</td>\n",
       "      <td>2.328094</td>\n",
       "      <td>0.441035</td>\n",
       "    </tr>\n",
       "    <tr>\n",
       "      <th>5</th>\n",
       "      <td>0</td>\n",
       "      <td>1</td>\n",
       "      <td>0</td>\n",
       "      <td>17.492856</td>\n",
       "      <td>0.437321</td>\n",
       "      <td>4</td>\n",
       "      <td>15</td>\n",
       "      <td>2.534728</td>\n",
       "      <td>0.206634</td>\n",
       "    </tr>\n",
       "    <tr>\n",
       "      <th>6</th>\n",
       "      <td>1</td>\n",
       "      <td>0</td>\n",
       "      <td>3</td>\n",
       "      <td>89.442719</td>\n",
       "      <td>2.236068</td>\n",
       "      <td>0</td>\n",
       "      <td>7</td>\n",
       "      <td>1.056542</td>\n",
       "      <td>1.056542</td>\n",
       "    </tr>\n",
       "    <tr>\n",
       "      <th>7</th>\n",
       "      <td>1</td>\n",
       "      <td>3</td>\n",
       "      <td>4</td>\n",
       "      <td>3.162278</td>\n",
       "      <td>0.079057</td>\n",
       "      <td>7</td>\n",
       "      <td>24</td>\n",
       "      <td>1.093897</td>\n",
       "      <td>0.037354</td>\n",
       "    </tr>\n",
       "    <tr>\n",
       "      <th>8</th>\n",
       "      <td>1</td>\n",
       "      <td>4</td>\n",
       "      <td>5</td>\n",
       "      <td>36.013886</td>\n",
       "      <td>0.900347</td>\n",
       "      <td>7</td>\n",
       "      <td>24</td>\n",
       "      <td>1.519311</td>\n",
       "      <td>0.425414</td>\n",
       "    </tr>\n",
       "    <tr>\n",
       "      <th>9</th>\n",
       "      <td>1</td>\n",
       "      <td>5</td>\n",
       "      <td>9</td>\n",
       "      <td>17.029386</td>\n",
       "      <td>0.425735</td>\n",
       "      <td>0</td>\n",
       "      <td>24</td>\n",
       "      <td>1.720470</td>\n",
       "      <td>0.201160</td>\n",
       "    </tr>\n",
       "    <tr>\n",
       "      <th>10</th>\n",
       "      <td>1</td>\n",
       "      <td>9</td>\n",
       "      <td>10</td>\n",
       "      <td>18.601075</td>\n",
       "      <td>0.465027</td>\n",
       "      <td>7</td>\n",
       "      <td>24</td>\n",
       "      <td>1.940195</td>\n",
       "      <td>0.219725</td>\n",
       "    </tr>\n",
       "    <tr>\n",
       "      <th>11</th>\n",
       "      <td>1</td>\n",
       "      <td>10</td>\n",
       "      <td>2</td>\n",
       "      <td>71.175839</td>\n",
       "      <td>1.779396</td>\n",
       "      <td>0</td>\n",
       "      <td>24</td>\n",
       "      <td>2.780960</td>\n",
       "      <td>0.840765</td>\n",
       "    </tr>\n",
       "    <tr>\n",
       "      <th>12</th>\n",
       "      <td>1</td>\n",
       "      <td>2</td>\n",
       "      <td>0</td>\n",
       "      <td>41.436699</td>\n",
       "      <td>1.035917</td>\n",
       "      <td>4</td>\n",
       "      <td>15</td>\n",
       "      <td>3.270431</td>\n",
       "      <td>0.489471</td>\n",
       "    </tr>\n",
       "  </tbody>\n",
       "</table>\n",
       "</div>"
      ],
      "text/plain": [
       "    Vehiculo  Nodoi-1  Nodoi  Distancia  TiempoArco  TW_A  TW_B    Tanque  \\\n",
       "0          0        0      6  61.131007    1.528275     0     7  0.722110   \n",
       "1          0        6     11  64.938432    1.623461     5    14  1.489195   \n",
       "2          0       11      7  18.681542    0.467039     0    24  1.709871   \n",
       "3          0        7      8  15.000000    0.375000     0    24  1.887058   \n",
       "4          0        8      1  37.336309    0.933408     7    24  2.328094   \n",
       "5          0        1      0  17.492856    0.437321     4    15  2.534728   \n",
       "6          1        0      3  89.442719    2.236068     0     7  1.056542   \n",
       "7          1        3      4   3.162278    0.079057     7    24  1.093897   \n",
       "8          1        4      5  36.013886    0.900347     7    24  1.519311   \n",
       "9          1        5      9  17.029386    0.425735     0    24  1.720470   \n",
       "10         1        9     10  18.601075    0.465027     7    24  1.940195   \n",
       "11         1       10      2  71.175839    1.779396     0    24  2.780960   \n",
       "12         1        2      0  41.436699    1.035917     4    15  3.270431   \n",
       "\n",
       "         CO2  \n",
       "0   0.722110  \n",
       "1   0.767085  \n",
       "2   0.220676  \n",
       "3   0.177187  \n",
       "4   0.441035  \n",
       "5   0.206634  \n",
       "6   1.056542  \n",
       "7   0.037354  \n",
       "8   0.425414  \n",
       "9   0.201160  \n",
       "10  0.219725  \n",
       "11  0.840765  \n",
       "12  0.489471  "
      ]
     },
     "execution_count": 8,
     "metadata": {},
     "output_type": "execute_result"
    }
   ],
   "source": [
    "df"
   ]
  },
  {
   "cell_type": "code",
   "execution_count": 11,
   "metadata": {},
   "outputs": [
    {
     "data": {
      "text/plain": [
       "5.805158954644161"
      ]
     },
     "execution_count": 11,
     "metadata": {},
     "output_type": "execute_result"
    }
   ],
   "source": [
    "df['CO2'].sum()"
   ]
  },
  {
   "cell_type": "code",
   "execution_count": 12,
   "metadata": {},
   "outputs": [
    {
     "data": {
      "text/plain": [
       "14.743260837191519"
      ]
     },
     "execution_count": 12,
     "metadata": {},
     "output_type": "execute_result"
    }
   ],
   "source": [
    "15 * df['Distancia'].sum() / 500"
   ]
  },
  {
   "cell_type": "code",
   "execution_count": 10,
   "metadata": {},
   "outputs": [
    {
     "data": {
      "image/png": "[encoded data removed]",
      "text/plain": [
       "<Figure size 1000x800 with 1 Axes>"
      ]
     },
     "metadata": {},
     "output_type": "display_data"
    }
   ],
   "source": [
    "draw_graph(r)"
   ]
  },
  {
   "cell_type": "code",
   "execution_count": null,
   "metadata": {},
   "outputs": [],
   "source": []
  },
  {
   "cell_type": "code",
   "execution_count": null,
   "metadata": {},
   "outputs": [],
   "source": []
  },
  {
   "cell_type": "code",
   "execution_count": null,
   "metadata": {},
   "outputs": [],
   "source": []
  },
  {
   "cell_type": "code",
   "execution_count": 9,
   "metadata": {},
   "outputs": [],
   "source": [
    "import numpy as np\n",
    "N = np.array([\n",
    "    0, \n",
    "    1, \n",
    "    2, \n",
    "    3, \n",
    "    4, \n",
    "    5,  \n",
    "    6, \n",
    "    7, \n",
    "    8, \n",
    "    9, \n",
    "    10,\n",
    "    11,\n",
    "    12\n",
    "])"
   ]
  },
  {
   "cell_type": "code",
   "execution_count": 10,
   "metadata": {},
   "outputs": [
    {
     "name": "stdout",
     "output_type": "stream",
     "text": [
      "{1, 2, 3, 4, 5, 6, 7, 8, 9, 10, 11}\n"
     ]
    }
   ],
   "source": [
    "x = set(N[1:-1])\n",
    "print(x)"
   ]
  }
 ],
 "metadata": {
  "kernelspec": {
   "display_name": "Python 3",
   "language": "python",
   "name": "python3"
  },
  "language_info": {
   "codemirror_mode": {
    "name": "ipython",
    "version": 3
   },
   "file_extension": ".py",
   "mimetype": "text/x-python",
   "name": "python",
   "nbconvert_exporter": "python",
   "pygments_lexer": "ipython3",
   "version": "3.12.1"
  }
 },
 "nbformat": 4,
 "nbformat_minor": 2
}
